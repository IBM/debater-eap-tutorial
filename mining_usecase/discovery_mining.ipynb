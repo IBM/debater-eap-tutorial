{
 "cells": [
  {
   "cell_type": "markdown",
   "metadata": {},
   "source": [
    "## Mining argumentative content from news articles\n",
    "\n",
    "When researching a topic, you often can search and retrieve thousands of articles that relate to the given topic.\n",
    "Finding the most relevant segment in these articles can be time consuming.\n",
    "\n",
    "This notebook demonstrates how to use Project Debater APIs to extract the most relevant argumentative statements for a given topic from a corpus of articles on the topic.  \n",
    "\n",
    "As an example, it uses the Watson Discovery News (https://www.ibm.com/watson/services/discovery-news/) to retrieve news articles on the provided topic.  However, it is very simple to adapt it to import data from  other source such as other search engines or collection of articles that reside in text files.\n",
    "\n",
    "The output includes three main parts:\n",
    "1. A table of the most argumentative statements with respect to the topic\n",
    "2. A narrative which automatically generated from the most argumentative statements\n",
    "3. Given an additional list of aspects of interest it provides a summary of the most argumentative statements for each aspect seperately.\n"
   ]
  },
  {
   "cell_type": "markdown",
   "metadata": {},
   "source": [
    "The following two lines define the topic of interest and its specific aspects that are of interest.  In this case, we are interested in pros and cons related to Hybrid Cloud in general, and also those that related to the price, value , investment in Hybrid Cloud as well as IBM and Microsoft specific statements."
   ]
  },
  {
   "cell_type": "code",
   "execution_count": 1,
   "metadata": {},
   "outputs": [],
   "source": [
    "dc = 'Hybrid cloud'\n",
    "aspects = ['Price','Value','Investment','IBM','Microsoft']"
   ]
  },
  {
   "cell_type": "markdown",
   "metadata": {},
   "source": [
    "These are additional parameters, which can remain as default in most cases:"
   ]
  },
  {
   "cell_type": "code",
   "execution_count": 2,
   "metadata": {},
   "outputs": [],
   "source": [
    "articles_filename = dc + \".json\"\n",
    "dc_re = dc  # This can allow a more refined regular expression to find relevant sentences containing the topic concept.\n",
    "            # For example 'Hybrid.*Cloud' would increase coverage.\n",
    "topic = 'We should support ' + dc\n",
    "max_sentence_length = 50\n",
    "max_articles = 10000\n"
   ]
  },
  {
   "cell_type": "markdown",
   "metadata": {},
   "source": [
    "### Query from Watson Discovery News\n",
    "\n",
    "We query Watson Discovery News for articles containing the given topic and store the results in a file (to avoid reruning the query every time the notebook is executed).  \n",
    "\n",
    "To use the Watson Discovery News service, you first need an IBM Cloud Account and then to provision a Watson Discovery SaaS instance.  You can sign up for free in  https://www.ibm.com/watson/services/discovery-news/.\n",
    "\n",
    "Alternatively, you can replace Watson Discovery News with any other source of articles, just make sure the 'texts' variable contains a list of dictionaries with the the following keys for each article:\n",
    "\n",
    "news_content - text of article\n",
    "news_title - title of article\n",
    "id - unique textual identifier of article\n",
    "\n",
    "To run a Watson Discovery News query, two environment variables need to be set before running the notebook:\n",
    "\n",
    "DISCOVERY_URL and DISCOVERY_APIKEY.  \n",
    "\n",
    "These are found in the credentials sections of the Discovery Service in your IBM Cloud account.\n",
    "\n",
    "Note that if you are using the LITE free Discovery plan, you are limited in the amounts of Watson Discovery news queries per month, and can not run the example more than once or twice.\n"
   ]
  },
  {
   "cell_type": "code",
   "execution_count": 3,
   "metadata": {},
   "outputs": [
    {
     "name": "stdout",
     "output_type": "stream",
     "text": [
      "https://api.us-south.discovery.watson.cloud.ibm.com/instances/5049511a-b775-4704-865b-8a971a76c862/v1/environments/system/collections/news-en/query?version=2019-04-30&count=50&offset=0&query=text:Hybrid%20cloud\n"
     ]
    },
    {
     "name": "stderr",
     "output_type": "stream",
     "text": [
      "/Users/katz/.local/lib/python3.7/site-packages/urllib3-1.24.3-py3.7.egg/urllib3/connectionpool.py:847: InsecureRequestWarning: Unverified HTTPS request is being made. Adding certificate verification is strongly advised. See: https://urllib3.readthedocs.io/en/latest/advanced-usage.html#ssl-warnings\n",
      "  InsecureRequestWarning)\n"
     ]
    },
    {
     "name": "stdout",
     "output_type": "stream",
     "text": [
      "50\n",
      "https://api.us-south.discovery.watson.cloud.ibm.com/instances/5049511a-b775-4704-865b-8a971a76c862/v1/environments/system/collections/news-en/query?version=2019-04-30&count=50&offset=50&query=text:Hybrid%20cloud\n"
     ]
    },
    {
     "name": "stderr",
     "output_type": "stream",
     "text": [
      "/Users/katz/.local/lib/python3.7/site-packages/urllib3-1.24.3-py3.7.egg/urllib3/connectionpool.py:847: InsecureRequestWarning: Unverified HTTPS request is being made. Adding certificate verification is strongly advised. See: https://urllib3.readthedocs.io/en/latest/advanced-usage.html#ssl-warnings\n",
      "  InsecureRequestWarning)\n"
     ]
    },
    {
     "name": "stdout",
     "output_type": "stream",
     "text": [
      "100\n",
      "https://api.us-south.discovery.watson.cloud.ibm.com/instances/5049511a-b775-4704-865b-8a971a76c862/v1/environments/system/collections/news-en/query?version=2019-04-30&count=50&offset=100&query=text:Hybrid%20cloud\n"
     ]
    },
    {
     "name": "stderr",
     "output_type": "stream",
     "text": [
      "/Users/katz/.local/lib/python3.7/site-packages/urllib3-1.24.3-py3.7.egg/urllib3/connectionpool.py:847: InsecureRequestWarning: Unverified HTTPS request is being made. Adding certificate verification is strongly advised. See: https://urllib3.readthedocs.io/en/latest/advanced-usage.html#ssl-warnings\n",
      "  InsecureRequestWarning)\n"
     ]
    },
    {
     "name": "stdout",
     "output_type": "stream",
     "text": [
      "150\n",
      "https://api.us-south.discovery.watson.cloud.ibm.com/instances/5049511a-b775-4704-865b-8a971a76c862/v1/environments/system/collections/news-en/query?version=2019-04-30&count=50&offset=150&query=text:Hybrid%20cloud\n"
     ]
    },
    {
     "name": "stderr",
     "output_type": "stream",
     "text": [
      "/Users/katz/.local/lib/python3.7/site-packages/urllib3-1.24.3-py3.7.egg/urllib3/connectionpool.py:847: InsecureRequestWarning: Unverified HTTPS request is being made. Adding certificate verification is strongly advised. See: https://urllib3.readthedocs.io/en/latest/advanced-usage.html#ssl-warnings\n",
      "  InsecureRequestWarning)\n"
     ]
    },
    {
     "name": "stdout",
     "output_type": "stream",
     "text": [
      "200\n",
      "https://api.us-south.discovery.watson.cloud.ibm.com/instances/5049511a-b775-4704-865b-8a971a76c862/v1/environments/system/collections/news-en/query?version=2019-04-30&count=50&offset=200&query=text:Hybrid%20cloud\n"
     ]
    },
    {
     "name": "stderr",
     "output_type": "stream",
     "text": [
      "/Users/katz/.local/lib/python3.7/site-packages/urllib3-1.24.3-py3.7.egg/urllib3/connectionpool.py:847: InsecureRequestWarning: Unverified HTTPS request is being made. Adding certificate verification is strongly advised. See: https://urllib3.readthedocs.io/en/latest/advanced-usage.html#ssl-warnings\n",
      "  InsecureRequestWarning)\n"
     ]
    },
    {
     "name": "stdout",
     "output_type": "stream",
     "text": [
      "250\n",
      "https://api.us-south.discovery.watson.cloud.ibm.com/instances/5049511a-b775-4704-865b-8a971a76c862/v1/environments/system/collections/news-en/query?version=2019-04-30&count=50&offset=250&query=text:Hybrid%20cloud\n"
     ]
    },
    {
     "name": "stderr",
     "output_type": "stream",
     "text": [
      "/Users/katz/.local/lib/python3.7/site-packages/urllib3-1.24.3-py3.7.egg/urllib3/connectionpool.py:847: InsecureRequestWarning: Unverified HTTPS request is being made. Adding certificate verification is strongly advised. See: https://urllib3.readthedocs.io/en/latest/advanced-usage.html#ssl-warnings\n",
      "  InsecureRequestWarning)\n"
     ]
    },
    {
     "name": "stdout",
     "output_type": "stream",
     "text": [
      "300\n",
      "https://api.us-south.discovery.watson.cloud.ibm.com/instances/5049511a-b775-4704-865b-8a971a76c862/v1/environments/system/collections/news-en/query?version=2019-04-30&count=50&offset=300&query=text:Hybrid%20cloud\n"
     ]
    },
    {
     "name": "stderr",
     "output_type": "stream",
     "text": [
      "/Users/katz/.local/lib/python3.7/site-packages/urllib3-1.24.3-py3.7.egg/urllib3/connectionpool.py:847: InsecureRequestWarning: Unverified HTTPS request is being made. Adding certificate verification is strongly advised. See: https://urllib3.readthedocs.io/en/latest/advanced-usage.html#ssl-warnings\n",
      "  InsecureRequestWarning)\n"
     ]
    },
    {
     "name": "stdout",
     "output_type": "stream",
     "text": [
      "350\n",
      "https://api.us-south.discovery.watson.cloud.ibm.com/instances/5049511a-b775-4704-865b-8a971a76c862/v1/environments/system/collections/news-en/query?version=2019-04-30&count=50&offset=350&query=text:Hybrid%20cloud\n"
     ]
    },
    {
     "name": "stderr",
     "output_type": "stream",
     "text": [
      "/Users/katz/.local/lib/python3.7/site-packages/urllib3-1.24.3-py3.7.egg/urllib3/connectionpool.py:847: InsecureRequestWarning: Unverified HTTPS request is being made. Adding certificate verification is strongly advised. See: https://urllib3.readthedocs.io/en/latest/advanced-usage.html#ssl-warnings\n",
      "  InsecureRequestWarning)\n"
     ]
    },
    {
     "name": "stdout",
     "output_type": "stream",
     "text": [
      "400\n",
      "https://api.us-south.discovery.watson.cloud.ibm.com/instances/5049511a-b775-4704-865b-8a971a76c862/v1/environments/system/collections/news-en/query?version=2019-04-30&count=50&offset=400&query=text:Hybrid%20cloud\n"
     ]
    },
    {
     "name": "stderr",
     "output_type": "stream",
     "text": [
      "/Users/katz/.local/lib/python3.7/site-packages/urllib3-1.24.3-py3.7.egg/urllib3/connectionpool.py:847: InsecureRequestWarning: Unverified HTTPS request is being made. Adding certificate verification is strongly advised. See: https://urllib3.readthedocs.io/en/latest/advanced-usage.html#ssl-warnings\n",
      "  InsecureRequestWarning)\n"
     ]
    },
    {
     "name": "stdout",
     "output_type": "stream",
     "text": [
      "450\n",
      "https://api.us-south.discovery.watson.cloud.ibm.com/instances/5049511a-b775-4704-865b-8a971a76c862/v1/environments/system/collections/news-en/query?version=2019-04-30&count=50&offset=450&query=text:Hybrid%20cloud\n"
     ]
    },
    {
     "name": "stderr",
     "output_type": "stream",
     "text": [
      "/Users/katz/.local/lib/python3.7/site-packages/urllib3-1.24.3-py3.7.egg/urllib3/connectionpool.py:847: InsecureRequestWarning: Unverified HTTPS request is being made. Adding certificate verification is strongly advised. See: https://urllib3.readthedocs.io/en/latest/advanced-usage.html#ssl-warnings\n",
      "  InsecureRequestWarning)\n"
     ]
    },
    {
     "name": "stdout",
     "output_type": "stream",
     "text": [
      "500\n",
      "https://api.us-south.discovery.watson.cloud.ibm.com/instances/5049511a-b775-4704-865b-8a971a76c862/v1/environments/system/collections/news-en/query?version=2019-04-30&count=50&offset=500&query=text:Hybrid%20cloud\n"
     ]
    },
    {
     "name": "stderr",
     "output_type": "stream",
     "text": [
      "/Users/katz/.local/lib/python3.7/site-packages/urllib3-1.24.3-py3.7.egg/urllib3/connectionpool.py:847: InsecureRequestWarning: Unverified HTTPS request is being made. Adding certificate verification is strongly advised. See: https://urllib3.readthedocs.io/en/latest/advanced-usage.html#ssl-warnings\n",
      "  InsecureRequestWarning)\n"
     ]
    },
    {
     "name": "stdout",
     "output_type": "stream",
     "text": [
      "550\n",
      "https://api.us-south.discovery.watson.cloud.ibm.com/instances/5049511a-b775-4704-865b-8a971a76c862/v1/environments/system/collections/news-en/query?version=2019-04-30&count=50&offset=550&query=text:Hybrid%20cloud\n"
     ]
    },
    {
     "name": "stderr",
     "output_type": "stream",
     "text": [
      "/Users/katz/.local/lib/python3.7/site-packages/urllib3-1.24.3-py3.7.egg/urllib3/connectionpool.py:847: InsecureRequestWarning: Unverified HTTPS request is being made. Adding certificate verification is strongly advised. See: https://urllib3.readthedocs.io/en/latest/advanced-usage.html#ssl-warnings\n",
      "  InsecureRequestWarning)\n"
     ]
    },
    {
     "name": "stdout",
     "output_type": "stream",
     "text": [
      "600\n",
      "https://api.us-south.discovery.watson.cloud.ibm.com/instances/5049511a-b775-4704-865b-8a971a76c862/v1/environments/system/collections/news-en/query?version=2019-04-30&count=50&offset=600&query=text:Hybrid%20cloud\n"
     ]
    },
    {
     "name": "stderr",
     "output_type": "stream",
     "text": [
      "/Users/katz/.local/lib/python3.7/site-packages/urllib3-1.24.3-py3.7.egg/urllib3/connectionpool.py:847: InsecureRequestWarning: Unverified HTTPS request is being made. Adding certificate verification is strongly advised. See: https://urllib3.readthedocs.io/en/latest/advanced-usage.html#ssl-warnings\n",
      "  InsecureRequestWarning)\n"
     ]
    },
    {
     "name": "stdout",
     "output_type": "stream",
     "text": [
      "650\n",
      "https://api.us-south.discovery.watson.cloud.ibm.com/instances/5049511a-b775-4704-865b-8a971a76c862/v1/environments/system/collections/news-en/query?version=2019-04-30&count=50&offset=650&query=text:Hybrid%20cloud\n"
     ]
    },
    {
     "name": "stderr",
     "output_type": "stream",
     "text": [
      "/Users/katz/.local/lib/python3.7/site-packages/urllib3-1.24.3-py3.7.egg/urllib3/connectionpool.py:847: InsecureRequestWarning: Unverified HTTPS request is being made. Adding certificate verification is strongly advised. See: https://urllib3.readthedocs.io/en/latest/advanced-usage.html#ssl-warnings\n",
      "  InsecureRequestWarning)\n"
     ]
    },
    {
     "name": "stdout",
     "output_type": "stream",
     "text": [
      "700\n",
      "https://api.us-south.discovery.watson.cloud.ibm.com/instances/5049511a-b775-4704-865b-8a971a76c862/v1/environments/system/collections/news-en/query?version=2019-04-30&count=50&offset=700&query=text:Hybrid%20cloud\n"
     ]
    },
    {
     "name": "stderr",
     "output_type": "stream",
     "text": [
      "/Users/katz/.local/lib/python3.7/site-packages/urllib3-1.24.3-py3.7.egg/urllib3/connectionpool.py:847: InsecureRequestWarning: Unverified HTTPS request is being made. Adding certificate verification is strongly advised. See: https://urllib3.readthedocs.io/en/latest/advanced-usage.html#ssl-warnings\n",
      "  InsecureRequestWarning)\n"
     ]
    },
    {
     "name": "stdout",
     "output_type": "stream",
     "text": [
      "750\n",
      "https://api.us-south.discovery.watson.cloud.ibm.com/instances/5049511a-b775-4704-865b-8a971a76c862/v1/environments/system/collections/news-en/query?version=2019-04-30&count=50&offset=750&query=text:Hybrid%20cloud\n"
     ]
    },
    {
     "name": "stderr",
     "output_type": "stream",
     "text": [
      "/Users/katz/.local/lib/python3.7/site-packages/urllib3-1.24.3-py3.7.egg/urllib3/connectionpool.py:847: InsecureRequestWarning: Unverified HTTPS request is being made. Adding certificate verification is strongly advised. See: https://urllib3.readthedocs.io/en/latest/advanced-usage.html#ssl-warnings\n",
      "  InsecureRequestWarning)\n"
     ]
    },
    {
     "name": "stdout",
     "output_type": "stream",
     "text": [
      "800\n",
      "https://api.us-south.discovery.watson.cloud.ibm.com/instances/5049511a-b775-4704-865b-8a971a76c862/v1/environments/system/collections/news-en/query?version=2019-04-30&count=50&offset=800&query=text:Hybrid%20cloud\n"
     ]
    },
    {
     "name": "stderr",
     "output_type": "stream",
     "text": [
      "/Users/katz/.local/lib/python3.7/site-packages/urllib3-1.24.3-py3.7.egg/urllib3/connectionpool.py:847: InsecureRequestWarning: Unverified HTTPS request is being made. Adding certificate verification is strongly advised. See: https://urllib3.readthedocs.io/en/latest/advanced-usage.html#ssl-warnings\n",
      "  InsecureRequestWarning)\n"
     ]
    },
    {
     "name": "stdout",
     "output_type": "stream",
     "text": [
      "850\n",
      "https://api.us-south.discovery.watson.cloud.ibm.com/instances/5049511a-b775-4704-865b-8a971a76c862/v1/environments/system/collections/news-en/query?version=2019-04-30&count=50&offset=850&query=text:Hybrid%20cloud\n"
     ]
    },
    {
     "name": "stderr",
     "output_type": "stream",
     "text": [
      "/Users/katz/.local/lib/python3.7/site-packages/urllib3-1.24.3-py3.7.egg/urllib3/connectionpool.py:847: InsecureRequestWarning: Unverified HTTPS request is being made. Adding certificate verification is strongly advised. See: https://urllib3.readthedocs.io/en/latest/advanced-usage.html#ssl-warnings\n",
      "  InsecureRequestWarning)\n"
     ]
    },
    {
     "name": "stdout",
     "output_type": "stream",
     "text": [
      "900\n",
      "https://api.us-south.discovery.watson.cloud.ibm.com/instances/5049511a-b775-4704-865b-8a971a76c862/v1/environments/system/collections/news-en/query?version=2019-04-30&count=50&offset=900&query=text:Hybrid%20cloud\n"
     ]
    },
    {
     "name": "stderr",
     "output_type": "stream",
     "text": [
      "/Users/katz/.local/lib/python3.7/site-packages/urllib3-1.24.3-py3.7.egg/urllib3/connectionpool.py:847: InsecureRequestWarning: Unverified HTTPS request is being made. Adding certificate verification is strongly advised. See: https://urllib3.readthedocs.io/en/latest/advanced-usage.html#ssl-warnings\n",
      "  InsecureRequestWarning)\n"
     ]
    },
    {
     "name": "stdout",
     "output_type": "stream",
     "text": [
      "950\n",
      "https://api.us-south.discovery.watson.cloud.ibm.com/instances/5049511a-b775-4704-865b-8a971a76c862/v1/environments/system/collections/news-en/query?version=2019-04-30&count=50&offset=950&query=text:Hybrid%20cloud\n"
     ]
    },
    {
     "name": "stderr",
     "output_type": "stream",
     "text": [
      "/Users/katz/.local/lib/python3.7/site-packages/urllib3-1.24.3-py3.7.egg/urllib3/connectionpool.py:847: InsecureRequestWarning: Unverified HTTPS request is being made. Adding certificate verification is strongly advised. See: https://urllib3.readthedocs.io/en/latest/advanced-usage.html#ssl-warnings\n",
      "  InsecureRequestWarning)\n"
     ]
    },
    {
     "name": "stdout",
     "output_type": "stream",
     "text": [
      "1000\n",
      "https://api.us-south.discovery.watson.cloud.ibm.com/instances/5049511a-b775-4704-865b-8a971a76c862/v1/environments/system/collections/news-en/query?version=2019-04-30&count=50&offset=1000&query=text:Hybrid%20cloud\n"
     ]
    },
    {
     "name": "stderr",
     "output_type": "stream",
     "text": [
      "/Users/katz/.local/lib/python3.7/site-packages/urllib3-1.24.3-py3.7.egg/urllib3/connectionpool.py:847: InsecureRequestWarning: Unverified HTTPS request is being made. Adding certificate verification is strongly advised. See: https://urllib3.readthedocs.io/en/latest/advanced-usage.html#ssl-warnings\n",
      "  InsecureRequestWarning)\n"
     ]
    },
    {
     "name": "stdout",
     "output_type": "stream",
     "text": [
      "1050\n",
      "https://api.us-south.discovery.watson.cloud.ibm.com/instances/5049511a-b775-4704-865b-8a971a76c862/v1/environments/system/collections/news-en/query?version=2019-04-30&count=50&offset=1050&query=text:Hybrid%20cloud\n"
     ]
    },
    {
     "name": "stderr",
     "output_type": "stream",
     "text": [
      "/Users/katz/.local/lib/python3.7/site-packages/urllib3-1.24.3-py3.7.egg/urllib3/connectionpool.py:847: InsecureRequestWarning: Unverified HTTPS request is being made. Adding certificate verification is strongly advised. See: https://urllib3.readthedocs.io/en/latest/advanced-usage.html#ssl-warnings\n",
      "  InsecureRequestWarning)\n"
     ]
    },
    {
     "name": "stdout",
     "output_type": "stream",
     "text": [
      "1100\n",
      "https://api.us-south.discovery.watson.cloud.ibm.com/instances/5049511a-b775-4704-865b-8a971a76c862/v1/environments/system/collections/news-en/query?version=2019-04-30&count=50&offset=1100&query=text:Hybrid%20cloud\n"
     ]
    },
    {
     "name": "stderr",
     "output_type": "stream",
     "text": [
      "/Users/katz/.local/lib/python3.7/site-packages/urllib3-1.24.3-py3.7.egg/urllib3/connectionpool.py:847: InsecureRequestWarning: Unverified HTTPS request is being made. Adding certificate verification is strongly advised. See: https://urllib3.readthedocs.io/en/latest/advanced-usage.html#ssl-warnings\n",
      "  InsecureRequestWarning)\n"
     ]
    },
    {
     "name": "stdout",
     "output_type": "stream",
     "text": [
      "1150\n",
      "https://api.us-south.discovery.watson.cloud.ibm.com/instances/5049511a-b775-4704-865b-8a971a76c862/v1/environments/system/collections/news-en/query?version=2019-04-30&count=50&offset=1150&query=text:Hybrid%20cloud\n"
     ]
    },
    {
     "name": "stderr",
     "output_type": "stream",
     "text": [
      "/Users/katz/.local/lib/python3.7/site-packages/urllib3-1.24.3-py3.7.egg/urllib3/connectionpool.py:847: InsecureRequestWarning: Unverified HTTPS request is being made. Adding certificate verification is strongly advised. See: https://urllib3.readthedocs.io/en/latest/advanced-usage.html#ssl-warnings\n",
      "  InsecureRequestWarning)\n"
     ]
    },
    {
     "name": "stdout",
     "output_type": "stream",
     "text": [
      "1200\n",
      "https://api.us-south.discovery.watson.cloud.ibm.com/instances/5049511a-b775-4704-865b-8a971a76c862/v1/environments/system/collections/news-en/query?version=2019-04-30&count=50&offset=1200&query=text:Hybrid%20cloud\n"
     ]
    },
    {
     "name": "stderr",
     "output_type": "stream",
     "text": [
      "/Users/katz/.local/lib/python3.7/site-packages/urllib3-1.24.3-py3.7.egg/urllib3/connectionpool.py:847: InsecureRequestWarning: Unverified HTTPS request is being made. Adding certificate verification is strongly advised. See: https://urllib3.readthedocs.io/en/latest/advanced-usage.html#ssl-warnings\n",
      "  InsecureRequestWarning)\n"
     ]
    },
    {
     "name": "stdout",
     "output_type": "stream",
     "text": [
      "1250\n",
      "https://api.us-south.discovery.watson.cloud.ibm.com/instances/5049511a-b775-4704-865b-8a971a76c862/v1/environments/system/collections/news-en/query?version=2019-04-30&count=50&offset=1250&query=text:Hybrid%20cloud\n"
     ]
    },
    {
     "name": "stderr",
     "output_type": "stream",
     "text": [
      "/Users/katz/.local/lib/python3.7/site-packages/urllib3-1.24.3-py3.7.egg/urllib3/connectionpool.py:847: InsecureRequestWarning: Unverified HTTPS request is being made. Adding certificate verification is strongly advised. See: https://urllib3.readthedocs.io/en/latest/advanced-usage.html#ssl-warnings\n",
      "  InsecureRequestWarning)\n"
     ]
    },
    {
     "name": "stdout",
     "output_type": "stream",
     "text": [
      "1300\n",
      "https://api.us-south.discovery.watson.cloud.ibm.com/instances/5049511a-b775-4704-865b-8a971a76c862/v1/environments/system/collections/news-en/query?version=2019-04-30&count=50&offset=1300&query=text:Hybrid%20cloud\n"
     ]
    },
    {
     "name": "stderr",
     "output_type": "stream",
     "text": [
      "/Users/katz/.local/lib/python3.7/site-packages/urllib3-1.24.3-py3.7.egg/urllib3/connectionpool.py:847: InsecureRequestWarning: Unverified HTTPS request is being made. Adding certificate verification is strongly advised. See: https://urllib3.readthedocs.io/en/latest/advanced-usage.html#ssl-warnings\n",
      "  InsecureRequestWarning)\n"
     ]
    },
    {
     "name": "stdout",
     "output_type": "stream",
     "text": [
      "1350\n",
      "https://api.us-south.discovery.watson.cloud.ibm.com/instances/5049511a-b775-4704-865b-8a971a76c862/v1/environments/system/collections/news-en/query?version=2019-04-30&count=50&offset=1350&query=text:Hybrid%20cloud\n"
     ]
    },
    {
     "name": "stderr",
     "output_type": "stream",
     "text": [
      "/Users/katz/.local/lib/python3.7/site-packages/urllib3-1.24.3-py3.7.egg/urllib3/connectionpool.py:847: InsecureRequestWarning: Unverified HTTPS request is being made. Adding certificate verification is strongly advised. See: https://urllib3.readthedocs.io/en/latest/advanced-usage.html#ssl-warnings\n",
      "  InsecureRequestWarning)\n"
     ]
    },
    {
     "name": "stdout",
     "output_type": "stream",
     "text": [
      "1400\n",
      "https://api.us-south.discovery.watson.cloud.ibm.com/instances/5049511a-b775-4704-865b-8a971a76c862/v1/environments/system/collections/news-en/query?version=2019-04-30&count=50&offset=1400&query=text:Hybrid%20cloud\n"
     ]
    },
    {
     "name": "stderr",
     "output_type": "stream",
     "text": [
      "/Users/katz/.local/lib/python3.7/site-packages/urllib3-1.24.3-py3.7.egg/urllib3/connectionpool.py:847: InsecureRequestWarning: Unverified HTTPS request is being made. Adding certificate verification is strongly advised. See: https://urllib3.readthedocs.io/en/latest/advanced-usage.html#ssl-warnings\n",
      "  InsecureRequestWarning)\n"
     ]
    },
    {
     "name": "stdout",
     "output_type": "stream",
     "text": [
      "1450\n",
      "https://api.us-south.discovery.watson.cloud.ibm.com/instances/5049511a-b775-4704-865b-8a971a76c862/v1/environments/system/collections/news-en/query?version=2019-04-30&count=50&offset=1450&query=text:Hybrid%20cloud\n"
     ]
    },
    {
     "name": "stderr",
     "output_type": "stream",
     "text": [
      "/Users/katz/.local/lib/python3.7/site-packages/urllib3-1.24.3-py3.7.egg/urllib3/connectionpool.py:847: InsecureRequestWarning: Unverified HTTPS request is being made. Adding certificate verification is strongly advised. See: https://urllib3.readthedocs.io/en/latest/advanced-usage.html#ssl-warnings\n",
      "  InsecureRequestWarning)\n"
     ]
    },
    {
     "name": "stdout",
     "output_type": "stream",
     "text": [
      "1500\n",
      "https://api.us-south.discovery.watson.cloud.ibm.com/instances/5049511a-b775-4704-865b-8a971a76c862/v1/environments/system/collections/news-en/query?version=2019-04-30&count=50&offset=1500&query=text:Hybrid%20cloud\n"
     ]
    },
    {
     "name": "stderr",
     "output_type": "stream",
     "text": [
      "/Users/katz/.local/lib/python3.7/site-packages/urllib3-1.24.3-py3.7.egg/urllib3/connectionpool.py:847: InsecureRequestWarning: Unverified HTTPS request is being made. Adding certificate verification is strongly advised. See: https://urllib3.readthedocs.io/en/latest/advanced-usage.html#ssl-warnings\n",
      "  InsecureRequestWarning)\n"
     ]
    },
    {
     "name": "stdout",
     "output_type": "stream",
     "text": [
      "1550\n",
      "https://api.us-south.discovery.watson.cloud.ibm.com/instances/5049511a-b775-4704-865b-8a971a76c862/v1/environments/system/collections/news-en/query?version=2019-04-30&count=50&offset=1550&query=text:Hybrid%20cloud\n"
     ]
    },
    {
     "name": "stderr",
     "output_type": "stream",
     "text": [
      "/Users/katz/.local/lib/python3.7/site-packages/urllib3-1.24.3-py3.7.egg/urllib3/connectionpool.py:847: InsecureRequestWarning: Unverified HTTPS request is being made. Adding certificate verification is strongly advised. See: https://urllib3.readthedocs.io/en/latest/advanced-usage.html#ssl-warnings\n",
      "  InsecureRequestWarning)\n"
     ]
    },
    {
     "name": "stdout",
     "output_type": "stream",
     "text": [
      "1600\n",
      "https://api.us-south.discovery.watson.cloud.ibm.com/instances/5049511a-b775-4704-865b-8a971a76c862/v1/environments/system/collections/news-en/query?version=2019-04-30&count=50&offset=1600&query=text:Hybrid%20cloud\n"
     ]
    },
    {
     "name": "stderr",
     "output_type": "stream",
     "text": [
      "/Users/katz/.local/lib/python3.7/site-packages/urllib3-1.24.3-py3.7.egg/urllib3/connectionpool.py:847: InsecureRequestWarning: Unverified HTTPS request is being made. Adding certificate verification is strongly advised. See: https://urllib3.readthedocs.io/en/latest/advanced-usage.html#ssl-warnings\n",
      "  InsecureRequestWarning)\n"
     ]
    },
    {
     "name": "stdout",
     "output_type": "stream",
     "text": [
      "1650\n",
      "https://api.us-south.discovery.watson.cloud.ibm.com/instances/5049511a-b775-4704-865b-8a971a76c862/v1/environments/system/collections/news-en/query?version=2019-04-30&count=50&offset=1650&query=text:Hybrid%20cloud\n"
     ]
    },
    {
     "name": "stderr",
     "output_type": "stream",
     "text": [
      "/Users/katz/.local/lib/python3.7/site-packages/urllib3-1.24.3-py3.7.egg/urllib3/connectionpool.py:847: InsecureRequestWarning: Unverified HTTPS request is being made. Adding certificate verification is strongly advised. See: https://urllib3.readthedocs.io/en/latest/advanced-usage.html#ssl-warnings\n",
      "  InsecureRequestWarning)\n"
     ]
    },
    {
     "name": "stdout",
     "output_type": "stream",
     "text": [
      "1700\n",
      "https://api.us-south.discovery.watson.cloud.ibm.com/instances/5049511a-b775-4704-865b-8a971a76c862/v1/environments/system/collections/news-en/query?version=2019-04-30&count=50&offset=1700&query=text:Hybrid%20cloud\n"
     ]
    },
    {
     "name": "stderr",
     "output_type": "stream",
     "text": [
      "/Users/katz/.local/lib/python3.7/site-packages/urllib3-1.24.3-py3.7.egg/urllib3/connectionpool.py:847: InsecureRequestWarning: Unverified HTTPS request is being made. Adding certificate verification is strongly advised. See: https://urllib3.readthedocs.io/en/latest/advanced-usage.html#ssl-warnings\n",
      "  InsecureRequestWarning)\n"
     ]
    },
    {
     "name": "stdout",
     "output_type": "stream",
     "text": [
      "1750\n",
      "https://api.us-south.discovery.watson.cloud.ibm.com/instances/5049511a-b775-4704-865b-8a971a76c862/v1/environments/system/collections/news-en/query?version=2019-04-30&count=50&offset=1750&query=text:Hybrid%20cloud\n"
     ]
    },
    {
     "name": "stderr",
     "output_type": "stream",
     "text": [
      "/Users/katz/.local/lib/python3.7/site-packages/urllib3-1.24.3-py3.7.egg/urllib3/connectionpool.py:847: InsecureRequestWarning: Unverified HTTPS request is being made. Adding certificate verification is strongly advised. See: https://urllib3.readthedocs.io/en/latest/advanced-usage.html#ssl-warnings\n",
      "  InsecureRequestWarning)\n"
     ]
    },
    {
     "name": "stdout",
     "output_type": "stream",
     "text": [
      "1800\n",
      "https://api.us-south.discovery.watson.cloud.ibm.com/instances/5049511a-b775-4704-865b-8a971a76c862/v1/environments/system/collections/news-en/query?version=2019-04-30&count=50&offset=1800&query=text:Hybrid%20cloud\n"
     ]
    },
    {
     "name": "stderr",
     "output_type": "stream",
     "text": [
      "/Users/katz/.local/lib/python3.7/site-packages/urllib3-1.24.3-py3.7.egg/urllib3/connectionpool.py:847: InsecureRequestWarning: Unverified HTTPS request is being made. Adding certificate verification is strongly advised. See: https://urllib3.readthedocs.io/en/latest/advanced-usage.html#ssl-warnings\n",
      "  InsecureRequestWarning)\n"
     ]
    },
    {
     "name": "stdout",
     "output_type": "stream",
     "text": [
      "1850\n",
      "https://api.us-south.discovery.watson.cloud.ibm.com/instances/5049511a-b775-4704-865b-8a971a76c862/v1/environments/system/collections/news-en/query?version=2019-04-30&count=50&offset=1850&query=text:Hybrid%20cloud\n"
     ]
    },
    {
     "name": "stderr",
     "output_type": "stream",
     "text": [
      "/Users/katz/.local/lib/python3.7/site-packages/urllib3-1.24.3-py3.7.egg/urllib3/connectionpool.py:847: InsecureRequestWarning: Unverified HTTPS request is being made. Adding certificate verification is strongly advised. See: https://urllib3.readthedocs.io/en/latest/advanced-usage.html#ssl-warnings\n",
      "  InsecureRequestWarning)\n"
     ]
    },
    {
     "name": "stdout",
     "output_type": "stream",
     "text": [
      "1900\n",
      "https://api.us-south.discovery.watson.cloud.ibm.com/instances/5049511a-b775-4704-865b-8a971a76c862/v1/environments/system/collections/news-en/query?version=2019-04-30&count=50&offset=1900&query=text:Hybrid%20cloud\n"
     ]
    },
    {
     "name": "stderr",
     "output_type": "stream",
     "text": [
      "/Users/katz/.local/lib/python3.7/site-packages/urllib3-1.24.3-py3.7.egg/urllib3/connectionpool.py:847: InsecureRequestWarning: Unverified HTTPS request is being made. Adding certificate verification is strongly advised. See: https://urllib3.readthedocs.io/en/latest/advanced-usage.html#ssl-warnings\n",
      "  InsecureRequestWarning)\n"
     ]
    },
    {
     "name": "stdout",
     "output_type": "stream",
     "text": [
      "1950\n",
      "https://api.us-south.discovery.watson.cloud.ibm.com/instances/5049511a-b775-4704-865b-8a971a76c862/v1/environments/system/collections/news-en/query?version=2019-04-30&count=50&offset=1950&query=text:Hybrid%20cloud\n"
     ]
    },
    {
     "name": "stderr",
     "output_type": "stream",
     "text": [
      "/Users/katz/.local/lib/python3.7/site-packages/urllib3-1.24.3-py3.7.egg/urllib3/connectionpool.py:847: InsecureRequestWarning: Unverified HTTPS request is being made. Adding certificate verification is strongly advised. See: https://urllib3.readthedocs.io/en/latest/advanced-usage.html#ssl-warnings\n",
      "  InsecureRequestWarning)\n"
     ]
    },
    {
     "name": "stdout",
     "output_type": "stream",
     "text": [
      "2000\n",
      "https://api.us-south.discovery.watson.cloud.ibm.com/instances/5049511a-b775-4704-865b-8a971a76c862/v1/environments/system/collections/news-en/query?version=2019-04-30&count=50&offset=2000&query=text:Hybrid%20cloud\n"
     ]
    },
    {
     "name": "stderr",
     "output_type": "stream",
     "text": [
      "/Users/katz/.local/lib/python3.7/site-packages/urllib3-1.24.3-py3.7.egg/urllib3/connectionpool.py:847: InsecureRequestWarning: Unverified HTTPS request is being made. Adding certificate verification is strongly advised. See: https://urllib3.readthedocs.io/en/latest/advanced-usage.html#ssl-warnings\n",
      "  InsecureRequestWarning)\n"
     ]
    },
    {
     "name": "stdout",
     "output_type": "stream",
     "text": [
      "2050\n",
      "https://api.us-south.discovery.watson.cloud.ibm.com/instances/5049511a-b775-4704-865b-8a971a76c862/v1/environments/system/collections/news-en/query?version=2019-04-30&count=50&offset=2050&query=text:Hybrid%20cloud\n"
     ]
    },
    {
     "name": "stderr",
     "output_type": "stream",
     "text": [
      "/Users/katz/.local/lib/python3.7/site-packages/urllib3-1.24.3-py3.7.egg/urllib3/connectionpool.py:847: InsecureRequestWarning: Unverified HTTPS request is being made. Adding certificate verification is strongly advised. See: https://urllib3.readthedocs.io/en/latest/advanced-usage.html#ssl-warnings\n",
      "  InsecureRequestWarning)\n"
     ]
    },
    {
     "name": "stdout",
     "output_type": "stream",
     "text": [
      "2100\n",
      "https://api.us-south.discovery.watson.cloud.ibm.com/instances/5049511a-b775-4704-865b-8a971a76c862/v1/environments/system/collections/news-en/query?version=2019-04-30&count=50&offset=2100&query=text:Hybrid%20cloud\n"
     ]
    },
    {
     "name": "stderr",
     "output_type": "stream",
     "text": [
      "/Users/katz/.local/lib/python3.7/site-packages/urllib3-1.24.3-py3.7.egg/urllib3/connectionpool.py:847: InsecureRequestWarning: Unverified HTTPS request is being made. Adding certificate verification is strongly advised. See: https://urllib3.readthedocs.io/en/latest/advanced-usage.html#ssl-warnings\n",
      "  InsecureRequestWarning)\n"
     ]
    },
    {
     "name": "stdout",
     "output_type": "stream",
     "text": [
      "2150\n",
      "https://api.us-south.discovery.watson.cloud.ibm.com/instances/5049511a-b775-4704-865b-8a971a76c862/v1/environments/system/collections/news-en/query?version=2019-04-30&count=50&offset=2150&query=text:Hybrid%20cloud\n"
     ]
    },
    {
     "name": "stderr",
     "output_type": "stream",
     "text": [
      "/Users/katz/.local/lib/python3.7/site-packages/urllib3-1.24.3-py3.7.egg/urllib3/connectionpool.py:847: InsecureRequestWarning: Unverified HTTPS request is being made. Adding certificate verification is strongly advised. See: https://urllib3.readthedocs.io/en/latest/advanced-usage.html#ssl-warnings\n",
      "  InsecureRequestWarning)\n"
     ]
    },
    {
     "name": "stdout",
     "output_type": "stream",
     "text": [
      "2200\n",
      "https://api.us-south.discovery.watson.cloud.ibm.com/instances/5049511a-b775-4704-865b-8a971a76c862/v1/environments/system/collections/news-en/query?version=2019-04-30&count=50&offset=2200&query=text:Hybrid%20cloud\n"
     ]
    },
    {
     "name": "stderr",
     "output_type": "stream",
     "text": [
      "/Users/katz/.local/lib/python3.7/site-packages/urllib3-1.24.3-py3.7.egg/urllib3/connectionpool.py:847: InsecureRequestWarning: Unverified HTTPS request is being made. Adding certificate verification is strongly advised. See: https://urllib3.readthedocs.io/en/latest/advanced-usage.html#ssl-warnings\n",
      "  InsecureRequestWarning)\n"
     ]
    },
    {
     "name": "stdout",
     "output_type": "stream",
     "text": [
      "2250\n",
      "https://api.us-south.discovery.watson.cloud.ibm.com/instances/5049511a-b775-4704-865b-8a971a76c862/v1/environments/system/collections/news-en/query?version=2019-04-30&count=50&offset=2250&query=text:Hybrid%20cloud\n"
     ]
    },
    {
     "name": "stderr",
     "output_type": "stream",
     "text": [
      "/Users/katz/.local/lib/python3.7/site-packages/urllib3-1.24.3-py3.7.egg/urllib3/connectionpool.py:847: InsecureRequestWarning: Unverified HTTPS request is being made. Adding certificate verification is strongly advised. See: https://urllib3.readthedocs.io/en/latest/advanced-usage.html#ssl-warnings\n",
      "  InsecureRequestWarning)\n"
     ]
    },
    {
     "name": "stdout",
     "output_type": "stream",
     "text": [
      "2300\n",
      "https://api.us-south.discovery.watson.cloud.ibm.com/instances/5049511a-b775-4704-865b-8a971a76c862/v1/environments/system/collections/news-en/query?version=2019-04-30&count=50&offset=2300&query=text:Hybrid%20cloud\n"
     ]
    },
    {
     "name": "stderr",
     "output_type": "stream",
     "text": [
      "/Users/katz/.local/lib/python3.7/site-packages/urllib3-1.24.3-py3.7.egg/urllib3/connectionpool.py:847: InsecureRequestWarning: Unverified HTTPS request is being made. Adding certificate verification is strongly advised. See: https://urllib3.readthedocs.io/en/latest/advanced-usage.html#ssl-warnings\n",
      "  InsecureRequestWarning)\n"
     ]
    },
    {
     "name": "stdout",
     "output_type": "stream",
     "text": [
      "2350\n",
      "https://api.us-south.discovery.watson.cloud.ibm.com/instances/5049511a-b775-4704-865b-8a971a76c862/v1/environments/system/collections/news-en/query?version=2019-04-30&count=50&offset=2350&query=text:Hybrid%20cloud\n"
     ]
    },
    {
     "name": "stderr",
     "output_type": "stream",
     "text": [
      "/Users/katz/.local/lib/python3.7/site-packages/urllib3-1.24.3-py3.7.egg/urllib3/connectionpool.py:847: InsecureRequestWarning: Unverified HTTPS request is being made. Adding certificate verification is strongly advised. See: https://urllib3.readthedocs.io/en/latest/advanced-usage.html#ssl-warnings\n",
      "  InsecureRequestWarning)\n"
     ]
    },
    {
     "name": "stdout",
     "output_type": "stream",
     "text": [
      "2400\n",
      "https://api.us-south.discovery.watson.cloud.ibm.com/instances/5049511a-b775-4704-865b-8a971a76c862/v1/environments/system/collections/news-en/query?version=2019-04-30&count=50&offset=2400&query=text:Hybrid%20cloud\n"
     ]
    },
    {
     "name": "stderr",
     "output_type": "stream",
     "text": [
      "/Users/katz/.local/lib/python3.7/site-packages/urllib3-1.24.3-py3.7.egg/urllib3/connectionpool.py:847: InsecureRequestWarning: Unverified HTTPS request is being made. Adding certificate verification is strongly advised. See: https://urllib3.readthedocs.io/en/latest/advanced-usage.html#ssl-warnings\n",
      "  InsecureRequestWarning)\n"
     ]
    },
    {
     "name": "stdout",
     "output_type": "stream",
     "text": [
      "2450\n",
      "https://api.us-south.discovery.watson.cloud.ibm.com/instances/5049511a-b775-4704-865b-8a971a76c862/v1/environments/system/collections/news-en/query?version=2019-04-30&count=50&offset=2450&query=text:Hybrid%20cloud\n"
     ]
    },
    {
     "name": "stderr",
     "output_type": "stream",
     "text": [
      "/Users/katz/.local/lib/python3.7/site-packages/urllib3-1.24.3-py3.7.egg/urllib3/connectionpool.py:847: InsecureRequestWarning: Unverified HTTPS request is being made. Adding certificate verification is strongly advised. See: https://urllib3.readthedocs.io/en/latest/advanced-usage.html#ssl-warnings\n",
      "  InsecureRequestWarning)\n"
     ]
    },
    {
     "name": "stdout",
     "output_type": "stream",
     "text": [
      "2500\n",
      "https://api.us-south.discovery.watson.cloud.ibm.com/instances/5049511a-b775-4704-865b-8a971a76c862/v1/environments/system/collections/news-en/query?version=2019-04-30&count=50&offset=2500&query=text:Hybrid%20cloud\n"
     ]
    },
    {
     "name": "stderr",
     "output_type": "stream",
     "text": [
      "/Users/katz/.local/lib/python3.7/site-packages/urllib3-1.24.3-py3.7.egg/urllib3/connectionpool.py:847: InsecureRequestWarning: Unverified HTTPS request is being made. Adding certificate verification is strongly advised. See: https://urllib3.readthedocs.io/en/latest/advanced-usage.html#ssl-warnings\n",
      "  InsecureRequestWarning)\n"
     ]
    },
    {
     "name": "stdout",
     "output_type": "stream",
     "text": [
      "2550\n",
      "https://api.us-south.discovery.watson.cloud.ibm.com/instances/5049511a-b775-4704-865b-8a971a76c862/v1/environments/system/collections/news-en/query?version=2019-04-30&count=50&offset=2550&query=text:Hybrid%20cloud\n"
     ]
    },
    {
     "name": "stderr",
     "output_type": "stream",
     "text": [
      "/Users/katz/.local/lib/python3.7/site-packages/urllib3-1.24.3-py3.7.egg/urllib3/connectionpool.py:847: InsecureRequestWarning: Unverified HTTPS request is being made. Adding certificate verification is strongly advised. See: https://urllib3.readthedocs.io/en/latest/advanced-usage.html#ssl-warnings\n",
      "  InsecureRequestWarning)\n"
     ]
    },
    {
     "name": "stdout",
     "output_type": "stream",
     "text": [
      "2600\n",
      "https://api.us-south.discovery.watson.cloud.ibm.com/instances/5049511a-b775-4704-865b-8a971a76c862/v1/environments/system/collections/news-en/query?version=2019-04-30&count=50&offset=2600&query=text:Hybrid%20cloud\n"
     ]
    },
    {
     "name": "stderr",
     "output_type": "stream",
     "text": [
      "/Users/katz/.local/lib/python3.7/site-packages/urllib3-1.24.3-py3.7.egg/urllib3/connectionpool.py:847: InsecureRequestWarning: Unverified HTTPS request is being made. Adding certificate verification is strongly advised. See: https://urllib3.readthedocs.io/en/latest/advanced-usage.html#ssl-warnings\n",
      "  InsecureRequestWarning)\n"
     ]
    },
    {
     "name": "stdout",
     "output_type": "stream",
     "text": [
      "2650\n",
      "https://api.us-south.discovery.watson.cloud.ibm.com/instances/5049511a-b775-4704-865b-8a971a76c862/v1/environments/system/collections/news-en/query?version=2019-04-30&count=50&offset=2650&query=text:Hybrid%20cloud\n"
     ]
    },
    {
     "name": "stderr",
     "output_type": "stream",
     "text": [
      "/Users/katz/.local/lib/python3.7/site-packages/urllib3-1.24.3-py3.7.egg/urllib3/connectionpool.py:847: InsecureRequestWarning: Unverified HTTPS request is being made. Adding certificate verification is strongly advised. See: https://urllib3.readthedocs.io/en/latest/advanced-usage.html#ssl-warnings\n",
      "  InsecureRequestWarning)\n"
     ]
    },
    {
     "name": "stdout",
     "output_type": "stream",
     "text": [
      "2700\n",
      "https://api.us-south.discovery.watson.cloud.ibm.com/instances/5049511a-b775-4704-865b-8a971a76c862/v1/environments/system/collections/news-en/query?version=2019-04-30&count=50&offset=2700&query=text:Hybrid%20cloud\n"
     ]
    },
    {
     "name": "stderr",
     "output_type": "stream",
     "text": [
      "/Users/katz/.local/lib/python3.7/site-packages/urllib3-1.24.3-py3.7.egg/urllib3/connectionpool.py:847: InsecureRequestWarning: Unverified HTTPS request is being made. Adding certificate verification is strongly advised. See: https://urllib3.readthedocs.io/en/latest/advanced-usage.html#ssl-warnings\n",
      "  InsecureRequestWarning)\n"
     ]
    },
    {
     "name": "stdout",
     "output_type": "stream",
     "text": [
      "2750\n",
      "https://api.us-south.discovery.watson.cloud.ibm.com/instances/5049511a-b775-4704-865b-8a971a76c862/v1/environments/system/collections/news-en/query?version=2019-04-30&count=50&offset=2750&query=text:Hybrid%20cloud\n"
     ]
    },
    {
     "name": "stderr",
     "output_type": "stream",
     "text": [
      "/Users/katz/.local/lib/python3.7/site-packages/urllib3-1.24.3-py3.7.egg/urllib3/connectionpool.py:847: InsecureRequestWarning: Unverified HTTPS request is being made. Adding certificate verification is strongly advised. See: https://urllib3.readthedocs.io/en/latest/advanced-usage.html#ssl-warnings\n",
      "  InsecureRequestWarning)\n"
     ]
    },
    {
     "name": "stdout",
     "output_type": "stream",
     "text": [
      "2800\n",
      "https://api.us-south.discovery.watson.cloud.ibm.com/instances/5049511a-b775-4704-865b-8a971a76c862/v1/environments/system/collections/news-en/query?version=2019-04-30&count=50&offset=2800&query=text:Hybrid%20cloud\n"
     ]
    },
    {
     "name": "stderr",
     "output_type": "stream",
     "text": [
      "/Users/katz/.local/lib/python3.7/site-packages/urllib3-1.24.3-py3.7.egg/urllib3/connectionpool.py:847: InsecureRequestWarning: Unverified HTTPS request is being made. Adding certificate verification is strongly advised. See: https://urllib3.readthedocs.io/en/latest/advanced-usage.html#ssl-warnings\n",
      "  InsecureRequestWarning)\n"
     ]
    },
    {
     "name": "stdout",
     "output_type": "stream",
     "text": [
      "2850\n",
      "https://api.us-south.discovery.watson.cloud.ibm.com/instances/5049511a-b775-4704-865b-8a971a76c862/v1/environments/system/collections/news-en/query?version=2019-04-30&count=50&offset=2850&query=text:Hybrid%20cloud\n"
     ]
    },
    {
     "name": "stderr",
     "output_type": "stream",
     "text": [
      "/Users/katz/.local/lib/python3.7/site-packages/urllib3-1.24.3-py3.7.egg/urllib3/connectionpool.py:847: InsecureRequestWarning: Unverified HTTPS request is being made. Adding certificate verification is strongly advised. See: https://urllib3.readthedocs.io/en/latest/advanced-usage.html#ssl-warnings\n",
      "  InsecureRequestWarning)\n"
     ]
    },
    {
     "name": "stdout",
     "output_type": "stream",
     "text": [
      "2900\n",
      "https://api.us-south.discovery.watson.cloud.ibm.com/instances/5049511a-b775-4704-865b-8a971a76c862/v1/environments/system/collections/news-en/query?version=2019-04-30&count=50&offset=2900&query=text:Hybrid%20cloud\n"
     ]
    },
    {
     "name": "stderr",
     "output_type": "stream",
     "text": [
      "/Users/katz/.local/lib/python3.7/site-packages/urllib3-1.24.3-py3.7.egg/urllib3/connectionpool.py:847: InsecureRequestWarning: Unverified HTTPS request is being made. Adding certificate verification is strongly advised. See: https://urllib3.readthedocs.io/en/latest/advanced-usage.html#ssl-warnings\n",
      "  InsecureRequestWarning)\n"
     ]
    },
    {
     "name": "stdout",
     "output_type": "stream",
     "text": [
      "2950\n",
      "https://api.us-south.discovery.watson.cloud.ibm.com/instances/5049511a-b775-4704-865b-8a971a76c862/v1/environments/system/collections/news-en/query?version=2019-04-30&count=50&offset=2950&query=text:Hybrid%20cloud\n"
     ]
    },
    {
     "name": "stderr",
     "output_type": "stream",
     "text": [
      "/Users/katz/.local/lib/python3.7/site-packages/urllib3-1.24.3-py3.7.egg/urllib3/connectionpool.py:847: InsecureRequestWarning: Unverified HTTPS request is being made. Adding certificate verification is strongly advised. See: https://urllib3.readthedocs.io/en/latest/advanced-usage.html#ssl-warnings\n",
      "  InsecureRequestWarning)\n"
     ]
    },
    {
     "name": "stdout",
     "output_type": "stream",
     "text": [
      "3000\n",
      "https://api.us-south.discovery.watson.cloud.ibm.com/instances/5049511a-b775-4704-865b-8a971a76c862/v1/environments/system/collections/news-en/query?version=2019-04-30&count=50&offset=3000&query=text:Hybrid%20cloud\n"
     ]
    },
    {
     "name": "stderr",
     "output_type": "stream",
     "text": [
      "/Users/katz/.local/lib/python3.7/site-packages/urllib3-1.24.3-py3.7.egg/urllib3/connectionpool.py:847: InsecureRequestWarning: Unverified HTTPS request is being made. Adding certificate verification is strongly advised. See: https://urllib3.readthedocs.io/en/latest/advanced-usage.html#ssl-warnings\n",
      "  InsecureRequestWarning)\n"
     ]
    },
    {
     "name": "stdout",
     "output_type": "stream",
     "text": [
      "3050\n",
      "https://api.us-south.discovery.watson.cloud.ibm.com/instances/5049511a-b775-4704-865b-8a971a76c862/v1/environments/system/collections/news-en/query?version=2019-04-30&count=50&offset=3050&query=text:Hybrid%20cloud\n"
     ]
    },
    {
     "name": "stderr",
     "output_type": "stream",
     "text": [
      "/Users/katz/.local/lib/python3.7/site-packages/urllib3-1.24.3-py3.7.egg/urllib3/connectionpool.py:847: InsecureRequestWarning: Unverified HTTPS request is being made. Adding certificate verification is strongly advised. See: https://urllib3.readthedocs.io/en/latest/advanced-usage.html#ssl-warnings\n",
      "  InsecureRequestWarning)\n"
     ]
    },
    {
     "name": "stdout",
     "output_type": "stream",
     "text": [
      "3100\n",
      "https://api.us-south.discovery.watson.cloud.ibm.com/instances/5049511a-b775-4704-865b-8a971a76c862/v1/environments/system/collections/news-en/query?version=2019-04-30&count=50&offset=3100&query=text:Hybrid%20cloud\n"
     ]
    },
    {
     "name": "stderr",
     "output_type": "stream",
     "text": [
      "/Users/katz/.local/lib/python3.7/site-packages/urllib3-1.24.3-py3.7.egg/urllib3/connectionpool.py:847: InsecureRequestWarning: Unverified HTTPS request is being made. Adding certificate verification is strongly advised. See: https://urllib3.readthedocs.io/en/latest/advanced-usage.html#ssl-warnings\n",
      "  InsecureRequestWarning)\n"
     ]
    },
    {
     "name": "stdout",
     "output_type": "stream",
     "text": [
      "3150\n",
      "https://api.us-south.discovery.watson.cloud.ibm.com/instances/5049511a-b775-4704-865b-8a971a76c862/v1/environments/system/collections/news-en/query?version=2019-04-30&count=50&offset=3150&query=text:Hybrid%20cloud\n"
     ]
    },
    {
     "name": "stderr",
     "output_type": "stream",
     "text": [
      "/Users/katz/.local/lib/python3.7/site-packages/urllib3-1.24.3-py3.7.egg/urllib3/connectionpool.py:847: InsecureRequestWarning: Unverified HTTPS request is being made. Adding certificate verification is strongly advised. See: https://urllib3.readthedocs.io/en/latest/advanced-usage.html#ssl-warnings\n",
      "  InsecureRequestWarning)\n"
     ]
    },
    {
     "name": "stdout",
     "output_type": "stream",
     "text": [
      "3200\n",
      "https://api.us-south.discovery.watson.cloud.ibm.com/instances/5049511a-b775-4704-865b-8a971a76c862/v1/environments/system/collections/news-en/query?version=2019-04-30&count=50&offset=3200&query=text:Hybrid%20cloud\n"
     ]
    },
    {
     "name": "stderr",
     "output_type": "stream",
     "text": [
      "/Users/katz/.local/lib/python3.7/site-packages/urllib3-1.24.3-py3.7.egg/urllib3/connectionpool.py:847: InsecureRequestWarning: Unverified HTTPS request is being made. Adding certificate verification is strongly advised. See: https://urllib3.readthedocs.io/en/latest/advanced-usage.html#ssl-warnings\n",
      "  InsecureRequestWarning)\n"
     ]
    },
    {
     "name": "stdout",
     "output_type": "stream",
     "text": [
      "3250\n",
      "https://api.us-south.discovery.watson.cloud.ibm.com/instances/5049511a-b775-4704-865b-8a971a76c862/v1/environments/system/collections/news-en/query?version=2019-04-30&count=50&offset=3250&query=text:Hybrid%20cloud\n"
     ]
    },
    {
     "name": "stderr",
     "output_type": "stream",
     "text": [
      "/Users/katz/.local/lib/python3.7/site-packages/urllib3-1.24.3-py3.7.egg/urllib3/connectionpool.py:847: InsecureRequestWarning: Unverified HTTPS request is being made. Adding certificate verification is strongly advised. See: https://urllib3.readthedocs.io/en/latest/advanced-usage.html#ssl-warnings\n",
      "  InsecureRequestWarning)\n"
     ]
    },
    {
     "name": "stdout",
     "output_type": "stream",
     "text": [
      "3300\n",
      "https://api.us-south.discovery.watson.cloud.ibm.com/instances/5049511a-b775-4704-865b-8a971a76c862/v1/environments/system/collections/news-en/query?version=2019-04-30&count=50&offset=3300&query=text:Hybrid%20cloud\n"
     ]
    },
    {
     "name": "stderr",
     "output_type": "stream",
     "text": [
      "/Users/katz/.local/lib/python3.7/site-packages/urllib3-1.24.3-py3.7.egg/urllib3/connectionpool.py:847: InsecureRequestWarning: Unverified HTTPS request is being made. Adding certificate verification is strongly advised. See: https://urllib3.readthedocs.io/en/latest/advanced-usage.html#ssl-warnings\n",
      "  InsecureRequestWarning)\n"
     ]
    },
    {
     "name": "stdout",
     "output_type": "stream",
     "text": [
      "3350\n",
      "https://api.us-south.discovery.watson.cloud.ibm.com/instances/5049511a-b775-4704-865b-8a971a76c862/v1/environments/system/collections/news-en/query?version=2019-04-30&count=50&offset=3350&query=text:Hybrid%20cloud\n"
     ]
    },
    {
     "name": "stderr",
     "output_type": "stream",
     "text": [
      "/Users/katz/.local/lib/python3.7/site-packages/urllib3-1.24.3-py3.7.egg/urllib3/connectionpool.py:847: InsecureRequestWarning: Unverified HTTPS request is being made. Adding certificate verification is strongly advised. See: https://urllib3.readthedocs.io/en/latest/advanced-usage.html#ssl-warnings\n",
      "  InsecureRequestWarning)\n"
     ]
    },
    {
     "name": "stdout",
     "output_type": "stream",
     "text": [
      "3400\n",
      "https://api.us-south.discovery.watson.cloud.ibm.com/instances/5049511a-b775-4704-865b-8a971a76c862/v1/environments/system/collections/news-en/query?version=2019-04-30&count=50&offset=3400&query=text:Hybrid%20cloud\n"
     ]
    },
    {
     "name": "stderr",
     "output_type": "stream",
     "text": [
      "/Users/katz/.local/lib/python3.7/site-packages/urllib3-1.24.3-py3.7.egg/urllib3/connectionpool.py:847: InsecureRequestWarning: Unverified HTTPS request is being made. Adding certificate verification is strongly advised. See: https://urllib3.readthedocs.io/en/latest/advanced-usage.html#ssl-warnings\n",
      "  InsecureRequestWarning)\n"
     ]
    },
    {
     "name": "stdout",
     "output_type": "stream",
     "text": [
      "3450\n",
      "https://api.us-south.discovery.watson.cloud.ibm.com/instances/5049511a-b775-4704-865b-8a971a76c862/v1/environments/system/collections/news-en/query?version=2019-04-30&count=50&offset=3450&query=text:Hybrid%20cloud\n"
     ]
    },
    {
     "name": "stderr",
     "output_type": "stream",
     "text": [
      "/Users/katz/.local/lib/python3.7/site-packages/urllib3-1.24.3-py3.7.egg/urllib3/connectionpool.py:847: InsecureRequestWarning: Unverified HTTPS request is being made. Adding certificate verification is strongly advised. See: https://urllib3.readthedocs.io/en/latest/advanced-usage.html#ssl-warnings\n",
      "  InsecureRequestWarning)\n"
     ]
    },
    {
     "name": "stdout",
     "output_type": "stream",
     "text": [
      "3500\n",
      "https://api.us-south.discovery.watson.cloud.ibm.com/instances/5049511a-b775-4704-865b-8a971a76c862/v1/environments/system/collections/news-en/query?version=2019-04-30&count=50&offset=3500&query=text:Hybrid%20cloud\n"
     ]
    },
    {
     "name": "stderr",
     "output_type": "stream",
     "text": [
      "/Users/katz/.local/lib/python3.7/site-packages/urllib3-1.24.3-py3.7.egg/urllib3/connectionpool.py:847: InsecureRequestWarning: Unverified HTTPS request is being made. Adding certificate verification is strongly advised. See: https://urllib3.readthedocs.io/en/latest/advanced-usage.html#ssl-warnings\n",
      "  InsecureRequestWarning)\n"
     ]
    },
    {
     "name": "stdout",
     "output_type": "stream",
     "text": [
      "3550\n",
      "https://api.us-south.discovery.watson.cloud.ibm.com/instances/5049511a-b775-4704-865b-8a971a76c862/v1/environments/system/collections/news-en/query?version=2019-04-30&count=50&offset=3550&query=text:Hybrid%20cloud\n"
     ]
    },
    {
     "name": "stderr",
     "output_type": "stream",
     "text": [
      "/Users/katz/.local/lib/python3.7/site-packages/urllib3-1.24.3-py3.7.egg/urllib3/connectionpool.py:847: InsecureRequestWarning: Unverified HTTPS request is being made. Adding certificate verification is strongly advised. See: https://urllib3.readthedocs.io/en/latest/advanced-usage.html#ssl-warnings\n",
      "  InsecureRequestWarning)\n"
     ]
    },
    {
     "name": "stdout",
     "output_type": "stream",
     "text": [
      "3600\n",
      "https://api.us-south.discovery.watson.cloud.ibm.com/instances/5049511a-b775-4704-865b-8a971a76c862/v1/environments/system/collections/news-en/query?version=2019-04-30&count=50&offset=3600&query=text:Hybrid%20cloud\n"
     ]
    },
    {
     "name": "stderr",
     "output_type": "stream",
     "text": [
      "/Users/katz/.local/lib/python3.7/site-packages/urllib3-1.24.3-py3.7.egg/urllib3/connectionpool.py:847: InsecureRequestWarning: Unverified HTTPS request is being made. Adding certificate verification is strongly advised. See: https://urllib3.readthedocs.io/en/latest/advanced-usage.html#ssl-warnings\n",
      "  InsecureRequestWarning)\n"
     ]
    },
    {
     "name": "stdout",
     "output_type": "stream",
     "text": [
      "3650\n",
      "https://api.us-south.discovery.watson.cloud.ibm.com/instances/5049511a-b775-4704-865b-8a971a76c862/v1/environments/system/collections/news-en/query?version=2019-04-30&count=50&offset=3650&query=text:Hybrid%20cloud\n"
     ]
    },
    {
     "name": "stderr",
     "output_type": "stream",
     "text": [
      "/Users/katz/.local/lib/python3.7/site-packages/urllib3-1.24.3-py3.7.egg/urllib3/connectionpool.py:847: InsecureRequestWarning: Unverified HTTPS request is being made. Adding certificate verification is strongly advised. See: https://urllib3.readthedocs.io/en/latest/advanced-usage.html#ssl-warnings\n",
      "  InsecureRequestWarning)\n"
     ]
    },
    {
     "name": "stdout",
     "output_type": "stream",
     "text": [
      "3700\n",
      "https://api.us-south.discovery.watson.cloud.ibm.com/instances/5049511a-b775-4704-865b-8a971a76c862/v1/environments/system/collections/news-en/query?version=2019-04-30&count=50&offset=3700&query=text:Hybrid%20cloud\n"
     ]
    },
    {
     "name": "stderr",
     "output_type": "stream",
     "text": [
      "/Users/katz/.local/lib/python3.7/site-packages/urllib3-1.24.3-py3.7.egg/urllib3/connectionpool.py:847: InsecureRequestWarning: Unverified HTTPS request is being made. Adding certificate verification is strongly advised. See: https://urllib3.readthedocs.io/en/latest/advanced-usage.html#ssl-warnings\n",
      "  InsecureRequestWarning)\n"
     ]
    },
    {
     "name": "stdout",
     "output_type": "stream",
     "text": [
      "3750\n",
      "https://api.us-south.discovery.watson.cloud.ibm.com/instances/5049511a-b775-4704-865b-8a971a76c862/v1/environments/system/collections/news-en/query?version=2019-04-30&count=50&offset=3750&query=text:Hybrid%20cloud\n"
     ]
    },
    {
     "name": "stderr",
     "output_type": "stream",
     "text": [
      "/Users/katz/.local/lib/python3.7/site-packages/urllib3-1.24.3-py3.7.egg/urllib3/connectionpool.py:847: InsecureRequestWarning: Unverified HTTPS request is being made. Adding certificate verification is strongly advised. See: https://urllib3.readthedocs.io/en/latest/advanced-usage.html#ssl-warnings\n",
      "  InsecureRequestWarning)\n"
     ]
    },
    {
     "name": "stdout",
     "output_type": "stream",
     "text": [
      "3800\n",
      "https://api.us-south.discovery.watson.cloud.ibm.com/instances/5049511a-b775-4704-865b-8a971a76c862/v1/environments/system/collections/news-en/query?version=2019-04-30&count=50&offset=3800&query=text:Hybrid%20cloud\n"
     ]
    },
    {
     "name": "stderr",
     "output_type": "stream",
     "text": [
      "/Users/katz/.local/lib/python3.7/site-packages/urllib3-1.24.3-py3.7.egg/urllib3/connectionpool.py:847: InsecureRequestWarning: Unverified HTTPS request is being made. Adding certificate verification is strongly advised. See: https://urllib3.readthedocs.io/en/latest/advanced-usage.html#ssl-warnings\n",
      "  InsecureRequestWarning)\n"
     ]
    },
    {
     "name": "stdout",
     "output_type": "stream",
     "text": [
      "3850\n",
      "https://api.us-south.discovery.watson.cloud.ibm.com/instances/5049511a-b775-4704-865b-8a971a76c862/v1/environments/system/collections/news-en/query?version=2019-04-30&count=50&offset=3850&query=text:Hybrid%20cloud\n"
     ]
    },
    {
     "name": "stderr",
     "output_type": "stream",
     "text": [
      "/Users/katz/.local/lib/python3.7/site-packages/urllib3-1.24.3-py3.7.egg/urllib3/connectionpool.py:847: InsecureRequestWarning: Unverified HTTPS request is being made. Adding certificate verification is strongly advised. See: https://urllib3.readthedocs.io/en/latest/advanced-usage.html#ssl-warnings\n",
      "  InsecureRequestWarning)\n"
     ]
    },
    {
     "name": "stdout",
     "output_type": "stream",
     "text": [
      "3900\n",
      "https://api.us-south.discovery.watson.cloud.ibm.com/instances/5049511a-b775-4704-865b-8a971a76c862/v1/environments/system/collections/news-en/query?version=2019-04-30&count=50&offset=3900&query=text:Hybrid%20cloud\n"
     ]
    },
    {
     "name": "stderr",
     "output_type": "stream",
     "text": [
      "/Users/katz/.local/lib/python3.7/site-packages/urllib3-1.24.3-py3.7.egg/urllib3/connectionpool.py:847: InsecureRequestWarning: Unverified HTTPS request is being made. Adding certificate verification is strongly advised. See: https://urllib3.readthedocs.io/en/latest/advanced-usage.html#ssl-warnings\n",
      "  InsecureRequestWarning)\n"
     ]
    },
    {
     "name": "stdout",
     "output_type": "stream",
     "text": [
      "3950\n",
      "https://api.us-south.discovery.watson.cloud.ibm.com/instances/5049511a-b775-4704-865b-8a971a76c862/v1/environments/system/collections/news-en/query?version=2019-04-30&count=50&offset=3950&query=text:Hybrid%20cloud\n"
     ]
    },
    {
     "name": "stderr",
     "output_type": "stream",
     "text": [
      "/Users/katz/.local/lib/python3.7/site-packages/urllib3-1.24.3-py3.7.egg/urllib3/connectionpool.py:847: InsecureRequestWarning: Unverified HTTPS request is being made. Adding certificate verification is strongly advised. See: https://urllib3.readthedocs.io/en/latest/advanced-usage.html#ssl-warnings\n",
      "  InsecureRequestWarning)\n"
     ]
    },
    {
     "name": "stdout",
     "output_type": "stream",
     "text": [
      "4000\n",
      "https://api.us-south.discovery.watson.cloud.ibm.com/instances/5049511a-b775-4704-865b-8a971a76c862/v1/environments/system/collections/news-en/query?version=2019-04-30&count=50&offset=4000&query=text:Hybrid%20cloud\n"
     ]
    },
    {
     "name": "stderr",
     "output_type": "stream",
     "text": [
      "/Users/katz/.local/lib/python3.7/site-packages/urllib3-1.24.3-py3.7.egg/urllib3/connectionpool.py:847: InsecureRequestWarning: Unverified HTTPS request is being made. Adding certificate verification is strongly advised. See: https://urllib3.readthedocs.io/en/latest/advanced-usage.html#ssl-warnings\n",
      "  InsecureRequestWarning)\n"
     ]
    },
    {
     "name": "stdout",
     "output_type": "stream",
     "text": [
      "4050\n",
      "https://api.us-south.discovery.watson.cloud.ibm.com/instances/5049511a-b775-4704-865b-8a971a76c862/v1/environments/system/collections/news-en/query?version=2019-04-30&count=50&offset=4050&query=text:Hybrid%20cloud\n"
     ]
    },
    {
     "name": "stderr",
     "output_type": "stream",
     "text": [
      "/Users/katz/.local/lib/python3.7/site-packages/urllib3-1.24.3-py3.7.egg/urllib3/connectionpool.py:847: InsecureRequestWarning: Unverified HTTPS request is being made. Adding certificate verification is strongly advised. See: https://urllib3.readthedocs.io/en/latest/advanced-usage.html#ssl-warnings\n",
      "  InsecureRequestWarning)\n"
     ]
    },
    {
     "name": "stdout",
     "output_type": "stream",
     "text": [
      "4100\n",
      "https://api.us-south.discovery.watson.cloud.ibm.com/instances/5049511a-b775-4704-865b-8a971a76c862/v1/environments/system/collections/news-en/query?version=2019-04-30&count=50&offset=4100&query=text:Hybrid%20cloud\n"
     ]
    },
    {
     "name": "stderr",
     "output_type": "stream",
     "text": [
      "/Users/katz/.local/lib/python3.7/site-packages/urllib3-1.24.3-py3.7.egg/urllib3/connectionpool.py:847: InsecureRequestWarning: Unverified HTTPS request is being made. Adding certificate verification is strongly advised. See: https://urllib3.readthedocs.io/en/latest/advanced-usage.html#ssl-warnings\n",
      "  InsecureRequestWarning)\n"
     ]
    },
    {
     "name": "stdout",
     "output_type": "stream",
     "text": [
      "4150\n",
      "https://api.us-south.discovery.watson.cloud.ibm.com/instances/5049511a-b775-4704-865b-8a971a76c862/v1/environments/system/collections/news-en/query?version=2019-04-30&count=50&offset=4150&query=text:Hybrid%20cloud\n"
     ]
    },
    {
     "name": "stderr",
     "output_type": "stream",
     "text": [
      "/Users/katz/.local/lib/python3.7/site-packages/urllib3-1.24.3-py3.7.egg/urllib3/connectionpool.py:847: InsecureRequestWarning: Unverified HTTPS request is being made. Adding certificate verification is strongly advised. See: https://urllib3.readthedocs.io/en/latest/advanced-usage.html#ssl-warnings\n",
      "  InsecureRequestWarning)\n"
     ]
    },
    {
     "name": "stdout",
     "output_type": "stream",
     "text": [
      "4200\n",
      "https://api.us-south.discovery.watson.cloud.ibm.com/instances/5049511a-b775-4704-865b-8a971a76c862/v1/environments/system/collections/news-en/query?version=2019-04-30&count=50&offset=4200&query=text:Hybrid%20cloud\n"
     ]
    },
    {
     "name": "stderr",
     "output_type": "stream",
     "text": [
      "/Users/katz/.local/lib/python3.7/site-packages/urllib3-1.24.3-py3.7.egg/urllib3/connectionpool.py:847: InsecureRequestWarning: Unverified HTTPS request is being made. Adding certificate verification is strongly advised. See: https://urllib3.readthedocs.io/en/latest/advanced-usage.html#ssl-warnings\n",
      "  InsecureRequestWarning)\n"
     ]
    },
    {
     "name": "stdout",
     "output_type": "stream",
     "text": [
      "4250\n",
      "https://api.us-south.discovery.watson.cloud.ibm.com/instances/5049511a-b775-4704-865b-8a971a76c862/v1/environments/system/collections/news-en/query?version=2019-04-30&count=50&offset=4250&query=text:Hybrid%20cloud\n"
     ]
    },
    {
     "name": "stderr",
     "output_type": "stream",
     "text": [
      "/Users/katz/.local/lib/python3.7/site-packages/urllib3-1.24.3-py3.7.egg/urllib3/connectionpool.py:847: InsecureRequestWarning: Unverified HTTPS request is being made. Adding certificate verification is strongly advised. See: https://urllib3.readthedocs.io/en/latest/advanced-usage.html#ssl-warnings\n",
      "  InsecureRequestWarning)\n"
     ]
    },
    {
     "name": "stdout",
     "output_type": "stream",
     "text": [
      "4300\n",
      "https://api.us-south.discovery.watson.cloud.ibm.com/instances/5049511a-b775-4704-865b-8a971a76c862/v1/environments/system/collections/news-en/query?version=2019-04-30&count=50&offset=4300&query=text:Hybrid%20cloud\n"
     ]
    },
    {
     "name": "stderr",
     "output_type": "stream",
     "text": [
      "/Users/katz/.local/lib/python3.7/site-packages/urllib3-1.24.3-py3.7.egg/urllib3/connectionpool.py:847: InsecureRequestWarning: Unverified HTTPS request is being made. Adding certificate verification is strongly advised. See: https://urllib3.readthedocs.io/en/latest/advanced-usage.html#ssl-warnings\n",
      "  InsecureRequestWarning)\n"
     ]
    },
    {
     "name": "stdout",
     "output_type": "stream",
     "text": [
      "4350\n",
      "https://api.us-south.discovery.watson.cloud.ibm.com/instances/5049511a-b775-4704-865b-8a971a76c862/v1/environments/system/collections/news-en/query?version=2019-04-30&count=50&offset=4350&query=text:Hybrid%20cloud\n"
     ]
    },
    {
     "name": "stderr",
     "output_type": "stream",
     "text": [
      "/Users/katz/.local/lib/python3.7/site-packages/urllib3-1.24.3-py3.7.egg/urllib3/connectionpool.py:847: InsecureRequestWarning: Unverified HTTPS request is being made. Adding certificate verification is strongly advised. See: https://urllib3.readthedocs.io/en/latest/advanced-usage.html#ssl-warnings\n",
      "  InsecureRequestWarning)\n"
     ]
    },
    {
     "name": "stdout",
     "output_type": "stream",
     "text": [
      "4400\n",
      "https://api.us-south.discovery.watson.cloud.ibm.com/instances/5049511a-b775-4704-865b-8a971a76c862/v1/environments/system/collections/news-en/query?version=2019-04-30&count=50&offset=4400&query=text:Hybrid%20cloud\n"
     ]
    },
    {
     "name": "stderr",
     "output_type": "stream",
     "text": [
      "/Users/katz/.local/lib/python3.7/site-packages/urllib3-1.24.3-py3.7.egg/urllib3/connectionpool.py:847: InsecureRequestWarning: Unverified HTTPS request is being made. Adding certificate verification is strongly advised. See: https://urllib3.readthedocs.io/en/latest/advanced-usage.html#ssl-warnings\n",
      "  InsecureRequestWarning)\n"
     ]
    },
    {
     "name": "stdout",
     "output_type": "stream",
     "text": [
      "4450\n",
      "https://api.us-south.discovery.watson.cloud.ibm.com/instances/5049511a-b775-4704-865b-8a971a76c862/v1/environments/system/collections/news-en/query?version=2019-04-30&count=50&offset=4450&query=text:Hybrid%20cloud\n"
     ]
    },
    {
     "name": "stderr",
     "output_type": "stream",
     "text": [
      "/Users/katz/.local/lib/python3.7/site-packages/urllib3-1.24.3-py3.7.egg/urllib3/connectionpool.py:847: InsecureRequestWarning: Unverified HTTPS request is being made. Adding certificate verification is strongly advised. See: https://urllib3.readthedocs.io/en/latest/advanced-usage.html#ssl-warnings\n",
      "  InsecureRequestWarning)\n"
     ]
    },
    {
     "name": "stdout",
     "output_type": "stream",
     "text": [
      "4500\n",
      "https://api.us-south.discovery.watson.cloud.ibm.com/instances/5049511a-b775-4704-865b-8a971a76c862/v1/environments/system/collections/news-en/query?version=2019-04-30&count=50&offset=4500&query=text:Hybrid%20cloud\n"
     ]
    },
    {
     "name": "stderr",
     "output_type": "stream",
     "text": [
      "/Users/katz/.local/lib/python3.7/site-packages/urllib3-1.24.3-py3.7.egg/urllib3/connectionpool.py:847: InsecureRequestWarning: Unverified HTTPS request is being made. Adding certificate verification is strongly advised. See: https://urllib3.readthedocs.io/en/latest/advanced-usage.html#ssl-warnings\n",
      "  InsecureRequestWarning)\n"
     ]
    },
    {
     "name": "stdout",
     "output_type": "stream",
     "text": [
      "4550\n",
      "https://api.us-south.discovery.watson.cloud.ibm.com/instances/5049511a-b775-4704-865b-8a971a76c862/v1/environments/system/collections/news-en/query?version=2019-04-30&count=50&offset=4550&query=text:Hybrid%20cloud\n"
     ]
    },
    {
     "name": "stderr",
     "output_type": "stream",
     "text": [
      "/Users/katz/.local/lib/python3.7/site-packages/urllib3-1.24.3-py3.7.egg/urllib3/connectionpool.py:847: InsecureRequestWarning: Unverified HTTPS request is being made. Adding certificate verification is strongly advised. See: https://urllib3.readthedocs.io/en/latest/advanced-usage.html#ssl-warnings\n",
      "  InsecureRequestWarning)\n"
     ]
    },
    {
     "name": "stdout",
     "output_type": "stream",
     "text": [
      "4600\n",
      "https://api.us-south.discovery.watson.cloud.ibm.com/instances/5049511a-b775-4704-865b-8a971a76c862/v1/environments/system/collections/news-en/query?version=2019-04-30&count=50&offset=4600&query=text:Hybrid%20cloud\n"
     ]
    },
    {
     "name": "stderr",
     "output_type": "stream",
     "text": [
      "/Users/katz/.local/lib/python3.7/site-packages/urllib3-1.24.3-py3.7.egg/urllib3/connectionpool.py:847: InsecureRequestWarning: Unverified HTTPS request is being made. Adding certificate verification is strongly advised. See: https://urllib3.readthedocs.io/en/latest/advanced-usage.html#ssl-warnings\n",
      "  InsecureRequestWarning)\n"
     ]
    },
    {
     "name": "stdout",
     "output_type": "stream",
     "text": [
      "4650\n",
      "https://api.us-south.discovery.watson.cloud.ibm.com/instances/5049511a-b775-4704-865b-8a971a76c862/v1/environments/system/collections/news-en/query?version=2019-04-30&count=50&offset=4650&query=text:Hybrid%20cloud\n"
     ]
    },
    {
     "name": "stderr",
     "output_type": "stream",
     "text": [
      "/Users/katz/.local/lib/python3.7/site-packages/urllib3-1.24.3-py3.7.egg/urllib3/connectionpool.py:847: InsecureRequestWarning: Unverified HTTPS request is being made. Adding certificate verification is strongly advised. See: https://urllib3.readthedocs.io/en/latest/advanced-usage.html#ssl-warnings\n",
      "  InsecureRequestWarning)\n"
     ]
    },
    {
     "name": "stdout",
     "output_type": "stream",
     "text": [
      "4700\n",
      "https://api.us-south.discovery.watson.cloud.ibm.com/instances/5049511a-b775-4704-865b-8a971a76c862/v1/environments/system/collections/news-en/query?version=2019-04-30&count=50&offset=4700&query=text:Hybrid%20cloud\n"
     ]
    },
    {
     "name": "stderr",
     "output_type": "stream",
     "text": [
      "/Users/katz/.local/lib/python3.7/site-packages/urllib3-1.24.3-py3.7.egg/urllib3/connectionpool.py:847: InsecureRequestWarning: Unverified HTTPS request is being made. Adding certificate verification is strongly advised. See: https://urllib3.readthedocs.io/en/latest/advanced-usage.html#ssl-warnings\n",
      "  InsecureRequestWarning)\n"
     ]
    },
    {
     "name": "stdout",
     "output_type": "stream",
     "text": [
      "4750\n",
      "https://api.us-south.discovery.watson.cloud.ibm.com/instances/5049511a-b775-4704-865b-8a971a76c862/v1/environments/system/collections/news-en/query?version=2019-04-30&count=50&offset=4750&query=text:Hybrid%20cloud\n"
     ]
    },
    {
     "name": "stderr",
     "output_type": "stream",
     "text": [
      "/Users/katz/.local/lib/python3.7/site-packages/urllib3-1.24.3-py3.7.egg/urllib3/connectionpool.py:847: InsecureRequestWarning: Unverified HTTPS request is being made. Adding certificate verification is strongly advised. See: https://urllib3.readthedocs.io/en/latest/advanced-usage.html#ssl-warnings\n",
      "  InsecureRequestWarning)\n"
     ]
    },
    {
     "name": "stdout",
     "output_type": "stream",
     "text": [
      "4800\n",
      "https://api.us-south.discovery.watson.cloud.ibm.com/instances/5049511a-b775-4704-865b-8a971a76c862/v1/environments/system/collections/news-en/query?version=2019-04-30&count=50&offset=4800&query=text:Hybrid%20cloud\n"
     ]
    },
    {
     "name": "stderr",
     "output_type": "stream",
     "text": [
      "/Users/katz/.local/lib/python3.7/site-packages/urllib3-1.24.3-py3.7.egg/urllib3/connectionpool.py:847: InsecureRequestWarning: Unverified HTTPS request is being made. Adding certificate verification is strongly advised. See: https://urllib3.readthedocs.io/en/latest/advanced-usage.html#ssl-warnings\n",
      "  InsecureRequestWarning)\n"
     ]
    },
    {
     "name": "stdout",
     "output_type": "stream",
     "text": [
      "4850\n",
      "https://api.us-south.discovery.watson.cloud.ibm.com/instances/5049511a-b775-4704-865b-8a971a76c862/v1/environments/system/collections/news-en/query?version=2019-04-30&count=50&offset=4850&query=text:Hybrid%20cloud\n"
     ]
    },
    {
     "name": "stderr",
     "output_type": "stream",
     "text": [
      "/Users/katz/.local/lib/python3.7/site-packages/urllib3-1.24.3-py3.7.egg/urllib3/connectionpool.py:847: InsecureRequestWarning: Unverified HTTPS request is being made. Adding certificate verification is strongly advised. See: https://urllib3.readthedocs.io/en/latest/advanced-usage.html#ssl-warnings\n",
      "  InsecureRequestWarning)\n"
     ]
    },
    {
     "name": "stdout",
     "output_type": "stream",
     "text": [
      "4900\n",
      "https://api.us-south.discovery.watson.cloud.ibm.com/instances/5049511a-b775-4704-865b-8a971a76c862/v1/environments/system/collections/news-en/query?version=2019-04-30&count=50&offset=4900&query=text:Hybrid%20cloud\n"
     ]
    },
    {
     "name": "stderr",
     "output_type": "stream",
     "text": [
      "/Users/katz/.local/lib/python3.7/site-packages/urllib3-1.24.3-py3.7.egg/urllib3/connectionpool.py:847: InsecureRequestWarning: Unverified HTTPS request is being made. Adding certificate verification is strongly advised. See: https://urllib3.readthedocs.io/en/latest/advanced-usage.html#ssl-warnings\n",
      "  InsecureRequestWarning)\n"
     ]
    },
    {
     "name": "stdout",
     "output_type": "stream",
     "text": [
      "4950\n",
      "https://api.us-south.discovery.watson.cloud.ibm.com/instances/5049511a-b775-4704-865b-8a971a76c862/v1/environments/system/collections/news-en/query?version=2019-04-30&count=50&offset=4950&query=text:Hybrid%20cloud\n"
     ]
    },
    {
     "name": "stderr",
     "output_type": "stream",
     "text": [
      "/Users/katz/.local/lib/python3.7/site-packages/urllib3-1.24.3-py3.7.egg/urllib3/connectionpool.py:847: InsecureRequestWarning: Unverified HTTPS request is being made. Adding certificate verification is strongly advised. See: https://urllib3.readthedocs.io/en/latest/advanced-usage.html#ssl-warnings\n",
      "  InsecureRequestWarning)\n"
     ]
    },
    {
     "name": "stdout",
     "output_type": "stream",
     "text": [
      "5000\n",
      "https://api.us-south.discovery.watson.cloud.ibm.com/instances/5049511a-b775-4704-865b-8a971a76c862/v1/environments/system/collections/news-en/query?version=2019-04-30&count=50&offset=5000&query=text:Hybrid%20cloud\n"
     ]
    },
    {
     "name": "stderr",
     "output_type": "stream",
     "text": [
      "/Users/katz/.local/lib/python3.7/site-packages/urllib3-1.24.3-py3.7.egg/urllib3/connectionpool.py:847: InsecureRequestWarning: Unverified HTTPS request is being made. Adding certificate verification is strongly advised. See: https://urllib3.readthedocs.io/en/latest/advanced-usage.html#ssl-warnings\n",
      "  InsecureRequestWarning)\n"
     ]
    },
    {
     "name": "stdout",
     "output_type": "stream",
     "text": [
      "5050\n",
      "https://api.us-south.discovery.watson.cloud.ibm.com/instances/5049511a-b775-4704-865b-8a971a76c862/v1/environments/system/collections/news-en/query?version=2019-04-30&count=50&offset=5050&query=text:Hybrid%20cloud\n"
     ]
    },
    {
     "name": "stderr",
     "output_type": "stream",
     "text": [
      "/Users/katz/.local/lib/python3.7/site-packages/urllib3-1.24.3-py3.7.egg/urllib3/connectionpool.py:847: InsecureRequestWarning: Unverified HTTPS request is being made. Adding certificate verification is strongly advised. See: https://urllib3.readthedocs.io/en/latest/advanced-usage.html#ssl-warnings\n",
      "  InsecureRequestWarning)\n"
     ]
    },
    {
     "name": "stdout",
     "output_type": "stream",
     "text": [
      "5100\n",
      "https://api.us-south.discovery.watson.cloud.ibm.com/instances/5049511a-b775-4704-865b-8a971a76c862/v1/environments/system/collections/news-en/query?version=2019-04-30&count=50&offset=5100&query=text:Hybrid%20cloud\n"
     ]
    },
    {
     "name": "stderr",
     "output_type": "stream",
     "text": [
      "/Users/katz/.local/lib/python3.7/site-packages/urllib3-1.24.3-py3.7.egg/urllib3/connectionpool.py:847: InsecureRequestWarning: Unverified HTTPS request is being made. Adding certificate verification is strongly advised. See: https://urllib3.readthedocs.io/en/latest/advanced-usage.html#ssl-warnings\n",
      "  InsecureRequestWarning)\n"
     ]
    },
    {
     "name": "stdout",
     "output_type": "stream",
     "text": [
      "5150\n",
      "https://api.us-south.discovery.watson.cloud.ibm.com/instances/5049511a-b775-4704-865b-8a971a76c862/v1/environments/system/collections/news-en/query?version=2019-04-30&count=50&offset=5150&query=text:Hybrid%20cloud\n"
     ]
    },
    {
     "name": "stderr",
     "output_type": "stream",
     "text": [
      "/Users/katz/.local/lib/python3.7/site-packages/urllib3-1.24.3-py3.7.egg/urllib3/connectionpool.py:847: InsecureRequestWarning: Unverified HTTPS request is being made. Adding certificate verification is strongly advised. See: https://urllib3.readthedocs.io/en/latest/advanced-usage.html#ssl-warnings\n",
      "  InsecureRequestWarning)\n"
     ]
    },
    {
     "name": "stdout",
     "output_type": "stream",
     "text": [
      "5200\n",
      "https://api.us-south.discovery.watson.cloud.ibm.com/instances/5049511a-b775-4704-865b-8a971a76c862/v1/environments/system/collections/news-en/query?version=2019-04-30&count=50&offset=5200&query=text:Hybrid%20cloud\n"
     ]
    },
    {
     "name": "stderr",
     "output_type": "stream",
     "text": [
      "/Users/katz/.local/lib/python3.7/site-packages/urllib3-1.24.3-py3.7.egg/urllib3/connectionpool.py:847: InsecureRequestWarning: Unverified HTTPS request is being made. Adding certificate verification is strongly advised. See: https://urllib3.readthedocs.io/en/latest/advanced-usage.html#ssl-warnings\n",
      "  InsecureRequestWarning)\n"
     ]
    },
    {
     "name": "stdout",
     "output_type": "stream",
     "text": [
      "5250\n",
      "https://api.us-south.discovery.watson.cloud.ibm.com/instances/5049511a-b775-4704-865b-8a971a76c862/v1/environments/system/collections/news-en/query?version=2019-04-30&count=50&offset=5250&query=text:Hybrid%20cloud\n"
     ]
    },
    {
     "name": "stderr",
     "output_type": "stream",
     "text": [
      "/Users/katz/.local/lib/python3.7/site-packages/urllib3-1.24.3-py3.7.egg/urllib3/connectionpool.py:847: InsecureRequestWarning: Unverified HTTPS request is being made. Adding certificate verification is strongly advised. See: https://urllib3.readthedocs.io/en/latest/advanced-usage.html#ssl-warnings\n",
      "  InsecureRequestWarning)\n"
     ]
    },
    {
     "name": "stdout",
     "output_type": "stream",
     "text": [
      "5300\n",
      "https://api.us-south.discovery.watson.cloud.ibm.com/instances/5049511a-b775-4704-865b-8a971a76c862/v1/environments/system/collections/news-en/query?version=2019-04-30&count=50&offset=5300&query=text:Hybrid%20cloud\n"
     ]
    },
    {
     "name": "stderr",
     "output_type": "stream",
     "text": [
      "/Users/katz/.local/lib/python3.7/site-packages/urllib3-1.24.3-py3.7.egg/urllib3/connectionpool.py:847: InsecureRequestWarning: Unverified HTTPS request is being made. Adding certificate verification is strongly advised. See: https://urllib3.readthedocs.io/en/latest/advanced-usage.html#ssl-warnings\n",
      "  InsecureRequestWarning)\n"
     ]
    },
    {
     "name": "stdout",
     "output_type": "stream",
     "text": [
      "5350\n",
      "https://api.us-south.discovery.watson.cloud.ibm.com/instances/5049511a-b775-4704-865b-8a971a76c862/v1/environments/system/collections/news-en/query?version=2019-04-30&count=50&offset=5350&query=text:Hybrid%20cloud\n"
     ]
    },
    {
     "name": "stderr",
     "output_type": "stream",
     "text": [
      "/Users/katz/.local/lib/python3.7/site-packages/urllib3-1.24.3-py3.7.egg/urllib3/connectionpool.py:847: InsecureRequestWarning: Unverified HTTPS request is being made. Adding certificate verification is strongly advised. See: https://urllib3.readthedocs.io/en/latest/advanced-usage.html#ssl-warnings\n",
      "  InsecureRequestWarning)\n"
     ]
    },
    {
     "name": "stdout",
     "output_type": "stream",
     "text": [
      "5400\n",
      "https://api.us-south.discovery.watson.cloud.ibm.com/instances/5049511a-b775-4704-865b-8a971a76c862/v1/environments/system/collections/news-en/query?version=2019-04-30&count=50&offset=5400&query=text:Hybrid%20cloud\n"
     ]
    },
    {
     "name": "stderr",
     "output_type": "stream",
     "text": [
      "/Users/katz/.local/lib/python3.7/site-packages/urllib3-1.24.3-py3.7.egg/urllib3/connectionpool.py:847: InsecureRequestWarning: Unverified HTTPS request is being made. Adding certificate verification is strongly advised. See: https://urllib3.readthedocs.io/en/latest/advanced-usage.html#ssl-warnings\n",
      "  InsecureRequestWarning)\n"
     ]
    },
    {
     "name": "stdout",
     "output_type": "stream",
     "text": [
      "5450\n",
      "https://api.us-south.discovery.watson.cloud.ibm.com/instances/5049511a-b775-4704-865b-8a971a76c862/v1/environments/system/collections/news-en/query?version=2019-04-30&count=50&offset=5450&query=text:Hybrid%20cloud\n"
     ]
    },
    {
     "name": "stderr",
     "output_type": "stream",
     "text": [
      "/Users/katz/.local/lib/python3.7/site-packages/urllib3-1.24.3-py3.7.egg/urllib3/connectionpool.py:847: InsecureRequestWarning: Unverified HTTPS request is being made. Adding certificate verification is strongly advised. See: https://urllib3.readthedocs.io/en/latest/advanced-usage.html#ssl-warnings\n",
      "  InsecureRequestWarning)\n"
     ]
    },
    {
     "name": "stdout",
     "output_type": "stream",
     "text": [
      "5500\n",
      "https://api.us-south.discovery.watson.cloud.ibm.com/instances/5049511a-b775-4704-865b-8a971a76c862/v1/environments/system/collections/news-en/query?version=2019-04-30&count=50&offset=5500&query=text:Hybrid%20cloud\n"
     ]
    },
    {
     "name": "stderr",
     "output_type": "stream",
     "text": [
      "/Users/katz/.local/lib/python3.7/site-packages/urllib3-1.24.3-py3.7.egg/urllib3/connectionpool.py:847: InsecureRequestWarning: Unverified HTTPS request is being made. Adding certificate verification is strongly advised. See: https://urllib3.readthedocs.io/en/latest/advanced-usage.html#ssl-warnings\n",
      "  InsecureRequestWarning)\n"
     ]
    },
    {
     "name": "stdout",
     "output_type": "stream",
     "text": [
      "5550\n",
      "https://api.us-south.discovery.watson.cloud.ibm.com/instances/5049511a-b775-4704-865b-8a971a76c862/v1/environments/system/collections/news-en/query?version=2019-04-30&count=50&offset=5550&query=text:Hybrid%20cloud\n"
     ]
    },
    {
     "name": "stderr",
     "output_type": "stream",
     "text": [
      "/Users/katz/.local/lib/python3.7/site-packages/urllib3-1.24.3-py3.7.egg/urllib3/connectionpool.py:847: InsecureRequestWarning: Unverified HTTPS request is being made. Adding certificate verification is strongly advised. See: https://urllib3.readthedocs.io/en/latest/advanced-usage.html#ssl-warnings\n",
      "  InsecureRequestWarning)\n"
     ]
    },
    {
     "name": "stdout",
     "output_type": "stream",
     "text": [
      "5600\n",
      "https://api.us-south.discovery.watson.cloud.ibm.com/instances/5049511a-b775-4704-865b-8a971a76c862/v1/environments/system/collections/news-en/query?version=2019-04-30&count=50&offset=5600&query=text:Hybrid%20cloud\n"
     ]
    },
    {
     "name": "stderr",
     "output_type": "stream",
     "text": [
      "/Users/katz/.local/lib/python3.7/site-packages/urllib3-1.24.3-py3.7.egg/urllib3/connectionpool.py:847: InsecureRequestWarning: Unverified HTTPS request is being made. Adding certificate verification is strongly advised. See: https://urllib3.readthedocs.io/en/latest/advanced-usage.html#ssl-warnings\n",
      "  InsecureRequestWarning)\n"
     ]
    },
    {
     "name": "stdout",
     "output_type": "stream",
     "text": [
      "5650\n",
      "https://api.us-south.discovery.watson.cloud.ibm.com/instances/5049511a-b775-4704-865b-8a971a76c862/v1/environments/system/collections/news-en/query?version=2019-04-30&count=50&offset=5650&query=text:Hybrid%20cloud\n"
     ]
    },
    {
     "name": "stderr",
     "output_type": "stream",
     "text": [
      "/Users/katz/.local/lib/python3.7/site-packages/urllib3-1.24.3-py3.7.egg/urllib3/connectionpool.py:847: InsecureRequestWarning: Unverified HTTPS request is being made. Adding certificate verification is strongly advised. See: https://urllib3.readthedocs.io/en/latest/advanced-usage.html#ssl-warnings\n",
      "  InsecureRequestWarning)\n"
     ]
    },
    {
     "name": "stdout",
     "output_type": "stream",
     "text": [
      "5700\n",
      "https://api.us-south.discovery.watson.cloud.ibm.com/instances/5049511a-b775-4704-865b-8a971a76c862/v1/environments/system/collections/news-en/query?version=2019-04-30&count=50&offset=5700&query=text:Hybrid%20cloud\n"
     ]
    },
    {
     "name": "stderr",
     "output_type": "stream",
     "text": [
      "/Users/katz/.local/lib/python3.7/site-packages/urllib3-1.24.3-py3.7.egg/urllib3/connectionpool.py:847: InsecureRequestWarning: Unverified HTTPS request is being made. Adding certificate verification is strongly advised. See: https://urllib3.readthedocs.io/en/latest/advanced-usage.html#ssl-warnings\n",
      "  InsecureRequestWarning)\n"
     ]
    },
    {
     "name": "stdout",
     "output_type": "stream",
     "text": [
      "5750\n",
      "https://api.us-south.discovery.watson.cloud.ibm.com/instances/5049511a-b775-4704-865b-8a971a76c862/v1/environments/system/collections/news-en/query?version=2019-04-30&count=50&offset=5750&query=text:Hybrid%20cloud\n"
     ]
    },
    {
     "name": "stderr",
     "output_type": "stream",
     "text": [
      "/Users/katz/.local/lib/python3.7/site-packages/urllib3-1.24.3-py3.7.egg/urllib3/connectionpool.py:847: InsecureRequestWarning: Unverified HTTPS request is being made. Adding certificate verification is strongly advised. See: https://urllib3.readthedocs.io/en/latest/advanced-usage.html#ssl-warnings\n",
      "  InsecureRequestWarning)\n"
     ]
    },
    {
     "name": "stdout",
     "output_type": "stream",
     "text": [
      "5800\n",
      "https://api.us-south.discovery.watson.cloud.ibm.com/instances/5049511a-b775-4704-865b-8a971a76c862/v1/environments/system/collections/news-en/query?version=2019-04-30&count=50&offset=5800&query=text:Hybrid%20cloud\n"
     ]
    },
    {
     "name": "stderr",
     "output_type": "stream",
     "text": [
      "/Users/katz/.local/lib/python3.7/site-packages/urllib3-1.24.3-py3.7.egg/urllib3/connectionpool.py:847: InsecureRequestWarning: Unverified HTTPS request is being made. Adding certificate verification is strongly advised. See: https://urllib3.readthedocs.io/en/latest/advanced-usage.html#ssl-warnings\n",
      "  InsecureRequestWarning)\n"
     ]
    },
    {
     "name": "stdout",
     "output_type": "stream",
     "text": [
      "5850\n",
      "https://api.us-south.discovery.watson.cloud.ibm.com/instances/5049511a-b775-4704-865b-8a971a76c862/v1/environments/system/collections/news-en/query?version=2019-04-30&count=50&offset=5850&query=text:Hybrid%20cloud\n"
     ]
    },
    {
     "name": "stderr",
     "output_type": "stream",
     "text": [
      "/Users/katz/.local/lib/python3.7/site-packages/urllib3-1.24.3-py3.7.egg/urllib3/connectionpool.py:847: InsecureRequestWarning: Unverified HTTPS request is being made. Adding certificate verification is strongly advised. See: https://urllib3.readthedocs.io/en/latest/advanced-usage.html#ssl-warnings\n",
      "  InsecureRequestWarning)\n"
     ]
    },
    {
     "name": "stdout",
     "output_type": "stream",
     "text": [
      "5900\n",
      "https://api.us-south.discovery.watson.cloud.ibm.com/instances/5049511a-b775-4704-865b-8a971a76c862/v1/environments/system/collections/news-en/query?version=2019-04-30&count=50&offset=5900&query=text:Hybrid%20cloud\n"
     ]
    },
    {
     "name": "stderr",
     "output_type": "stream",
     "text": [
      "/Users/katz/.local/lib/python3.7/site-packages/urllib3-1.24.3-py3.7.egg/urllib3/connectionpool.py:847: InsecureRequestWarning: Unverified HTTPS request is being made. Adding certificate verification is strongly advised. See: https://urllib3.readthedocs.io/en/latest/advanced-usage.html#ssl-warnings\n",
      "  InsecureRequestWarning)\n"
     ]
    },
    {
     "name": "stdout",
     "output_type": "stream",
     "text": [
      "5950\n",
      "https://api.us-south.discovery.watson.cloud.ibm.com/instances/5049511a-b775-4704-865b-8a971a76c862/v1/environments/system/collections/news-en/query?version=2019-04-30&count=50&offset=5950&query=text:Hybrid%20cloud\n"
     ]
    },
    {
     "name": "stderr",
     "output_type": "stream",
     "text": [
      "/Users/katz/.local/lib/python3.7/site-packages/urllib3-1.24.3-py3.7.egg/urllib3/connectionpool.py:847: InsecureRequestWarning: Unverified HTTPS request is being made. Adding certificate verification is strongly advised. See: https://urllib3.readthedocs.io/en/latest/advanced-usage.html#ssl-warnings\n",
      "  InsecureRequestWarning)\n"
     ]
    },
    {
     "name": "stdout",
     "output_type": "stream",
     "text": [
      "6000\n",
      "https://api.us-south.discovery.watson.cloud.ibm.com/instances/5049511a-b775-4704-865b-8a971a76c862/v1/environments/system/collections/news-en/query?version=2019-04-30&count=50&offset=6000&query=text:Hybrid%20cloud\n"
     ]
    },
    {
     "name": "stderr",
     "output_type": "stream",
     "text": [
      "/Users/katz/.local/lib/python3.7/site-packages/urllib3-1.24.3-py3.7.egg/urllib3/connectionpool.py:847: InsecureRequestWarning: Unverified HTTPS request is being made. Adding certificate verification is strongly advised. See: https://urllib3.readthedocs.io/en/latest/advanced-usage.html#ssl-warnings\n",
      "  InsecureRequestWarning)\n"
     ]
    },
    {
     "name": "stdout",
     "output_type": "stream",
     "text": [
      "6050\n",
      "https://api.us-south.discovery.watson.cloud.ibm.com/instances/5049511a-b775-4704-865b-8a971a76c862/v1/environments/system/collections/news-en/query?version=2019-04-30&count=50&offset=6050&query=text:Hybrid%20cloud\n"
     ]
    },
    {
     "name": "stderr",
     "output_type": "stream",
     "text": [
      "/Users/katz/.local/lib/python3.7/site-packages/urllib3-1.24.3-py3.7.egg/urllib3/connectionpool.py:847: InsecureRequestWarning: Unverified HTTPS request is being made. Adding certificate verification is strongly advised. See: https://urllib3.readthedocs.io/en/latest/advanced-usage.html#ssl-warnings\n",
      "  InsecureRequestWarning)\n"
     ]
    },
    {
     "name": "stdout",
     "output_type": "stream",
     "text": [
      "6100\n",
      "https://api.us-south.discovery.watson.cloud.ibm.com/instances/5049511a-b775-4704-865b-8a971a76c862/v1/environments/system/collections/news-en/query?version=2019-04-30&count=50&offset=6100&query=text:Hybrid%20cloud\n"
     ]
    },
    {
     "name": "stderr",
     "output_type": "stream",
     "text": [
      "/Users/katz/.local/lib/python3.7/site-packages/urllib3-1.24.3-py3.7.egg/urllib3/connectionpool.py:847: InsecureRequestWarning: Unverified HTTPS request is being made. Adding certificate verification is strongly advised. See: https://urllib3.readthedocs.io/en/latest/advanced-usage.html#ssl-warnings\n",
      "  InsecureRequestWarning)\n"
     ]
    },
    {
     "name": "stdout",
     "output_type": "stream",
     "text": [
      "6150\n",
      "https://api.us-south.discovery.watson.cloud.ibm.com/instances/5049511a-b775-4704-865b-8a971a76c862/v1/environments/system/collections/news-en/query?version=2019-04-30&count=50&offset=6150&query=text:Hybrid%20cloud\n"
     ]
    },
    {
     "name": "stderr",
     "output_type": "stream",
     "text": [
      "/Users/katz/.local/lib/python3.7/site-packages/urllib3-1.24.3-py3.7.egg/urllib3/connectionpool.py:847: InsecureRequestWarning: Unverified HTTPS request is being made. Adding certificate verification is strongly advised. See: https://urllib3.readthedocs.io/en/latest/advanced-usage.html#ssl-warnings\n",
      "  InsecureRequestWarning)\n"
     ]
    },
    {
     "name": "stdout",
     "output_type": "stream",
     "text": [
      "6200\n",
      "https://api.us-south.discovery.watson.cloud.ibm.com/instances/5049511a-b775-4704-865b-8a971a76c862/v1/environments/system/collections/news-en/query?version=2019-04-30&count=50&offset=6200&query=text:Hybrid%20cloud\n"
     ]
    },
    {
     "name": "stderr",
     "output_type": "stream",
     "text": [
      "/Users/katz/.local/lib/python3.7/site-packages/urllib3-1.24.3-py3.7.egg/urllib3/connectionpool.py:847: InsecureRequestWarning: Unverified HTTPS request is being made. Adding certificate verification is strongly advised. See: https://urllib3.readthedocs.io/en/latest/advanced-usage.html#ssl-warnings\n",
      "  InsecureRequestWarning)\n"
     ]
    },
    {
     "name": "stdout",
     "output_type": "stream",
     "text": [
      "6250\n",
      "https://api.us-south.discovery.watson.cloud.ibm.com/instances/5049511a-b775-4704-865b-8a971a76c862/v1/environments/system/collections/news-en/query?version=2019-04-30&count=50&offset=6250&query=text:Hybrid%20cloud\n"
     ]
    },
    {
     "name": "stderr",
     "output_type": "stream",
     "text": [
      "/Users/katz/.local/lib/python3.7/site-packages/urllib3-1.24.3-py3.7.egg/urllib3/connectionpool.py:847: InsecureRequestWarning: Unverified HTTPS request is being made. Adding certificate verification is strongly advised. See: https://urllib3.readthedocs.io/en/latest/advanced-usage.html#ssl-warnings\n",
      "  InsecureRequestWarning)\n"
     ]
    },
    {
     "name": "stdout",
     "output_type": "stream",
     "text": [
      "6300\n",
      "https://api.us-south.discovery.watson.cloud.ibm.com/instances/5049511a-b775-4704-865b-8a971a76c862/v1/environments/system/collections/news-en/query?version=2019-04-30&count=50&offset=6300&query=text:Hybrid%20cloud\n"
     ]
    },
    {
     "name": "stderr",
     "output_type": "stream",
     "text": [
      "/Users/katz/.local/lib/python3.7/site-packages/urllib3-1.24.3-py3.7.egg/urllib3/connectionpool.py:847: InsecureRequestWarning: Unverified HTTPS request is being made. Adding certificate verification is strongly advised. See: https://urllib3.readthedocs.io/en/latest/advanced-usage.html#ssl-warnings\n",
      "  InsecureRequestWarning)\n"
     ]
    },
    {
     "name": "stdout",
     "output_type": "stream",
     "text": [
      "6350\n",
      "https://api.us-south.discovery.watson.cloud.ibm.com/instances/5049511a-b775-4704-865b-8a971a76c862/v1/environments/system/collections/news-en/query?version=2019-04-30&count=50&offset=6350&query=text:Hybrid%20cloud\n"
     ]
    },
    {
     "name": "stderr",
     "output_type": "stream",
     "text": [
      "/Users/katz/.local/lib/python3.7/site-packages/urllib3-1.24.3-py3.7.egg/urllib3/connectionpool.py:847: InsecureRequestWarning: Unverified HTTPS request is being made. Adding certificate verification is strongly advised. See: https://urllib3.readthedocs.io/en/latest/advanced-usage.html#ssl-warnings\n",
      "  InsecureRequestWarning)\n"
     ]
    },
    {
     "name": "stdout",
     "output_type": "stream",
     "text": [
      "6400\n",
      "https://api.us-south.discovery.watson.cloud.ibm.com/instances/5049511a-b775-4704-865b-8a971a76c862/v1/environments/system/collections/news-en/query?version=2019-04-30&count=50&offset=6400&query=text:Hybrid%20cloud\n"
     ]
    },
    {
     "name": "stderr",
     "output_type": "stream",
     "text": [
      "/Users/katz/.local/lib/python3.7/site-packages/urllib3-1.24.3-py3.7.egg/urllib3/connectionpool.py:847: InsecureRequestWarning: Unverified HTTPS request is being made. Adding certificate verification is strongly advised. See: https://urllib3.readthedocs.io/en/latest/advanced-usage.html#ssl-warnings\n",
      "  InsecureRequestWarning)\n"
     ]
    },
    {
     "name": "stdout",
     "output_type": "stream",
     "text": [
      "6450\n",
      "https://api.us-south.discovery.watson.cloud.ibm.com/instances/5049511a-b775-4704-865b-8a971a76c862/v1/environments/system/collections/news-en/query?version=2019-04-30&count=50&offset=6450&query=text:Hybrid%20cloud\n"
     ]
    },
    {
     "name": "stderr",
     "output_type": "stream",
     "text": [
      "/Users/katz/.local/lib/python3.7/site-packages/urllib3-1.24.3-py3.7.egg/urllib3/connectionpool.py:847: InsecureRequestWarning: Unverified HTTPS request is being made. Adding certificate verification is strongly advised. See: https://urllib3.readthedocs.io/en/latest/advanced-usage.html#ssl-warnings\n",
      "  InsecureRequestWarning)\n"
     ]
    },
    {
     "name": "stdout",
     "output_type": "stream",
     "text": [
      "6500\n",
      "https://api.us-south.discovery.watson.cloud.ibm.com/instances/5049511a-b775-4704-865b-8a971a76c862/v1/environments/system/collections/news-en/query?version=2019-04-30&count=50&offset=6500&query=text:Hybrid%20cloud\n"
     ]
    },
    {
     "name": "stderr",
     "output_type": "stream",
     "text": [
      "/Users/katz/.local/lib/python3.7/site-packages/urllib3-1.24.3-py3.7.egg/urllib3/connectionpool.py:847: InsecureRequestWarning: Unverified HTTPS request is being made. Adding certificate verification is strongly advised. See: https://urllib3.readthedocs.io/en/latest/advanced-usage.html#ssl-warnings\n",
      "  InsecureRequestWarning)\n"
     ]
    },
    {
     "name": "stdout",
     "output_type": "stream",
     "text": [
      "6550\n",
      "https://api.us-south.discovery.watson.cloud.ibm.com/instances/5049511a-b775-4704-865b-8a971a76c862/v1/environments/system/collections/news-en/query?version=2019-04-30&count=50&offset=6550&query=text:Hybrid%20cloud\n"
     ]
    },
    {
     "name": "stderr",
     "output_type": "stream",
     "text": [
      "/Users/katz/.local/lib/python3.7/site-packages/urllib3-1.24.3-py3.7.egg/urllib3/connectionpool.py:847: InsecureRequestWarning: Unverified HTTPS request is being made. Adding certificate verification is strongly advised. See: https://urllib3.readthedocs.io/en/latest/advanced-usage.html#ssl-warnings\n",
      "  InsecureRequestWarning)\n"
     ]
    },
    {
     "name": "stdout",
     "output_type": "stream",
     "text": [
      "6600\n",
      "https://api.us-south.discovery.watson.cloud.ibm.com/instances/5049511a-b775-4704-865b-8a971a76c862/v1/environments/system/collections/news-en/query?version=2019-04-30&count=50&offset=6600&query=text:Hybrid%20cloud\n"
     ]
    },
    {
     "name": "stderr",
     "output_type": "stream",
     "text": [
      "/Users/katz/.local/lib/python3.7/site-packages/urllib3-1.24.3-py3.7.egg/urllib3/connectionpool.py:847: InsecureRequestWarning: Unverified HTTPS request is being made. Adding certificate verification is strongly advised. See: https://urllib3.readthedocs.io/en/latest/advanced-usage.html#ssl-warnings\n",
      "  InsecureRequestWarning)\n"
     ]
    },
    {
     "name": "stdout",
     "output_type": "stream",
     "text": [
      "6650\n",
      "https://api.us-south.discovery.watson.cloud.ibm.com/instances/5049511a-b775-4704-865b-8a971a76c862/v1/environments/system/collections/news-en/query?version=2019-04-30&count=50&offset=6650&query=text:Hybrid%20cloud\n"
     ]
    },
    {
     "name": "stderr",
     "output_type": "stream",
     "text": [
      "/Users/katz/.local/lib/python3.7/site-packages/urllib3-1.24.3-py3.7.egg/urllib3/connectionpool.py:847: InsecureRequestWarning: Unverified HTTPS request is being made. Adding certificate verification is strongly advised. See: https://urllib3.readthedocs.io/en/latest/advanced-usage.html#ssl-warnings\n",
      "  InsecureRequestWarning)\n"
     ]
    },
    {
     "name": "stdout",
     "output_type": "stream",
     "text": [
      "6700\n",
      "https://api.us-south.discovery.watson.cloud.ibm.com/instances/5049511a-b775-4704-865b-8a971a76c862/v1/environments/system/collections/news-en/query?version=2019-04-30&count=50&offset=6700&query=text:Hybrid%20cloud\n"
     ]
    },
    {
     "name": "stderr",
     "output_type": "stream",
     "text": [
      "/Users/katz/.local/lib/python3.7/site-packages/urllib3-1.24.3-py3.7.egg/urllib3/connectionpool.py:847: InsecureRequestWarning: Unverified HTTPS request is being made. Adding certificate verification is strongly advised. See: https://urllib3.readthedocs.io/en/latest/advanced-usage.html#ssl-warnings\n",
      "  InsecureRequestWarning)\n"
     ]
    },
    {
     "name": "stdout",
     "output_type": "stream",
     "text": [
      "6750\n",
      "https://api.us-south.discovery.watson.cloud.ibm.com/instances/5049511a-b775-4704-865b-8a971a76c862/v1/environments/system/collections/news-en/query?version=2019-04-30&count=50&offset=6750&query=text:Hybrid%20cloud\n"
     ]
    },
    {
     "name": "stderr",
     "output_type": "stream",
     "text": [
      "/Users/katz/.local/lib/python3.7/site-packages/urllib3-1.24.3-py3.7.egg/urllib3/connectionpool.py:847: InsecureRequestWarning: Unverified HTTPS request is being made. Adding certificate verification is strongly advised. See: https://urllib3.readthedocs.io/en/latest/advanced-usage.html#ssl-warnings\n",
      "  InsecureRequestWarning)\n"
     ]
    },
    {
     "name": "stdout",
     "output_type": "stream",
     "text": [
      "6800\n",
      "https://api.us-south.discovery.watson.cloud.ibm.com/instances/5049511a-b775-4704-865b-8a971a76c862/v1/environments/system/collections/news-en/query?version=2019-04-30&count=50&offset=6800&query=text:Hybrid%20cloud\n"
     ]
    },
    {
     "name": "stderr",
     "output_type": "stream",
     "text": [
      "/Users/katz/.local/lib/python3.7/site-packages/urllib3-1.24.3-py3.7.egg/urllib3/connectionpool.py:847: InsecureRequestWarning: Unverified HTTPS request is being made. Adding certificate verification is strongly advised. See: https://urllib3.readthedocs.io/en/latest/advanced-usage.html#ssl-warnings\n",
      "  InsecureRequestWarning)\n"
     ]
    },
    {
     "name": "stdout",
     "output_type": "stream",
     "text": [
      "6850\n",
      "https://api.us-south.discovery.watson.cloud.ibm.com/instances/5049511a-b775-4704-865b-8a971a76c862/v1/environments/system/collections/news-en/query?version=2019-04-30&count=50&offset=6850&query=text:Hybrid%20cloud\n"
     ]
    },
    {
     "name": "stderr",
     "output_type": "stream",
     "text": [
      "/Users/katz/.local/lib/python3.7/site-packages/urllib3-1.24.3-py3.7.egg/urllib3/connectionpool.py:847: InsecureRequestWarning: Unverified HTTPS request is being made. Adding certificate verification is strongly advised. See: https://urllib3.readthedocs.io/en/latest/advanced-usage.html#ssl-warnings\n",
      "  InsecureRequestWarning)\n"
     ]
    },
    {
     "name": "stdout",
     "output_type": "stream",
     "text": [
      "6900\n",
      "https://api.us-south.discovery.watson.cloud.ibm.com/instances/5049511a-b775-4704-865b-8a971a76c862/v1/environments/system/collections/news-en/query?version=2019-04-30&count=50&offset=6900&query=text:Hybrid%20cloud\n"
     ]
    },
    {
     "name": "stderr",
     "output_type": "stream",
     "text": [
      "/Users/katz/.local/lib/python3.7/site-packages/urllib3-1.24.3-py3.7.egg/urllib3/connectionpool.py:847: InsecureRequestWarning: Unverified HTTPS request is being made. Adding certificate verification is strongly advised. See: https://urllib3.readthedocs.io/en/latest/advanced-usage.html#ssl-warnings\n",
      "  InsecureRequestWarning)\n"
     ]
    },
    {
     "name": "stdout",
     "output_type": "stream",
     "text": [
      "6950\n",
      "https://api.us-south.discovery.watson.cloud.ibm.com/instances/5049511a-b775-4704-865b-8a971a76c862/v1/environments/system/collections/news-en/query?version=2019-04-30&count=50&offset=6950&query=text:Hybrid%20cloud\n"
     ]
    },
    {
     "name": "stderr",
     "output_type": "stream",
     "text": [
      "/Users/katz/.local/lib/python3.7/site-packages/urllib3-1.24.3-py3.7.egg/urllib3/connectionpool.py:847: InsecureRequestWarning: Unverified HTTPS request is being made. Adding certificate verification is strongly advised. See: https://urllib3.readthedocs.io/en/latest/advanced-usage.html#ssl-warnings\n",
      "  InsecureRequestWarning)\n"
     ]
    },
    {
     "name": "stdout",
     "output_type": "stream",
     "text": [
      "7000\n",
      "https://api.us-south.discovery.watson.cloud.ibm.com/instances/5049511a-b775-4704-865b-8a971a76c862/v1/environments/system/collections/news-en/query?version=2019-04-30&count=50&offset=7000&query=text:Hybrid%20cloud\n"
     ]
    },
    {
     "name": "stderr",
     "output_type": "stream",
     "text": [
      "/Users/katz/.local/lib/python3.7/site-packages/urllib3-1.24.3-py3.7.egg/urllib3/connectionpool.py:847: InsecureRequestWarning: Unverified HTTPS request is being made. Adding certificate verification is strongly advised. See: https://urllib3.readthedocs.io/en/latest/advanced-usage.html#ssl-warnings\n",
      "  InsecureRequestWarning)\n"
     ]
    },
    {
     "name": "stdout",
     "output_type": "stream",
     "text": [
      "7050\n",
      "https://api.us-south.discovery.watson.cloud.ibm.com/instances/5049511a-b775-4704-865b-8a971a76c862/v1/environments/system/collections/news-en/query?version=2019-04-30&count=50&offset=7050&query=text:Hybrid%20cloud\n"
     ]
    },
    {
     "name": "stderr",
     "output_type": "stream",
     "text": [
      "/Users/katz/.local/lib/python3.7/site-packages/urllib3-1.24.3-py3.7.egg/urllib3/connectionpool.py:847: InsecureRequestWarning: Unverified HTTPS request is being made. Adding certificate verification is strongly advised. See: https://urllib3.readthedocs.io/en/latest/advanced-usage.html#ssl-warnings\n",
      "  InsecureRequestWarning)\n"
     ]
    },
    {
     "name": "stdout",
     "output_type": "stream",
     "text": [
      "7100\n",
      "https://api.us-south.discovery.watson.cloud.ibm.com/instances/5049511a-b775-4704-865b-8a971a76c862/v1/environments/system/collections/news-en/query?version=2019-04-30&count=50&offset=7100&query=text:Hybrid%20cloud\n"
     ]
    },
    {
     "name": "stderr",
     "output_type": "stream",
     "text": [
      "/Users/katz/.local/lib/python3.7/site-packages/urllib3-1.24.3-py3.7.egg/urllib3/connectionpool.py:847: InsecureRequestWarning: Unverified HTTPS request is being made. Adding certificate verification is strongly advised. See: https://urllib3.readthedocs.io/en/latest/advanced-usage.html#ssl-warnings\n",
      "  InsecureRequestWarning)\n"
     ]
    },
    {
     "name": "stdout",
     "output_type": "stream",
     "text": [
      "7150\n",
      "https://api.us-south.discovery.watson.cloud.ibm.com/instances/5049511a-b775-4704-865b-8a971a76c862/v1/environments/system/collections/news-en/query?version=2019-04-30&count=50&offset=7150&query=text:Hybrid%20cloud\n"
     ]
    },
    {
     "name": "stderr",
     "output_type": "stream",
     "text": [
      "/Users/katz/.local/lib/python3.7/site-packages/urllib3-1.24.3-py3.7.egg/urllib3/connectionpool.py:847: InsecureRequestWarning: Unverified HTTPS request is being made. Adding certificate verification is strongly advised. See: https://urllib3.readthedocs.io/en/latest/advanced-usage.html#ssl-warnings\n",
      "  InsecureRequestWarning)\n"
     ]
    },
    {
     "name": "stdout",
     "output_type": "stream",
     "text": [
      "7200\n",
      "https://api.us-south.discovery.watson.cloud.ibm.com/instances/5049511a-b775-4704-865b-8a971a76c862/v1/environments/system/collections/news-en/query?version=2019-04-30&count=50&offset=7200&query=text:Hybrid%20cloud\n"
     ]
    },
    {
     "name": "stderr",
     "output_type": "stream",
     "text": [
      "/Users/katz/.local/lib/python3.7/site-packages/urllib3-1.24.3-py3.7.egg/urllib3/connectionpool.py:847: InsecureRequestWarning: Unverified HTTPS request is being made. Adding certificate verification is strongly advised. See: https://urllib3.readthedocs.io/en/latest/advanced-usage.html#ssl-warnings\n",
      "  InsecureRequestWarning)\n"
     ]
    },
    {
     "name": "stdout",
     "output_type": "stream",
     "text": [
      "7250\n",
      "https://api.us-south.discovery.watson.cloud.ibm.com/instances/5049511a-b775-4704-865b-8a971a76c862/v1/environments/system/collections/news-en/query?version=2019-04-30&count=50&offset=7250&query=text:Hybrid%20cloud\n"
     ]
    },
    {
     "name": "stderr",
     "output_type": "stream",
     "text": [
      "/Users/katz/.local/lib/python3.7/site-packages/urllib3-1.24.3-py3.7.egg/urllib3/connectionpool.py:847: InsecureRequestWarning: Unverified HTTPS request is being made. Adding certificate verification is strongly advised. See: https://urllib3.readthedocs.io/en/latest/advanced-usage.html#ssl-warnings\n",
      "  InsecureRequestWarning)\n"
     ]
    },
    {
     "name": "stdout",
     "output_type": "stream",
     "text": [
      "7300\n",
      "https://api.us-south.discovery.watson.cloud.ibm.com/instances/5049511a-b775-4704-865b-8a971a76c862/v1/environments/system/collections/news-en/query?version=2019-04-30&count=50&offset=7300&query=text:Hybrid%20cloud\n"
     ]
    },
    {
     "name": "stderr",
     "output_type": "stream",
     "text": [
      "/Users/katz/.local/lib/python3.7/site-packages/urllib3-1.24.3-py3.7.egg/urllib3/connectionpool.py:847: InsecureRequestWarning: Unverified HTTPS request is being made. Adding certificate verification is strongly advised. See: https://urllib3.readthedocs.io/en/latest/advanced-usage.html#ssl-warnings\n",
      "  InsecureRequestWarning)\n"
     ]
    },
    {
     "name": "stdout",
     "output_type": "stream",
     "text": [
      "7350\n",
      "https://api.us-south.discovery.watson.cloud.ibm.com/instances/5049511a-b775-4704-865b-8a971a76c862/v1/environments/system/collections/news-en/query?version=2019-04-30&count=50&offset=7350&query=text:Hybrid%20cloud\n"
     ]
    },
    {
     "name": "stderr",
     "output_type": "stream",
     "text": [
      "/Users/katz/.local/lib/python3.7/site-packages/urllib3-1.24.3-py3.7.egg/urllib3/connectionpool.py:847: InsecureRequestWarning: Unverified HTTPS request is being made. Adding certificate verification is strongly advised. See: https://urllib3.readthedocs.io/en/latest/advanced-usage.html#ssl-warnings\n",
      "  InsecureRequestWarning)\n"
     ]
    },
    {
     "name": "stdout",
     "output_type": "stream",
     "text": [
      "7400\n",
      "https://api.us-south.discovery.watson.cloud.ibm.com/instances/5049511a-b775-4704-865b-8a971a76c862/v1/environments/system/collections/news-en/query?version=2019-04-30&count=50&offset=7400&query=text:Hybrid%20cloud\n"
     ]
    },
    {
     "name": "stderr",
     "output_type": "stream",
     "text": [
      "/Users/katz/.local/lib/python3.7/site-packages/urllib3-1.24.3-py3.7.egg/urllib3/connectionpool.py:847: InsecureRequestWarning: Unverified HTTPS request is being made. Adding certificate verification is strongly advised. See: https://urllib3.readthedocs.io/en/latest/advanced-usage.html#ssl-warnings\n",
      "  InsecureRequestWarning)\n"
     ]
    },
    {
     "name": "stdout",
     "output_type": "stream",
     "text": [
      "7450\n",
      "https://api.us-south.discovery.watson.cloud.ibm.com/instances/5049511a-b775-4704-865b-8a971a76c862/v1/environments/system/collections/news-en/query?version=2019-04-30&count=50&offset=7450&query=text:Hybrid%20cloud\n"
     ]
    },
    {
     "name": "stderr",
     "output_type": "stream",
     "text": [
      "/Users/katz/.local/lib/python3.7/site-packages/urllib3-1.24.3-py3.7.egg/urllib3/connectionpool.py:847: InsecureRequestWarning: Unverified HTTPS request is being made. Adding certificate verification is strongly advised. See: https://urllib3.readthedocs.io/en/latest/advanced-usage.html#ssl-warnings\n",
      "  InsecureRequestWarning)\n"
     ]
    },
    {
     "name": "stdout",
     "output_type": "stream",
     "text": [
      "7500\n",
      "https://api.us-south.discovery.watson.cloud.ibm.com/instances/5049511a-b775-4704-865b-8a971a76c862/v1/environments/system/collections/news-en/query?version=2019-04-30&count=50&offset=7500&query=text:Hybrid%20cloud\n"
     ]
    },
    {
     "name": "stderr",
     "output_type": "stream",
     "text": [
      "/Users/katz/.local/lib/python3.7/site-packages/urllib3-1.24.3-py3.7.egg/urllib3/connectionpool.py:847: InsecureRequestWarning: Unverified HTTPS request is being made. Adding certificate verification is strongly advised. See: https://urllib3.readthedocs.io/en/latest/advanced-usage.html#ssl-warnings\n",
      "  InsecureRequestWarning)\n"
     ]
    },
    {
     "name": "stdout",
     "output_type": "stream",
     "text": [
      "7550\n",
      "https://api.us-south.discovery.watson.cloud.ibm.com/instances/5049511a-b775-4704-865b-8a971a76c862/v1/environments/system/collections/news-en/query?version=2019-04-30&count=50&offset=7550&query=text:Hybrid%20cloud\n"
     ]
    },
    {
     "name": "stderr",
     "output_type": "stream",
     "text": [
      "/Users/katz/.local/lib/python3.7/site-packages/urllib3-1.24.3-py3.7.egg/urllib3/connectionpool.py:847: InsecureRequestWarning: Unverified HTTPS request is being made. Adding certificate verification is strongly advised. See: https://urllib3.readthedocs.io/en/latest/advanced-usage.html#ssl-warnings\n",
      "  InsecureRequestWarning)\n"
     ]
    },
    {
     "name": "stdout",
     "output_type": "stream",
     "text": [
      "7600\n",
      "https://api.us-south.discovery.watson.cloud.ibm.com/instances/5049511a-b775-4704-865b-8a971a76c862/v1/environments/system/collections/news-en/query?version=2019-04-30&count=50&offset=7600&query=text:Hybrid%20cloud\n"
     ]
    },
    {
     "name": "stderr",
     "output_type": "stream",
     "text": [
      "/Users/katz/.local/lib/python3.7/site-packages/urllib3-1.24.3-py3.7.egg/urllib3/connectionpool.py:847: InsecureRequestWarning: Unverified HTTPS request is being made. Adding certificate verification is strongly advised. See: https://urllib3.readthedocs.io/en/latest/advanced-usage.html#ssl-warnings\n",
      "  InsecureRequestWarning)\n"
     ]
    },
    {
     "name": "stdout",
     "output_type": "stream",
     "text": [
      "7650\n",
      "https://api.us-south.discovery.watson.cloud.ibm.com/instances/5049511a-b775-4704-865b-8a971a76c862/v1/environments/system/collections/news-en/query?version=2019-04-30&count=50&offset=7650&query=text:Hybrid%20cloud\n"
     ]
    },
    {
     "name": "stderr",
     "output_type": "stream",
     "text": [
      "/Users/katz/.local/lib/python3.7/site-packages/urllib3-1.24.3-py3.7.egg/urllib3/connectionpool.py:847: InsecureRequestWarning: Unverified HTTPS request is being made. Adding certificate verification is strongly advised. See: https://urllib3.readthedocs.io/en/latest/advanced-usage.html#ssl-warnings\n",
      "  InsecureRequestWarning)\n"
     ]
    },
    {
     "name": "stdout",
     "output_type": "stream",
     "text": [
      "7700\n",
      "https://api.us-south.discovery.watson.cloud.ibm.com/instances/5049511a-b775-4704-865b-8a971a76c862/v1/environments/system/collections/news-en/query?version=2019-04-30&count=50&offset=7700&query=text:Hybrid%20cloud\n"
     ]
    },
    {
     "name": "stderr",
     "output_type": "stream",
     "text": [
      "/Users/katz/.local/lib/python3.7/site-packages/urllib3-1.24.3-py3.7.egg/urllib3/connectionpool.py:847: InsecureRequestWarning: Unverified HTTPS request is being made. Adding certificate verification is strongly advised. See: https://urllib3.readthedocs.io/en/latest/advanced-usage.html#ssl-warnings\n",
      "  InsecureRequestWarning)\n"
     ]
    },
    {
     "name": "stdout",
     "output_type": "stream",
     "text": [
      "7750\n",
      "https://api.us-south.discovery.watson.cloud.ibm.com/instances/5049511a-b775-4704-865b-8a971a76c862/v1/environments/system/collections/news-en/query?version=2019-04-30&count=50&offset=7750&query=text:Hybrid%20cloud\n"
     ]
    },
    {
     "name": "stderr",
     "output_type": "stream",
     "text": [
      "/Users/katz/.local/lib/python3.7/site-packages/urllib3-1.24.3-py3.7.egg/urllib3/connectionpool.py:847: InsecureRequestWarning: Unverified HTTPS request is being made. Adding certificate verification is strongly advised. See: https://urllib3.readthedocs.io/en/latest/advanced-usage.html#ssl-warnings\n",
      "  InsecureRequestWarning)\n"
     ]
    },
    {
     "name": "stdout",
     "output_type": "stream",
     "text": [
      "7800\n",
      "https://api.us-south.discovery.watson.cloud.ibm.com/instances/5049511a-b775-4704-865b-8a971a76c862/v1/environments/system/collections/news-en/query?version=2019-04-30&count=50&offset=7800&query=text:Hybrid%20cloud\n"
     ]
    },
    {
     "name": "stderr",
     "output_type": "stream",
     "text": [
      "/Users/katz/.local/lib/python3.7/site-packages/urllib3-1.24.3-py3.7.egg/urllib3/connectionpool.py:847: InsecureRequestWarning: Unverified HTTPS request is being made. Adding certificate verification is strongly advised. See: https://urllib3.readthedocs.io/en/latest/advanced-usage.html#ssl-warnings\n",
      "  InsecureRequestWarning)\n"
     ]
    },
    {
     "name": "stdout",
     "output_type": "stream",
     "text": [
      "7850\n",
      "https://api.us-south.discovery.watson.cloud.ibm.com/instances/5049511a-b775-4704-865b-8a971a76c862/v1/environments/system/collections/news-en/query?version=2019-04-30&count=50&offset=7850&query=text:Hybrid%20cloud\n"
     ]
    },
    {
     "name": "stderr",
     "output_type": "stream",
     "text": [
      "/Users/katz/.local/lib/python3.7/site-packages/urllib3-1.24.3-py3.7.egg/urllib3/connectionpool.py:847: InsecureRequestWarning: Unverified HTTPS request is being made. Adding certificate verification is strongly advised. See: https://urllib3.readthedocs.io/en/latest/advanced-usage.html#ssl-warnings\n",
      "  InsecureRequestWarning)\n"
     ]
    },
    {
     "name": "stdout",
     "output_type": "stream",
     "text": [
      "7900\n",
      "https://api.us-south.discovery.watson.cloud.ibm.com/instances/5049511a-b775-4704-865b-8a971a76c862/v1/environments/system/collections/news-en/query?version=2019-04-30&count=50&offset=7900&query=text:Hybrid%20cloud\n"
     ]
    },
    {
     "name": "stderr",
     "output_type": "stream",
     "text": [
      "/Users/katz/.local/lib/python3.7/site-packages/urllib3-1.24.3-py3.7.egg/urllib3/connectionpool.py:847: InsecureRequestWarning: Unverified HTTPS request is being made. Adding certificate verification is strongly advised. See: https://urllib3.readthedocs.io/en/latest/advanced-usage.html#ssl-warnings\n",
      "  InsecureRequestWarning)\n"
     ]
    },
    {
     "name": "stdout",
     "output_type": "stream",
     "text": [
      "7950\n",
      "https://api.us-south.discovery.watson.cloud.ibm.com/instances/5049511a-b775-4704-865b-8a971a76c862/v1/environments/system/collections/news-en/query?version=2019-04-30&count=50&offset=7950&query=text:Hybrid%20cloud\n"
     ]
    },
    {
     "name": "stderr",
     "output_type": "stream",
     "text": [
      "/Users/katz/.local/lib/python3.7/site-packages/urllib3-1.24.3-py3.7.egg/urllib3/connectionpool.py:847: InsecureRequestWarning: Unverified HTTPS request is being made. Adding certificate verification is strongly advised. See: https://urllib3.readthedocs.io/en/latest/advanced-usage.html#ssl-warnings\n",
      "  InsecureRequestWarning)\n"
     ]
    },
    {
     "name": "stdout",
     "output_type": "stream",
     "text": [
      "8000\n",
      "https://api.us-south.discovery.watson.cloud.ibm.com/instances/5049511a-b775-4704-865b-8a971a76c862/v1/environments/system/collections/news-en/query?version=2019-04-30&count=50&offset=8000&query=text:Hybrid%20cloud\n"
     ]
    },
    {
     "name": "stderr",
     "output_type": "stream",
     "text": [
      "/Users/katz/.local/lib/python3.7/site-packages/urllib3-1.24.3-py3.7.egg/urllib3/connectionpool.py:847: InsecureRequestWarning: Unverified HTTPS request is being made. Adding certificate verification is strongly advised. See: https://urllib3.readthedocs.io/en/latest/advanced-usage.html#ssl-warnings\n",
      "  InsecureRequestWarning)\n"
     ]
    },
    {
     "name": "stdout",
     "output_type": "stream",
     "text": [
      "8050\n",
      "https://api.us-south.discovery.watson.cloud.ibm.com/instances/5049511a-b775-4704-865b-8a971a76c862/v1/environments/system/collections/news-en/query?version=2019-04-30&count=50&offset=8050&query=text:Hybrid%20cloud\n"
     ]
    },
    {
     "name": "stderr",
     "output_type": "stream",
     "text": [
      "/Users/katz/.local/lib/python3.7/site-packages/urllib3-1.24.3-py3.7.egg/urllib3/connectionpool.py:847: InsecureRequestWarning: Unverified HTTPS request is being made. Adding certificate verification is strongly advised. See: https://urllib3.readthedocs.io/en/latest/advanced-usage.html#ssl-warnings\n",
      "  InsecureRequestWarning)\n"
     ]
    },
    {
     "name": "stdout",
     "output_type": "stream",
     "text": [
      "8100\n",
      "https://api.us-south.discovery.watson.cloud.ibm.com/instances/5049511a-b775-4704-865b-8a971a76c862/v1/environments/system/collections/news-en/query?version=2019-04-30&count=50&offset=8100&query=text:Hybrid%20cloud\n"
     ]
    },
    {
     "name": "stderr",
     "output_type": "stream",
     "text": [
      "/Users/katz/.local/lib/python3.7/site-packages/urllib3-1.24.3-py3.7.egg/urllib3/connectionpool.py:847: InsecureRequestWarning: Unverified HTTPS request is being made. Adding certificate verification is strongly advised. See: https://urllib3.readthedocs.io/en/latest/advanced-usage.html#ssl-warnings\n",
      "  InsecureRequestWarning)\n"
     ]
    },
    {
     "name": "stdout",
     "output_type": "stream",
     "text": [
      "8150\n",
      "https://api.us-south.discovery.watson.cloud.ibm.com/instances/5049511a-b775-4704-865b-8a971a76c862/v1/environments/system/collections/news-en/query?version=2019-04-30&count=50&offset=8150&query=text:Hybrid%20cloud\n"
     ]
    },
    {
     "name": "stderr",
     "output_type": "stream",
     "text": [
      "/Users/katz/.local/lib/python3.7/site-packages/urllib3-1.24.3-py3.7.egg/urllib3/connectionpool.py:847: InsecureRequestWarning: Unverified HTTPS request is being made. Adding certificate verification is strongly advised. See: https://urllib3.readthedocs.io/en/latest/advanced-usage.html#ssl-warnings\n",
      "  InsecureRequestWarning)\n"
     ]
    },
    {
     "name": "stdout",
     "output_type": "stream",
     "text": [
      "8200\n",
      "https://api.us-south.discovery.watson.cloud.ibm.com/instances/5049511a-b775-4704-865b-8a971a76c862/v1/environments/system/collections/news-en/query?version=2019-04-30&count=50&offset=8200&query=text:Hybrid%20cloud\n"
     ]
    },
    {
     "name": "stderr",
     "output_type": "stream",
     "text": [
      "/Users/katz/.local/lib/python3.7/site-packages/urllib3-1.24.3-py3.7.egg/urllib3/connectionpool.py:847: InsecureRequestWarning: Unverified HTTPS request is being made. Adding certificate verification is strongly advised. See: https://urllib3.readthedocs.io/en/latest/advanced-usage.html#ssl-warnings\n",
      "  InsecureRequestWarning)\n"
     ]
    },
    {
     "name": "stdout",
     "output_type": "stream",
     "text": [
      "8250\n",
      "https://api.us-south.discovery.watson.cloud.ibm.com/instances/5049511a-b775-4704-865b-8a971a76c862/v1/environments/system/collections/news-en/query?version=2019-04-30&count=50&offset=8250&query=text:Hybrid%20cloud\n"
     ]
    },
    {
     "name": "stderr",
     "output_type": "stream",
     "text": [
      "/Users/katz/.local/lib/python3.7/site-packages/urllib3-1.24.3-py3.7.egg/urllib3/connectionpool.py:847: InsecureRequestWarning: Unverified HTTPS request is being made. Adding certificate verification is strongly advised. See: https://urllib3.readthedocs.io/en/latest/advanced-usage.html#ssl-warnings\n",
      "  InsecureRequestWarning)\n"
     ]
    },
    {
     "name": "stdout",
     "output_type": "stream",
     "text": [
      "8300\n",
      "https://api.us-south.discovery.watson.cloud.ibm.com/instances/5049511a-b775-4704-865b-8a971a76c862/v1/environments/system/collections/news-en/query?version=2019-04-30&count=50&offset=8300&query=text:Hybrid%20cloud\n"
     ]
    },
    {
     "name": "stderr",
     "output_type": "stream",
     "text": [
      "/Users/katz/.local/lib/python3.7/site-packages/urllib3-1.24.3-py3.7.egg/urllib3/connectionpool.py:847: InsecureRequestWarning: Unverified HTTPS request is being made. Adding certificate verification is strongly advised. See: https://urllib3.readthedocs.io/en/latest/advanced-usage.html#ssl-warnings\n",
      "  InsecureRequestWarning)\n"
     ]
    },
    {
     "name": "stdout",
     "output_type": "stream",
     "text": [
      "8350\n",
      "https://api.us-south.discovery.watson.cloud.ibm.com/instances/5049511a-b775-4704-865b-8a971a76c862/v1/environments/system/collections/news-en/query?version=2019-04-30&count=50&offset=8350&query=text:Hybrid%20cloud\n"
     ]
    },
    {
     "name": "stderr",
     "output_type": "stream",
     "text": [
      "/Users/katz/.local/lib/python3.7/site-packages/urllib3-1.24.3-py3.7.egg/urllib3/connectionpool.py:847: InsecureRequestWarning: Unverified HTTPS request is being made. Adding certificate verification is strongly advised. See: https://urllib3.readthedocs.io/en/latest/advanced-usage.html#ssl-warnings\n",
      "  InsecureRequestWarning)\n"
     ]
    },
    {
     "name": "stdout",
     "output_type": "stream",
     "text": [
      "8400\n",
      "https://api.us-south.discovery.watson.cloud.ibm.com/instances/5049511a-b775-4704-865b-8a971a76c862/v1/environments/system/collections/news-en/query?version=2019-04-30&count=50&offset=8400&query=text:Hybrid%20cloud\n"
     ]
    },
    {
     "name": "stderr",
     "output_type": "stream",
     "text": [
      "/Users/katz/.local/lib/python3.7/site-packages/urllib3-1.24.3-py3.7.egg/urllib3/connectionpool.py:847: InsecureRequestWarning: Unverified HTTPS request is being made. Adding certificate verification is strongly advised. See: https://urllib3.readthedocs.io/en/latest/advanced-usage.html#ssl-warnings\n",
      "  InsecureRequestWarning)\n"
     ]
    },
    {
     "name": "stdout",
     "output_type": "stream",
     "text": [
      "8450\n",
      "https://api.us-south.discovery.watson.cloud.ibm.com/instances/5049511a-b775-4704-865b-8a971a76c862/v1/environments/system/collections/news-en/query?version=2019-04-30&count=50&offset=8450&query=text:Hybrid%20cloud\n"
     ]
    },
    {
     "name": "stderr",
     "output_type": "stream",
     "text": [
      "/Users/katz/.local/lib/python3.7/site-packages/urllib3-1.24.3-py3.7.egg/urllib3/connectionpool.py:847: InsecureRequestWarning: Unverified HTTPS request is being made. Adding certificate verification is strongly advised. See: https://urllib3.readthedocs.io/en/latest/advanced-usage.html#ssl-warnings\n",
      "  InsecureRequestWarning)\n"
     ]
    },
    {
     "name": "stdout",
     "output_type": "stream",
     "text": [
      "8500\n",
      "https://api.us-south.discovery.watson.cloud.ibm.com/instances/5049511a-b775-4704-865b-8a971a76c862/v1/environments/system/collections/news-en/query?version=2019-04-30&count=50&offset=8500&query=text:Hybrid%20cloud\n"
     ]
    },
    {
     "name": "stderr",
     "output_type": "stream",
     "text": [
      "/Users/katz/.local/lib/python3.7/site-packages/urllib3-1.24.3-py3.7.egg/urllib3/connectionpool.py:847: InsecureRequestWarning: Unverified HTTPS request is being made. Adding certificate verification is strongly advised. See: https://urllib3.readthedocs.io/en/latest/advanced-usage.html#ssl-warnings\n",
      "  InsecureRequestWarning)\n"
     ]
    },
    {
     "name": "stdout",
     "output_type": "stream",
     "text": [
      "8550\n",
      "https://api.us-south.discovery.watson.cloud.ibm.com/instances/5049511a-b775-4704-865b-8a971a76c862/v1/environments/system/collections/news-en/query?version=2019-04-30&count=50&offset=8550&query=text:Hybrid%20cloud\n"
     ]
    },
    {
     "name": "stderr",
     "output_type": "stream",
     "text": [
      "/Users/katz/.local/lib/python3.7/site-packages/urllib3-1.24.3-py3.7.egg/urllib3/connectionpool.py:847: InsecureRequestWarning: Unverified HTTPS request is being made. Adding certificate verification is strongly advised. See: https://urllib3.readthedocs.io/en/latest/advanced-usage.html#ssl-warnings\n",
      "  InsecureRequestWarning)\n"
     ]
    },
    {
     "name": "stdout",
     "output_type": "stream",
     "text": [
      "8600\n",
      "https://api.us-south.discovery.watson.cloud.ibm.com/instances/5049511a-b775-4704-865b-8a971a76c862/v1/environments/system/collections/news-en/query?version=2019-04-30&count=50&offset=8600&query=text:Hybrid%20cloud\n"
     ]
    },
    {
     "name": "stderr",
     "output_type": "stream",
     "text": [
      "/Users/katz/.local/lib/python3.7/site-packages/urllib3-1.24.3-py3.7.egg/urllib3/connectionpool.py:847: InsecureRequestWarning: Unverified HTTPS request is being made. Adding certificate verification is strongly advised. See: https://urllib3.readthedocs.io/en/latest/advanced-usage.html#ssl-warnings\n",
      "  InsecureRequestWarning)\n"
     ]
    },
    {
     "name": "stdout",
     "output_type": "stream",
     "text": [
      "8650\n",
      "https://api.us-south.discovery.watson.cloud.ibm.com/instances/5049511a-b775-4704-865b-8a971a76c862/v1/environments/system/collections/news-en/query?version=2019-04-30&count=50&offset=8650&query=text:Hybrid%20cloud\n"
     ]
    },
    {
     "name": "stderr",
     "output_type": "stream",
     "text": [
      "/Users/katz/.local/lib/python3.7/site-packages/urllib3-1.24.3-py3.7.egg/urllib3/connectionpool.py:847: InsecureRequestWarning: Unverified HTTPS request is being made. Adding certificate verification is strongly advised. See: https://urllib3.readthedocs.io/en/latest/advanced-usage.html#ssl-warnings\n",
      "  InsecureRequestWarning)\n"
     ]
    },
    {
     "name": "stdout",
     "output_type": "stream",
     "text": [
      "8700\n",
      "https://api.us-south.discovery.watson.cloud.ibm.com/instances/5049511a-b775-4704-865b-8a971a76c862/v1/environments/system/collections/news-en/query?version=2019-04-30&count=50&offset=8700&query=text:Hybrid%20cloud\n"
     ]
    },
    {
     "name": "stderr",
     "output_type": "stream",
     "text": [
      "/Users/katz/.local/lib/python3.7/site-packages/urllib3-1.24.3-py3.7.egg/urllib3/connectionpool.py:847: InsecureRequestWarning: Unverified HTTPS request is being made. Adding certificate verification is strongly advised. See: https://urllib3.readthedocs.io/en/latest/advanced-usage.html#ssl-warnings\n",
      "  InsecureRequestWarning)\n"
     ]
    },
    {
     "name": "stdout",
     "output_type": "stream",
     "text": [
      "8750\n",
      "https://api.us-south.discovery.watson.cloud.ibm.com/instances/5049511a-b775-4704-865b-8a971a76c862/v1/environments/system/collections/news-en/query?version=2019-04-30&count=50&offset=8750&query=text:Hybrid%20cloud\n"
     ]
    },
    {
     "name": "stderr",
     "output_type": "stream",
     "text": [
      "/Users/katz/.local/lib/python3.7/site-packages/urllib3-1.24.3-py3.7.egg/urllib3/connectionpool.py:847: InsecureRequestWarning: Unverified HTTPS request is being made. Adding certificate verification is strongly advised. See: https://urllib3.readthedocs.io/en/latest/advanced-usage.html#ssl-warnings\n",
      "  InsecureRequestWarning)\n"
     ]
    },
    {
     "name": "stdout",
     "output_type": "stream",
     "text": [
      "8800\n",
      "https://api.us-south.discovery.watson.cloud.ibm.com/instances/5049511a-b775-4704-865b-8a971a76c862/v1/environments/system/collections/news-en/query?version=2019-04-30&count=50&offset=8800&query=text:Hybrid%20cloud\n"
     ]
    },
    {
     "name": "stderr",
     "output_type": "stream",
     "text": [
      "/Users/katz/.local/lib/python3.7/site-packages/urllib3-1.24.3-py3.7.egg/urllib3/connectionpool.py:847: InsecureRequestWarning: Unverified HTTPS request is being made. Adding certificate verification is strongly advised. See: https://urllib3.readthedocs.io/en/latest/advanced-usage.html#ssl-warnings\n",
      "  InsecureRequestWarning)\n"
     ]
    },
    {
     "name": "stdout",
     "output_type": "stream",
     "text": [
      "8850\n",
      "https://api.us-south.discovery.watson.cloud.ibm.com/instances/5049511a-b775-4704-865b-8a971a76c862/v1/environments/system/collections/news-en/query?version=2019-04-30&count=50&offset=8850&query=text:Hybrid%20cloud\n"
     ]
    },
    {
     "name": "stderr",
     "output_type": "stream",
     "text": [
      "/Users/katz/.local/lib/python3.7/site-packages/urllib3-1.24.3-py3.7.egg/urllib3/connectionpool.py:847: InsecureRequestWarning: Unverified HTTPS request is being made. Adding certificate verification is strongly advised. See: https://urllib3.readthedocs.io/en/latest/advanced-usage.html#ssl-warnings\n",
      "  InsecureRequestWarning)\n"
     ]
    },
    {
     "name": "stdout",
     "output_type": "stream",
     "text": [
      "8900\n",
      "https://api.us-south.discovery.watson.cloud.ibm.com/instances/5049511a-b775-4704-865b-8a971a76c862/v1/environments/system/collections/news-en/query?version=2019-04-30&count=50&offset=8900&query=text:Hybrid%20cloud\n"
     ]
    },
    {
     "name": "stderr",
     "output_type": "stream",
     "text": [
      "/Users/katz/.local/lib/python3.7/site-packages/urllib3-1.24.3-py3.7.egg/urllib3/connectionpool.py:847: InsecureRequestWarning: Unverified HTTPS request is being made. Adding certificate verification is strongly advised. See: https://urllib3.readthedocs.io/en/latest/advanced-usage.html#ssl-warnings\n",
      "  InsecureRequestWarning)\n"
     ]
    },
    {
     "name": "stdout",
     "output_type": "stream",
     "text": [
      "8950\n",
      "https://api.us-south.discovery.watson.cloud.ibm.com/instances/5049511a-b775-4704-865b-8a971a76c862/v1/environments/system/collections/news-en/query?version=2019-04-30&count=50&offset=8950&query=text:Hybrid%20cloud\n"
     ]
    },
    {
     "name": "stderr",
     "output_type": "stream",
     "text": [
      "/Users/katz/.local/lib/python3.7/site-packages/urllib3-1.24.3-py3.7.egg/urllib3/connectionpool.py:847: InsecureRequestWarning: Unverified HTTPS request is being made. Adding certificate verification is strongly advised. See: https://urllib3.readthedocs.io/en/latest/advanced-usage.html#ssl-warnings\n",
      "  InsecureRequestWarning)\n"
     ]
    },
    {
     "name": "stdout",
     "output_type": "stream",
     "text": [
      "9000\n",
      "https://api.us-south.discovery.watson.cloud.ibm.com/instances/5049511a-b775-4704-865b-8a971a76c862/v1/environments/system/collections/news-en/query?version=2019-04-30&count=50&offset=9000&query=text:Hybrid%20cloud\n"
     ]
    },
    {
     "name": "stderr",
     "output_type": "stream",
     "text": [
      "/Users/katz/.local/lib/python3.7/site-packages/urllib3-1.24.3-py3.7.egg/urllib3/connectionpool.py:847: InsecureRequestWarning: Unverified HTTPS request is being made. Adding certificate verification is strongly advised. See: https://urllib3.readthedocs.io/en/latest/advanced-usage.html#ssl-warnings\n",
      "  InsecureRequestWarning)\n"
     ]
    },
    {
     "name": "stdout",
     "output_type": "stream",
     "text": [
      "9050\n",
      "https://api.us-south.discovery.watson.cloud.ibm.com/instances/5049511a-b775-4704-865b-8a971a76c862/v1/environments/system/collections/news-en/query?version=2019-04-30&count=50&offset=9050&query=text:Hybrid%20cloud\n"
     ]
    },
    {
     "name": "stderr",
     "output_type": "stream",
     "text": [
      "/Users/katz/.local/lib/python3.7/site-packages/urllib3-1.24.3-py3.7.egg/urllib3/connectionpool.py:847: InsecureRequestWarning: Unverified HTTPS request is being made. Adding certificate verification is strongly advised. See: https://urllib3.readthedocs.io/en/latest/advanced-usage.html#ssl-warnings\n",
      "  InsecureRequestWarning)\n"
     ]
    },
    {
     "name": "stdout",
     "output_type": "stream",
     "text": [
      "9100\n",
      "https://api.us-south.discovery.watson.cloud.ibm.com/instances/5049511a-b775-4704-865b-8a971a76c862/v1/environments/system/collections/news-en/query?version=2019-04-30&count=50&offset=9100&query=text:Hybrid%20cloud\n"
     ]
    },
    {
     "name": "stderr",
     "output_type": "stream",
     "text": [
      "/Users/katz/.local/lib/python3.7/site-packages/urllib3-1.24.3-py3.7.egg/urllib3/connectionpool.py:847: InsecureRequestWarning: Unverified HTTPS request is being made. Adding certificate verification is strongly advised. See: https://urllib3.readthedocs.io/en/latest/advanced-usage.html#ssl-warnings\n",
      "  InsecureRequestWarning)\n"
     ]
    },
    {
     "name": "stdout",
     "output_type": "stream",
     "text": [
      "9150\n",
      "https://api.us-south.discovery.watson.cloud.ibm.com/instances/5049511a-b775-4704-865b-8a971a76c862/v1/environments/system/collections/news-en/query?version=2019-04-30&count=50&offset=9150&query=text:Hybrid%20cloud\n"
     ]
    },
    {
     "name": "stderr",
     "output_type": "stream",
     "text": [
      "/Users/katz/.local/lib/python3.7/site-packages/urllib3-1.24.3-py3.7.egg/urllib3/connectionpool.py:847: InsecureRequestWarning: Unverified HTTPS request is being made. Adding certificate verification is strongly advised. See: https://urllib3.readthedocs.io/en/latest/advanced-usage.html#ssl-warnings\n",
      "  InsecureRequestWarning)\n"
     ]
    },
    {
     "name": "stdout",
     "output_type": "stream",
     "text": [
      "9200\n",
      "https://api.us-south.discovery.watson.cloud.ibm.com/instances/5049511a-b775-4704-865b-8a971a76c862/v1/environments/system/collections/news-en/query?version=2019-04-30&count=50&offset=9200&query=text:Hybrid%20cloud\n"
     ]
    },
    {
     "name": "stderr",
     "output_type": "stream",
     "text": [
      "/Users/katz/.local/lib/python3.7/site-packages/urllib3-1.24.3-py3.7.egg/urllib3/connectionpool.py:847: InsecureRequestWarning: Unverified HTTPS request is being made. Adding certificate verification is strongly advised. See: https://urllib3.readthedocs.io/en/latest/advanced-usage.html#ssl-warnings\n",
      "  InsecureRequestWarning)\n"
     ]
    },
    {
     "name": "stdout",
     "output_type": "stream",
     "text": [
      "9250\n",
      "https://api.us-south.discovery.watson.cloud.ibm.com/instances/5049511a-b775-4704-865b-8a971a76c862/v1/environments/system/collections/news-en/query?version=2019-04-30&count=50&offset=9250&query=text:Hybrid%20cloud\n"
     ]
    },
    {
     "name": "stderr",
     "output_type": "stream",
     "text": [
      "/Users/katz/.local/lib/python3.7/site-packages/urllib3-1.24.3-py3.7.egg/urllib3/connectionpool.py:847: InsecureRequestWarning: Unverified HTTPS request is being made. Adding certificate verification is strongly advised. See: https://urllib3.readthedocs.io/en/latest/advanced-usage.html#ssl-warnings\n",
      "  InsecureRequestWarning)\n"
     ]
    },
    {
     "name": "stdout",
     "output_type": "stream",
     "text": [
      "9300\n",
      "https://api.us-south.discovery.watson.cloud.ibm.com/instances/5049511a-b775-4704-865b-8a971a76c862/v1/environments/system/collections/news-en/query?version=2019-04-30&count=50&offset=9300&query=text:Hybrid%20cloud\n"
     ]
    },
    {
     "name": "stderr",
     "output_type": "stream",
     "text": [
      "/Users/katz/.local/lib/python3.7/site-packages/urllib3-1.24.3-py3.7.egg/urllib3/connectionpool.py:847: InsecureRequestWarning: Unverified HTTPS request is being made. Adding certificate verification is strongly advised. See: https://urllib3.readthedocs.io/en/latest/advanced-usage.html#ssl-warnings\n",
      "  InsecureRequestWarning)\n"
     ]
    },
    {
     "name": "stdout",
     "output_type": "stream",
     "text": [
      "9350\n",
      "https://api.us-south.discovery.watson.cloud.ibm.com/instances/5049511a-b775-4704-865b-8a971a76c862/v1/environments/system/collections/news-en/query?version=2019-04-30&count=50&offset=9350&query=text:Hybrid%20cloud\n"
     ]
    },
    {
     "name": "stderr",
     "output_type": "stream",
     "text": [
      "/Users/katz/.local/lib/python3.7/site-packages/urllib3-1.24.3-py3.7.egg/urllib3/connectionpool.py:847: InsecureRequestWarning: Unverified HTTPS request is being made. Adding certificate verification is strongly advised. See: https://urllib3.readthedocs.io/en/latest/advanced-usage.html#ssl-warnings\n",
      "  InsecureRequestWarning)\n"
     ]
    },
    {
     "name": "stdout",
     "output_type": "stream",
     "text": [
      "9400\n",
      "https://api.us-south.discovery.watson.cloud.ibm.com/instances/5049511a-b775-4704-865b-8a971a76c862/v1/environments/system/collections/news-en/query?version=2019-04-30&count=50&offset=9400&query=text:Hybrid%20cloud\n"
     ]
    },
    {
     "name": "stderr",
     "output_type": "stream",
     "text": [
      "/Users/katz/.local/lib/python3.7/site-packages/urllib3-1.24.3-py3.7.egg/urllib3/connectionpool.py:847: InsecureRequestWarning: Unverified HTTPS request is being made. Adding certificate verification is strongly advised. See: https://urllib3.readthedocs.io/en/latest/advanced-usage.html#ssl-warnings\n",
      "  InsecureRequestWarning)\n"
     ]
    },
    {
     "name": "stdout",
     "output_type": "stream",
     "text": [
      "9450\n",
      "https://api.us-south.discovery.watson.cloud.ibm.com/instances/5049511a-b775-4704-865b-8a971a76c862/v1/environments/system/collections/news-en/query?version=2019-04-30&count=50&offset=9450&query=text:Hybrid%20cloud\n"
     ]
    },
    {
     "name": "stderr",
     "output_type": "stream",
     "text": [
      "/Users/katz/.local/lib/python3.7/site-packages/urllib3-1.24.3-py3.7.egg/urllib3/connectionpool.py:847: InsecureRequestWarning: Unverified HTTPS request is being made. Adding certificate verification is strongly advised. See: https://urllib3.readthedocs.io/en/latest/advanced-usage.html#ssl-warnings\n",
      "  InsecureRequestWarning)\n"
     ]
    },
    {
     "name": "stdout",
     "output_type": "stream",
     "text": [
      "9500\n",
      "https://api.us-south.discovery.watson.cloud.ibm.com/instances/5049511a-b775-4704-865b-8a971a76c862/v1/environments/system/collections/news-en/query?version=2019-04-30&count=50&offset=9500&query=text:Hybrid%20cloud\n"
     ]
    },
    {
     "name": "stderr",
     "output_type": "stream",
     "text": [
      "/Users/katz/.local/lib/python3.7/site-packages/urllib3-1.24.3-py3.7.egg/urllib3/connectionpool.py:847: InsecureRequestWarning: Unverified HTTPS request is being made. Adding certificate verification is strongly advised. See: https://urllib3.readthedocs.io/en/latest/advanced-usage.html#ssl-warnings\n",
      "  InsecureRequestWarning)\n"
     ]
    },
    {
     "name": "stdout",
     "output_type": "stream",
     "text": [
      "9550\n",
      "https://api.us-south.discovery.watson.cloud.ibm.com/instances/5049511a-b775-4704-865b-8a971a76c862/v1/environments/system/collections/news-en/query?version=2019-04-30&count=50&offset=9550&query=text:Hybrid%20cloud\n"
     ]
    },
    {
     "name": "stderr",
     "output_type": "stream",
     "text": [
      "/Users/katz/.local/lib/python3.7/site-packages/urllib3-1.24.3-py3.7.egg/urllib3/connectionpool.py:847: InsecureRequestWarning: Unverified HTTPS request is being made. Adding certificate verification is strongly advised. See: https://urllib3.readthedocs.io/en/latest/advanced-usage.html#ssl-warnings\n",
      "  InsecureRequestWarning)\n"
     ]
    },
    {
     "name": "stdout",
     "output_type": "stream",
     "text": [
      "9600\n",
      "https://api.us-south.discovery.watson.cloud.ibm.com/instances/5049511a-b775-4704-865b-8a971a76c862/v1/environments/system/collections/news-en/query?version=2019-04-30&count=50&offset=9600&query=text:Hybrid%20cloud\n"
     ]
    },
    {
     "name": "stderr",
     "output_type": "stream",
     "text": [
      "/Users/katz/.local/lib/python3.7/site-packages/urllib3-1.24.3-py3.7.egg/urllib3/connectionpool.py:847: InsecureRequestWarning: Unverified HTTPS request is being made. Adding certificate verification is strongly advised. See: https://urllib3.readthedocs.io/en/latest/advanced-usage.html#ssl-warnings\n",
      "  InsecureRequestWarning)\n"
     ]
    },
    {
     "name": "stdout",
     "output_type": "stream",
     "text": [
      "9650\n",
      "https://api.us-south.discovery.watson.cloud.ibm.com/instances/5049511a-b775-4704-865b-8a971a76c862/v1/environments/system/collections/news-en/query?version=2019-04-30&count=50&offset=9650&query=text:Hybrid%20cloud\n"
     ]
    },
    {
     "name": "stderr",
     "output_type": "stream",
     "text": [
      "/Users/katz/.local/lib/python3.7/site-packages/urllib3-1.24.3-py3.7.egg/urllib3/connectionpool.py:847: InsecureRequestWarning: Unverified HTTPS request is being made. Adding certificate verification is strongly advised. See: https://urllib3.readthedocs.io/en/latest/advanced-usage.html#ssl-warnings\n",
      "  InsecureRequestWarning)\n"
     ]
    },
    {
     "name": "stdout",
     "output_type": "stream",
     "text": [
      "9700\n",
      "https://api.us-south.discovery.watson.cloud.ibm.com/instances/5049511a-b775-4704-865b-8a971a76c862/v1/environments/system/collections/news-en/query?version=2019-04-30&count=50&offset=9700&query=text:Hybrid%20cloud\n"
     ]
    },
    {
     "name": "stderr",
     "output_type": "stream",
     "text": [
      "/Users/katz/.local/lib/python3.7/site-packages/urllib3-1.24.3-py3.7.egg/urllib3/connectionpool.py:847: InsecureRequestWarning: Unverified HTTPS request is being made. Adding certificate verification is strongly advised. See: https://urllib3.readthedocs.io/en/latest/advanced-usage.html#ssl-warnings\n",
      "  InsecureRequestWarning)\n"
     ]
    },
    {
     "name": "stdout",
     "output_type": "stream",
     "text": [
      "9750\n",
      "https://api.us-south.discovery.watson.cloud.ibm.com/instances/5049511a-b775-4704-865b-8a971a76c862/v1/environments/system/collections/news-en/query?version=2019-04-30&count=50&offset=9750&query=text:Hybrid%20cloud\n"
     ]
    },
    {
     "name": "stderr",
     "output_type": "stream",
     "text": [
      "/Users/katz/.local/lib/python3.7/site-packages/urllib3-1.24.3-py3.7.egg/urllib3/connectionpool.py:847: InsecureRequestWarning: Unverified HTTPS request is being made. Adding certificate verification is strongly advised. See: https://urllib3.readthedocs.io/en/latest/advanced-usage.html#ssl-warnings\n",
      "  InsecureRequestWarning)\n"
     ]
    },
    {
     "name": "stdout",
     "output_type": "stream",
     "text": [
      "9800\n",
      "https://api.us-south.discovery.watson.cloud.ibm.com/instances/5049511a-b775-4704-865b-8a971a76c862/v1/environments/system/collections/news-en/query?version=2019-04-30&count=50&offset=9800&query=text:Hybrid%20cloud\n"
     ]
    },
    {
     "name": "stderr",
     "output_type": "stream",
     "text": [
      "/Users/katz/.local/lib/python3.7/site-packages/urllib3-1.24.3-py3.7.egg/urllib3/connectionpool.py:847: InsecureRequestWarning: Unverified HTTPS request is being made. Adding certificate verification is strongly advised. See: https://urllib3.readthedocs.io/en/latest/advanced-usage.html#ssl-warnings\n",
      "  InsecureRequestWarning)\n"
     ]
    },
    {
     "name": "stdout",
     "output_type": "stream",
     "text": [
      "9850\n",
      "https://api.us-south.discovery.watson.cloud.ibm.com/instances/5049511a-b775-4704-865b-8a971a76c862/v1/environments/system/collections/news-en/query?version=2019-04-30&count=50&offset=9850&query=text:Hybrid%20cloud\n"
     ]
    },
    {
     "name": "stderr",
     "output_type": "stream",
     "text": [
      "/Users/katz/.local/lib/python3.7/site-packages/urllib3-1.24.3-py3.7.egg/urllib3/connectionpool.py:847: InsecureRequestWarning: Unverified HTTPS request is being made. Adding certificate verification is strongly advised. See: https://urllib3.readthedocs.io/en/latest/advanced-usage.html#ssl-warnings\n",
      "  InsecureRequestWarning)\n"
     ]
    },
    {
     "name": "stdout",
     "output_type": "stream",
     "text": [
      "9900\n",
      "https://api.us-south.discovery.watson.cloud.ibm.com/instances/5049511a-b775-4704-865b-8a971a76c862/v1/environments/system/collections/news-en/query?version=2019-04-30&count=50&offset=9900&query=text:Hybrid%20cloud\n"
     ]
    },
    {
     "name": "stderr",
     "output_type": "stream",
     "text": [
      "/Users/katz/.local/lib/python3.7/site-packages/urllib3-1.24.3-py3.7.egg/urllib3/connectionpool.py:847: InsecureRequestWarning: Unverified HTTPS request is being made. Adding certificate verification is strongly advised. See: https://urllib3.readthedocs.io/en/latest/advanced-usage.html#ssl-warnings\n",
      "  InsecureRequestWarning)\n"
     ]
    },
    {
     "name": "stdout",
     "output_type": "stream",
     "text": [
      "9950\n",
      "https://api.us-south.discovery.watson.cloud.ibm.com/instances/5049511a-b775-4704-865b-8a971a76c862/v1/environments/system/collections/news-en/query?version=2019-04-30&count=50&offset=9950&query=text:Hybrid%20cloud\n"
     ]
    },
    {
     "name": "stderr",
     "output_type": "stream",
     "text": [
      "/Users/katz/.local/lib/python3.7/site-packages/urllib3-1.24.3-py3.7.egg/urllib3/connectionpool.py:847: InsecureRequestWarning: Unverified HTTPS request is being made. Adding certificate verification is strongly advised. See: https://urllib3.readthedocs.io/en/latest/advanced-usage.html#ssl-warnings\n",
      "  InsecureRequestWarning)\n"
     ]
    },
    {
     "name": "stdout",
     "output_type": "stream",
     "text": [
      "10000\n"
     ]
    }
   ],
   "source": [
    "import os\n",
    "import requests\n",
    "import urllib.parse\n",
    "import json\n",
    "def query_discovery_news(concept,offset):\n",
    "    url =  os.environ['DISCOVERY_URL'] + '/v1/environments/system/collections/news-en/query?version=2019-04-30&count=50&offset='+str(offset)+'&query=text:'+urllib.parse.quote(concept)\n",
    "    print(url)\n",
    "    api_key = os.environ['DISCOVERY_APIKEY']\n",
    "   \n",
    "    resp = requests.get(url, verify=False, auth=('apikey', api_key))\n",
    "    if resp.status_code != 200:\n",
    "        print('GET to %s failed: %d: %s' % (url, resp.status_code, resp.reason))\n",
    "        print(resp.text)\n",
    "        return {}\n",
    "    return resp.json()\n",
    "\n",
    "offset = 0\n",
    "texts = []\n",
    "max_offset = max_articles\n",
    "while (offset < max_offset):\n",
    "    results = query_discovery_news(dc,offset)\n",
    "    max_offset = min (max_articles,results['matching_results'])\n",
    "    texts.extend ([ { 'news_content': result['text'], 'news_title' : result['title'], 'id' : result['id'] } for result in results['results'] ])\n",
    "    print(len(texts))\n",
    "    offset = offset + 50\n"
   ]
  },
  {
   "cell_type": "markdown",
   "metadata": {},
   "source": [
    "Save the results to file."
   ]
  },
  {
   "cell_type": "code",
   "execution_count": 4,
   "metadata": {},
   "outputs": [],
   "source": [
    "with open(articles_filename, 'w') as outfile:\n",
    "    json.dump(texts, outfile)  \n",
    " "
   ]
  },
  {
   "cell_type": "markdown",
   "metadata": {},
   "source": [
    "### Initialize the Debater API \n",
    "\n",
    "The next segment initializes the Debater API.  It assumes the DEBATER_API_KEY environment variable was set with the Project Debater Early Access Program API key, before the notebook was loaded."
   ]
  },
  {
   "cell_type": "code",
   "execution_count": 5,
   "metadata": {},
   "outputs": [],
   "source": [
    "# (C) Copyright IBM Corp. 2020.\n",
    "import os\n",
    "from debater_python_api.api.clients.narrative_generation_client import Polarity\n",
    "from debater_python_api.api.debater_api import DebaterApi\n",
    "api_key = os.environ['DEBATER_API_KEY']\n",
    "debater_api = DebaterApi(api_key)"
   ]
  },
  {
   "cell_type": "markdown",
   "metadata": {},
   "source": [
    "The following are some utility functions to pretty print results."
   ]
  },
  {
   "cell_type": "code",
   "execution_count": 6,
   "metadata": {},
   "outputs": [],
   "source": [
    "from IPython.core.display import HTML,display\n",
    "import math\n",
    "def print_candidates(title,candidates,fields = None):\n",
    "    display(HTML('<h2>'+title+'</h2>'))\n",
    "    print('Number of candidates: {}'.format(len(candidates)))\n",
    "    html = \"<table>\"\n",
    "    html += \"<tr>\"\n",
    "    if fields == None:\n",
    "        fields = candidates[0]\n",
    "    for field in fields:\n",
    "       html += \"<td><p style=\\\"text-align:left;\\\">%s</p></td>\"%(field)\n",
    "    html += \"</tr>\"\n",
    "\n",
    "    for row in candidates:\n",
    "        html += \"<tr>\"\n",
    "        for field in fields:\n",
    "            html += \"<td><p style=\\\"text-align:left;\\\">%s</p></td>\"%(row[field])\n",
    "        html += \"</tr>\"\n",
    "    html += \"</table>\"\n",
    "    display(HTML(html))     \n",
    "\n",
    "def print_top_by_function(title,candidates,function, n = 20, fields = None):\n",
    "    sorted_candidates = sorted(candidates, key=function)[0:n]\n",
    "    print_candidates(title,sorted_candidates,fields)\n",
    "    \n",
    "    "
   ]
  },
  {
   "cell_type": "markdown",
   "metadata": {},
   "source": [
    "### Read the articles from the saved file"
   ]
  },
  {
   "cell_type": "markdown",
   "metadata": {},
   "source": [
    "Next we, read the articles from the saved file in json format, split into to sentences, and create an html snippet which includes the sentence, the surrounding context and the article's title.  We also remove duplicate sentences."
   ]
  },
  {
   "cell_type": "code",
   "execution_count": 7,
   "metadata": {},
   "outputs": [
    {
     "name": "stdout",
     "output_type": "stream",
     "text": [
      "Number of removed duplicates: 6695\n",
      "Total number of sentences remaining: 10207\n"
     ]
    }
   ],
   "source": [
    "import json\n",
    "with open(articles_filename, \"r\") as read_file:\n",
    "    data = json.load(read_file)\n",
    "\n",
    "from spacy.lang.en import English # updated\n",
    "import re\n",
    "nlp = English()\n",
    "\n",
    "all_sentences = []\n",
    "hashed_sentences = {}\n",
    "total_sentences = 0\n",
    "nlp.max_length = 1000000000\n",
    "nlp.add_pipe(nlp.create_pipe('sentencizer')) # updated\n",
    "for hit in data:\n",
    "    doc_id = hit['id']\n",
    "    doc_text = hit['news_content']\n",
    "    doc_title = hit['news_title']\n",
    "    doc = nlp(doc_text)\n",
    "    prev = {'text' : '', 'html':''}\n",
    "    for (i,sent) in enumerate(doc.sents):\n",
    "        total_sentences += 1\n",
    "        text = sent.string.strip()\n",
    "        hash_of_text = hash(text)\n",
    "        if hash_of_text in hashed_sentences:\n",
    "            continue\n",
    "        hashed_sentences[hash_of_text] = True    \n",
    "        sentence_entry = { 'doc_id': doc_id , 'line' : i , 'text': text , 'prev': prev['text'] }\n",
    "        sentence_entry['wordcount'] = len(re.findall(r'\\w+', sentence_entry['text']))\n",
    "        prev[ 'next' ] = sentence_entry['text']\n",
    "        sentence_entry[ 'html'] = '<i>' + doc_title +'</i><br><br>' + sentence_entry['prev'] + '<b><br>' + sentence_entry['text'] + '</b><br>' \n",
    "        prev[ 'html' ] += sentence_entry['text']\n",
    "        prev = sentence_entry\n",
    "        all_sentences.append(sentence_entry)\n",
    "    sentence_entry['next'] = ''      \n",
    "print('Number of removed duplicates: {}'.format(total_sentences - len(all_sentences)))\n",
    "print('Total number of sentences remaining: {}'.format(len(all_sentences)))\n",
    "\n"
   ]
  },
  {
   "cell_type": "markdown",
   "metadata": {},
   "source": [
    "We now filter sentences that contain the main concept using a regular expression. We also remove sentences that are too long.\n"
   ]
  },
  {
   "cell_type": "code",
   "execution_count": 8,
   "metadata": {},
   "outputs": [
    {
     "name": "stdout",
     "output_type": "stream",
     "text": [
      "Total number of sentences containing the topic:2723\n"
     ]
    },
    {
     "data": {
      "text/html": [
       "<h2>Example candidates</h2>"
      ],
      "text/plain": [
       "<IPython.core.display.HTML object>"
      ]
     },
     "metadata": {},
     "output_type": "display_data"
    },
    {
     "name": "stdout",
     "output_type": "stream",
     "text": [
      "Number of candidates: 100\n"
     ]
    },
    {
     "data": {
      "text/html": [
       "<table><tr><td><p style=\"text-align:left;\">html</p></td></tr><tr><td><p style=\"text-align:left;\"><i>5 Advantages of Using a Hybrid Cloud Strategy</i><br><br><b><br>This means that a hybrid cloud infrastructure can be a more compliant solution, depending on your business needs.</b><br>Uniformity Hybrid clouds are becoming more important to public cloud providers.</p></td></tr><tr><td><p style=\"text-align:left;\"><i>5 Advantages of Using a Hybrid Cloud Strategy</i><br><br>This means that a hybrid cloud infrastructure can be a more compliant solution, depending on your business needs.<b><br>Uniformity Hybrid clouds are becoming more important to public cloud providers.</b><br>Challenges faced with hybrid clouds are incorporating both the public and private clouds.</p></td></tr><tr><td><p style=\"text-align:left;\"><i>5 Advantages of Using a Hybrid Cloud Strategy</i><br><br>Uniformity Hybrid clouds are becoming more important to public cloud providers.<b><br>Challenges faced with hybrid clouds are incorporating both the public and private clouds.</b><br>However, many public cloud providers are choosing to</p></td></tr><tr><td><p style=\"text-align:left;\"><i>What is hybrid cloud? Everything you need to know</i><br><br><b><br>Hybrid cloud migration strategies to consider include lift and shift, refactoring and redesign.</b><br>Hybrid cloud use cases Before you implement a hybrid cloud model, review common hybrid cloud use cases to determine whether this approach fits your company's IT needs.</p></td></tr><tr><td><p style=\"text-align:left;\"><i>What is hybrid cloud? Everything you need to know</i><br><br>Hybrid cloud migration strategies to consider include lift and shift, refactoring and redesign.<b><br>Hybrid cloud use cases Before you implement a hybrid cloud model, review common hybrid cloud use cases to determine whether this approach fits your company's IT needs.</b><br>Digital transformation.</p></td></tr><tr><td><p style=\"text-align:left;\"><i>Need for Hybrid Cloud Technology Services in 2021</i><br><br><b><br>Perks of Hybrid Cloud Technology Hybrid cloud technology gives a business the flexibility to deploy its most sensitive and secure workloads in an on-premises cloud and to host less-critical resources on third-party public cloud providers.</b><br></p></td></tr><tr><td><p style=\"text-align:left;\"><i>CyrusOne’s Hybrid Cloud Business Strategy Leans On the Basics</i><br><br><b><br>Cloud Computing > Colocation CyrusOne’s Hybrid Cloud Business Strategy Leans On the Basics In the next installment of our series exploring colocation providers’ strategies around hybrid cloud we look at CyrusOne.</b><br></p></td></tr><tr><td><p style=\"text-align:left;\"><i>Hybrid Cloud 102: Best Practices for Hybrid Cloud Enterprise Configuration</i><br><br><b><br>EDT Hybrid Cloud 102: Best Practices for Hybrid Cloud Enterprise Configuration 11 a.m. PDT / 2 p.m. EDT Hybrid Cloud 103: Hottest Third-Party Tools Register now!</b><br></p></td></tr><tr><td><p style=\"text-align:left;\"><i>Storage Infrastructure in a Hybrid Cloud World</i><br><br><b><br>Storage > Cloud Storage Storage Infrastructure in a Hybrid Cloud World This Omdia report provides advice for enterprises looking to make best use of storage infrastructure in a hybrid cloud environment.</b><br>Dennis Hahn | Jun 17, 2021 This is an extract from Omdia’s Data Center Storage in a Hybrid Cloud</p></td></tr><tr><td><p style=\"text-align:left;\"><i>Storage Infrastructure in a Hybrid Cloud World</i><br><br>Storage > Cloud Storage Storage Infrastructure in a Hybrid Cloud World This Omdia report provides advice for enterprises looking to make best use of storage infrastructure in a hybrid cloud environment.<b><br>Dennis Hahn | Jun 17, 2021 This is an extract from Omdia’s Data Center Storage in a Hybrid Cloud</b><br></p></td></tr><tr><td><p style=\"text-align:left;\"><i>Challenges and Best Practices of Hybrid Cloud Security</i><br><br>And 32 percent plan to implement a hybrid solution within the next 12-24 months.<b><br>While the number of organizations adopting the hybrid cloud model are increasing, there are challenges that organizations leveraging the hybrid cloud approach face.</b><br>Hybrid can be the best of both worlds but overlap and confusion can</p></td></tr><tr><td><p style=\"text-align:left;\"><i>Hybrid Cloud Market Size, Global Analysis, Opportunities And Forecast To 2027</i><br><br><b><br>Market Snapshot Market Research Future (MRFR), in its latest the global hybrid cloud market report reveals that the world hybrid cloud market 2020 is expected to rise at by 2025.</b><br>MRFR reveals that the hybrid cloud market value was USD 44.87 Bn in 2018 and it is expected to touch</p></td></tr><tr><td><p style=\"text-align:left;\"><i>Hybrid Cloud Market Size, Global Analysis, Opportunities And Forecast To 2027</i><br><br>Market Snapshot Market Research Future (MRFR), in its latest the global hybrid cloud market report reveals that the world hybrid cloud market 2020 is expected to rise at by 2025.<b><br>MRFR reveals that the hybrid cloud market value was USD 44.87 Bn in 2018 and it is expected to touch</b><br></p></td></tr><tr><td><p style=\"text-align:left;\"><i>Here are a few best practices for hybrid cloud management</i><br><br><b><br>As per G2, by 2022, over 90 percent of enterprises will rely on a hybrid cloud environment for meeting their infrastructure needs.</b><br>Here are a few best practices for hybrid cloud management.</p></td></tr><tr><td><p style=\"text-align:left;\"><i>Here are a few best practices for hybrid cloud management</i><br><br>As per G2, by 2022, over 90 percent of enterprises will rely on a hybrid cloud environment for meeting their infrastructure needs.<b><br>Here are a few best practices for hybrid cloud management.</b><br>But first, let’s understand the basics of hybrid cloud computing.</p></td></tr><tr><td><p style=\"text-align:left;\"><i>Here are a few best practices for hybrid cloud management</i><br><br>Here are a few best practices for hybrid cloud management.<b><br>But first, let’s understand the basics of hybrid cloud computing.</b><br>What is a hybrid cloud?</p></td></tr><tr><td><p style=\"text-align:left;\"><i>Here are a few best practices for hybrid cloud management</i><br><br>But first, let’s understand the basics of hybrid cloud computing.<b><br>What is a hybrid cloud?</b><br></p></td></tr><tr><td><p style=\"text-align:left;\"><i>Hybrid Cloud Market Worth USD 173.33 Billion by 2025 Growing at 22.5% CAGR – Report by Market Research Future (MRFR)</i><br><br><b><br>The presence of several cloud computing marketers is adding to the hybrid cloud market growth in the region.</b><br>RoW to Have Sound Growth in Hybrid Cloud Market In the RoW, the global hybrid cloud market is predicted to have sound growth over the forecast period at a healthy 20.22% CAGR.</p></td></tr><tr><td><p style=\"text-align:left;\"><i>Hybrid Cloud Market Worth USD 173.33 Billion by 2025 Growing at 22.5% CAGR – Report by Market Research Future (MRFR)</i><br><br>The presence of several cloud computing marketers is adding to the hybrid cloud market growth in the region.<b><br>RoW to Have Sound Growth in Hybrid Cloud Market In the RoW, the global hybrid cloud market is predicted to have sound growth over the forecast period at a healthy 20.22% CAGR.</b><br></p></td></tr><tr><td><p style=\"text-align:left;\"><i>The Ridgway Record</i><br><br><b><br>New York, US, Market Overview: According to a comprehensive research report by Market Research Future (MRFR), “ Global Hybrid Cloud Market information by Service Type, by Components, by Vertical and Region – forecast to 2027 ” the market size to reach USD 173.33 Billion by 2025 with a CAGR of</b><br></p></td></tr><tr><td><p style=\"text-align:left;\"><i>Hybrid Cloud Market Worth USD 173.33 Billion by 2025 Growing at 22.5% CAGR - Report by Market Research Future (MRFR)</i><br><br><b><br>The expansion of the cloud infrastructure is adding to the global hybrid cloud market growth in the region.</b><br></p></td></tr><tr><td><p style=\"text-align:left;\"><i>NetApp Ontap Software and Hybrid Cloud Portfolio Enhancements</i><br><br><b><br>Enhancements to hybrid cloud portfolio and ONTAP data services include: Flexible Foundations for hybrid cloud Enterprises need to modernize their IT environments to enable hybrid cloud operations.</b><br></p></td></tr><tr><td><p style=\"text-align:left;\"><i>Interview with Mr. Ranganath Sadasiva Chief Technology Officer, Hybrid IT at Hewlett Packard Enterprise India</i><br><br><b><br>tomorrow would be to develop a Hybrid Cloud strategy.</b><br></p></td></tr><tr><td><p style=\"text-align:left;\"><i>Hybrid Cloud Services Market – Global Industry Analysis, Size, Share, Growth, Trends, and Forecast 2017 – 2025</i><br><br><b><br>Hybrid cloud is a cloud computing process which is a combinations of private cloud, third-party, on-premises and public cloud service with transposition between the two platforms.</b><br>Hybrid cloud is mainly valuable for highly or dynamic changeable workloads.</p></td></tr><tr><td><p style=\"text-align:left;\"><i>Hybrid Cloud Services Market – Global Industry Analysis, Size, Share, Growth, Trends, and Forecast 2017 – 2025</i><br><br>Hybrid cloud is a cloud computing process which is a combinations of private cloud, third-party, on-premises and public cloud service with transposition between the two platforms.<b><br>Hybrid cloud is mainly valuable for highly or dynamic changeable workloads.</b><br>Security, cost efficiency, flexibility and scalability are the main characteristics of hybrid cloud</p></td></tr><tr><td><p style=\"text-align:left;\"><i>Hybrid Cloud Services Market – Global Industry Analysis, Size, Share, Growth, Trends, and Forecast 2017 – 2025</i><br><br>Hybrid cloud is mainly valuable for highly or dynamic changeable workloads.<b><br>Security, cost efficiency, flexibility and scalability are the main characteristics of hybrid cloud</b><br></p></td></tr><tr><td><p style=\"text-align:left;\"><i>Cologix: Connectivity Is Key to Enabling Hybrid Cloud</i><br><br><b><br>A Connectivity-Centric Approach to Hybrid Cloud Solving the connectivity part of the hybrid cloud equation is at the core of Cologix’s hybrid cloud strategy.</b><br></p></td></tr><tr><td><p style=\"text-align:left;\"><i>Hybrid Cloud Services Market is Booming Worldwide With Amazon Web Services, Microsoft Corporation, Rackspace</i><br><br><b><br>Hybrid cloud is a cloud computing process that is a combination of private cloud, local, public, and public third-party cloud services with implementation between the two platforms.</b><br>The hybrid cloud is mainly useful for highly or dynamically changeable workloads.</p></td></tr><tr><td><p style=\"text-align:left;\"><i>Hybrid Cloud Services Market is Booming Worldwide With Amazon Web Services, Microsoft Corporation, Rackspace</i><br><br>Hybrid cloud is a cloud computing process that is a combination of private cloud, local, public, and public third-party cloud services with implementation between the two platforms.<b><br>The hybrid cloud is mainly useful for highly or dynamically changeable workloads.</b><br>Security, cost efficiency, flexibility, and scalability are the main characteristics of</p></td></tr><tr><td><p style=\"text-align:left;\"><i>Taking the Complexity Out of Hybrid Cloud with Colocation</i><br><br><b><br>Taking the Complexity Out of Hybrid Cloud with Colocation Written by Ernest Sampera June 14, 2021 Having a reliable colo partner for deploying hybrid cloud architecture can instill a sense of confidence in clients.</b><br></p></td></tr><tr><td><p style=\"text-align:left;\"><i>Moving to a hybrid cloud requires a roadmap</i><br><br><b><br>Ultimately, moving to a hybrid cloud lets you choose the best option for each workload so you can move data back and forth as your business requires .</b><br>Hybrid cloud is a balancing act The advantage of public cloud platforms is that it can help you computing resources at the</p></td></tr><tr><td><p style=\"text-align:left;\"><i>Moving to a hybrid cloud requires a roadmap</i><br><br>Ultimately, moving to a hybrid cloud lets you choose the best option for each workload so you can move data back and forth as your business requires .<b><br>Hybrid cloud is a balancing act The advantage of public cloud platforms is that it can help you computing resources at the</b><br></p></td></tr><tr><td><p style=\"text-align:left;\"><i>Hybrid Cloud Do's and Don'ts Summit</i><br><br>Be sure to join us!<b><br>Hybrid Clouds: The Good, The Bad and the Ugly Expert's Top 10 Hybrid Cloud Do's and</b><br></p></td></tr><tr><td><p style=\"text-align:left;\"><i>NetApp Delivers an Innovative, No-Compromise, Unified Hybrid Cloud Experience</i><br><br><b><br>The latest enhancements to NetApp’s hybrid cloud portfolio and ONTAP data services include: Flexible Foundations for Hybrid Cloud Enterprises need to modernize their IT environments to enable hybrid cloud operations.</b><br></p></td></tr><tr><td><p style=\"text-align:left;\"><i>NetApp Delivers an Innovative, No-Compromise, Unified Hybrid Cloud Experience</i><br><br><b><br>The latest enhancements to NetApp's hybrid cloud portfolio and ONTAP data services include: - Flexible Foundations for Hybrid Cloud: Enterprises need to modernize their IT environments to enable hybrid cloud operations.</b><br></p></td></tr><tr><td><p style=\"text-align:left;\"><i>NetApp Delivers an Innovative, No-Compromise, Unified Hybrid Cloud Experience</i><br><br><b><br>The latest enhancements to NetApp's hybrid cloud portfolio and ONTAP data services include: Flexible Foundations for Hybrid Cloud Enterprises need to modernize their IT environments to enable hybrid cloud operations.</b><br></p></td></tr><tr><td><p style=\"text-align:left;\"><i>NetApp provides an innovative, uncompromising, integrated hybrid cloud experience</i><br><br><b><br>NetApp’s hybrid cloud portfolio and ONTAP data services have the latest enhancements as follows: Flexible foundation for hybrid cloud Enterprises need to modernize their IT environment to realize their hybrid cloud.</b><br>NetApp has updated the underlying solution to provide better support.</p></td></tr><tr><td><p style=\"text-align:left;\"><i>NetApp unveils a new release of its ONTAP software - Channel Post MEA</i><br><br><b><br>Kim Stevenson, senior vice president and general manager, foundational data services business unit at NetApp The latest enhancements to NetApp’s hybrid cloud portfolio and ONTAP data services include: • Flexible Foundations for Hybrid Cloud Enterprises need to modernize their IT environments to enable hybrid cloud operations.</b><br></p></td></tr><tr><td><p style=\"text-align:left;\"><i>Hybrid Cloud Security Challenges And How To Overcome Them</i><br><br><b><br>This hybrid cloud is basically the best of both worlds, it helps the companies to get as much information and material they require and at the same time it is much safer than the public cloud.</b><br>And because of it all rounder qualities almost all of the most reliable hybrid</p></td></tr><tr><td><p style=\"text-align:left;\"><i>Hybrid cloud: The CIO’s fast lane to agility, simplicity and rapid business growth</i><br><br><b><br>Bridging the gap with hybrid cloud Think of hybrid cloud as the bridge between private (‘on-premises’) and public cloud, offered by so-called ‘hyperscalers’ such as Amazon Web Services (AWS), Microsoft Azure or in Google’s Cloud Platform.</b><br></p></td></tr><tr><td><p style=\"text-align:left;\"><i>NetApp Delivers an Innovative, No-Compromise, Unified Hybrid Cloud Experience</i><br><br><b><br>The latest enhancements to NetApp’s hybrid cloud portfolio and ONTAP data services include: Flexible Foundations for Hybrid Cloud: Enterprises need to modernize their IT environments to enable hybrid cloud operations.</b><br></p></td></tr><tr><td><p style=\"text-align:left;\"><i>NetApp Delivers an Innovative, No-Compromise, Unified Hybrid Cloud Experience</i><br><br><b><br>The latest enhancements to NetApp's hybrid cloud portfolio and ONTAP data services include: Flexible Foundations for Hybrid Cloud: Enterprises need to modernize their IT environments to enable hybrid cloud operations.</b><br></p></td></tr><tr><td><p style=\"text-align:left;\"><i>NetApp delivers an innovative, no-compromise, unified hybrid cloud experience - Intelligent CIO Europe</i><br><br><b><br>and ONTAP data services include: Flexible Foundations for hybrid cloud Enterprises need to modernise their IT environments to enable hybrid cloud operations.</b><br></p></td></tr><tr><td><p style=\"text-align:left;\"><i>Strengthened by NetApp Data Management, IBM Cloud Satellite Simplifies Hybrid Cloud Journey</i><br><br><b><br>Home » Cloud, Online Backup, SSPs, MSPs » Strengthened by NetApp Data Management, IBM Cloud Satellite Simplifies Hybrid Cloud Journey Strengthened by NetApp Data Management, IBM Cloud Satellite Simplifies Hybrid Cloud Journey Hybrid cloud portfolio combining flexibility to choose cloud partners with simplicity of management across on-premises, public, and hybrid</b><br></p></td></tr><tr><td><p style=\"text-align:left;\"><i>Hybrid Cloud</i><br><br><b><br>menu icon Hybrid Cloud Hybrid cloud combines and unifies public cloud, private cloud and on-premises infrastructure to create a single, flexible, cost-optimal IT infrastructure.</b><br>What is hybrid cloud?</p></td></tr><tr><td><p style=\"text-align:left;\"><i>Hybrid Cloud</i><br><br>menu icon Hybrid Cloud Hybrid cloud combines and unifies public cloud, private cloud and on-premises infrastructure to create a single, flexible, cost-optimal IT infrastructure.<b><br>What is hybrid cloud?</b><br>Hybrid cloud integrates public cloud services, private cloud services and on-premises infrastructure and provides orchestration, management and application portability across all three.</p></td></tr><tr><td><p style=\"text-align:left;\"><i>Hybrid Cloud</i><br><br>What is hybrid cloud?<b><br>Hybrid cloud integrates public cloud services, private cloud services and on-premises infrastructure and provides orchestration, management and application portability across all three.</b><br></p></td></tr><tr><td><p style=\"text-align:left;\"><i>IBM and Indian Institute of Science Launch Lab to Advance Hybrid Cloud Research</i><br><br><b><br>power of hybrid cloud by producing faster, seamless and more secure adoption of hybrid cloud & artificial intelligence.</b><br>Â A study from the IBM Institute for Business Value on hybrid cloud shows that the value from a hybrid multi-cloud platform technology and operating model at scale is 2.5 times the value</p></td></tr><tr><td><p style=\"text-align:left;\"><i>IBM and Indian Institute of Science Launch Lab to Advance Hybrid Cloud Research</i><br><br>power of hybrid cloud by producing faster, seamless and more secure adoption of hybrid cloud & artificial intelligence.<b><br>Â A study from the IBM Institute for Business Value on hybrid cloud shows that the value from a hybrid multi-cloud platform technology and operating model at scale is 2.5 times the value</b><br></p></td></tr><tr><td><p style=\"text-align:left;\"><i>Mapping Out a Hybrid Multicloud Strategy</i><br><br><b><br>The Cloud Paradox First, let’s look at the reasons why you would consider moving to multicloud or hybrid cloud architectures.</b><br></p></td></tr><tr><td><p style=\"text-align:left;\"><i>Platform as a Service (PaaS) (Public, Private and Hybrid Cloud) Market Growth Factors, Regional Analysis, Applications, & Manufacturers and Forecasts</i><br><br><b><br>source=atm Global Platform as a Service (PaaS) (Public, Private and Hybrid Cloud) market report on the basis of market players Market Segmentation - Public Cloud - Private Cloud - Hybrid Cloud - Application Development - Application Infrastructure and Middleware (AIM) - Business Intelligence Platform (BIP) - Database Management Systems (DBMS)</b><br></p></td></tr><tr><td><p style=\"text-align:left;\"><i>Hybrid Cloud Services Market Size & Revenue Analysis | Amazon Web Services, Microsoft, Rackspace,</i><br><br><b><br>This helps the buyer of the Hybrid Cloud Services report to gain a clear view of the competitive landscape and accordingly plan Hybrid Cloud Services market strategies.</b><br>An isolated section with top key players is provided in the report, which provides a complete analysis of price, gross, revenue(Mn), Hybrid Cloud</p></td></tr><tr><td><p style=\"text-align:left;\"><i>Hybrid Cloud Services Market Size & Revenue Analysis | Amazon Web Services, Microsoft, Rackspace,</i><br><br>This helps the buyer of the Hybrid Cloud Services report to gain a clear view of the competitive landscape and accordingly plan Hybrid Cloud Services market strategies.<b><br>An isolated section with top key players is provided in the report, which provides a complete analysis of price, gross, revenue(Mn), Hybrid Cloud</b><br></p></td></tr><tr><td><p style=\"text-align:left;\"><i>NetApp Delivers an Innovative, No-Compromise, Unified Hybrid Cloud Experience | Placera</i><br><br><b><br>hybrid cloud, unify data management across on-premises and cloud environments, and simplify consumption and operation of hybrid cloud services.</b><br></p></td></tr><tr><td><p style=\"text-align:left;\"><i>NetApp Updates ONTAP Software with Unified Hybrid Cloud Experience</i><br><br><b><br>The latest enhancements to NetApp’s hybrid cloud portfolio and ONTAP data services include: · Flexible Foundations for Hybrid Cloud Enterprises need to modernize their IT environments to enable hybrid cloud operations.</b><br></p></td></tr><tr><td><p style=\"text-align:left;\"><i>Best Hybrid Cloud Storage Vendors & Software 2021</i><br><br><b><br>The Future of Hybrid Cloud Storage Characteristics of a True Hybrid Cloud The term “hybrid” is a popular word in the technology industry, but it’s used to describe many computing environments that aren’t a true hybrid cloud.</b><br>Though hybrid cloud storage can encompass a variety of environments, it must: Offer</p></td></tr><tr><td><p style=\"text-align:left;\"><i>Best Hybrid Cloud Storage Vendors & Software 2021</i><br><br>The Future of Hybrid Cloud Storage Characteristics of a True Hybrid Cloud The term “hybrid” is a popular word in the technology industry, but it’s used to describe many computing environments that aren’t a true hybrid cloud.<b><br>Though hybrid cloud storage can encompass a variety of environments, it must: Offer</b><br></p></td></tr><tr><td><p style=\"text-align:left;\"><i>NetApp Delivers an Innovative, No-Compromise, Unified Hybrid Cloud Experience</i><br><br><b><br>consumption and operation of hybrid cloud services.</b><br></p></td></tr><tr><td><p style=\"text-align:left;\"><i>Virtuozzo Hybrid Cloud allows MSPs and CSPs to focus on value-added services</i><br><br><b><br>Share Virtuozzo Hybrid Cloud allows MSPs and CSPs to focus on value-added services Virtuozzo has announced the availability of its newest product, Virtuozzo Hybrid Cloud.</b><br>The solution enables Managed Service Providers (MSPs) and Cloud Service Providers (CSP) to design, build and sell modern cloud services to customers quickly and more</p></td></tr><tr><td><p style=\"text-align:left;\"><i>Boost hybrid cloud security</i><br><br><b><br>Security Boost hybrid cloud security There are so many benefits to operating on a hybrid cloud model, but 81% of enterprises cite cloud security as a challenge.</b><br></p></td></tr><tr><td><p style=\"text-align:left;\"><i>Getting Future Ready with a Modernized Hybrid Cloud Environment</i><br><br><b><br>Getting Future Ready with a Modernized Hybrid Cloud Environment 0 share Getting Future Ready Hybrid cloud is the foundation in which modernized organizations are built, and organizations need a modern platform and infrastructure to get the most out of their hybrid cloud environments.</b><br></p></td></tr><tr><td><p style=\"text-align:left;\"><i>Hybrid Cloud Storage Market Evenly Poised To Reach A Market Value Of ~US$ By 2017 – 2027</i><br><br><b><br>Hybrid Cloud Storage Market Evenly Poised To Reach A Market Value Of ~US$ By 2017 – 2027 Hybrid Cloud Storage Market Evenly Poised To Reach A Market Value Of ~US$ By 2017 – 2027 [email protected] Hybrid Cloud Storage Market , Hybrid Cloud Storage Market Dynamics , Hybrid Cloud Storage</b><br></p></td></tr><tr><td><p style=\"text-align:left;\"><i>Hybrid Cloud Market 2021-2026 Recent Trends and Precise Outlook- Microsoft Corporation, Amazon Web Services, Vmware, Rackspace, Hewlett Packard Enterprise</i><br><br><b><br>Get Free Sample PDF Copy of Latest Research on Hybrid Cloud Market2021 before the purchase https://www.marketinsightsreports.com/reports/01091745289/hybrid-cloud-market-growth-trends-and-forecast-2020-2025/inquiry?</b><br></p></td></tr><tr><td><p style=\"text-align:left;\"><i>Q&A: Despite challenges, hybrid cloud is way forward, says NTT</i><br><br><b><br>To be sure, hybrid cloud also brings security and compliance complexities.</b><br>This is why, many enterprises understand the importance of the first step – selecting the right vendor for hybrid cloud.</p></td></tr><tr><td><p style=\"text-align:left;\"><i>Q&A: Despite challenges, hybrid cloud is way forward, says NTT</i><br><br>To be sure, hybrid cloud also brings security and compliance complexities.<b><br>This is why, many enterprises understand the importance of the first step – selecting the right vendor for hybrid cloud.</b><br></p></td></tr><tr><td><p style=\"text-align:left;\"><i>NetApp Delivers an Innovative, No-Compromise, Unified Hybrid Cloud Experience</i><br><br><b><br>and operation of hybrid cloud services.</b><br></p></td></tr><tr><td><p style=\"text-align:left;\"><i>IBM Cloud Satellite goes GA</i><br><br>For IBM, a key differentiator will be third party ecosystem as it will allow Cloud Satellite to support highly specialized solutions currently absent from other hybrid platforms.<b><br>IBM already counts 65 hybrid cloud partners.</b><br></p></td></tr><tr><td><p style=\"text-align:left;\"><i>Boost hybrid cloud security</i><br><br><b><br>Site Map Boost hybrid cloud security There are so many benefits to operating on a hybrid cloud model, but 81% of enterprises cite cloud security as a challenge.</b><br></p></td></tr><tr><td><p style=\"text-align:left;\"><i>What to Consider When Choosing Between Hybrid and Multicloud</i><br><br><b><br>Hybrid Cloud Hybrid cloud setups bring together public cloud with private cloud platforms or on-premises infrastructures like local data centers or other types of IT infrastructure running within the corporate network.</b><br>These components are usually designed to work together where processes and data intersect.</p></td></tr><tr><td><p style=\"text-align:left;\"><i>Hybrid Cloud 101 Summit</i><br><br><b><br>EDT Hybrid Cloud 103: Hottest Third-Party Tools Register now!</b><br></p></td></tr><tr><td><p style=\"text-align:left;\"><i>revamps hybrid cloud strategy to accelerate enterprise cloud adoption</i><br><br><b><br>To enable joint innovation and service delivery with hybrid cloud partners, Alibaba Cloud launched its Hybrid Cloud Partner Program to provide an ecosystem for capable partners to plan, design, and resell services to propel customers’ hybrid cloud adoption journey.</b><br></p></td></tr><tr><td><p style=\"text-align:left;\"><i>7 characteristics of successful hybrid cloud strategies</i><br><br><b><br>Security 7 characteristics of successful hybrid cloud strategies The majority of organizations have made the switch to a hybrid cloud model to gain the benefits of public cloud, while still supporting ang and running on-premise and private cloud workloads.</b><br>A hybrid cloud environment simplifies digital transformation by providing interoperability, workload</p></td></tr><tr><td><p style=\"text-align:left;\"><i>7 characteristics of successful hybrid cloud strategies</i><br><br>Security 7 characteristics of successful hybrid cloud strategies The majority of organizations have made the switch to a hybrid cloud model to gain the benefits of public cloud, while still supporting ang and running on-premise and private cloud workloads.<b><br>A hybrid cloud environment simplifies digital transformation by providing interoperability, workload</b><br></p></td></tr><tr><td><p style=\"text-align:left;\"><i>Platform as a Service (PaaS) (Public, Private and Hybrid Cloud) Market , 2019-2025 by Segmentation: Based on Product, Application and Region</i><br><br><b><br>information of global Platform as a Service (PaaS) (Public, Private and Hybrid Cloud) market for period of 2018 to 2025.</b><br></p></td></tr><tr><td><p style=\"text-align:left;\"><i>Happiness is hybrid | IT PRO</i><br><br><b><br>Hybrid cloud, then, is the future, and platforms like GreenLake the best way to provision, run and manage hybrid cloud.</b><br>Find how HPE GreenLake can deliver the hybrid cloud your business needs hybrid cloud HPE The Future is Edge-to-Cloud</p></td></tr><tr><td><p style=\"text-align:left;\"><i>Happiness is hybrid | IT PRO</i><br><br>Hybrid cloud, then, is the future, and platforms like GreenLake the best way to provision, run and manage hybrid cloud.<b><br>Find how HPE GreenLake can deliver the hybrid cloud your business needs hybrid cloud HPE The Future is Edge-to-Cloud</b><br></p></td></tr><tr><td><p style=\"text-align:left;\"><i>Hybrid Cloud – the game changer in the age of the intelligent industry</i><br><br><b><br>Given these benefits, hybrid cloud architecture is becoming the norm.</b><br>Today, all hyperscale service providers have developed their own Hybrid Cloud offerings – Amazon’s AWS outpost, Google’s Anthos, and Microsoft’s Azure Arc.</p></td></tr><tr><td><p style=\"text-align:left;\"><i>Hybrid Cloud – the game changer in the age of the intelligent industry</i><br><br>Given these benefits, hybrid cloud architecture is becoming the norm.<b><br>Today, all hyperscale service providers have developed their own Hybrid Cloud offerings – Amazon’s AWS outpost, Google’s Anthos, and Microsoft’s Azure Arc.</b><br></p></td></tr><tr><td><p style=\"text-align:left;\"><i>Cybersecurity Fears Trigger Migration From the Public Cloud | Cybersecurity</i><br><br><b><br>The benefits of hybrid clouds are already clear.</b><br>Some 61 percent of organizations globally are already using or piloting, hybrid cloud.</p></td></tr><tr><td><p style=\"text-align:left;\"><i>Cybersecurity Fears Trigger Migration From the Public Cloud | Cybersecurity</i><br><br>The benefits of hybrid clouds are already clear.<b><br>Some 61 percent of organizations globally are already using or piloting, hybrid cloud.</b><br>Hybrid cloud is the future: The study found that a further 32.7 percent of respondents plan to implement a hybrid solution within 12 to 24 months.</p></td></tr><tr><td><p style=\"text-align:left;\"><i>Cybersecurity Fears Trigger Migration From the Public Cloud | Cybersecurity</i><br><br>Some 61 percent of organizations globally are already using or piloting, hybrid cloud.<b><br>Hybrid cloud is the future: The study found that a further 32.7 percent of respondents plan to implement a hybrid solution within 12 to 24 months.</b><br></p></td></tr><tr><td><p style=\"text-align:left;\"><i>Advance your business with a hybrid environment</i><br><br><b><br>Site Map Advance your business with a hybrid environment Hybrid cloud technologies can help you achieve greater business agility, efficiency, and competitive advantage.</b><br>In fact, 58% of enterprises have a hybrid cloud strategy and 69% use hybrid cloud technologies to move their business forward.</p></td></tr><tr><td><p style=\"text-align:left;\"><i>Advance your business with a hybrid environment</i><br><br>Site Map Advance your business with a hybrid environment Hybrid cloud technologies can help you achieve greater business agility, efficiency, and competitive advantage.<b><br>In fact, 58% of enterprises have a hybrid cloud strategy and 69% use hybrid cloud technologies to move their business forward.</b><br>However, implementing an effective hybrid cloud</p></td></tr><tr><td><p style=\"text-align:left;\"><i>Advance your business with a hybrid environment</i><br><br>In fact, 58% of enterprises have a hybrid cloud strategy and 69% use hybrid cloud technologies to move their business forward.<b><br>However, implementing an effective hybrid cloud</b><br></p></td></tr><tr><td><p style=\"text-align:left;\"><i>IBM and IISc launch research lab to advance hybrid cloud, AI technology adoption</i><br><br><b><br>An in-house study by IBM on hybrid cloud reveals the hybrid value derived from multi-cloud platform technology is 2.5 times of what it would be from a single cloud, thus leading business to invest in hybrid multi-cloud platform to drive business transformation.</b><br></p></td></tr><tr><td><p style=\"text-align:left;\"><i>NetApp ONTAP software powers data services on premises and in the cloud</i><br><br><b><br>of hybrid cloud services.</b><br></p></td></tr><tr><td><p style=\"text-align:left;\"><i>Get the latest in telecom and enterprise news and updates on Communications Today.</i><br><br>What are the changes IBM India may go through to align itself with the company’s newly accelerated global shift towards cloud computing and AI?<b><br>We are redefining our future as a hybrid cloud platform and AI company.</b><br>Over the last few years, we have built a solid foundation for hybrid</p></td></tr><tr><td><p style=\"text-align:left;\"><i>Five points to help you find the right cloud strategy for your business</i><br><br><b><br>Hybrid cloud is a driver for cost efficiency A more efficient total cost of IT operations is the biggest driver of hybrid cloud adoption, and it’s easy to see why.</b><br></p></td></tr><tr><td><p style=\"text-align:left;\"><i>7 characteristics of successful hybrid cloud strategies</i><br><br><b><br>Site Map 7 characteristics of successful hybrid cloud strategies The majority of organizations have made the switch to a hybrid cloud model to gain the benefits of public cloud, while still supporting ang and running on-premise and private cloud workloads.</b><br>A hybrid cloud environment simplifies digital transformation by providing interoperability,</p></td></tr><tr><td><p style=\"text-align:left;\"><i>7 characteristics of successful hybrid cloud strategies</i><br><br>Site Map 7 characteristics of successful hybrid cloud strategies The majority of organizations have made the switch to a hybrid cloud model to gain the benefits of public cloud, while still supporting ang and running on-premise and private cloud workloads.<b><br>A hybrid cloud environment simplifies digital transformation by providing interoperability,</b><br></p></td></tr><tr><td><p style=\"text-align:left;\"><i>iisc bengaluru and ibm launch a lab for hybrid cloud research</i><br><br><b><br>Will do The value derived from a hybrid, multi-cloud platform technology and operating model is 2.5 times the value derived from a single platform, single cloud, according to an IBM Institute for Business Value (IBV) study on the hybrid cloud.</b><br>Thatâs why weâre investing in hybrid multi-cloud platform capabilities.</p></td></tr><tr><td><p style=\"text-align:left;\"><i>AI, cyber terrain analytics improve hybrid multicloud security</i><br><br><b><br>The first two articles in this series explain how getting hybrid cloud security right is hard and how the SolarWinds hack exposed hybrid clouds’ greatest weaknesses.</b><br>This post lays out an approach to solve hybrid cloud security challenges today.</p></td></tr><tr><td><p style=\"text-align:left;\"><i>AI, cyber terrain analytics improve hybrid multicloud security</i><br><br>The first two articles in this series explain how getting hybrid cloud security right is hard and how the SolarWinds hack exposed hybrid clouds’ greatest weaknesses.<b><br>This post lays out an approach to solve hybrid cloud security challenges today.</b><br></p></td></tr><tr><td><p style=\"text-align:left;\"><i>Advance your business with a hybrid environment</i><br><br><b><br>Security Advance your business with a hybrid environment Hybrid cloud technologies can help you achieve greater business agility, efficiency, and competitive advantage.</b><br>However, implementing an effective hybrid cloud strategy</p></td></tr><tr><td><p style=\"text-align:left;\"><i>Advance your business with a hybrid environment</i><br><br>Security Advance your business with a hybrid environment Hybrid cloud technologies can help you achieve greater business agility, efficiency, and competitive advantage.<b><br>However, implementing an effective hybrid cloud strategy</b><br></p></td></tr><tr><td><p style=\"text-align:left;\"><i>Best Practices for Managing a Hybrid Cloud Environment</i><br><br><b><br>Best Practices for Managing a Hybrid Cloud Environment Now Available On-Demand Real-world expert insights on the how, why and when to use a hybrid cloud environment.</b><br>Hybrid cloud makes a lot of sense because you can begin your organization's cloud journey gradually.</p></td></tr><tr><td><p style=\"text-align:left;\"><i>Best Practices for Managing a Hybrid Cloud Environment</i><br><br>Best Practices for Managing a Hybrid Cloud Environment Now Available On-Demand Real-world expert insights on the how, why and when to use a hybrid cloud environment.<b><br>Hybrid cloud makes a lot of sense because you can begin your organization's cloud journey gradually.</b><br>However, maintaining both local and cloud-based infrastructure brings</p></td></tr><tr><td><p style=\"text-align:left;\"><i>NetApp Delivers an Innovative, No-Compromise, Unified Hybrid Cloud Experience | Financial Buzz</i><br><br><b><br>hybrid cloud services.</b><br></p></td></tr><tr><td><p style=\"text-align:left;\"><i>Global Hybrid Cloud Market, By Component, By Delivery Model, By Organization Size, By End User, By Region, Competition, Forecast & Opportunities, 2026 - Stocks News Feed</i><br><br><b><br>Global Hybrid Cloud Market based on component, delivery model, organization size, end user, and regional distribution. •</b><br>To identify dominant region or segment in the Global Hybrid Cloud Market. •</p></td></tr><tr><td><p style=\"text-align:left;\"><i>Global Hybrid Cloud Market, By Component, By Delivery Model, By Organization Size, By End User, By Region, Competition, Forecast & Opportunities, 2026 - Stocks News Feed</i><br><br>Global Hybrid Cloud Market based on component, delivery model, organization size, end user, and regional distribution. •<b><br>To identify dominant region or segment in the Global Hybrid Cloud Market. •</b><br>To identify drivers and challenges for Global Hybrid Cloud Market. •</p></td></tr></table>"
      ],
      "text/plain": [
       "<IPython.core.display.HTML object>"
      ]
     },
     "metadata": {},
     "output_type": "display_data"
    }
   ],
   "source": [
    "import re\n",
    "all_candidates = [sent for sent in all_sentences  if re.search(dc_re,sent['text'],re.IGNORECASE) and sent['wordcount'] < max_sentence_length]\n",
    "print('Total number of sentences containing the topic:' + str(len(all_candidates)))\n",
    "print_candidates(\"Example candidates\", all_candidates[0:100], ['html'])"
   ]
  },
  {
   "cell_type": "markdown",
   "metadata": {},
   "source": [
    "We now score the candidate sentences' stance toward the topic using the Debater Pro/Con service.  "
   ]
  },
  {
   "cell_type": "code",
   "execution_count": 9,
   "metadata": {},
   "outputs": [
    {
     "name": "stderr",
     "output_type": "stream",
     "text": [
      "ProConClient: 100%|██████████| 2723/2723 [00:10<00:00, 246.05it/s]"
     ]
    }
   ],
   "source": [
    "sentence_topic_dicts = [{'sentence' : sentence['text'], 'topic' : topic } for sentence in all_candidates]\n",
    "pro_con_scores = debater_api.get_pro_con_client().run(sentence_topic_dicts)\n",
    "for sentence, pro_con_score in zip(all_candidates, pro_con_scores):\n",
    "    sentence['procon'] = round(pro_con_score, 3)\n"
   ]
  },
  {
   "cell_type": "markdown",
   "metadata": {},
   "source": [
    "Similarly, we score the candidate sentences according to the Debater Evidence Detection service."
   ]
  },
  {
   "cell_type": "code",
   "execution_count": 10,
   "metadata": {},
   "outputs": [
    {
     "name": "stderr",
     "output_type": "stream",
     "text": [
      "ProConClient: 100%|██████████| 2723/2723 [00:10<00:00, 251.82it/s]\n",
      "EvidenceDetectionClient: 100%|██████████| 2723/2723 [01:24<00:00, 28.52it/s] "
     ]
    }
   ],
   "source": [
    "evidence_scores = debater_api.get_evidence_detection_client().run(sentence_topic_dicts)\n",
    "for sentence, evidence_score in zip(all_candidates, evidence_scores):\n",
    "    sentence['evidence'] = round(evidence_score, 3)\n"
   ]
  },
  {
   "cell_type": "markdown",
   "metadata": {},
   "source": [
    "We now print the top 20 statements that have the highest combination of evidence and stance scores."
   ]
  },
  {
   "cell_type": "code",
   "execution_count": 11,
   "metadata": {},
   "outputs": [
    {
     "data": {
      "text/html": [
       "<h2>Most argumentative</h2>"
      ],
      "text/plain": [
       "<IPython.core.display.HTML object>"
      ]
     },
     "metadata": {},
     "output_type": "display_data"
    },
    {
     "name": "stdout",
     "output_type": "stream",
     "text": [
      "Number of candidates: 20\n"
     ]
    },
    {
     "data": {
      "text/html": [
       "<table><tr><td><p style=\"text-align:left;\">html</p></td><td><p style=\"text-align:left;\">procon</p></td><td><p style=\"text-align:left;\">evidence</p></td></tr><tr><td><p style=\"text-align:left;\"><i>Overcoming Security as a Barrier to Cloud Adoption</i><br><br><b><br>A recent report found that nearly 94 percent of organizations responding to the survey agreed that the hybrid cloud is critical for meeting their immediate business needs.</b><br>More than six in 10 of respondents said they are already using or piloting hybrid cloud services, with another third planning to roll</p></td><td><p style=\"text-align:left;\">0.999</p></td><td><p style=\"text-align:left;\">0.998</p></td></tr><tr><td><p style=\"text-align:left;\"><i>Challenges Faced in South Africa Haven’t Stopped Its Race to Join a Digital Future – IT News Africa</i><br><br><b><br>According to the third annual Nutrix Enterprise Cloud Index, the vast majority of IT respondents in South Africa (88%) and globally (87%) reported that hybrid cloud is the ideal infrastructure model for their organisation.</b><br></p></td><td><p style=\"text-align:left;\">0.999</p></td><td><p style=\"text-align:left;\">0.998</p></td></tr><tr><td><p style=\"text-align:left;\"><i>Challenges Faced in South Africa Haven't Stopped Its Race to Join a Digital Future</i><br><br>However, cost implications are a key factor in harmonising and upgrading existing IT infrastructure or migrating workloads to the cloud.<b><br>According to the third annual Nutrix Enterprise Cloud Index, the vast majority of IT respondents in South Africa (88%) and globally (87%) reported that hybrid cloud is the ideal infrastructure model</b><br></p></td><td><p style=\"text-align:left;\">0.999</p></td><td><p style=\"text-align:left;\">0.998</p></td></tr><tr><td><p style=\"text-align:left;\"><i>Challenges don’t stop SA in race to digital future</i><br><br><b><br>According to the third annual Nutrix Enterprise Cloud Index, the vast majority of IT respondents in South Africa (88%) and globally (87%) reported that a hybrid cloud is the ideal infrastructure model for their organisation.</b><br></p></td><td><p style=\"text-align:left;\">0.999</p></td><td><p style=\"text-align:left;\">0.997</p></td></tr><tr><td><p style=\"text-align:left;\"><i>Asian cloud providers maintain strong reputation in the region</i><br><br><b><br>A vast majority (85%) of businesses feel that cloud-native solutions have helped them cope with the impact of the pandemic and 69% reported that a hybrid cloud approach supported them in disaster recovery and business continuity planning.</b><br>This proved especially true in regions like Indonesia, where 64% of businesses see</p></td><td><p style=\"text-align:left;\">0.999</p></td><td><p style=\"text-align:left;\">0.996</p></td></tr><tr><td><p style=\"text-align:left;\"><i>CloudBolt Enhances Cost Management, Compliance and Governance, and Codeless IT Integrations with New Technology Release</i><br><br><b><br>According to the CloudBolt Industry Insights (CII) report , The Truth About Hybrid Cloud and Digital Transformation , 94% of ITOps leaders said that hybrid cloud is critical to digital transformation.</b><br>Specifically, the top three initiatives most critical for hybrid cloud include: accelerating automation initiatives, optimizing cloud spend, and enabling</p></td><td><p style=\"text-align:left;\">0.998</p></td><td><p style=\"text-align:left;\">0.994</p></td></tr><tr><td><p style=\"text-align:left;\"><i>CloudBolt responds to demand for hybrid cloud and automation</i><br><br><b><br>According to the CloudBolt Industry Insights (CII) report, The Truth About Hybrid Cloud and Digital Transformation, 94% of ITOps leaders said that hybrid cloud is critical to digital transformation.</b><br>Specifically, the top three initiatives most critical for hybrid cloud include: accelerating automation initiatives, optimising cloud spend, and enabling self-service IT.</p></td><td><p style=\"text-align:left;\">0.998</p></td><td><p style=\"text-align:left;\">0.994</p></td></tr><tr><td><p style=\"text-align:left;\"><i>IBM Tops Second-Quarter Earnings Forecast, Cloud Revenue Impresses</i><br><br><b><br>CEO Arvind Krishna says 'client adoption of our hybrid cloud platform contributed to strong performance in Global Business Services and software and drove improved overall revenue growth.'</b><br>Author: Martin Baccardax International Business Machines ( IBM ) - Get Report posted stronger-than-expected second-quarter earnings Monday as cloud revenue and operating margins</p></td><td><p style=\"text-align:left;\">0.999</p></td><td><p style=\"text-align:left;\">0.992</p></td></tr><tr><td><p style=\"text-align:left;\"><i>KKR Completes Acquisition of Ensono</i><br><br><b><br>The 3 Biggest Hybrid Cloud Potholes on the Road to Digital Transformation June 03, 2021 IT leaders across the board agree that hybrid cloud is essential for digital transformation (94%), according to the The Truth About Hybrid Cloud and Digital Transformation , a report from CloudBolt and social research platform</b><br></p></td><td><p style=\"text-align:left;\">0.996</p></td><td><p style=\"text-align:left;\">0.993</p></td></tr><tr><td><p style=\"text-align:left;\"><i>VST ECS Tech Summit 2021: The Future of Business</i><br><br><b><br>“Red Hat believes that the open hybrid cloud can help solve and provide business and enterprise problems: Flexibility + Consistency + Efficiency.</b><br>Red Hat has a vision for open hybrid cloud for nearly seven years already.</p></td><td><p style=\"text-align:left;\">0.999</p></td><td><p style=\"text-align:left;\">0.989</p></td></tr><tr><td><p style=\"text-align:left;\"><i>Second-quarter revenues beat forecasts at IBM - Sharecast.com</i><br><br><b><br>Arvind Krishna, chief executive, said: “Client adoption of our hybrid cloud platform contributed to the strong performance in global business services and software, and drove improved overall revenue growth. “</b><br>We are pleased with our progress and we remain on track to deliver full-year revenue growth and meet out cash flow</p></td><td><p style=\"text-align:left;\">0.998</p></td><td><p style=\"text-align:left;\">0.987</p></td></tr><tr><td><p style=\"text-align:left;\"><i>The 3 Biggest Hybrid Cloud Potholes on the Road to Digital Transformation</i><br><br><b><br>The 3 Biggest Hybrid Cloud Potholes on the Road to Digital Transformation June 03, 2021 Grant Ho CloudBolt IT leaders across the board agree that hybrid cloud is essential for digital transformation (94%), according to the The Truth About Hybrid Cloud and Digital Transformation , a report from CloudBolt and</b><br></p></td><td><p style=\"text-align:left;\">0.993</p></td><td><p style=\"text-align:left;\">0.989</p></td></tr><tr><td><p style=\"text-align:left;\"><i>Robotic Data Automation (RDA) AIOps Studio | Free Signup and Getting Started</i><br><br><b><br>Robotic Data Automation (RDA) AIOps Studio | Free Signup and Getting Started The Latest The 3 Biggest Hybrid Cloud Potholes on the Road to Digital Transformation June 03, 2021 IT leaders across the board agree that hybrid cloud is essential for digital transformation (94%), according to the The Truth About</b><br></p></td><td><p style=\"text-align:left;\">0.997</p></td><td><p style=\"text-align:left;\">0.985</p></td></tr><tr><td><p style=\"text-align:left;\"><i>Technology Trends: The Cloud Video Storage Economics</i><br><br><b><br>“Hybrid cloud has established itself as the preferred technique, providing many key benefits in the knowledge of the protection camera, the ultimate purpose of any video control solution,” kelson says. “</b><br>A well-deployed hybrid strategy does not require a permanent connection to the cloud and is partial or general disruptions.</p></td><td><p style=\"text-align:left;\">0.998</p></td><td><p style=\"text-align:left;\">0.978</p></td></tr><tr><td><p style=\"text-align:left;\"><i>OpsRamp Enhances Partner Program</i><br><br><b><br>The Latest The 3 Biggest Hybrid Cloud Potholes on the Road to Digital Transformation June 03, 2021 IT leaders across the board agree that hybrid cloud is essential for digital transformation (94%), according to the The Truth About Hybrid Cloud and Digital Transformation , a report from CloudBolt and social</b><br></p></td><td><p style=\"text-align:left;\">0.995</p></td><td><p style=\"text-align:left;\">0.978</p></td></tr><tr><td><p style=\"text-align:left;\"><i>[Africa Cloud Review] Simon Ngunjiri: Cloud computing is shaping Africa’s technological infrastructure growth</i><br><br>A new IBM study conducted by the International Data Corporation (IDC), also revealed that 84% of South African C-Suite are either pursuing or planning hybrid cloud strategies .<b><br>According to the study, C-Suite executives in South Africa are prioritising the implementation of hybrid cloud strategies to benefit from flexibility, cost</b><br></p></td><td><p style=\"text-align:left;\">0.995</p></td><td><p style=\"text-align:left;\">0.971</p></td></tr><tr><td><p style=\"text-align:left;\"><i>Platform as a service (PaaS) Global Market Report 2021 Featuring Major Players – Amazon Web Service, Salesforce Platform, IBM Cloud Foundry, Microsoft Azure and Google Cloud Function – ResearchAndMarkets.com</i><br><br><b><br>Companies in the industry are increasingly preferring hybrid cloud solutions to increase efficiency, innovation, and reduce costs.</b><br>Hybrid Cloud refers to a cloud infrastructure environment that is a mixture of private cloud, on-premises computing and public cloud solutions.</p></td><td><p style=\"text-align:left;\">0.996</p></td><td><p style=\"text-align:left;\">0.965</p></td></tr><tr><td><p style=\"text-align:left;\"><i>Digital transformation and the role of hybrid cloud</i><br><br>So they can use hybrid cloud to help them on their digital transformation journey.”<b><br>Moosa explains that there are four steps in the digital transformation maturity model, with hybrid cloud as an important enabling technology.</b><br>The first step is modernising the platform to support hybrid cloud.</p></td><td><p style=\"text-align:left;\">0.994</p></td><td><p style=\"text-align:left;\">0.966</p></td></tr><tr><td><p style=\"text-align:left;\"><i>HPE expands GreenLake services in Taiwan</i><br><br><b><br>HPE Taiwan chairman and managing director Jon Wang pointed out that enterprises have become keen on adopting hybrid cloud systems amid increasing demand for more flexible and instantaneous services.</b><br>HPE Taiwan's revenues from GreenLake have been rising in the past few years, Wang said.</p></td><td><p style=\"text-align:left;\">0.989</p></td><td><p style=\"text-align:left;\">0.97</p></td></tr><tr><td><p style=\"text-align:left;\"><i>IBM revenue jumps thanks to cloud growth</i><br><br><b><br>In the release, IBM chairman and CEO Arvind Krishna said client adoption of IBM’s hybrid cloud platform contributed to a strong performance in global business services and software during the second quarter.</b><br></p></td><td><p style=\"text-align:left;\">0.991</p></td><td><p style=\"text-align:left;\">0.966</p></td></tr></table>"
      ],
      "text/plain": [
       "<IPython.core.display.HTML object>"
      ]
     },
     "metadata": {},
     "output_type": "display_data"
    }
   ],
   "source": [
    "print_top_by_function(\"Most argumentative\",all_candidates,\n",
    "                          function=lambda candidate: -abs(candidate['procon'])-candidate['evidence'],\n",
    "                                                       fields = ['html','procon','evidence'])"
   ]
  },
  {
   "cell_type": "markdown",
   "metadata": {},
   "source": [
    "### Generate narrative\n",
    "\n",
    "We now use the narrative generation service to automatically generate a short supporting narrative for the topic, based on the most argumentative evidence found."
   ]
  },
  {
   "cell_type": "code",
   "execution_count": 12,
   "metadata": {},
   "outputs": [
    {
     "name": "stderr",
     "output_type": "stream",
     "text": [
      "\n",
      "ProConClient:   0%|          | 0/93 [00:00<?, ?it/s]\u001b[A"
     ]
    },
    {
     "name": "stdout",
     "output_type": "stream",
     "text": [
      "Generating speech:\n",
      "Number of sentences passed to speech generation: 93\n"
     ]
    },
    {
     "name": "stderr",
     "output_type": "stream",
     "text": [
      "\n",
      "ProConClient: 100%|██████████| 93/93 [00:00<00:00, 120.07it/s]\u001b[A"
     ]
    },
    {
     "name": "stdout",
     "output_type": "stream",
     "text": [
      "21/07/2021 16:56:25, SpeechResultResponse=60f82788ed7ca41fdb889561, motionGenerationid=0, status=RUNNING, started to wait at 21/07/2021 16:56:24\n",
      "21/07/2021 16:56:35, SpeechResultResponse=60f82788ed7ca41fdb889561, motionGenerationid=0, status=RUNNING, started to wait at 21/07/2021 16:56:24\n"
     ]
    },
    {
     "name": "stderr",
     "output_type": "stream",
     "text": [
      "EvidenceDetectionClient: 100%|██████████| 2723/2723 [01:39<00:00, 28.52it/s]\n",
      "ProConClient: 100%|██████████| 93/93 [00:24<00:00,  3.78it/s] \u001b[A"
     ]
    },
    {
     "name": "stdout",
     "output_type": "stream",
     "text": [
      "\n",
      "\n",
      "Speech:DONE\n",
      "The following speech is based on 93 mined from Watson Discovery News supporting the notion that We should support Hybrid cloud. \n",
      "\n",
      "Let's turn to four issues mentioned by the crowd: ecosystems, businesses, digital transformation and investments. \n",
      "\n",
      "Let's talk about ecosystems.  The IBM Cloud for Financial Services with a control framework to help financial institutions accelerate hybrid cloud adoption and drive revenue growth while addressing their need for a secure and compliant partner ecosystem,\" said Brendan Kinkade, Vice President, Technology and Hybrid Cloud Partnerships, IBM.  \n",
      "\n",
      "The next issue is businesses.  The report finds that together with investments in public, private and hybrid cloud solutions, the Omani economy will enable businesses to generate nearly RO 387 million in net new revenues over the next five years.   A vast majority of businesses feel that cloud-native solutions have helped them cope with the impact of the pandemic and 69% reported that a hybrid cloud approach supported them in disaster recovery and business continuity planning.   AWS also offers a hybrid cloud computing service enabling its tenet for flexibility thus giving an avenue for people to think innovatively and build the business the way they want.   Today, more than 91% of all businesses use either a public, private, or hybrid cloud solution -- and they continue to embrace cloud migration to improve elasticity, efficiency, and innovation.  \n",
      "\n",
      "Moving on to digital transformation. The 3 Biggest Hybrid Cloud Potholes on the Road to Digital Transformation June 03, 2021 IT leaders across the board agree that hybrid cloud is essential for digital transformation, according to the The Truth About Hybrid Cloud and Digital Transformation, a report from CloudBolt and social research platform.  With the acquisition of Waeg, IBM is deepening its investments in hybrid cloud and AI to manage complex integrations and unify people, process and technology to support deliver digital transformation for enterprise clients.   Moosa explains that there are four steps in the digital transformation maturity model, with hybrid cloud as an important enabling technology.  \n",
      "\n",
      "The last issue is investments.  As per Nasscom's report, 63% of India's enterprises have increased investments in hybrid cloud which is higher than the global average of 46%.  \n",
      "\n",
      "For all these reasons, the crowd is supporting the notion that We should support Hybrid cloud. Thanks for tuning in.\n"
     ]
    },
    {
     "name": "stderr",
     "output_type": "stream",
     "text": [
      "\n"
     ]
    }
   ],
   "source": [
    "# customize opening statement\n",
    "opening_statement_customization_dict = {\n",
    "    'type' : 'openingStatement',\n",
    "    'items':\n",
    "        [\n",
    "              {\n",
    "                'key': 'Opening_statement',\n",
    "                'value': ' The following speech is based on <NUM_SBC_ARGUMENTS_SUGGESTED> mined from Watson Discovery News supporting the notion that <MOTION>.',\n",
    "                'itemType' : 'single_string'\n",
    "              },        \n",
    "        ]\n",
    "}\n",
    "\n",
    "print('Generating speech:')\n",
    "\n",
    "sentences = [ sentence['text'] for sentence in all_candidates if sentence['evidence'] > 0.7]\n",
    "print('Number of sentences passed to speech generation: ' + str(len(sentences)))\n",
    "narrative_generation_client = debater_api.get_narrative_generation_client()\n",
    "sentence_topic_dicts = [{'sentence' : sentence, 'topic' : topic } for sentence in sentences]\n",
    "pro_con_scores = debater_api.get_pro_con_client().run(sentence_topic_dicts)\n",
    "speech = narrative_generation_client.run(topic=topic, dc=dc, sentences=sentences,\n",
    "                                         pro_con_scores=pro_con_scores, polarity=Polarity.PRO, \n",
    "                                         customizations=[opening_statement_customization_dict])\n",
    "print('\\n\\nSpeech:' + speech.status)\n",
    "if (speech.status == 'DONE'):\n",
    "    print(speech)\n"
   ]
  },
  {
   "cell_type": "markdown",
   "metadata": {},
   "source": [
    "### Analyze statements per user provided aspects"
   ]
  },
  {
   "cell_type": "markdown",
   "metadata": {},
   "source": [
    "The next step is to extract for each sentence all the wikipedia concepts mentioned in it using the TermWikifier service."
   ]
  },
  {
   "cell_type": "code",
   "execution_count": 13,
   "metadata": {},
   "outputs": [
    {
     "name": "stderr",
     "output_type": "stream",
     "text": [
      "\n",
      "EvidenceDetectionClient: 100%|██████████| 2723/2723 [01:56<00:00, 23.30it/s]\n",
      "\n",
      "TermWikifierClient:  18%|█▊        | 500/2723 [00:07<00:34, 63.67it/s]\u001b[A\n",
      "TermWikifierClient:  37%|███▋      | 1000/2723 [00:14<00:25, 68.49it/s]\u001b[A\n",
      "TermWikifierClient:  55%|█████▌    | 1500/2723 [00:21<00:17, 69.28it/s]\u001b[A\n",
      "TermWikifierClient:  73%|███████▎  | 2000/2723 [00:28<00:10, 71.27it/s]\u001b[A\n",
      "TermWikifierClient:  92%|█████████▏| 2500/2723 [00:33<00:02, 77.70it/s]\u001b[A\n",
      "TermWikifierClient: 100%|██████████| 2723/2723 [00:37<00:00, 72.94it/s]\u001b[A"
     ]
    },
    {
     "name": "stdout",
     "output_type": "stream",
     "text": [
      "Total number of unique concepts: 2105\n"
     ]
    },
    {
     "name": "stderr",
     "output_type": "stream",
     "text": [
      "\n"
     ]
    }
   ],
   "source": [
    "def add_sentence_mentions(sentences):\n",
    "    term_wikifier_client = debater_api.get_term_wikifier_client()\n",
    "    mentions_list = term_wikifier_client.run([sentence['text'] for sentence in sentences])\n",
    "    for sentence, mentions in zip(sentences, mentions_list):\n",
    "        sentence['mentions'] = set([mention['concept']['title'] for mention in mentions])\n",
    "    all_mentions = set([mention for sentence in sentences for mention in sentence['mentions']])\n",
    "    return set(all_mentions)\n",
    "\n",
    "all_mentions = add_sentence_mentions(all_candidates)    \n",
    "print('Total number of unique concepts: {}'.format(len(all_mentions)))"
   ]
  },
  {
   "cell_type": "markdown",
   "metadata": {},
   "source": [
    "For each aspect, we find all related wikipedia concepts (that are mentioned in the given sentences) ."
   ]
  },
  {
   "cell_type": "code",
   "execution_count": 14,
   "metadata": {},
   "outputs": [],
   "source": [
    "def get_related_mentions(concept, threshold, mentions):\n",
    "    term_relater_client = debater_api.get_term_relater_client()\n",
    "    concept_mention_pairs = [[concept, mention] for mention in mentions]\n",
    "    scores = term_relater_client.run(concept_mention_pairs)\n",
    "    return [mention for mention, score in zip(all_mentions, scores) if score > threshold]\n"
   ]
  },
  {
   "cell_type": "code",
   "execution_count": 15,
   "metadata": {},
   "outputs": [
    {
     "name": "stderr",
     "output_type": "stream",
     "text": [
      "TermRelaterClient: 100%|██████████| 2105/2105 [00:07<00:00, 288.20it/s]\n",
      "TermRelaterClient:   0%|          | 0/2105 [00:00<?, ?it/s]"
     ]
    },
    {
     "name": "stdout",
     "output_type": "stream",
     "text": [
      "Price : ['Quantity', 'Revenue', 'Cash', 'Retail', 'Pricing', 'Market value', 'Trade', 'Demand', 'Dollar', 'Value-based pricing', 'PricewaterhouseCoopers', 'Payment', 'Economics', 'Purchasing', 'Sales', 'Profit (economics)', 'Tax', 'Cost', 'Price', 'Expense']\n"
     ]
    },
    {
     "name": "stderr",
     "output_type": "stream",
     "text": [
      "TermRelaterClient: 100%|██████████| 2105/2105 [00:05<00:00, 371.70it/s]\n",
      "TermRelaterClient:   0%|          | 0/2105 [00:00<?, ?it/s]\u001b[A"
     ]
    },
    {
     "name": "stdout",
     "output_type": "stream",
     "text": [
      "Value : ['Institute for Business Value', 'Quantity', 'Value-added service', 'Coin', 'Market value', 'Creating shared value', 'Value (ethics)', 'Value proposition', 'Value-based pricing', 'Payment', 'Economics', 'Financial ratio', 'Value chain', 'Customer value proposition', 'Utility', 'Cost', 'Tax assessment', 'Business value']\n"
     ]
    },
    {
     "name": "stderr",
     "output_type": "stream",
     "text": [
      "\n",
      "TermRelaterClient:  24%|██▍       | 500/2105 [00:01<00:05, 290.98it/s]\u001b[A\n",
      "TermRelaterClient:  48%|████▊     | 1000/2105 [00:02<00:02, 370.38it/s]\u001b[A\n",
      "TermRelaterClient:  71%|███████▏  | 1500/2105 [00:04<00:01, 306.10it/s]\u001b[A\n",
      "TermRelaterClient:  95%|█████████▌| 2000/2105 [00:05<00:00, 361.49it/s]\u001b[A\n",
      "TermRelaterClient: 100%|██████████| 2105/2105 [00:11<00:00, 180.55it/s]\u001b[A\n",
      "TermRelaterClient: 100%|██████████| 2105/2105 [00:06<00:00, 328.78it/s]\n",
      "TermRelaterClient:   0%|          | 0/2105 [00:00<?, ?it/s]"
     ]
    },
    {
     "name": "stdout",
     "output_type": "stream",
     "text": [
      "Investment : ['Investor', 'Investment strategy', 'Investment', 'Funding', 'Finance', 'Financial market', 'Financial services', 'Asset', 'Expense', 'Financial institution']\n"
     ]
    },
    {
     "name": "stderr",
     "output_type": "stream",
     "text": [
      "TermRelaterClient: 100%|██████████| 2105/2105 [00:06<00:00, 327.89it/s]\n",
      "TermRelaterClient:   0%|          | 0/2105 [00:00<?, ?it/s]\u001b[A"
     ]
    },
    {
     "name": "stdout",
     "output_type": "stream",
     "text": [
      "IBM : ['Oracle Corporation', 'IBM Global Services', 'IBM WebSphere', 'IBM PC compatible', 'IBM Z', 'Computing platform', 'Computer', 'IBM FlashSystem', 'IBM Fellow', 'IBM Cloud', 'Think (IBM)', 'Technology company', 'IBM Research', 'Computing', 'IBM', 'Cloud computing', 'IBM India', 'IBM Award']\n"
     ]
    },
    {
     "name": "stderr",
     "output_type": "stream",
     "text": [
      "\n",
      "TermRelaterClient:  24%|██▍       | 500/2105 [00:01<00:03, 457.19it/s]\u001b[A\n",
      "TermRelaterClient:  48%|████▊     | 1000/2105 [00:03<00:03, 311.36it/s]\u001b[A\n",
      "TermRelaterClient:  71%|███████▏  | 1500/2105 [00:04<00:01, 353.01it/s]\u001b[A\n",
      "TermRelaterClient:  95%|█████████▌| 2000/2105 [00:05<00:00, 381.74it/s]\u001b[A\n",
      "TermRelaterClient: 100%|██████████| 2105/2105 [00:06<00:00, 337.95it/s]\u001b[A"
     ]
    },
    {
     "name": "stdout",
     "output_type": "stream",
     "text": [
      "Microsoft : ['Microsoft Access', 'Oracle Corporation', 'Office 365', 'Intel', 'Microsoft Partner Network', 'Microsoft Defender', 'Microsoft Exchange Server', 'Microsoft 365', 'Microsoft Windows', 'Microsoft Azure', 'Microsoft Visual Studio', 'Multinational corporation', 'Computer', 'Technology company', 'Computing', 'Microsoft Dynamics 365', 'Microsoft Certified Partner', 'Microsoft', 'Microsoft OneDrive', 'Build (developer conference)']\n"
     ]
    }
   ],
   "source": [
    "matched_mentions = {}\n",
    "for aspect in aspects:\n",
    "    matched_mentions[aspect] = get_related_mentions(aspect, 0.7, all_mentions)\n",
    "    print(aspect,\":\",matched_mentions[aspect])\n",
    "    \n",
    "    "
   ]
  },
  {
   "cell_type": "markdown",
   "metadata": {},
   "source": [
    "We identify for each sentence all related concepts for each aspect. "
   ]
  },
  {
   "cell_type": "code",
   "execution_count": 16,
   "metadata": {},
   "outputs": [
    {
     "name": "stderr",
     "output_type": "stream",
     "text": [
      "TermRelaterClient: 100%|██████████| 2105/2105 [00:12<00:00, 168.98it/s]\n",
      "TermRelaterClient: 100%|██████████| 2105/2105 [00:06<00:00, 349.46it/s]\n"
     ]
    }
   ],
   "source": [
    "for sentence in all_candidates:\n",
    "    for aspect in aspects:\n",
    "        sentence[aspect + '_concepts'] = sentence['mentions'].intersection(matched_mentions[aspect]) \n",
    " "
   ]
  },
  {
   "cell_type": "markdown",
   "metadata": {},
   "source": [
    "\n",
    "We now generate the final output.  We print the top 20 most relevant sentences for each aspect.\n",
    "\n",
    "We first focus on sentences that contain atleast one related concept to the aspect. \n",
    "\n",
    "We then print the top sentences sorted by anaggregated score based on their evidence score, the pro con score, and the number of related concepts in the sentence."
   ]
  },
  {
   "cell_type": "code",
   "execution_count": 17,
   "metadata": {},
   "outputs": [
    {
     "data": {
      "text/html": [
       "<h2>Price</h2>"
      ],
      "text/plain": [
       "<IPython.core.display.HTML object>"
      ]
     },
     "metadata": {},
     "output_type": "display_data"
    },
    {
     "name": "stdout",
     "output_type": "stream",
     "text": [
      "Number of candidates: 20\n"
     ]
    },
    {
     "data": {
      "text/html": [
       "<table><tr><td><p style=\"text-align:left;\">html</p></td><td><p style=\"text-align:left;\">procon</p></td><td><p style=\"text-align:left;\">evidence</p></td><td><p style=\"text-align:left;\">Price_concepts</p></td></tr><tr><td><p style=\"text-align:left;\"><i>[Africa Cloud Review] Simon Ngunjiri: Cloud computing is shaping Africa’s technological infrastructure growth</i><br><br>A new IBM study conducted by the International Data Corporation (IDC), also revealed that 84% of South African C-Suite are either pursuing or planning hybrid cloud strategies .<b><br>According to the study, C-Suite executives in South Africa are prioritising the implementation of hybrid cloud strategies to benefit from flexibility, cost</b><br></p></td><td><p style=\"text-align:left;\">0.995</p></td><td><p style=\"text-align:left;\">0.971</p></td><td><p style=\"text-align:left;\">{'Cost'}</p></td></tr><tr><td><p style=\"text-align:left;\"><i>Platform as a service (PaaS) Global Market Report 2021 Featuring Major Players – Amazon Web Service, Salesforce Platform, IBM Cloud Foundry, Microsoft Azure and Google Cloud Function – ResearchAndMarkets.com</i><br><br><b><br>Companies in the industry are increasingly preferring hybrid cloud solutions to increase efficiency, innovation, and reduce costs.</b><br>Hybrid Cloud refers to a cloud infrastructure environment that is a mixture of private cloud, on-premises computing and public cloud solutions.</p></td><td><p style=\"text-align:left;\">0.996</p></td><td><p style=\"text-align:left;\">0.965</p></td><td><p style=\"text-align:left;\">{'Cost'}</p></td></tr><tr><td><p style=\"text-align:left;\"><i>HPE expands GreenLake services in Taiwan</i><br><br><b><br>HPE Taiwan chairman and managing director Jon Wang pointed out that enterprises have become keen on adopting hybrid cloud systems amid increasing demand for more flexible and instantaneous services.</b><br>HPE Taiwan's revenues from GreenLake have been rising in the past few years, Wang said.</p></td><td><p style=\"text-align:left;\">0.989</p></td><td><p style=\"text-align:left;\">0.97</p></td><td><p style=\"text-align:left;\">{'Demand'}</p></td></tr><tr><td><p style=\"text-align:left;\"><i>Cloud services to create 15,800 jobs in Oman by 2024</i><br><br><b><br>The report finds that together with investments in public, private and hybrid cloud solutions, the Omani economy will enable businesses to generate nearly RO 387 million in net new revenues over the next five years.</b><br>IDC’s research further shows that the IT sector in Oman is expected to reach RO</p></td><td><p style=\"text-align:left;\">0.985</p></td><td><p style=\"text-align:left;\">0.946</p></td><td><p style=\"text-align:left;\">{'Revenue'}</p></td></tr><tr><td><p style=\"text-align:left;\"><i>Cloud Services to Create 15,800 Jobs in Oman by 2024</i><br><br>It builds on more than a decade of analysis around the economic impact of IT on local economies.<b><br>The report finds that together with investments in public, private and hybrid cloud solutions, the Omani economy will enable businesses to generate nearly RO 387 million (~US$1 billion) in net new revenues over</b><br></p></td><td><p style=\"text-align:left;\">0.988</p></td><td><p style=\"text-align:left;\">0.932</p></td><td><p style=\"text-align:left;\">{'Revenue'}</p></td></tr><tr><td><p style=\"text-align:left;\"><i>Avetra Boosts Digital Services for E&U Clients with Support from IBM Cloud</i><br><br><b><br>\"We are seeing the energy and utilities industry accelerating its cloud adoption, particularly to improve communication, function and accessibility to meet the demands of increasingly digitally-native consumers,\" said Evaristus Mainsah, General Manager, IBM Hybrid Cloud and Edge Ecosystem.</b><br></p></td><td><p style=\"text-align:left;\">0.96</p></td><td><p style=\"text-align:left;\">0.955</p></td><td><p style=\"text-align:left;\">{'Demand'}</p></td></tr><tr><td><p style=\"text-align:left;\"><i>Adoption of cloud services to create 15,800 jobs by 2024</i><br><br><b><br>The report finds that together with investments in public, private and hybrid cloud solutions, the Omani economy will enable businesses to generate nearly RO387mn in net new revenues over the next five years.</b><br>IDC’s research further shows that the IT sector in Oman is expected to reach RO406mn by 2024,</p></td><td><p style=\"text-align:left;\">0.988</p></td><td><p style=\"text-align:left;\">0.921</p></td><td><p style=\"text-align:left;\">{'Revenue'}</p></td></tr><tr><td><p style=\"text-align:left;\"><i>IBM Board Approves Increase in Quarterly Cash Dividend for the 26th Consecutive Year - Up News Info</i><br><br><b><br>Arvind Krishna, IBM chairman and chief executive officer, said: “Client adoption of our hybrid cloud and AI technologies, strong cash generation and disciplined financial management all enable us to invest in the business while continuing to return capital to our shareholders.</b><br>We remain committed to IBM’s secure and growing dividend.”</p></td><td><p style=\"text-align:left;\">0.976</p></td><td><p style=\"text-align:left;\">0.917</p></td><td><p style=\"text-align:left;\">{'Cash'}</p></td></tr><tr><td><p style=\"text-align:left;\"><i>Nutanix and ET Works brings the cloud to the Royal Opera House</i><br><br><b><br>Nutanix Sales Vice President & General Manager Dom Poloniecki said: “In addition to delivering efficiencies for the ROH, operating a hybrid cloud with Nutanix provides the additional benefit of a fully integrated system so, when it comes to upgrades, downtime is no longer needed; it is simply a case of</b><br></p></td><td><p style=\"text-align:left;\">0.91</p></td><td><p style=\"text-align:left;\">0.907</p></td><td><p style=\"text-align:left;\">{'Sales'}</p></td></tr><tr><td><p style=\"text-align:left;\"><i>International Business Machines : IBM REPORTS 2021 SECOND-QUARTER RESULTS (Form 8-K) | MarketScreener</i><br><br><b><br>IBM REPORTS 2021 SECOND-QUARTER RESULTS Improved Revenue Growth Led by Hybrid Cloud Platform Adoption, Consulting and Software Highlights Second Quarter: ● Revenue of $18.7 billion, up 3 percent (flat adjusting for divested businesses and currency)</b><br></p></td><td><p style=\"text-align:left;\">0.951</p></td><td><p style=\"text-align:left;\">0.84</p></td><td><p style=\"text-align:left;\">{'Revenue'}</p></td></tr><tr><td><p style=\"text-align:left;\"><i>News Room - then and now</i><br><br><b><br>May 27, 2021 Copersucar Selects IBM Cloud for Sustainable Digital Growth in Hybrid Cloud Environment São Paulo, May 27, 2021: Copersucar, a global leader in sugar and ethanol trading,[1] has chosen IBM Cloud to help them increase productivity and efficiency, modernize processes and accelerate...</b><br></p></td><td><p style=\"text-align:left;\">0.919</p></td><td><p style=\"text-align:left;\">0.835</p></td><td><p style=\"text-align:left;\">{'Trade'}</p></td></tr><tr><td><p style=\"text-align:left;\"><i>Top 3 Cloud Industry Trends for 2021 from Dell Technologies</i><br><br><b><br>However, the need for consistent operations and infrastructure across clouds is paramount, so organizations are quickly finding that hybrid cloud models are the right strategy when it comes to longer-term costs, scalability and security.</b><br></p></td><td><p style=\"text-align:left;\">0.987</p></td><td><p style=\"text-align:left;\">0.699</p></td><td><p style=\"text-align:left;\">{'Cost'}</p></td></tr><tr><td><p style=\"text-align:left;\"><i>Hybrid Clouds Lead the Way as Digitization, COVID-19 Accelerate IT, Cloud Services Demand in Switzerland</i><br><br><b><br>Hybrid Clouds Lead the Way as Digitization, COVID-19 Accelerate IT, Cloud Services Demand in Switzerland Published 02 Jul 2021 ZÜRICH--(BUSINESS WIRE)---- $III #Colocation--Demand has been high for IT and cloud services in Switzerland to support the Swiss economy during the pandemic, ISG (Nasdaq: III) says.</b><br></p></td><td><p style=\"text-align:left;\">0.981</p></td><td><p style=\"text-align:left;\">0.682</p></td><td><p style=\"text-align:left;\">{'Demand'}</p></td></tr><tr><td><p style=\"text-align:left;\"><i>Copersucar selects IBM cloud for sustainable digital growth in hybrid cloud environment</i><br><br><b><br>Copersucar selects IBM cloud for sustainable digital growth in hybrid cloud environment Anasia D’mello Copersucar, a global provider in sugar and ethanol trading has chosen IBM Cloud to help them increase productivity and efficiency, modernise processes and accelerate its business expansion.</b><br></p></td><td><p style=\"text-align:left;\">0.982</p></td><td><p style=\"text-align:left;\">0.661</p></td><td><p style=\"text-align:left;\">{'Trade'}</p></td></tr><tr><td><p style=\"text-align:left;\"><i>Here's Why IBM Fell Nearly 5% Today | The Motley Fool</i><br><br><b><br>Sales of the hybrid cloud platform are also known to drive even greater related software and service revenue.</b><br>Now what It remains to be seen just how critical Whitehurst is to IBM's hybrid cloud computing success.</p></td><td><p style=\"text-align:left;\">0.961</p></td><td><p style=\"text-align:left;\">0.291</p></td><td><p style=\"text-align:left;\">{'Revenue', 'Sales'}</p></td></tr><tr><td><p style=\"text-align:left;\"><i>Innovation is a core value for Salesforce- Sunil Jose, Salesforce India</i><br><br>What sort of options do Salesforce customers have if they want to move to a virtualized cloud platform?<b><br>Growing awareness of the efficiency in business processes through the use of hybrid cloud is exponentially increasing the amount of business data through multiple applications of the Internet of things across industries.</b><br></p></td><td><p style=\"text-align:left;\">0.996</p></td><td><p style=\"text-align:left;\">0.547</p></td><td><p style=\"text-align:left;\">{'Quantity'}</p></td></tr><tr><td><p style=\"text-align:left;\"><i>Avoid the mounting costs of multiplayer games with hybrid cloud</i><br><br>While relying on the cloud might eat up your budget, relying on bare metal alone might not allow a studio to scale up fast enough if a game becomes popular.<b><br>As the launch of a game is rarely predictable, using hybrid cloud offers the best way of keeping costs down.</b><br></p></td><td><p style=\"text-align:left;\">0.999</p></td><td><p style=\"text-align:left;\">0.478</p></td><td><p style=\"text-align:left;\">{'Cost'}</p></td></tr><tr><td><p style=\"text-align:left;\"><i>How businesses can realize cloud's full potential</i><br><br><b><br>In the next year, CIOs say their companies' top priorities will include cloud investments in cybersecurity, AI and machine learning, and hybrid cloud efforts, according to a PwC survey of 524 U.S. executives released Tuesday.</b><br>But half (53%) of companies aren't realizing substantial value from cloud investments.</p></td><td><p style=\"text-align:left;\">0.757</p></td><td><p style=\"text-align:left;\">0.707</p></td><td><p style=\"text-align:left;\">{'PricewaterhouseCoopers'}</p></td></tr><tr><td><p style=\"text-align:left;\"><i>Ramp up of deal wins to drive Wipro’s revenues in Q2: ICICI Securities</i><br><br><b><br>In addition, traction in digital technologies such as cloud migration, hybrid cloud, cloud licensing, customer experience, cloud application and transformational deals is expected to lead to healthy growth in revenues,\" the brokerage firm said.</b><br></p></td><td><p style=\"text-align:left;\">0.967</p></td><td><p style=\"text-align:left;\">0.446</p></td><td><p style=\"text-align:left;\">{'Revenue'}</p></td></tr><tr><td><p style=\"text-align:left;\"><i>Five trends to watch out for in the realm of cloud computing</i><br><br><b><br>Hybrid cloud: One solvent for all cloud solutions By adopting a hybrid cloud, businesses can make a transition to the cloud at their own pace, at a lower cost and fewer risks.</b><br>This solution combines multiple private and public clouds in the same system.</p></td><td><p style=\"text-align:left;\">0.984</p></td><td><p style=\"text-align:left;\">0.375</p></td><td><p style=\"text-align:left;\">{'Cost'}</p></td></tr></table>"
      ],
      "text/plain": [
       "<IPython.core.display.HTML object>"
      ]
     },
     "metadata": {},
     "output_type": "display_data"
    },
    {
     "data": {
      "text/html": [
       "<h2>Value</h2>"
      ],
      "text/plain": [
       "<IPython.core.display.HTML object>"
      ]
     },
     "metadata": {},
     "output_type": "display_data"
    },
    {
     "name": "stdout",
     "output_type": "stream",
     "text": [
      "Number of candidates: 20\n"
     ]
    },
    {
     "data": {
      "text/html": [
       "<table><tr><td><p style=\"text-align:left;\">html</p></td><td><p style=\"text-align:left;\">procon</p></td><td><p style=\"text-align:left;\">evidence</p></td><td><p style=\"text-align:left;\">Value_concepts</p></td></tr><tr><td><p style=\"text-align:left;\"><i>IBM, IISc Bengaluru to work on hybrid cloud solutions</i><br><br><b><br>A 2020 study by the IBM Institute for Business Value on hybrid cloud said that the value derived from a hybrid or multi-cloud including on-premise cloud is 2.5 times more valuable compared to a single cloud, single platform approach.</b><br></p></td><td><p style=\"text-align:left;\">0.983</p></td><td><p style=\"text-align:left;\">0.858</p></td><td><p style=\"text-align:left;\">{'Institute for Business Value', 'Value (ethics)'}</p></td></tr><tr><td><p style=\"text-align:left;\"><i>[Africa Cloud Review] Simon Ngunjiri: Cloud computing is shaping Africa’s technological infrastructure growth</i><br><br>A new IBM study conducted by the International Data Corporation (IDC), also revealed that 84% of South African C-Suite are either pursuing or planning hybrid cloud strategies .<b><br>According to the study, C-Suite executives in South Africa are prioritising the implementation of hybrid cloud strategies to benefit from flexibility, cost</b><br></p></td><td><p style=\"text-align:left;\">0.995</p></td><td><p style=\"text-align:left;\">0.971</p></td><td><p style=\"text-align:left;\">{'Cost'}</p></td></tr><tr><td><p style=\"text-align:left;\"><i>Platform as a service (PaaS) Global Market Report 2021 Featuring Major Players – Amazon Web Service, Salesforce Platform, IBM Cloud Foundry, Microsoft Azure and Google Cloud Function – ResearchAndMarkets.com</i><br><br><b><br>Companies in the industry are increasingly preferring hybrid cloud solutions to increase efficiency, innovation, and reduce costs.</b><br>Hybrid Cloud refers to a cloud infrastructure environment that is a mixture of private cloud, on-premises computing and public cloud solutions.</p></td><td><p style=\"text-align:left;\">0.996</p></td><td><p style=\"text-align:left;\">0.965</p></td><td><p style=\"text-align:left;\">{'Cost'}</p></td></tr><tr><td><p style=\"text-align:left;\"><i>Why hybrid cloud architecture is becoming a norm in the enterprise world - Express Computer</i><br><br><b><br>Hybrid model is here to stay As per a recent survey by IBM Institute of Business Value (IBV), hybrid cloud adoption among Indian businesses is expected to grow by 49% with the average organisation using nearly six hybrid clouds.</b><br></p></td><td><p style=\"text-align:left;\">0.991</p></td><td><p style=\"text-align:left;\">0.866</p></td><td><p style=\"text-align:left;\">{'Business value'}</p></td></tr><tr><td><p style=\"text-align:left;\"><i>How IBM is building together across the tech ecosystem to enable developers</i><br><br><b><br>An IBM Institute for Business Value study, The hybrid cloud platform advantage found that a typical enterprise uses nearly 8 clouds from multiple vendors, and in the next 3 years, hybrid cloud adoption is expected to grow by 47%.</b><br>The average organization will be using nearly 6 clouds.</p></td><td><p style=\"text-align:left;\">0.989</p></td><td><p style=\"text-align:left;\">0.722</p></td><td><p style=\"text-align:left;\">{'Institute for Business Value'}</p></td></tr><tr><td><p style=\"text-align:left;\"><i>IBM and Indian Institute of Science Launch Lab to Advance Hybrid Cloud Research</i><br><br>power of hybrid cloud by producing faster, seamless and more secure adoption of hybrid cloud & artificial intelligence.<b><br>Â A study from the IBM Institute for Business Value on hybrid cloud shows that the value from a hybrid multi-cloud platform technology and operating model at scale is 2.5 times the value</b><br></p></td><td><p style=\"text-align:left;\">0.973</p></td><td><p style=\"text-align:left;\">0.723</p></td><td><p style=\"text-align:left;\">{'Institute for Business Value'}</p></td></tr><tr><td><p style=\"text-align:left;\"><i>Top 3 Cloud Industry Trends for 2021 from Dell Technologies</i><br><br><b><br>However, the need for consistent operations and infrastructure across clouds is paramount, so organizations are quickly finding that hybrid cloud models are the right strategy when it comes to longer-term costs, scalability and security.</b><br></p></td><td><p style=\"text-align:left;\">0.987</p></td><td><p style=\"text-align:left;\">0.699</p></td><td><p style=\"text-align:left;\">{'Cost'}</p></td></tr><tr><td><p style=\"text-align:left;\"><i>Innovation is a core value for Salesforce- Sunil Jose, Salesforce India</i><br><br>What sort of options do Salesforce customers have if they want to move to a virtualized cloud platform?<b><br>Growing awareness of the efficiency in business processes through the use of hybrid cloud is exponentially increasing the amount of business data through multiple applications of the Internet of things across industries.</b><br></p></td><td><p style=\"text-align:left;\">0.996</p></td><td><p style=\"text-align:left;\">0.547</p></td><td><p style=\"text-align:left;\">{'Quantity'}</p></td></tr><tr><td><p style=\"text-align:left;\"><i>Avoid the mounting costs of multiplayer games with hybrid cloud</i><br><br>While relying on the cloud might eat up your budget, relying on bare metal alone might not allow a studio to scale up fast enough if a game becomes popular.<b><br>As the launch of a game is rarely predictable, using hybrid cloud offers the best way of keeping costs down.</b><br></p></td><td><p style=\"text-align:left;\">0.999</p></td><td><p style=\"text-align:left;\">0.478</p></td><td><p style=\"text-align:left;\">{'Cost'}</p></td></tr><tr><td><p style=\"text-align:left;\"><i>Five trends to watch out for in the realm of cloud computing</i><br><br><b><br>Hybrid cloud: One solvent for all cloud solutions By adopting a hybrid cloud, businesses can make a transition to the cloud at their own pace, at a lower cost and fewer risks.</b><br>This solution combines multiple private and public clouds in the same system.</p></td><td><p style=\"text-align:left;\">0.984</p></td><td><p style=\"text-align:left;\">0.375</p></td><td><p style=\"text-align:left;\">{'Cost'}</p></td></tr><tr><td><p style=\"text-align:left;\"><i>Making the most of the cloud</i><br><br>The reasons are simple.<b><br>Hybrid cloud offers elasticity, nimbleness and cost optimisation.</b><br></p></td><td><p style=\"text-align:left;\">0.993</p></td><td><p style=\"text-align:left;\">0.363</p></td><td><p style=\"text-align:left;\">{'Cost'}</p></td></tr><tr><td><p style=\"text-align:left;\"><i>Model9 Named a 2021 Cool Vendor by Gartner</i><br><br><b><br>About Model9 modernizes mainframe data management and business intelligence in enterprises to help them benefit from cloud economics and accelerate the adoption of hybrid cloud technologies.</b><br></p></td><td><p style=\"text-align:left;\">0.953</p></td><td><p style=\"text-align:left;\">0.375</p></td><td><p style=\"text-align:left;\">{'Economics'}</p></td></tr><tr><td><p style=\"text-align:left;\"><i>IBM Rolls Out New Tools, Accessibility of Red Hat OpenShift Platform</i><br><br><b><br>In fact, GM of IBM Cognitive Systems, Stephen Leonard mentioned in a statement, âBut despite the challenges, they recognize that a hybrid cloud approach can offer 2.5x the value derived from a single public cloud, as measured by IBMâs Institute of Business Value.â</b><br></p></td><td><p style=\"text-align:left;\">0.992</p></td><td><p style=\"text-align:left;\">0.329</p></td><td><p style=\"text-align:left;\">{'Business value'}</p></td></tr><tr><td><p style=\"text-align:left;\"><i>Brightsolid announced as cloud services supplier for Scottish Government</i><br><br><b><br>Therefore, our ability to offer a variety of cloud solutions, including hybrid cloud, fits extremely well within this sector, as it offers a balance of performance and cost optimisation.</b><br></p></td><td><p style=\"text-align:left;\">0.929</p></td><td><p style=\"text-align:left;\">0.365</p></td><td><p style=\"text-align:left;\">{'Cost'}</p></td></tr><tr><td><p style=\"text-align:left;\"><i>Carrington Associates weaves new hybrid cloud for SpinTel</i><br><br><b><br>Together, we’re creating shared value for the telecommunications industry and a shared vision for the future of hybrid cloud and AI,” said Alison Freeman, director for IBM's partner ecosystem in A/NZ.</b><br></p></td><td><p style=\"text-align:left;\">0.937</p></td><td><p style=\"text-align:left;\">0.332</p></td><td><p style=\"text-align:left;\">{'Creating shared value'}</p></td></tr><tr><td><p style=\"text-align:left;\"><i>Cloud, GBS & Systems in Spotlight Ahead of IBM's Q2 Earnings</i><br><br>Currently, more than 3,000 clients are using Red Hat and IBM’s hybrid cloud platform.<b><br>Management is optimistic about enhancing the utility of hybrid cloud services based on architecture built by IBM and Red Hat.</b><br></p></td><td><p style=\"text-align:left;\">0.986</p></td><td><p style=\"text-align:left;\">0.239</p></td><td><p style=\"text-align:left;\">{'Utility'}</p></td></tr><tr><td><p style=\"text-align:left;\"><i>Cloud Networking Services Comparison: Arista vs. Dell Cloud</i><br><br><b><br>Dell Technologies Cloud’s hybrid cloud solution offers the flexibility, economics, and simplicity of public cloud infrastructure along with the reliability, control and security of private cloud infrastructure.</b><br>With the help of Dell Technologies Cloud, you can unify hybrid cloud operations, modernize your data center, scale or migrate cloud workloads, and</p></td><td><p style=\"text-align:left;\">0.957</p></td><td><p style=\"text-align:left;\">0.258</p></td><td><p style=\"text-align:left;\">{'Economics'}</p></td></tr><tr><td><p style=\"text-align:left;\"><i>Services Australia rebuilds immunisation register with IBM in wake of COVID</i><br><br><b><br>See also: IBM banks on strong history for success with AU$1b government contract “IBM’s Hybrid Cloud was chosen to build a containerised solution, allowing for elasticity and dynamic scaling with requirements expected to shift significantly as reporting mandates change, and flu season and COVID-19 demands</b><br></p></td><td><p style=\"text-align:left;\">0.869</p></td><td><p style=\"text-align:left;\">0.332</p></td><td><p style=\"text-align:left;\">{'Coin'}</p></td></tr><tr><td><p style=\"text-align:left;\"><i>Services Australia rebuilds immunisation register with IBM in wake of COVID | ZDNet</i><br><br>It chose IBM Hybrid Cloud.<b><br>See also: IBM banks on strong history for success with AU$1b government contract \"IBM's Hybrid Cloud was chosen to build a containerised solution, allowing for elasticity and dynamic scaling with requirements expected to shift significantly as reporting mandates change, and flu season and COVID-19 demands</b><br></p></td><td><p style=\"text-align:left;\">0.843</p></td><td><p style=\"text-align:left;\">0.331</p></td><td><p style=\"text-align:left;\">{'Coin'}</p></td></tr><tr><td><p style=\"text-align:left;\"><i>IBM strengthens 5G deals with telecoms companies</i><br><br><b><br>New AI and hybrid cloud offerings could allow IBM’s telecoms partners to build 5G networks faster and at a lower cost.</b><br>Late last year, century-old tech giant IBM announced plans to spin out its IT infrastructure business in a bid to focus more on sectors such as AI and cloud.</p></td><td><p style=\"text-align:left;\">0.991</p></td><td><p style=\"text-align:left;\">0.166</p></td><td><p style=\"text-align:left;\">{'Cost'}</p></td></tr></table>"
      ],
      "text/plain": [
       "<IPython.core.display.HTML object>"
      ]
     },
     "metadata": {},
     "output_type": "display_data"
    },
    {
     "data": {
      "text/html": [
       "<h2>Investment</h2>"
      ],
      "text/plain": [
       "<IPython.core.display.HTML object>"
      ]
     },
     "metadata": {},
     "output_type": "display_data"
    },
    {
     "name": "stdout",
     "output_type": "stream",
     "text": [
      "Number of candidates: 20\n"
     ]
    },
    {
     "data": {
      "text/html": [
       "<table><tr><td><p style=\"text-align:left;\">html</p></td><td><p style=\"text-align:left;\">procon</p></td><td><p style=\"text-align:left;\">evidence</p></td><td><p style=\"text-align:left;\">Investment_concepts</p></td></tr><tr><td><p style=\"text-align:left;\"><i>Hanzo Joins Growing Ecosystem of Partners Supporting the IBM Cloud for Financial Services</i><br><br><b><br>\"We designed the IBM Cloud for Financial Services with a control framework to help financial institutions accelerate hybrid cloud adoption and drive revenue growth while addressing their need for a secure and compliant partner ecosystem,\" said Brendan Kinkade, Vice President, Technology and Hybrid Cloud Partnerships, IBM.</b><br></p></td><td><p style=\"text-align:left;\">0.96</p></td><td><p style=\"text-align:left;\">0.797</p></td><td><p style=\"text-align:left;\">{'Financial institution', 'Financial services'}</p></td></tr><tr><td><p style=\"text-align:left;\"><i>Hanzo Joins Growing Ecosystem of Partners Supporting the IBM Cloud for Financial Services</i><br><br><b><br>“We designed the IBM Cloud for Financial Services with a control framework to help financial institutions accelerate hybrid cloud adoption and drive revenue growth while addressing their need for a secure and compliant partner ecosystem,” said Brendan Kinkade, Vice President, Technology and Hybrid Cloud Partnerships, IBM.</b><br></p></td><td><p style=\"text-align:left;\">0.95</p></td><td><p style=\"text-align:left;\">0.787</p></td><td><p style=\"text-align:left;\">{'Financial institution', 'Financial services'}</p></td></tr><tr><td><p style=\"text-align:left;\"><i>Hanzo Joins Growing Ecosystem of Partners Supporting the IBM Cloud for Financial Services</i><br><br><b><br>the IBM Cloud for Financial Services with a control framework to help financial institutions accelerate hybrid cloud adoption and drive revenue growth while addressing their need for a secure and compliant partner ecosystem,” said Brendan Kinkade, Vice President, Technology and Hybrid Cloud Partnerships, IBM.</b><br></p></td><td><p style=\"text-align:left;\">0.972</p></td><td><p style=\"text-align:left;\">0.756</p></td><td><p style=\"text-align:left;\">{'Financial institution', 'Financial services'}</p></td></tr><tr><td><p style=\"text-align:left;\"><i>NSEIT buys majority stake in integrated cloud service provider Cloudxchange.io By CIOReviewIndia Team</i><br><br><b><br>As per report, 63 per cent of India's enterprises have increased investments in hybrid cloud which is higher than the global average of 46 per cent.</b><br>NSEIT is a global technology enterprise, focused on delivering excellence in a complex digital environment primarily in banking, insurance, capital market ecosystem and online</p></td><td><p style=\"text-align:left;\">0.967</p></td><td><p style=\"text-align:left;\">0.968</p></td><td><p style=\"text-align:left;\">{'Investment'}</p></td></tr><tr><td><p style=\"text-align:left;\"><i>Cloud services to create 15,800 jobs in Oman by 2024</i><br><br><b><br>The report finds that together with investments in public, private and hybrid cloud solutions, the Omani economy will enable businesses to generate nearly RO 387 million in net new revenues over the next five years.</b><br>IDC’s research further shows that the IT sector in Oman is expected to reach RO</p></td><td><p style=\"text-align:left;\">0.985</p></td><td><p style=\"text-align:left;\">0.946</p></td><td><p style=\"text-align:left;\">{'Investment'}</p></td></tr><tr><td><p style=\"text-align:left;\"><i>NSEIT acquires a majority stake in cloudxchange.io</i><br><br><b><br>As per Nasscom’s report, 63% of India’s enterprises have increased investments in hybrid cloud which is higher than the global average of 46%.</b><br>With this addition of Cloudxchange.io, NSEIT will offer end to end digital transformation solutions from Cloud to Security.</p></td><td><p style=\"text-align:left;\">0.983</p></td><td><p style=\"text-align:left;\">0.945</p></td><td><p style=\"text-align:left;\">{'Investment'}</p></td></tr><tr><td><p style=\"text-align:left;\"><i>Cloud Services to Create 15,800 Jobs in Oman by 2024</i><br><br>It builds on more than a decade of analysis around the economic impact of IT on local economies.<b><br>The report finds that together with investments in public, private and hybrid cloud solutions, the Omani economy will enable businesses to generate nearly RO 387 million (~US$1 billion) in net new revenues over</b><br></p></td><td><p style=\"text-align:left;\">0.988</p></td><td><p style=\"text-align:left;\">0.932</p></td><td><p style=\"text-align:left;\">{'Investment'}</p></td></tr><tr><td><p style=\"text-align:left;\"><i>NSEIT Acquires Majority Stake In Cloudxchange.io</i><br><br><b><br>As per Nasscom's report, 63 per cent of India's enterprises have increased investments in hybrid cloud which is higher than the global average of 46 per cent.</b><br>NSEIT is a global technology enterprise, focused on delivering excellence in a complex digital environment primarily in banking, insurance, capital market ecosystem and</p></td><td><p style=\"text-align:left;\">0.963</p></td><td><p style=\"text-align:left;\">0.955</p></td><td><p style=\"text-align:left;\">{'Investment'}</p></td></tr><tr><td><p style=\"text-align:left;\"><i>Get the latest in telecom and enterprise news and updates on Communications Today.</i><br><br>In recent times, the entire industry has witnessed an exponential surge in cloud adoption especially during the pandemic.<b><br>As per Nasscom’s report, 63 per cent of India’s enterprises have increased investments in hybrid cloud which is higher than the global average of 46 per cent.</b><br></p></td><td><p style=\"text-align:left;\">0.97</p></td><td><p style=\"text-align:left;\">0.943</p></td><td><p style=\"text-align:left;\">{'Investment'}</p></td></tr><tr><td><p style=\"text-align:left;\"><i>NSEIT buys majority stake in Cloudxchange.io</i><br><br>The addition of new age cloud offerings of Cloudxchange.io to NSEIT’s digital transformation portfolio will further enhance its offerings to provide a complete 360° digital transformation suite for its enterprise clients.<b><br>As per Nasscom’s report, 63% of India’s enterprises have increased investments in hybrid cloud which is higher than the</b><br></p></td><td><p style=\"text-align:left;\">0.975</p></td><td><p style=\"text-align:left;\">0.935</p></td><td><p style=\"text-align:left;\">{'Investment'}</p></td></tr><tr><td><p style=\"text-align:left;\"><i>Adoption of cloud services to create 15,800 jobs by 2024</i><br><br><b><br>The report finds that together with investments in public, private and hybrid cloud solutions, the Omani economy will enable businesses to generate nearly RO387mn in net new revenues over the next five years.</b><br>IDC’s research further shows that the IT sector in Oman is expected to reach RO406mn by 2024,</p></td><td><p style=\"text-align:left;\">0.988</p></td><td><p style=\"text-align:left;\">0.921</p></td><td><p style=\"text-align:left;\">{'Investment'}</p></td></tr><tr><td><p style=\"text-align:left;\"><i>NSEIT acquires multi-cloud MSP Cloudxchange.io</i><br><br>Amid the pandemic, there’s has been a massive surge in the demand for cloud services globally and the adoption of cloud has increased many folds, as per reports.<b><br>In fact, in India, 63% of enterprises have increased investments in the hybrid cloud compared to the global average of 46% as</b><br></p></td><td><p style=\"text-align:left;\">0.962</p></td><td><p style=\"text-align:left;\">0.945</p></td><td><p style=\"text-align:left;\">{'Investment'}</p></td></tr><tr><td><p style=\"text-align:left;\"><i>AI, cloud, remote work all on the rise - Chinadaily.com.cn</i><br><br><b><br>The Enterprise Cloud Index Report 2021 said 62 percent of Chinese respondents said they have increased their investment in hybrid cloud as a direct result of the pandemic, compared with 46 percent globally. \"</b><br>Nutanix has long advocated accelerated digital transformation in China and the embracing of a multi-cloud environment.</p></td><td><p style=\"text-align:left;\">0.979</p></td><td><p style=\"text-align:left;\">0.913</p></td><td><p style=\"text-align:left;\">{'Investment'}</p></td></tr><tr><td><p style=\"text-align:left;\"><i>NSEIT acquires majority stake in integrated cloud service provider Cloudxchange.io</i><br><br><b><br>As per Nasscom\\u0027s report, 63 per cent of India\\u0027s enterprises have increased investments in hybrid cloud which is higher than the global average of 46 per cent.</b><br></p></td><td><p style=\"text-align:left;\">0.919</p></td><td><p style=\"text-align:left;\">0.906</p></td><td><p style=\"text-align:left;\">{'Investment'}</p></td></tr><tr><td><p style=\"text-align:left;\"><i>COVID-19 Boosts UK Outsourcing, Hybrid IT Investment as Companies Seek Efficiency, Digital Transformation</i><br><br><b><br>COVID-19 Boosts UK Outsourcing, Hybrid IT Investment as Companies Seek Efficiency, Digital Transformation Published 01 Jul 2021 LONDON--(BUSINESS WIRE)---- $III #Colocation--UK enterprises are accelerating their adoption of the hybrid cloud to prepare for the long-term economic impacts of COVID-19, ISG (Nasdaq: III) says.</b><br></p></td><td><p style=\"text-align:left;\">0.94</p></td><td><p style=\"text-align:left;\">0.746</p></td><td><p style=\"text-align:left;\">{'Investment'}</p></td></tr><tr><td><p style=\"text-align:left;\"><i>Salesforce Partner Waeg Acquired by IBM</i><br><br><b><br>With the acquisition of Waeg, IBM is deepening its investments in hybrid cloud and AI to manage complex integrations and unify people, process and technology to support deliver digital transformation for enterprise clients.</b><br></p></td><td><p style=\"text-align:left;\">0.966</p></td><td><p style=\"text-align:left;\">0.707</p></td><td><p style=\"text-align:left;\">{'Investment'}</p></td></tr><tr><td><p style=\"text-align:left;\"><i>Teradata Strengthens Cloud Offerings on Amazon Web Services and Microsoft Azure</i><br><br><b><br>“For many companies, hybrid cloud deployments are an ideal way to benefit from the cloud’s speed and scale without abandoning on-premises investments or regulatory compliance.</b><br>Hybrid cloud and multi-cloud offerings remain an area of strength for Teradata and these updates advance our cloud offerings across the board.”</p></td><td><p style=\"text-align:left;\">0.991</p></td><td><p style=\"text-align:left;\">0.67</p></td><td><p style=\"text-align:left;\">{'Investment'}</p></td></tr><tr><td><p style=\"text-align:left;\"><i>IBM New Zealand takes a tumble in 2020</i><br><br><b><br>\"Our investments in hybrid cloud, artificial intelligence and security are helping New Zealand businesses unlock insights and scale at speed, so that they can respond more quickly to change and advance their digital strategies.\"</b><br></p></td><td><p style=\"text-align:left;\">0.949</p></td><td><p style=\"text-align:left;\">0.686</p></td><td><p style=\"text-align:left;\">{'Investment'}</p></td></tr><tr><td><p style=\"text-align:left;\"><i>IBM Acquires Waeg to Deepen Expertise Across Salesforce Platform in Europe</i><br><br><b><br>With the acquisition of Waeg, IBM is deepening its investments in hybrid cloud and AI to manage complex integrations and unify people, process and technology.</b><br></p></td><td><p style=\"text-align:left;\">0.961</p></td><td><p style=\"text-align:left;\">0.668</p></td><td><p style=\"text-align:left;\">{'Investment'}</p></td></tr><tr><td><p style=\"text-align:left;\"><i>NexJ CRM Products are Now Available on IBM Cloud for Financial Services</i><br><br><b><br>\"Our growing ecosystem of partners that collaborate on the IBM Cloud for Financial Services enables customers to unlock the benefits of an industry-specific cloud for highly-related industries,\" said Brendan Kinkade , Vice President, Technology and Hybrid Cloud Partnerships, IBM.</b><br></p></td><td><p style=\"text-align:left;\">0.986</p></td><td><p style=\"text-align:left;\">0.61</p></td><td><p style=\"text-align:left;\">{'Financial services'}</p></td></tr></table>"
      ],
      "text/plain": [
       "<IPython.core.display.HTML object>"
      ]
     },
     "metadata": {},
     "output_type": "display_data"
    },
    {
     "data": {
      "text/html": [
       "<h2>IBM</h2>"
      ],
      "text/plain": [
       "<IPython.core.display.HTML object>"
      ]
     },
     "metadata": {},
     "output_type": "display_data"
    },
    {
     "name": "stdout",
     "output_type": "stream",
     "text": [
      "Number of candidates: 20\n"
     ]
    },
    {
     "data": {
      "text/html": [
       "<table><tr><td><p style=\"text-align:left;\">html</p></td><td><p style=\"text-align:left;\">procon</p></td><td><p style=\"text-align:left;\">evidence</p></td><td><p style=\"text-align:left;\">IBM_concepts</p></td></tr><tr><td><p style=\"text-align:left;\"><i>IBM Tops Second-Quarter Earnings Forecast, Cloud Revenue Impresses</i><br><br><b><br>CEO Arvind Krishna says 'client adoption of our hybrid cloud platform contributed to strong performance in Global Business Services and software and drove improved overall revenue growth.'</b><br>Author: Martin Baccardax International Business Machines ( IBM ) - Get Report posted stronger-than-expected second-quarter earnings Monday as cloud revenue and operating margins</p></td><td><p style=\"text-align:left;\">0.999</p></td><td><p style=\"text-align:left;\">0.992</p></td><td><p style=\"text-align:left;\">{'IBM Global Services', 'Cloud computing'}</p></td></tr><tr><td><p style=\"text-align:left;\"><i>IBM revenue jumps thanks to cloud growth</i><br><br><b><br>In the release, IBM chairman and CEO Arvind Krishna said client adoption of IBM’s hybrid cloud platform contributed to a strong performance in global business services and software during the second quarter.</b><br></p></td><td><p style=\"text-align:left;\">0.991</p></td><td><p style=\"text-align:left;\">0.966</p></td><td><p style=\"text-align:left;\">{'Cloud computing', 'IBM'}</p></td></tr><tr><td><p style=\"text-align:left;\"><i>IBM signs 10-year partnership with BIAL for digital transformation</i><br><br><b><br>“IBM Global Business Services and Kyndryl will apply our expertise in hybrid cloud and building business platforms to help BIAL innovate, improve its operational efficiency and deliver exceptional experiences to its growing passenger base,\" said Mark Foster, senior vice president, IBM Services and IBM Global Business Services.</b><br></p></td><td><p style=\"text-align:left;\">0.925</p></td><td><p style=\"text-align:left;\">0.898</p></td><td><p style=\"text-align:left;\">{'IBM Global Services', 'IBM'}</p></td></tr><tr><td><p style=\"text-align:left;\"><i>International Business Machines : IBM REPORTS 2021 SECOND-QUARTER RESULTS (Form 8-K) | MarketScreener</i><br><br><b><br>IBM REPORTS 2021 SECOND-QUARTER RESULTS Improved Revenue Growth Led by Hybrid Cloud Platform Adoption, Consulting and Software Highlights Second Quarter: ● Revenue of $18.7 billion, up 3 percent (flat adjusting for divested businesses and currency)</b><br></p></td><td><p style=\"text-align:left;\">0.951</p></td><td><p style=\"text-align:left;\">0.84</p></td><td><p style=\"text-align:left;\">{'Cloud computing', 'IBM'}</p></td></tr><tr><td><p style=\"text-align:left;\"><i>Hanzo Joins Growing Ecosystem of Partners Supporting the IBM Cloud for Financial Services</i><br><br><b><br>\"We designed the IBM Cloud for Financial Services with a control framework to help financial institutions accelerate hybrid cloud adoption and drive revenue growth while addressing their need for a secure and compliant partner ecosystem,\" said Brendan Kinkade, Vice President, Technology and Hybrid Cloud Partnerships, IBM.</b><br></p></td><td><p style=\"text-align:left;\">0.96</p></td><td><p style=\"text-align:left;\">0.797</p></td><td><p style=\"text-align:left;\">{'IBM', 'IBM Cloud'}</p></td></tr><tr><td><p style=\"text-align:left;\"><i>Hanzo Joins Growing Ecosystem of Partners Supporting the IBM Cloud for Financial Services</i><br><br><b><br>“We designed the IBM Cloud for Financial Services with a control framework to help financial institutions accelerate hybrid cloud adoption and drive revenue growth while addressing their need for a secure and compliant partner ecosystem,” said Brendan Kinkade, Vice President, Technology and Hybrid Cloud Partnerships, IBM.</b><br></p></td><td><p style=\"text-align:left;\">0.95</p></td><td><p style=\"text-align:left;\">0.787</p></td><td><p style=\"text-align:left;\">{'IBM', 'IBM Cloud'}</p></td></tr><tr><td><p style=\"text-align:left;\"><i>Hanzo Joins Growing Ecosystem of Partners Supporting the IBM Cloud for Financial Services</i><br><br><b><br>the IBM Cloud for Financial Services with a control framework to help financial institutions accelerate hybrid cloud adoption and drive revenue growth while addressing their need for a secure and compliant partner ecosystem,” said Brendan Kinkade, Vice President, Technology and Hybrid Cloud Partnerships, IBM.</b><br></p></td><td><p style=\"text-align:left;\">0.972</p></td><td><p style=\"text-align:left;\">0.756</p></td><td><p style=\"text-align:left;\">{'IBM', 'IBM Cloud'}</p></td></tr><tr><td><p style=\"text-align:left;\"><i>Second-quarter revenues beat forecasts at IBM - Sharecast.com</i><br><br><b><br>Arvind Krishna, chief executive, said: “Client adoption of our hybrid cloud platform contributed to the strong performance in global business services and software, and drove improved overall revenue growth. “</b><br>We are pleased with our progress and we remain on track to deliver full-year revenue growth and meet out cash flow</p></td><td><p style=\"text-align:left;\">0.998</p></td><td><p style=\"text-align:left;\">0.987</p></td><td><p style=\"text-align:left;\">{'Cloud computing'}</p></td></tr><tr><td><p style=\"text-align:left;\"><i>Copersucar selects IBM cloud for sustainable digital growth in hybrid cloud environment</i><br><br><b><br>Copersucar selects IBM cloud for sustainable digital growth in hybrid cloud environment Anasia D’mello Copersucar, a global provider in sugar and ethanol trading has chosen IBM Cloud to help them increase productivity and efficiency, modernise processes and accelerate its business expansion.</b><br></p></td><td><p style=\"text-align:left;\">0.982</p></td><td><p style=\"text-align:left;\">0.661</p></td><td><p style=\"text-align:left;\">{'IBM', 'IBM Cloud'}</p></td></tr><tr><td><p style=\"text-align:left;\"><i>IBM and IISc launch research lab to advance hybrid cloud, AI technology adoption</i><br><br><b><br>An in-house study by IBM on hybrid cloud reveals the hybrid value derived from multi-cloud platform technology is 2.5 times of what it would be from a single cloud, thus leading business to invest in hybrid multi-cloud platform to drive business transformation.</b><br></p></td><td><p style=\"text-align:left;\">0.985</p></td><td><p style=\"text-align:left;\">0.97</p></td><td><p style=\"text-align:left;\">{'IBM'}</p></td></tr><tr><td><p style=\"text-align:left;\"><i>NexJ CRM Products are Now Available on IBM Cloud for Financial Services</i><br><br><b><br>\"Our growing ecosystem of partners that collaborate on the IBM Cloud for Financial Services enables customers to unlock the benefits of an industry-specific cloud for highly-related industries,\" said Brendan Kinkade , Vice President, Technology and Hybrid Cloud Partnerships, IBM.</b><br></p></td><td><p style=\"text-align:left;\">0.986</p></td><td><p style=\"text-align:left;\">0.61</p></td><td><p style=\"text-align:left;\">{'IBM', 'IBM Cloud'}</p></td></tr><tr><td><p style=\"text-align:left;\"><i>NexJ CRM Products are Available on IBM Cloud for Financial Services</i><br><br><b><br>“Our growing ecosystem of partners that collaborate on the IBM Cloud for Financial Services enables customers to unlock the benefits of an industry-specific cloud for highly-related industries,” said Brendan Kinkade , Vice President, Technology and Hybrid Cloud Partnerships, IBM.</b><br></p></td><td><p style=\"text-align:left;\">0.98</p></td><td><p style=\"text-align:left;\">0.615</p></td><td><p style=\"text-align:left;\">{'IBM', 'IBM Cloud'}</p></td></tr><tr><td><p style=\"text-align:left;\"><i>Pitney Bowes Taps IBM for Global Hybrid Cloud Transformation</i><br><br>IBM is delivering IT automation, machine learning and managed infrastructure services to help Pitney Bowes transform and embrace hybrid cloud computing.<b><br>IBM is helping Pitney Bowes transform and embrace hybrid cloud computing to support its global business plan and goals.</b><br></p></td><td><p style=\"text-align:left;\">0.983</p></td><td><p style=\"text-align:left;\">0.939</p></td><td><p style=\"text-align:left;\">{'Cloud computing'}</p></td></tr><tr><td><p style=\"text-align:left;\"><i>Atos and IBM to Collaborate to Build a Secured Infrastructure for the Dutch Ministry of Defense</i><br><br><b><br>\"Collaborating on GrIT with Atos, one of our sustainability-focused global ecosystem partners, reinforces our mission to build secure infrastructures using open hybrid cloud to help customers make their organizations future ready,\" said Evaristus Mainsah , GM, IBM Hybrid Cloud and Edge Ecosystem .</b><br></p></td><td><p style=\"text-align:left;\">0.984</p></td><td><p style=\"text-align:left;\">0.934</p></td><td><p style=\"text-align:left;\">{'IBM'}</p></td></tr><tr><td><p style=\"text-align:left;\"><i>Atos and IBM to Collaborate to Build a Secured Infrastructure for the Dutch Ministry of Defense</i><br><br><b><br>\"Collaborating on GrIT with Atos, one of our sustainability-focused global ecosystem partners, reinforces our mission to build secure infrastructures using open hybrid cloud to help customers make their organizations future ready,\" said Evaristus Mainsah, GM, IBM Hybrid Cloud and Edge Ecosystem.</b><br></p></td><td><p style=\"text-align:left;\">0.984</p></td><td><p style=\"text-align:left;\">0.934</p></td><td><p style=\"text-align:left;\">{'IBM'}</p></td></tr><tr><td><p style=\"text-align:left;\"><i>Avetra Boosts Digital Services for E&U Clients with Support from IBM Cloud</i><br><br><b><br>\"We are seeing the energy and utilities industry accelerating its cloud adoption, particularly to improve communication, function and accessibility to meet the demands of increasingly digitally-native consumers,\" said Evaristus Mainsah, General Manager, IBM Hybrid Cloud and Edge Ecosystem.</b><br></p></td><td><p style=\"text-align:left;\">0.96</p></td><td><p style=\"text-align:left;\">0.955</p></td><td><p style=\"text-align:left;\">{'IBM'}</p></td></tr><tr><td><p style=\"text-align:left;\"><i>IBM Reports 2021 Second-Quarter Results</i><br><br><b><br>“In the second quarter client adoption of our hybrid cloud platform contributed to strong performance in Global Business Services and software and drove improved overall revenue growth.</b><br>At the same time, we continued to help clients infuse our AI-based technology offerings into their core business workflows,\" said Arvind Krishna, IBM</p></td><td><p style=\"text-align:left;\">0.99</p></td><td><p style=\"text-align:left;\">0.59</p></td><td><p style=\"text-align:left;\">{'IBM Global Services', 'Cloud computing'}</p></td></tr><tr><td><p style=\"text-align:left;\"><i>Advance your business with a hybrid environment</i><br><br>Site Map Advance your business with a hybrid environment Hybrid cloud technologies can help you achieve greater business agility, efficiency, and competitive advantage.<b><br>In fact, 58% of enterprises have a hybrid cloud strategy and 69% use hybrid cloud technologies to move their business forward.</b><br>However, implementing an effective hybrid cloud</p></td><td><p style=\"text-align:left;\">0.992</p></td><td><p style=\"text-align:left;\">0.907</p></td><td><p style=\"text-align:left;\">{'Cloud computing'}</p></td></tr><tr><td><p style=\"text-align:left;\"><i>Bangalore International Airport Limited Partners with IBM for Digital and IT Transformation</i><br><br><b><br>\"IBM Global Business Services and Kyndryl will apply our expertise in hybrid cloud and building business platforms to help BIAL innovate, improve its operational efficiency and deliver exceptional experiences to its growing passenger base.\"</b><br></p></td><td><p style=\"text-align:left;\">0.829</p></td><td><p style=\"text-align:left;\">0.732</p></td><td><p style=\"text-align:left;\">{'IBM Global Services', 'IBM'}</p></td></tr><tr><td><p style=\"text-align:left;\"><i>IBM Board Approves Increase in Quarterly Cash Dividend for the 26th Consecutive Year - Up News Info</i><br><br><b><br>Arvind Krishna, IBM chairman and chief executive officer, said: “Client adoption of our hybrid cloud and AI technologies, strong cash generation and disciplined financial management all enable us to invest in the business while continuing to return capital to our shareholders.</b><br>We remain committed to IBM’s secure and growing dividend.”</p></td><td><p style=\"text-align:left;\">0.976</p></td><td><p style=\"text-align:left;\">0.917</p></td><td><p style=\"text-align:left;\">{'IBM'}</p></td></tr></table>"
      ],
      "text/plain": [
       "<IPython.core.display.HTML object>"
      ]
     },
     "metadata": {},
     "output_type": "display_data"
    },
    {
     "data": {
      "text/html": [
       "<h2>Microsoft</h2>"
      ],
      "text/plain": [
       "<IPython.core.display.HTML object>"
      ]
     },
     "metadata": {},
     "output_type": "display_data"
    },
    {
     "name": "stdout",
     "output_type": "stream",
     "text": [
      "Number of candidates: 20\n"
     ]
    },
    {
     "data": {
      "text/html": [
       "<table><tr><td><p style=\"text-align:left;\">html</p></td><td><p style=\"text-align:left;\">procon</p></td><td><p style=\"text-align:left;\">evidence</p></td><td><p style=\"text-align:left;\">Microsoft_concepts</p></td></tr><tr><td><p style=\"text-align:left;\"><i>Microsoft Azure Data Box available in Brazil for fast and cost-effective data transfer - Microsoft News Center Brazil - Mediarun Search</i><br><br><b><br>The availability of Azure Data Box is linked to the efforts of Microsoft Mais Brasil’s plan to deliver hybrid cloud infrastructure and services to businesses to contribute to their growth and accelerate digital innovation by expanding cloud infrastructure in the country.</b><br></p></td><td><p style=\"text-align:left;\">0.976</p></td><td><p style=\"text-align:left;\">0.752</p></td><td><p style=\"text-align:left;\">{'Microsoft', 'Microsoft Azure'}</p></td></tr><tr><td><p style=\"text-align:left;\"><i>Infrastructure Engineer Job</i><br><br><b><br>Inhouse development Salary - £50 000 - £60 000 Flexible remote working opportunities (2 days in the office a week) Role & Responsibilities Support and development of hybrid cloud infrastructure 3rd party support Embedding security in all work undertaken Skills & Qualifications Office 365 and Azure AD MS Windows Server</b><br></p></td><td><p style=\"text-align:left;\">0.862</p></td><td><p style=\"text-align:left;\">0.025</p></td><td><p style=\"text-align:left;\">{'Microsoft Windows', 'Office 365', 'Microsoft Azure'}</p></td></tr><tr><td><p style=\"text-align:left;\"><i>Function-as-a-Service Market to Reach $24.0 Billion by 2026</i><br><br>On the other hand, the hybrid cloud segment is estimated to portray the highest CAGR of 34.8% during the forecast period.<b><br>This is attributed to the increase in adoption of hybrid cloud in IT service management models and growing demand for cost-effective, scalable and agile computing.</b><br></p></td><td><p style=\"text-align:left;\">0.967</p></td><td><p style=\"text-align:left;\">0.34</p></td><td><p style=\"text-align:left;\">{'Computing'}</p></td></tr><tr><td><p style=\"text-align:left;\"><i>Microsoft aims to increase the security of its business with the acquisition of RiskIQ</i><br><br>It will be possible to respond to. “<b><br>Sign of the times “Microsoft provides end-to-end cloud-native security with Microsoft 365 Defender, Microsoft Azure Defender, and Microsoft Azure Sentinel to help protect, detect, and respond to threats in multi-cloud and hybrid cloud environments.</b><br></p></td><td><p style=\"text-align:left;\">0.587</p></td><td><p style=\"text-align:left;\">0.046</p></td><td><p style=\"text-align:left;\">{'Microsoft', 'Microsoft Azure', 'Microsoft 365'}</p></td></tr><tr><td><p style=\"text-align:left;\"><i>Microsoft : to acquire RiskIQ to strengthen cybersecurity of digital transformation and hybrid work | MarketScreener</i><br><br><b><br>Microsoft has long been a leader in delivering end-to-end cloud-native security with Microsoft 365 Defender , Microsoft Azure Defender , and Microsoft Azure Sentinel that help protect, detect, and respond to threats in multi-cloud and hybrid cloud environments.</b><br></p></td><td><p style=\"text-align:left;\">0.552</p></td><td><p style=\"text-align:left;\">0.054</p></td><td><p style=\"text-align:left;\">{'Microsoft', 'Microsoft Azure', 'Microsoft 365'}</p></td></tr><tr><td><p style=\"text-align:left;\"><i>Get the latest in telecom and enterprise news and updates on Communications Today.</i><br><br><b><br>Microsoft said now over 1,000 organizations are using Azure Arc primarily as a way to simplify the management of hybrid clouds, as well as run agile services across on-premises, multi-cloud and edge environments.</b><br></p></td><td><p style=\"text-align:left;\">0.737</p></td><td><p style=\"text-align:left;\">0.195</p></td><td><p style=\"text-align:left;\">{'Microsoft', 'Microsoft Azure'}</p></td></tr><tr><td><p style=\"text-align:left;\"><i>3 reasons CEOs should take their workforce to the cloud</i><br><br><b><br>With the big players already adapting to a post-pandemic future and 90% of global companies expecting to adopt a hybrid cloud by 2022, implementing WFH will be easy for enterprises.</b><br></p></td><td><p style=\"text-align:left;\">0.948</p></td><td><p style=\"text-align:left;\">0.313</p></td><td><p style=\"text-align:left;\">{'Multinational corporation'}</p></td></tr><tr><td><p style=\"text-align:left;\"><i>Nalgonda - Microsoft azure cloud partner in india | Azure cloud migration solutions</i><br><br>Public Cloud Microsoft Azure Public Cloud built on Windows Server technology Private Cloud Virtual Private Cloud has physically isolated clusters with N+1 design.<b><br>Hybrid Cloud Microsoft Azure offers scalability, flexibility and ease of use.</b><br>https://alliancepro.co.in/microsoft/</p></td><td><p style=\"text-align:left;\">0.993</p></td><td><p style=\"text-align:left;\">0.264</p></td><td><p style=\"text-align:left;\">{'Microsoft Azure'}</p></td></tr><tr><td><p style=\"text-align:left;\"><i>AWS v Microsoft v Google: partners rank the Big 3</i><br><br>The many points of entry into Azure for Microsoft customers “does separate Azure from the other cloud providers,” he said.<b><br>Supporting hybrid cloud infrastructure is another strength for Microsoft, which embraced hybrid cloud earlier than AWS, Microsoft-focused solution providers said. “</b><br>Microsoft created the gold standard in terms of operating in</p></td><td><p style=\"text-align:left;\">0.994</p></td><td><p style=\"text-align:left;\">0.222</p></td><td><p style=\"text-align:left;\">{'Microsoft'}</p></td></tr><tr><td><p style=\"text-align:left;\"><i>Ubuntu Blog: Finserv open source infrastructure powers digital transformation</i><br><br><b><br>A hybrid cloud provides orchestration, management, and application portability between public and private clouds to create a single, flexible, optimal cloud infrastructure for running a financial institution’s computing workloads.</b><br></p></td><td><p style=\"text-align:left;\">0.963</p></td><td><p style=\"text-align:left;\">0.249</p></td><td><p style=\"text-align:left;\">{'Computing'}</p></td></tr><tr><td><p style=\"text-align:left;\"><i>What To Expect In Today’s Microsoft Build 2021 Developer Conference</i><br><br><b><br>Microsoft’s Cloud computing storage as a service, Azure — Microsoft’s Build developer conference host’s will rather tag this service as a hybrid cloud platform based on its relevance in the tech industry.</b><br>Azure supersedes AWS because the Microsoft cloud company secure the “Pentagon’s $10 billion Jedi cloud computing contract.”</p></td><td><p style=\"text-align:left;\">0.501</p></td><td><p style=\"text-align:left;\">0.009</p></td><td><p style=\"text-align:left;\">{'Microsoft', 'Build (developer conference)', 'Microsoft Azure'}</p></td></tr><tr><td><p style=\"text-align:left;\"><i>Pandemic Has Changed The Future Of Cloud Computing | by Brajendra Kumar | Technology Hits | Jun, 2021 | Medium</i><br><br><b><br>Hybrid Cloud Now, we will understand the types of cloud computing and also why Hybrid cloud is the best option.</b><br>There are 4 types of cloud computing are available to fulfill most of the requirements of organizations.</p></td><td><p style=\"text-align:left;\">0.993</p></td><td><p style=\"text-align:left;\">0.166</p></td><td><p style=\"text-align:left;\">{'Computing'}</p></td></tr><tr><td><p style=\"text-align:left;\"><i>Cloud Object Storage Market Size to Reach USD 13.65 Billion in 2028 | Durability, Scalability, Compliance & Security, Faster Data Retrieval are Some Factors that will Drive Industry Growth, says Emergen Research</i><br><br>*Click Here to Access Free sample PDF Copy of the Report@* https://www.emergenresearch.com/request-sample/683 Hybrid cloud deployment is expected to register a significant CAGR during the forecast period.<b><br>Hybrid clouds combines cloud and on-premises computing environment to create a more efficient business model.</b><br></p></td><td><p style=\"text-align:left;\">0.984</p></td><td><p style=\"text-align:left;\">0.153</p></td><td><p style=\"text-align:left;\">{'Computing'}</p></td></tr><tr><td><p style=\"text-align:left;\"><i>Cloud Computing In Uae - Growing Cloud Computing Utilization in 2019 - IEEE ... / Hosting in uae offers cloud computing consulting services & solutions in the uae including maintenance, migration, implementation, disaster recovery!!!!</i><br><br><b><br>As a leading cloud service provider in dubai, uae, we provide private cloud, public cloud & hybrid cloud solutions from microsoft azure, red hat cloud technology is vital for growing organizations to achieve higher efficiency, innovation, and attain scalability to match your business demand.</b><br></p></td><td><p style=\"text-align:left;\">0.886</p></td><td><p style=\"text-align:left;\">0.249</p></td><td><p style=\"text-align:left;\">{'Microsoft Azure'}</p></td></tr><tr><td><p style=\"text-align:left;\"><i>Infrastructure Engineer</i><br><br><b><br>Inhouse development Salary - £50 000 - £60 000 Flexible remote working opportunities support and development of hybrid cloud infrastructure 3rd party support Embedding security in all work undertaken Skills & Qualifications Office 365 and Azure AD MS Windows Server 2012 - 2019 Benefits</b><br></p></td><td><p style=\"text-align:left;\">0.749</p></td><td><p style=\"text-align:left;\">0.03</p></td><td><p style=\"text-align:left;\">{'Office 365', 'Microsoft Azure'}</p></td></tr><tr><td><p style=\"text-align:left;\"><i>Microsoft equips Visual Studio Code with extension for Project Tye microservices</i><br><br><b><br>Delivering Transformation And Hybrid Work Productivity Starts At The Devices More from Dell Technologies Tags Microsoft visual studio Read next The top challenges for IBM as it works towards a hybrid cloud ... Asana adds features to reduce distractions, improve video chats</b><br></p></td><td><p style=\"text-align:left;\">0.913</p></td><td><p style=\"text-align:left;\">0.16</p></td><td><p style=\"text-align:left;\">{'Microsoft Visual Studio'}</p></td></tr><tr><td><p style=\"text-align:left;\"><i>Q&A: Former Ohio CIO Champions Modern Cloud for Boosting Citizen Services</i><br><br>We recently added Google Cloud as a partner as well.<b><br>Our state computing center operates a private cloud, and agencies can deploy hybrid cloud in places where that’s the best solution.</b><br></p></td><td><p style=\"text-align:left;\">0.877</p></td><td><p style=\"text-align:left;\">0.146</p></td><td><p style=\"text-align:left;\">{'Computing'}</p></td></tr><tr><td><p style=\"text-align:left;\"><i>Build 2021: Microsoft Announces Azure Hybrid Cloud Features</i><br><br><b><br>Azure Arc Azure Arc is a Microsoft solution for hybrid cloud organizations that allows them to manage whole environments both in the cloud and on premises.</b><br>It takes current resources and compiles them into a single Azure resource.</p></td><td><p style=\"text-align:left;\">0.68</p></td><td><p style=\"text-align:left;\">0.003</p></td><td><p style=\"text-align:left;\">{'Microsoft', 'Microsoft Azure'}</p></td></tr><tr><td><p style=\"text-align:left;\"><i>New AWS CEO Adam Selipsky's Biggest Opportunities and Risks in 2021</i><br><br><b><br>And hybrid cloud, a computing environment which combines cloud platforms like AWS with on-premise servers, is growing in popularity for those later-stage customers too.</b><br>Partially in response to the competitive threat from Microsoft Azure, Amazon recently began offering hybrid cloud products .</p></td><td><p style=\"text-align:left;\">0.962</p></td><td><p style=\"text-align:left;\">0.05</p></td><td><p style=\"text-align:left;\">{'Computing'}</p></td></tr><tr><td><p style=\"text-align:left;\"><i>The Evolution of Computing and Open Hybrid Cloud</i><br><br><b><br>The next evolution in computing needs to be the open hybrid cloud .</b><br>To achieve a true open hybrid cloud approach, we need to continue to create and foster communities that share this common purpose: to democratise the tremendous power of cloud platforms through open standards at every level—from service</p></td><td><p style=\"text-align:left;\">0.925</p></td><td><p style=\"text-align:left;\">0.057</p></td><td><p style=\"text-align:left;\">{'Computing'}</p></td></tr></table>"
      ],
      "text/plain": [
       "<IPython.core.display.HTML object>"
      ]
     },
     "metadata": {},
     "output_type": "display_data"
    }
   ],
   "source": [
    "for aspect in aspects:\n",
    "    matched_sentences = [sentence for sentence in all_candidates if len(sentence[aspect + '_concepts']) >= 1]\n",
    "           \n",
    "    for sentence in all_candidates:\n",
    "        sentence['score'] = len(sentence[aspect + '_concepts'])/3 + sentence['evidence'] + abs(sentence['procon'])\n",
    "          \n",
    "    print_top_by_function(aspect,matched_sentences,\n",
    "                          function=lambda candidate: -candidate['score'],\n",
    "                                                       fields = ['html','procon', 'evidence',aspect + '_concepts'])"
   ]
  }
 ],
 "metadata": {
  "kernelspec": {
   "display_name": "Python 3",
   "language": "python",
   "name": "python3"
  },
  "language_info": {
   "codemirror_mode": {
    "name": "ipython",
    "version": 3
   },
   "file_extension": ".py",
   "mimetype": "text/x-python",
   "name": "python",
   "nbconvert_exporter": "python",
   "pygments_lexer": "ipython3",
   "version": "3.7.1"
  }
 },
 "nbformat": 4,
 "nbformat_minor": 2
}
