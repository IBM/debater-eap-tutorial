{
 "cells": [
  {
   "cell_type": "markdown",
   "id": "79190f16-c04e-4480-a10d-183da359c5bf",
   "metadata": {},
   "source": [
    "# Using Key Point Summarization for analyzing and finding insights in a survey data\n",
    "\n",
    "A new version of the SDK has recently been introduced. \n",
    "\n",
    "The tutorial for the updated version in available [here](./new_sdk/kpa_quick_start_tutorial-with_results.ipynb).\n",
    "\n",
    "The tutorial for the legacy version (to be supported until the end of July 2023) in available [here](./legacy_sdk/kpa_quick_start_tutorial-with_results.ipynb).\n"
   ]
  }
 ],
 "metadata": {
  "kernelspec": {
   "display_name": "Python 3 (ipykernel)",
   "language": "python",
   "name": "python3"
  },
  "language_info": {
   "codemirror_mode": {
    "name": "ipython",
    "version": 3
   },
   "file_extension": ".py",
   "mimetype": "text/x-python",
   "name": "python",
   "nbconvert_exporter": "python",
   "pygments_lexer": "ipython3",
   "version": "3.8.16"
  }
 },
 "nbformat": 4,
 "nbformat_minor": 5
}
