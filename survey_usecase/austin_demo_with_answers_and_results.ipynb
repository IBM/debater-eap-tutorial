{
 "cells": [
  {
   "cell_type": "markdown",
   "metadata": {},
   "source": [
    "# Using Project Debater services for analyzing and finding insights in the survey data \n",
    "When you have a large collection of texts representing people’s opinions (such as product reviews, survey answers or  social media), it is difficult to understand the key issues that come up in the data. Going over thousands of comments is prohibitively expensive.  Existing automated approaches are often limited to identifying recurring phrases or concepts and the overall sentiment toward them, but do not provide detailed or actionable insights.\n",
    "\n",
    "In this tutorial you will gain hands-on experience in using Project Debater services for analyzing and deriving insights from open-ended answers.  \n",
    "\n",
    "The data we will use is a community survey conducted in the city of Austin in the years 2016 and 2017 (https://data.world/cityofaustin/mf9f-kvkk). In this survey, the citizens of Austin where asked \"If there was ONE thing you could share with the Mayor regarding the City of Austin (any comment, suggestion, etc.), what would it be?\". \n",
    "\n",
    "We will analyze their open-ended answers in different ways by using four Debater services, the *Argument Quality* service, the *Key Point Analysis (KPA)* service, the *Term Wikifier* service and the *Term Relater* service, and we will see how they can be combined into a powerful text analysis tool."
   ]
  },
  {
   "cell_type": "markdown",
   "metadata": {},
   "source": [
    "## 1. Run *Key Point Analysis* on 1000 randomly selected sentences from 2016 survey"
   ]
  },
  {
   "cell_type": "markdown",
   "metadata": {},
   "source": [
    "### 1.1 Read random sample of 1000 sentences from 2016 comments\n",
    "Let's take a look at the first 5 lines in the *dataset_austin_sentences.csv* file, which holds the Austin survey dataset."
   ]
  },
  {
   "cell_type": "code",
   "execution_count": 1,
   "metadata": {},
   "outputs": [
    {
     "name": "stdout",
     "output_type": "stream",
     "text": [
      "id,text,district,year\n",
      "\n",
      "1,\"Dissatisfied traffic and with traffic, timing of street lights.\",7,2016\n",
      "\n",
      "2,EXTREMELY dissatisfied with cit govt.,7,2016\n",
      "\n",
      "3,\"interfering in local businesses (Uber/Lyft, income property owners).\",7,2016\n",
      "\n",
      "4,\"Also, extremely dissatisfied with all the free handouts to people who are perfectly capable of earning their own money.\",7,2016\n",
      "\n"
     ]
    }
   ],
   "source": [
    "file = open('./dataset_austin_sentences.csv', 'r')\n",
    "lines = file.readlines()\n",
    "print('\\n'.join(lines[:5]))"
   ]
  },
  {
   "cell_type": "markdown",
   "metadata": {},
   "source": [
    "The file has all the survey answers after they were split into sentences. Each row in the file corresponds to a single sentence. Each row has the following attributes: \\['id', 'text', 'district','year'\\]. We will first read the attached csv file into the 'sentences' variable. "
   ]
  },
  {
   "cell_type": "code",
   "execution_count": 2,
   "metadata": {},
   "outputs": [],
   "source": [
    "import csv\n",
    "import random\n",
    "\n",
    "\n",
    "with open('./dataset_austin_sentences.csv') as csv_file:\n",
    "    reader = csv.DictReader(csv_file)\n",
    "    sentences = list(reader)"
   ]
  },
  {
   "cell_type": "markdown",
   "metadata": {},
   "source": [
    "Let's have a look at the content *sentences* variable. "
   ]
  },
  {
   "cell_type": "code",
   "execution_count": 3,
   "metadata": {},
   "outputs": [
    {
     "name": "stdout",
     "output_type": "stream",
     "text": [
      "There are 6274 sentences in the dataset\n",
      "Each sentence is a dictionary with the following keys: odict_keys(['id', 'text', 'district', 'year'])\n"
     ]
    }
   ],
   "source": [
    "print('There are %d sentences in the dataset' % len(sentences))\n",
    "print('Each sentence is a dictionary with the following keys: %s' % str(sentences[0].keys()))"
   ]
  },
  {
   "cell_type": "markdown",
   "metadata": {},
   "source": [
    "Let's select only the sentences from the 2016 survey and randomly sample 1000 out of them. The *Key Point Analysis* service is able to run over hundreds of thousands of sentences, however since the computation is heavy in resources (particularly GPUs) the trial version is limited to 1000 sentences. Using a random.seed(0) is important since we already prepared a hot-cache over these sentences for a quicker *Key Point Analysis* run."
   ]
  },
  {
   "cell_type": "code",
   "execution_count": 4,
   "metadata": {},
   "outputs": [
    {
     "name": "stdout",
     "output_type": "stream",
     "text": [
      "There are 3005 sentences in the 2016 survey\n"
     ]
    }
   ],
   "source": [
    "sentences_2016 = [sentence for sentence in sentences if sentence['year'] == '2016']\n",
    "print('There are %d sentences in the 2016 survey' % len(sentences_2016))\n",
    "random.seed(0)\n",
    "random_sample_sentences_2016 = random.sample(sentences_2016, 1000)"
   ]
  },
  {
   "cell_type": "markdown",
   "metadata": {},
   "source": [
    "### 1.2 Run *Key Point Analysis* on the random sample"
   ]
  },
  {
   "cell_type": "markdown",
   "metadata": {},
   "source": [
    "Key point analysis is a novel and promising approach for summarization, with an important quantitative angle. This service summarizes a collection of comments on a given topic as a small set of key points. The salience of each key point is given by the number of its matching sentences in the given comments.\n",
    "\n",
    "Before running the *Key Point Analysis* service we first need to initialize our client.  The DebaterApi object supplies the clients for the various Debater services.   The clients print information using the logger and a suitable verbosity level is should be set. The DebaterApi object is configured with an API key. It should be  retrieved from the Project Debater Early Access Program site.  In this case it is passed by the enviroment variable *DEBATER_API_KEY*.  We then obtain the keypoint client from the DebaterAPI object.\n",
    "\n",
    "The *Key Point Analysis* service stores the data (and results cache) in a domain. A user can create several domains, one for each dataset. Domains are only accessible to the user who created them.  In this tutorial, we will run all *Key Point Analysis* jobs in the same domain named 'austin_demo'.\n",
    "\n",
    "Full documentation of the *Key Point Analysis* service can be found [here](https://early-access-program.debater.res.ibm.com/docs/services/keypoints/keypoints_pydoc.html).\n"
   ]
  },
  {
   "cell_type": "code",
   "execution_count": 5,
   "metadata": {},
   "outputs": [],
   "source": [
    "from debater_python_api.api.debater_api import DebaterApi\n",
    "from austin_utils import init_logger\n",
    "import os\n",
    "\n",
    "init_logger()\n",
    "api_key = os.environ['DEBATER_API_KEY']\n",
    "debater_api = DebaterApi(apikey=api_key)\n",
    "keypoints_client = debater_api.get_keypoints_client()\n",
    "domain = 'austin_demo'"
   ]
  },
  {
   "cell_type": "markdown",
   "metadata": {},
   "source": [
    "Exercise 1:\n",
    "\n",
    "Let's define a method named *run_kpa*. The method receives a list of sentences (each sentence is a dictionary with the following keys: 'id','text') and runs *Key Point Analysis* on these sentences. The method also receives the *run_params* parameter, which enable us to customize and affect the *Key Point Analysis* operation.\n",
    "\n",
    "In order to run *Key Point Analysis*, we need to:\n",
    "\n",
    "1. Upload the comments into a domain using the **keypoints_client.upload_comments(domain=domain, comments_ids=sentences_ids, comments_texts=sentences_texts, dont_split=True)** method. This method receives the domain, a list of comment_ids and a list of comment_texts. By default, when uploading comments into a domain, the *Key Point Analysis* service splits the comments into sentences by default and runs a minor cleansing on the sentences. Since we already splitted the comments into sentences ourselves and we want to *Key Point Analysis* service to use them as is, we will set the *dont_split* parameter to True.\n",
    "\n",
    "2. Wait till all comments in the domain are processed using the **keypoints_client.wait_till_all_comments_are_processed(domain=domain)** method.\n",
    "\n",
    "3. Start a *Key Point Analysis* job using the **future = keypoints_client.start_kp_analysis_job(domain=domain, comments_ids=sentences_ids, run_params=run_params)** method. This method receives the domain, a list of comment_ids and a *run_params*. The run_params is a dictionary with various parameters for customizing the job. The job runs in an async manner therefore the method returns a future object.\n",
    "\n",
    "4. Use the returned future and wait till results are available using the **kpa_result = future.get_result(high_verbosity=True, polling_timout_secs=5)** method. The method waits for the job to finish and eventually returns the result. The result is a dictionary containing the key points (sorted descendingly according to number of matched sentences) and for each key point has a list of matched sentences (sorted descendingly according to their match score). An additional 'none' key point is added which holds all the sentences that don't match any key point.\n",
    "\n",
    "Our run_kpa method will return this result dictionary. It will also return the unique identifirt for this analysis called *job_id* retreived from the future. We will need this job_id in a following exercise."
   ]
  },
  {
   "cell_type": "code",
   "execution_count": 6,
   "metadata": {},
   "outputs": [],
   "source": [
    "def run_kpa(sentences, run_params):\n",
    "    sentences_texts = [sentence['text'] for sentence in sentences]\n",
    "    sentences_ids = [sentence['id'] for sentence in sentences]\n",
    "\n",
    "    keypoints_client.upload_comments(domain=domain, \n",
    "                                     comments_ids=sentences_ids, \n",
    "                                     comments_texts=sentences_texts, \n",
    "                                     dont_split=True)\n",
    "\n",
    "    keypoints_client.wait_till_all_comments_are_processed(domain=domain)\n",
    "\n",
    "    future = keypoints_client.start_kp_analysis_job(domain=domain, \n",
    "                                                    comments_ids=sentences_ids, \n",
    "                                                    run_params=run_params)\n",
    "\n",
    "    kpa_result = future.get_result(high_verbosity=True, \n",
    "                                   polling_timout_secs=5)\n",
    "    \n",
    "    return kpa_result, future.get_job_id()"
   ]
  },
  {
   "cell_type": "markdown",
   "metadata": {},
   "source": [
    "We will now use the method you implemented and run over the random sample and print the result. In order to limit the number of key points in the result to 20, we will use *run_params={'n_top_kps': 20}*."
   ]
  },
  {
   "cell_type": "code",
   "execution_count": 7,
   "metadata": {},
   "outputs": [
    {
     "name": "stderr",
     "output_type": "stream",
     "text": [
      "2021-06-22 17:09:25,100 [INFO] keypoints_client.py 284: uploading 1000 comments in batches\n",
      "2021-06-22 17:09:25,101 [INFO] keypoints_client.py 214: client calls service (post): https://keypoint-matching-backend.debater.res.ibm.com/comments\n",
      "2021-06-22 17:09:26,149 [INFO] keypoints_client.py 301: uploaded 1000 comments, out of 1000\n",
      "2021-06-22 17:09:26,150 [INFO] keypoints_client.py 214: client calls service (get): https://keypoint-matching-backend.debater.res.ibm.com/comments\n",
      "2021-06-22 17:09:26,861 [INFO] keypoints_client.py 313: domain: austin_demo, comments status: {'processed_comments': 3122, 'pending_comments': 1000, 'processed_sentences': 3122}\n",
      "2021-06-22 17:09:36,866 [INFO] keypoints_client.py 214: client calls service (get): https://keypoint-matching-backend.debater.res.ibm.com/comments\n",
      "2021-06-22 17:09:37,488 [INFO] keypoints_client.py 313: domain: austin_demo, comments status: {'processed_comments': 3122, 'pending_comments': 0, 'processed_sentences': 3122}\n",
      "2021-06-22 17:09:37,489 [INFO] keypoints_client.py 214: client calls service (post): https://keypoint-matching-backend.debater.res.ibm.com/kp_extraction\n",
      "2021-06-22 17:09:38,590 [INFO] keypoints_client.py 375: started a kp analysis job - domain: austin_demo, job_id: 60d1ef2293247fbd991aa679\n",
      "2021-06-22 17:09:38,591 [INFO] keypoints_client.py 214: client calls service (get): https://keypoint-matching-backend.debater.res.ibm.com/kp_extraction\n",
      "2021-06-22 17:09:39,153 [INFO] keypoints_client.py 548: job_id 60d1ef2293247fbd991aa679 is pending\n",
      "2021-06-22 17:09:44,159 [INFO] keypoints_client.py 214: client calls service (get): https://keypoint-matching-backend.debater.res.ibm.com/kp_extraction\n",
      "2021-06-22 17:09:45,311 [INFO] keypoints_client.py 552: job_id 60d1ef2293247fbd991aa679 is running, progress: not updated yet\n",
      "2021-06-22 17:09:50,316 [INFO] keypoints_client.py 214: client calls service (get): https://keypoint-matching-backend.debater.res.ibm.com/kp_extraction\n",
      "2021-06-22 17:09:51,049 [INFO] keypoints_client.py 552: job_id 60d1ef2293247fbd991aa679 is running, progress: not updated yet\n",
      "2021-06-22 17:09:56,050 [INFO] keypoints_client.py 214: client calls service (get): https://keypoint-matching-backend.debater.res.ibm.com/kp_extraction\n",
      "2021-06-22 17:09:57,478 [INFO] keypoints_client.py 555: job_id 60d1ef2293247fbd991aa679 is done, returning result\n"
     ]
    },
    {
     "name": "stdout",
     "output_type": "stream",
     "text": [
      "Random sample 2016 coverage: 28.36\n",
      "Random sample 2016 key points:\n",
      "39 - We need better mass transit!\n",
      "\t- Need more bus routes!\n",
      "\t- NEED BETTER PUBLIC TRANSPORTATION\n",
      "34 - Affordable housing, traffic, cleaner streets/roads.\n",
      "\t- TRAFFIC AND AFFORDABLE HOUSING ARE THE BIGGEST PROBLEM TO LIVING HERE.\n",
      "\t- Also, the traffic in Austin is ridiculous and the lack of public transportation needs\n",
      "\t  improvements.\n",
      "24 - Affordable housing is very important.\n",
      "\t- Affordable housing is crucial, & keeping seniors in their homes is part of that challenge!\n",
      "\t- Affordable housing MUST become a reality/ahora!\n",
      "21 - Homeowners taxes are a problem.\n",
      "\t- Cost of living here is to high & tax for my home is to high.\n",
      "\t- High property taxes seem to be one of the two reasons why people I know are leaving\n",
      "\t  Austin (traffic being the other reason).\n",
      "19 - Water costs too much.\n",
      "\t- The cost or water is excessive and way too high.\n",
      "\t- Also, the cost of my water bill is insanely high and I am about to protest it!\n",
      "17 - Provide public transportation to prevent traffic overflow.\n",
      "\t- Work with the state to improve transportation to ease congestion.\n",
      "\t- Contributing to the traffic congestion going into the city.\n",
      "13 - Taxes/expenses go up, services go down.\n",
      "\t- Cost of housing, taxes, utilities are killing everything that was good about Austin.\n",
      "\t- Your conservation programs take our money and give it back to us and raising our cost of\n",
      "\t  utilities and taxes.\n",
      "10 - Keep Austin Beautiful, Healthy, Kind and Safe!\n",
      "\t- FOR MY FAMILY I'M LOOKING FOR AN AUSTIN THAT IS SAFE,DIVERSE,STIMULATING,CLEAN AND LAID\n",
      "\t  BACK.\n",
      "\t- Also, keeping streets and parks clean, lights burning,  crime controlled.\n",
      "9 - HOUSING PRICES ARE OUT OF CONTROL.\n",
      "\t- Water bills are way out of control....\n",
      "\t- Taxes have gone out of control!!\n",
      "9 - Infrastructure can't support rapid growth.\n",
      "\t- It cannot handle the high number of people!!\n",
      "\t- It is growing too quickly.\n",
      "9 - MAKE DEVELOPMENT EASIER AND FASTER.\n",
      "\t- Have permits for new commercial build outs be processed faster.\n",
      "\t- Let's make it easy to get here on a global scale.\n",
      "9 - electric rates are too high\n",
      "\t- Rates are to high\n",
      "\t- HIGH TAX HIGH ELECTRIC AND WINTER RATES.\n",
      "6 - DEVELOPMENT SHOULD NOT DISPLACE LOW INCOME FAMILIES.\n",
      "\t- TOLL ROADS DISCRIMINATE AGAINST LOW INCOME PEOPLE.\n",
      "\t- Something about low income-housing.\n",
      "5 - Better training and sensitivity is needed.\n",
      "\t- Better training for the 3-1-1 operators.\n",
      "\t- NEED TO IMPROVE POLICE ACCOUNTABILITY AND CURB ENTRIFICATION\n",
      "5 - Electricity, trash, water, all too high now.\n",
      "\t- Cost of water and electricity , too high.\n",
      "\t- TRAFFIC AND COST OF ELECTRIC AND WATER.\n",
      "4 - CONSERVATION OF WATER AND PROVIDE GREEN SPACE\n",
      "\t- That combined with quality and preservation of outdoor spaces that make Austin such an\n",
      "\t  attractive location and place to live.\n",
      "\t- Austin is a unique city with exceptional green space in spite of its growth.\n",
      "3 - CRIME IS ON THE INCREASE.\n",
      "\t- Could that be why crime is getting so bad?\n",
      "\t- The crime in our neighborhood is out of control.\n",
      "3 - PROPERTY TAX IS A BROKEN SYSTEM.\n",
      "\t- Please fix building permit processes, it's crooked!\n",
      "\t- The building inspectors all have different criteria for approving permits and the system\n",
      "\t  is onerous to say the least.\n",
      "3 - Public transportation has always been problematic here.\n",
      "\t- HIGHWAY SYSTEM THRU CITY IS TERRIBLE\n",
      "\t- TRAFFIC IS A BIG PROBLEM.\n",
      "3 - Speed limits in neighborhoods are too fast.\n",
      "\t- People in my neighborhood drive 40-50 up Scotland Well Drive, the speed limit is 30!\n",
      "\t- Especially the Guadalupe street.\n"
     ]
    }
   ],
   "source": [
    "from austin_utils import print_results\n",
    "\n",
    "kpa_result_random_1000_2016, _ = run_kpa(random_sample_sentences_2016, {'n_top_kps': 20})\n",
    "print_results(kpa_result_random_1000_2016, n_sentences_per_kp=2, title='Random sample 2016')"
   ]
  },
  {
   "cell_type": "markdown",
   "metadata": {},
   "source": [
    "## 2. Run *Key Point Analysis* on 1000 top quality sentences from 2016 survey\n",
    "### 2.1 Select top 1000 sentences from 2016 data using the *Argument Quality* service\n",
    "The answers in the Austin Survey dataset vary in length, style and quality. Selecting the sentences randomly may lead to running over many sentences that are not very informative. Running over the randomly selected sentences reached a 28.36% coverage. This means that only 28.36% of the sentences matched a key point. In order to improve the coverage and the quality of our results, we will now run over higher quality sentences and select the 1000 sentences with the highest *Argument Quality* score. The *Argument Quality* service receives pairs of \\[sentence, topic\\] and returns a score indicating whether the sentence is phrased in grammatically correct, clear and concise language.   The ranking of the quality is based on the machine learning model, which was trained on human assesments of over 30,000 arguments. "
   ]
  },
  {
   "cell_type": "code",
   "execution_count": 8,
   "metadata": {},
   "outputs": [
    {
     "name": "stderr",
     "output_type": "stream",
     "text": [
      "ArgumentQualityClient: 100%|█████████▉| 3000/3005 [00:05<00:00, 542.24it/s]2021-06-22 17:10:03,435 [INFO] argument_quality_client.py 24: argument_quality_client.run = 5942.997932434082ms.\n"
     ]
    },
    {
     "name": "stdout",
     "output_type": "stream",
     "text": [
      "Top 10 quality sentences: \n",
      "\t- Affordable housing is essential to keep Austin diverse, welcoming, and growing in the\n",
      "\t  ways that reflect the progressive ideals of this city and the future generations.\n",
      "\t- Austin has a unique charm, with high quality customer service,  and great quality of\n",
      "\t  life that will quickly deteriorate with this rapid urban sprawl.\n",
      "\t- We need to make sure our city continues to be an example across the country for\n",
      "\t  unwavering progress, with regards to energy, policing, fair housing and employment,\n",
      "\t  non-discrimination policy, and creating a sound infrastructure to accommodate the city's\n",
      "\t  rapid growth.\n",
      "\t- We need a coordinated effort by many agencies to find housing, training, rehab,\n",
      "\t  healthcare and work for our homeless.\n",
      "\t- Affordability and diversity (in culture and age groups) are extremely important to\n",
      "\t  keeping Austin the vibrant, egalitarian city it is.\n",
      "\t- KEEP AUSTIN QUALITY OF LIFE BY INVESTING IN TRAILS, BIKE LANES, SIDEWALKS, PARKS, THESE\n",
      "\t  ARE IMPORTANT FOR ALL SOCIO-ECONOMIC LEVELS AND TO MAINTAIN A PEOPLE CENTRIC COMMUNITY\n",
      "\t- TOLL ROADS DISCRIMINATE AGAINST LOW INCOME PEOPLE.\n",
      "\t- The cost of living in Austin has sky-rocketed, and local businesses are not able or\n",
      "\t  willing to meet the financial needs of the lower-middle class.\n",
      "\t- We need leadership with a progressive vision that can embrace responsible growth and\n",
      "\t  double down on a progressive agenda towards renewable energy and an effective\n",
      "\t  transportation plan that does not rely on more roads and highways for cars.\n",
      "\t- We deserve clean drinking water, not poisoned with endocrine disruptors and neurotoxins.\n",
      "\n",
      "\n",
      "Bottom 10 quality sentences: \n",
      "\t- BRING LYFT UBER BACK.\n",
      "\t- Please compost!\n",
      "\t- FIX THE WASHBOARD SURFACE OF GREYSTONE BETWEEN MESA NAD BALBURN\n",
      "\t- Mistake to let Ott go\n",
      "\t- How does this happen!?!\n",
      "\t- Fix Mopac.\n",
      "\t- Need Uber back! !!!!!!!!!!!\n",
      "\t- WANT ALLON UBER BACK.\n",
      "\t- I want Uber/Lyft.\n",
      "\t- Seriously!?!\n"
     ]
    }
   ],
   "source": [
    "from austin_utils import print_top_and_bottom_k_sentences\n",
    "\n",
    "def get_top_quality_sentences(sentences, top_k, topic):    \n",
    "    arg_quality_client = debater_api.get_argument_quality_client()\n",
    "    sentences_topic = [{'sentence': sentence['text'], 'topic': topic} for sentence in sentences]\n",
    "    arg_quality_scores = arg_quality_client.run(sentences_topic)\n",
    "    sentences_and_scores = zip(sentences, arg_quality_scores)\n",
    "    sentences_and_scores_sorted = sorted(sentences_and_scores, key=lambda x: x[1], reverse=True)\n",
    "    sentences_sorted = [sentence for sentence, _ in sentences_and_scores_sorted]\n",
    "    print_top_and_bottom_k_sentences(sentences_sorted, 10)\n",
    "    return sentences_sorted[:top_k]\n",
    "\n",
    "sentences_2016_top_1000_aq = get_top_quality_sentences(sentences_2016, 1000, 'Austin is a great place to live')"
   ]
  },
  {
   "cell_type": "markdown",
   "metadata": {},
   "source": [
    "### 2.2 Run *Key Point Analysis* over the selected sentences\n",
    "We will now run the *run_kpa* method over the top 1000 quality sentences"
   ]
  },
  {
   "cell_type": "code",
   "execution_count": 9,
   "metadata": {},
   "outputs": [
    {
     "name": "stderr",
     "output_type": "stream",
     "text": [
      "2021-06-22 17:10:03,446 [INFO] keypoints_client.py 284: uploading 1000 comments in batches\n",
      "2021-06-22 17:10:03,448 [INFO] keypoints_client.py 214: client calls service (post): https://keypoint-matching-backend.debater.res.ibm.com/comments\n",
      "2021-06-22 17:10:04,639 [INFO] keypoints_client.py 301: uploaded 1000 comments, out of 1000\n",
      "2021-06-22 17:10:04,640 [INFO] keypoints_client.py 214: client calls service (get): https://keypoint-matching-backend.debater.res.ibm.com/comments\n",
      "2021-06-22 17:10:05,303 [INFO] keypoints_client.py 313: domain: austin_demo, comments status: {'processed_comments': 3122, 'pending_comments': 1000, 'processed_sentences': 3122}\n",
      "2021-06-22 17:10:15,308 [INFO] keypoints_client.py 214: client calls service (get): https://keypoint-matching-backend.debater.res.ibm.com/comments\n",
      "2021-06-22 17:10:15,884 [INFO] keypoints_client.py 313: domain: austin_demo, comments status: {'processed_comments': 3122, 'pending_comments': 0, 'processed_sentences': 3122}\n",
      "2021-06-22 17:10:15,884 [INFO] keypoints_client.py 214: client calls service (post): https://keypoint-matching-backend.debater.res.ibm.com/kp_extraction\n",
      "2021-06-22 17:10:16,903 [INFO] keypoints_client.py 375: started a kp analysis job - domain: austin_demo, job_id: 60d1ef4893247fbd991aa67d\n",
      "2021-06-22 17:10:16,903 [INFO] keypoints_client.py 214: client calls service (get): https://keypoint-matching-backend.debater.res.ibm.com/kp_extraction\n",
      "2021-06-22 17:10:17,452 [INFO] keypoints_client.py 548: job_id 60d1ef4893247fbd991aa67d is pending\n",
      "ArgumentQualityClient: 100%|██████████| 3005/3005 [00:20<00:00, 542.24it/s]2021-06-22 17:10:22,456 [INFO] keypoints_client.py 214: client calls service (get): https://keypoint-matching-backend.debater.res.ibm.com/kp_extraction\n",
      "2021-06-22 17:10:23,131 [INFO] keypoints_client.py 552: job_id 60d1ef4893247fbd991aa67d is running, progress: not updated yet\n",
      "2021-06-22 17:10:28,135 [INFO] keypoints_client.py 214: client calls service (get): https://keypoint-matching-backend.debater.res.ibm.com/kp_extraction\n",
      "2021-06-22 17:10:28,821 [INFO] keypoints_client.py 552: job_id 60d1ef4893247fbd991aa67d is running, progress: not updated yet\n",
      "2021-06-22 17:10:33,825 [INFO] keypoints_client.py 214: client calls service (get): https://keypoint-matching-backend.debater.res.ibm.com/kp_extraction\n",
      "2021-06-22 17:10:34,492 [INFO] keypoints_client.py 552: job_id 60d1ef4893247fbd991aa67d is running, progress: not updated yet\n",
      "2021-06-22 17:10:39,485 [INFO] keypoints_client.py 214: client calls service (get): https://keypoint-matching-backend.debater.res.ibm.com/kp_extraction\n",
      "2021-06-22 17:10:41,085 [INFO] keypoints_client.py 555: job_id 60d1ef4893247fbd991aa67d is done, returning result\n"
     ]
    },
    {
     "name": "stdout",
     "output_type": "stream",
     "text": [
      "Top aq 2016 coverage: 41.05\n",
      "Top aq 2016 key points:\n",
      "88 - Traffic congestion needs major improvement\n",
      "\t- Austin need improved transportation infrastructure to alleviate current traffic and\n",
      "\t  accommodate rapid population growth.\n",
      "\t- Fast population growth is the cities biggest problem in areas such as congestion and\n",
      "\t  expensiveness.\n",
      "78 - We need affordable housing.\n",
      "\t- Affordable housing is crucial, & keeping seniors in their homes is part of that challenge!\n",
      "\t- We need better housing solutions for low income and homeless individuals.\n",
      "42 - Integrated transportation is critical.\n",
      "\t- a public transit train system is a necessity\n",
      "\t- Steiner Ranch area needs more access to public transportation (bus, train, etc>) and\n",
      "\t  taxi/ridesharing  to/from downtown and airport\n",
      "30 - UTILITY RATES & PROPERTY TAXES ARE OUTRAGEOUS\n",
      "\t- PROPERTY TAXES ARE TOO HIGH.\n",
      "\t- PROPERTY TAXES ARE OUT OF CONTROL.\n",
      "20 - THE HOMELESS POPULATION NEEDS MORE HELP/ATTENTION\n",
      "\t- HOMELESS SITUATION NEEDS TO BE ADDRESSED IN THE DOWNTOWN AREA\n",
      "\t- That is something that needs to be more effectively addressed by the APD.\n",
      "15 - Austin Utility Services need an overhaul-especially water/wastewater.\n",
      "\t- Utilities, particularly water, is too high.\n",
      "\t- Hundreds of gallons of water are wasted by not being collected properly\n",
      "15 - HOUSING PRICES ARE OUT OF CONTROL.\n",
      "\t- IT HAS GOTTEN OUT OF CONTROL.\n",
      "\t- Overall living costs in Austin are too high!\n",
      "15 - Infrastructure can't support rapid growth.\n",
      "\t- In many ways, the city is failing to meet the increasing demands on it's infrastructure\n",
      "\t  due to the growth of the city, especially transportation in the city - roads, public\n",
      "\t  transportation, bicycling, networks/quality, etc.\n",
      "\t- It is growing too quickly.\n",
      "15 - There is constant traffic and noise pollution.\n",
      "\t- IH35 & MoPac congestion is negative for local economy and causes air pollution and\n",
      "\t  causes safety hazards, i.e. dangerous to drive here.\n",
      "\t- My neighborhood has been subjected to 2+ years of noise, dirt, filthy side walks,\n",
      "\t  overgrown common areas, rude drivers, etc.\n",
      "14 - South Austin is losing businesses and residents.\n",
      "\t- Slow down the commercial/entertainment oriented development of central Austin\n",
      "\t  neighborhoods with a focus on preserving the lifestyles and economic viability for\n",
      "\t  residents in the aforementioned central Austin neighborhoods.\n",
      "\t- It is time for the city to place more of the burden on businesses that make tons of\n",
      "\t  money in this city and to take more of the burden away from it's residents.\n",
      "13 - TOLL ROADS DISCRIMINATE AGAINST LOW INCOME PEOPLE.\n",
      "\t- DEVELOPMENT SHOULD NOT DISPLACE LOW INCOME FAMILIES.\n",
      "\t- The middle class (and low income households) can't afford to buy a house in Austin.\n",
      "8 - Better training and sensitivity is needed.\n",
      "\t- Train law enforcement staff the proper way to deal with hostile perpetrators.\n",
      "\t- First responders/EMS/Fire/APD all need training on dealing with citizens with\n",
      "\t  cognitive/mental disabilities.\n",
      "8 - Water consumption rates are too high.\n",
      "\t- The cost or water is excessive and way too high.\n",
      "\t- and Downtown is putting a terrible strain on water availability.\n",
      "6 - WE NEED BETTER FLOOD PLANNING.\n",
      "\t- TO HAVE BETTER PLANNING FOR CITY GROWTH.\n",
      "\t- BETTER LONG RANGE PLANNING ON TRAFFIC FLOW.\n",
      "5 - Code issues are hurting the city.\n",
      "\t- Restrictive zoning, city planning and code enforcement, city council and the mayor\n",
      "\t  worsen out lives.\n",
      "\t- You are ruining the city with your incompetent policies and arrogance.\n",
      "5 - Police response time in unacceptably slow.\n",
      "\t- THE RESPONSE TIME FOR 311 CALLS COMPLAINTS IS EXTREMELY SLOW.\n",
      "\t- But, the process is too slow to remedy the current situation.\n",
      "4 - Roads are poorly maintain.\n",
      "\t- Major thoroughfares poorly planned, not functioning, city streets need repair.\n",
      "\t- This lack of maintenance makes Austin look run down.\n",
      "3 - 30 mph kills children and pedestrians.\n",
      "\t- Pedestrians are at great risk, particularly children, and unrealistic speed limits\n",
      "\t  reflect an Austin that no longer exists.\n",
      "\t- Also now would be a good time to ensure that people who endanger, hurt or kill\n",
      "\t  vulnerable road users will be punished appropriately.\n",
      "3 - CRIME IS ON THE INCREASE.\n",
      "\t- The crime in our neighborhood is out of control.\n",
      "\t- Our taxes have doubled over the past year and so have the crime and police response time.\n",
      "3 - City Council members should represent all citizens.\n",
      "\t- The mayor should be more inclusive to the overall population of city residents than less\n",
      "\t  inclusive when establishing policies and services.\n",
      "\t- Please address this  systemic, out of control, evil, unkindness, money  sucking, taxing\n",
      "\t  without representation on lifetime, homeowner senior citizens of Austin.\n"
     ]
    }
   ],
   "source": [
    "kpa_result_top_aq_1000_2016, _ = run_kpa(sentences_2016_top_1000_aq, {'n_top_kps': 20})\n",
    "print_results(kpa_result_top_aq_1000_2016, n_sentences_per_kp=2, title='Top aq 2016')"
   ]
  },
  {
   "cell_type": "markdown",
   "metadata": {},
   "source": [
    "### 2.3 Customize key point analysis\n",
    "It is possible to costumize and affect the analysis by passing different parameters in the *run_params* dictionary. In this subsection we will see few examples.\n",
    "\n",
    "#### 2.3.1 Hierarchical key points\n",
    "Often, few key points address a similar topic. In order to get an even clearer sumamry of the data, we can group similar key points together using the *Hierarchical Key Points* feature. To acrivate it we add two additional parameters to run_params: {'perform_kp_hierarchy': True, 'kp_hierarchy_threshold': 0.3}. *perform_kp_hierarchy* activates the feature and *kp_hierarchy_threshold* sets a threshold for grouping similar key points. The lower the threshold, more key points are grouped with lower similarity."
   ]
  },
  {
   "cell_type": "code",
   "execution_count": 10,
   "metadata": {},
   "outputs": [
    {
     "name": "stderr",
     "output_type": "stream",
     "text": [
      "2021-06-22 17:10:41,094 [INFO] keypoints_client.py 284: uploading 1000 comments in batches\n",
      "2021-06-22 17:10:41,096 [INFO] keypoints_client.py 214: client calls service (post): https://keypoint-matching-backend.debater.res.ibm.com/comments\n",
      "2021-06-22 17:10:42,215 [INFO] keypoints_client.py 301: uploaded 1000 comments, out of 1000\n",
      "2021-06-22 17:10:42,216 [INFO] keypoints_client.py 214: client calls service (get): https://keypoint-matching-backend.debater.res.ibm.com/comments\n",
      "2021-06-22 17:10:42,932 [INFO] keypoints_client.py 313: domain: austin_demo, comments status: {'processed_comments': 3122, 'pending_comments': 1000, 'processed_sentences': 3122}\n",
      "2021-06-22 17:10:52,924 [INFO] keypoints_client.py 214: client calls service (get): https://keypoint-matching-backend.debater.res.ibm.com/comments\n",
      "2021-06-22 17:10:53,472 [INFO] keypoints_client.py 313: domain: austin_demo, comments status: {'processed_comments': 3122, 'pending_comments': 0, 'processed_sentences': 3122}\n",
      "2021-06-22 17:10:53,472 [INFO] keypoints_client.py 214: client calls service (post): https://keypoint-matching-backend.debater.res.ibm.com/kp_extraction\n",
      "2021-06-22 17:10:54,416 [INFO] keypoints_client.py 375: started a kp analysis job - domain: austin_demo, job_id: 60d1ef6e93247fbd991aa682\n",
      "2021-06-22 17:10:54,417 [INFO] keypoints_client.py 214: client calls service (get): https://keypoint-matching-backend.debater.res.ibm.com/kp_extraction\n",
      "2021-06-22 17:10:54,926 [INFO] keypoints_client.py 548: job_id 60d1ef6e93247fbd991aa682 is pending\n",
      "2021-06-22 17:10:59,928 [INFO] keypoints_client.py 214: client calls service (get): https://keypoint-matching-backend.debater.res.ibm.com/kp_extraction\n",
      "2021-06-22 17:11:00,459 [INFO] keypoints_client.py 548: job_id 60d1ef6e93247fbd991aa682 is pending\n",
      "2021-06-22 17:11:05,462 [INFO] keypoints_client.py 214: client calls service (get): https://keypoint-matching-backend.debater.res.ibm.com/kp_extraction\n",
      "2021-06-22 17:11:06,193 [INFO] keypoints_client.py 552: job_id 60d1ef6e93247fbd991aa682 is running, progress: not updated yet\n",
      "2021-06-22 17:11:11,193 [INFO] keypoints_client.py 214: client calls service (get): https://keypoint-matching-backend.debater.res.ibm.com/kp_extraction\n",
      "2021-06-22 17:11:11,880 [INFO] keypoints_client.py 552: job_id 60d1ef6e93247fbd991aa682 is running, progress: not updated yet\n",
      "2021-06-22 17:11:16,883 [INFO] keypoints_client.py 214: client calls service (get): https://keypoint-matching-backend.debater.res.ibm.com/kp_extraction\n",
      "2021-06-22 17:11:17,777 [INFO] keypoints_client.py 552: job_id 60d1ef6e93247fbd991aa682 is running, progress: not updated yet\n",
      "2021-06-22 17:11:22,777 [INFO] keypoints_client.py 214: client calls service (get): https://keypoint-matching-backend.debater.res.ibm.com/kp_extraction\n",
      "2021-06-22 17:11:24,247 [INFO] keypoints_client.py 555: job_id 60d1ef6e93247fbd991aa682 is done, returning result\n"
     ]
    },
    {
     "name": "stdout",
     "output_type": "stream",
     "text": [
      "Top aq 2016, hierarchical coverage: 41.05\n",
      "Top aq 2016, hierarchical key points:\n",
      "107 - 88 - Traffic congestion needs major improvement\n",
      "\t- Austin need improved transportation infrastructure to alleviate current traffic and\n",
      "\t  accommodate rapid population growth.\n",
      "\t- Fast population growth is the cities biggest problem in areas such as congestion and\n",
      "\t  expensiveness.\n",
      "\t15 - There is constant traffic and noise pollution.\n",
      "\t\t- IH35 & MoPac congestion is negative for local economy and causes air pollution and\n",
      "\t\t  causes safety hazards, i.e. dangerous to drive here.\n",
      "\t\t- My neighborhood has been subjected to 2+ years of noise, dirt, filthy side walks,\n",
      "\t\t  overgrown common areas, rude drivers, etc.\n",
      "\t4 - Roads are poorly maintain.\n",
      "\t\t- Major thoroughfares poorly planned, not functioning, city streets need repair.\n",
      "\t\t- This lack of maintenance makes Austin look run down.\n",
      "93 - 78 - We need affordable housing.\n",
      "\t- Affordable housing is crucial, & keeping seniors in their homes is part of that challenge!\n",
      "\t- We need better housing solutions for low income and homeless individuals.\n",
      "\t15 - HOUSING PRICES ARE OUT OF CONTROL.\n",
      "\t\t- IT HAS GOTTEN OUT OF CONTROL.\n",
      "\t\t- Overall living costs in Austin are too high!\n",
      "42 - Integrated transportation is critical.\n",
      "\t- a public transit train system is a necessity\n",
      "\t- Steiner Ranch area needs more access to public transportation (bus, train, etc>) and\n",
      "\t  taxi/ridesharing  to/from downtown and airport\n",
      "30 - UTILITY RATES & PROPERTY TAXES ARE OUTRAGEOUS\n",
      "\t- PROPERTY TAXES ARE TOO HIGH.\n",
      "\t- PROPERTY TAXES ARE OUT OF CONTROL.\n",
      "28 - 20 - THE HOMELESS POPULATION NEEDS MORE HELP/ATTENTION\n",
      "\t- HOMELESS SITUATION NEEDS TO BE ADDRESSED IN THE DOWNTOWN AREA\n",
      "\t- That is something that needs to be more effectively addressed by the APD.\n",
      "\t8 - Better training and sensitivity is needed.\n",
      "\t\t- Train law enforcement staff the proper way to deal with hostile perpetrators.\n",
      "\t\t- First responders/EMS/Fire/APD all need training on dealing with citizens with\n",
      "\t\t  cognitive/mental disabilities.\n",
      "23 - 15 - Austin Utility Services need an overhaul-especially water/wastewater.\n",
      "\t- Utilities, particularly water, is too high.\n",
      "\t- Hundreds of gallons of water are wasted by not being collected properly\n",
      "\t8 - Water consumption rates are too high.\n",
      "\t\t- The cost or water is excessive and way too high.\n",
      "\t\t- and Downtown is putting a terrible strain on water availability.\n",
      "15 - Infrastructure can't support rapid growth.\n",
      "\t- In many ways, the city is failing to meet the increasing demands on it's infrastructure\n",
      "\t  due to the growth of the city, especially transportation in the city - roads, public\n",
      "\t  transportation, bicycling, networks/quality, etc.\n",
      "\t- It is growing too quickly.\n",
      "14 - South Austin is losing businesses and residents.\n",
      "\t- Slow down the commercial/entertainment oriented development of central Austin\n",
      "\t  neighborhoods with a focus on preserving the lifestyles and economic viability for\n",
      "\t  residents in the aforementioned central Austin neighborhoods.\n",
      "\t- It is time for the city to place more of the burden on businesses that make tons of\n",
      "\t  money in this city and to take more of the burden away from it's residents.\n",
      "13 - TOLL ROADS DISCRIMINATE AGAINST LOW INCOME PEOPLE.\n",
      "\t- DEVELOPMENT SHOULD NOT DISPLACE LOW INCOME FAMILIES.\n",
      "\t- The middle class (and low income households) can't afford to buy a house in Austin.\n",
      "6 - WE NEED BETTER FLOOD PLANNING.\n",
      "\t- TO HAVE BETTER PLANNING FOR CITY GROWTH.\n",
      "\t- BETTER LONG RANGE PLANNING ON TRAFFIC FLOW.\n",
      "5 - Code issues are hurting the city.\n",
      "\t- Restrictive zoning, city planning and code enforcement, city council and the mayor\n",
      "\t  worsen out lives.\n",
      "\t- You are ruining the city with your incompetent policies and arrogance.\n",
      "5 - Police response time in unacceptably slow.\n",
      "\t- THE RESPONSE TIME FOR 311 CALLS COMPLAINTS IS EXTREMELY SLOW.\n",
      "\t- But, the process is too slow to remedy the current situation.\n",
      "3 - 30 mph kills children and pedestrians.\n",
      "\t- Pedestrians are at great risk, particularly children, and unrealistic speed limits\n",
      "\t  reflect an Austin that no longer exists.\n",
      "\t- Also now would be a good time to ensure that people who endanger, hurt or kill\n",
      "\t  vulnerable road users will be punished appropriately.\n",
      "3 - CRIME IS ON THE INCREASE.\n",
      "\t- The crime in our neighborhood is out of control.\n",
      "\t- Our taxes have doubled over the past year and so have the crime and police response time.\n",
      "3 - City Council members should represent all citizens.\n",
      "\t- The mayor should be more inclusive to the overall population of city residents than less\n",
      "\t  inclusive when establishing policies and services.\n",
      "\t- Please address this  systemic, out of control, evil, unkindness, money  sucking, taxing\n",
      "\t  without representation on lifetime, homeowner senior citizens of Austin.\n"
     ]
    }
   ],
   "source": [
    "kpa_result_top_aq_1000_2016, _ = run_kpa(sentences_2016_top_1000_aq, \n",
    "                                    {'n_top_kps': 20, 'perform_kp_hierarchy': True, 'kp_hierarchy_threshold': 0.3})\n",
    "print_results(kpa_result_top_aq_1000_2016, n_sentences_per_kp=2, title='Top aq 2016, hierarchical')"
   ]
  },
  {
   "cell_type": "markdown",
   "metadata": {},
   "source": [
    "#### 2.3.2 Increase coverage by decreasing the matching threshold\n",
    "Running over higher quality sentences we managed to increase our coverage to 41.05%. In order to increase the coverage more, we will add another parameter to the run_params called *mapping_threshold*. \n",
    "\n",
    "The mapping_threshold is responsible of deciding whether a sentences matches (supports) a key point. Therefore reducing the threshold from the 0.99 default value makes more sentences match key points and increases the coverage, at the risk of reducing the precision."
   ]
  },
  {
   "cell_type": "code",
   "execution_count": 11,
   "metadata": {
    "scrolled": true
   },
   "outputs": [
    {
     "name": "stderr",
     "output_type": "stream",
     "text": [
      "2021-06-22 17:11:24,257 [INFO] keypoints_client.py 284: uploading 1000 comments in batches\n",
      "2021-06-22 17:11:24,259 [INFO] keypoints_client.py 214: client calls service (post): https://keypoint-matching-backend.debater.res.ibm.com/comments\n",
      "2021-06-22 17:11:25,443 [INFO] keypoints_client.py 301: uploaded 1000 comments, out of 1000\n",
      "2021-06-22 17:11:25,444 [INFO] keypoints_client.py 214: client calls service (get): https://keypoint-matching-backend.debater.res.ibm.com/comments\n",
      "2021-06-22 17:11:26,140 [INFO] keypoints_client.py 313: domain: austin_demo, comments status: {'processed_comments': 3122, 'pending_comments': 1000, 'processed_sentences': 3122}\n",
      "2021-06-22 17:11:36,145 [INFO] keypoints_client.py 214: client calls service (get): https://keypoint-matching-backend.debater.res.ibm.com/comments\n",
      "2021-06-22 17:11:36,716 [INFO] keypoints_client.py 313: domain: austin_demo, comments status: {'processed_comments': 3122, 'pending_comments': 0, 'processed_sentences': 3122}\n",
      "2021-06-22 17:11:36,717 [INFO] keypoints_client.py 214: client calls service (post): https://keypoint-matching-backend.debater.res.ibm.com/kp_extraction\n",
      "2021-06-22 17:11:37,736 [INFO] keypoints_client.py 375: started a kp analysis job - domain: austin_demo, job_id: 60d1ef9993247fbd991aa687\n",
      "2021-06-22 17:11:37,736 [INFO] keypoints_client.py 214: client calls service (get): https://keypoint-matching-backend.debater.res.ibm.com/kp_extraction\n",
      "2021-06-22 17:11:38,272 [INFO] keypoints_client.py 548: job_id 60d1ef9993247fbd991aa687 is pending\n",
      "2021-06-22 17:11:43,276 [INFO] keypoints_client.py 214: client calls service (get): https://keypoint-matching-backend.debater.res.ibm.com/kp_extraction\n",
      "2021-06-22 17:11:43,959 [INFO] keypoints_client.py 552: job_id 60d1ef9993247fbd991aa687 is running, progress: not updated yet\n",
      "2021-06-22 17:11:48,963 [INFO] keypoints_client.py 214: client calls service (get): https://keypoint-matching-backend.debater.res.ibm.com/kp_extraction\n",
      "2021-06-22 17:11:49,744 [INFO] keypoints_client.py 552: job_id 60d1ef9993247fbd991aa687 is running, progress: not updated yet\n",
      "2021-06-22 17:11:54,748 [INFO] keypoints_client.py 214: client calls service (get): https://keypoint-matching-backend.debater.res.ibm.com/kp_extraction\n",
      "2021-06-22 17:11:55,901 [INFO] keypoints_client.py 552: job_id 60d1ef9993247fbd991aa687 is running, progress: not updated yet\n",
      "2021-06-22 17:12:00,905 [INFO] keypoints_client.py 214: client calls service (get): https://keypoint-matching-backend.debater.res.ibm.com/kp_extraction\n",
      "2021-06-22 17:12:02,425 [INFO] keypoints_client.py 555: job_id 60d1ef9993247fbd991aa687 is done, returning result\n"
     ]
    },
    {
     "name": "stdout",
     "output_type": "stream",
     "text": [
      "Top aq 2016 coverage: 49.89\n",
      "Top aq 2016 key points:\n",
      "93 - Traffic congestion needs major improvement\n",
      "\t- Austin need improved transportation infrastructure to alleviate current traffic and\n",
      "\t  accommodate rapid population growth.\n",
      "\t- Fast population growth is the cities biggest problem in areas such as congestion and\n",
      "\t  expensiveness.\n",
      "91 - We need affordable housing.\n",
      "\t- Affordable housing is crucial, & keeping seniors in their homes is part of that challenge!\n",
      "\t- We need better housing solutions for low income and homeless individuals.\n",
      "53 - Integrated transportation is critical.\n",
      "\t- a public transit train system is a necessity\n",
      "\t- Steiner Ranch area needs more access to public transportation (bus, train, etc>) and\n",
      "\t  taxi/ridesharing  to/from downtown and airport\n",
      "34 - UTILITY RATES & PROPERTY TAXES ARE OUTRAGEOUS\n",
      "\t- PROPERTY TAXES ARE TOO HIGH.\n",
      "\t- PROPERTY TAXES ARE OUT OF CONTROL.\n",
      "26 - South Austin is losing businesses and residents.\n",
      "\t- Slow down the commercial/entertainment oriented development of central Austin\n",
      "\t  neighborhoods with a focus on preserving the lifestyles and economic viability for\n",
      "\t  residents in the aforementioned central Austin neighborhoods.\n",
      "\t- It is time for the city to place more of the burden on businesses that make tons of\n",
      "\t  money in this city and to take more of the burden away from it's residents.\n",
      "23 - THE HOMELESS POPULATION NEEDS MORE HELP/ATTENTION\n",
      "\t- HOMELESS SITUATION NEEDS TO BE ADDRESSED IN THE DOWNTOWN AREA\n",
      "\t- That is something that needs to be more effectively addressed by the APD.\n",
      "18 - Austin Utility Services need an overhaul-especially water/wastewater.\n",
      "\t- Utilities, particularly water, is too high.\n",
      "\t- Hundreds of gallons of water are wasted by not being collected properly\n",
      "18 - HOUSING PRICES ARE OUT OF CONTROL.\n",
      "\t- IT HAS GOTTEN OUT OF CONTROL.\n",
      "\t- Overall living costs in Austin are too high!\n",
      "18 - Infrastructure can't support rapid growth.\n",
      "\t- In many ways, the city is failing to meet the increasing demands on it's infrastructure\n",
      "\t  due to the growth of the city, especially transportation in the city - roads, public\n",
      "\t  transportation, bicycling, networks/quality, etc.\n",
      "\t- It is growing too quickly.\n",
      "17 - There is constant traffic and noise pollution.\n",
      "\t- IH35 & MoPac congestion is negative for local economy and causes air pollution and\n",
      "\t  causes safety hazards, i.e. dangerous to drive here.\n",
      "\t- My neighborhood has been subjected to 2+ years of noise, dirt, filthy side walks,\n",
      "\t  overgrown common areas, rude drivers, etc.\n",
      "15 - TOLL ROADS DISCRIMINATE AGAINST LOW INCOME PEOPLE.\n",
      "\t- DEVELOPMENT SHOULD NOT DISPLACE LOW INCOME FAMILIES.\n",
      "\t- The middle class (and low income households) can't afford to buy a house in Austin.\n",
      "11 - Better training and sensitivity is needed.\n",
      "\t- Train law enforcement staff the proper way to deal with hostile perpetrators.\n",
      "\t- First responders/EMS/Fire/APD all need training on dealing with citizens with\n",
      "\t  cognitive/mental disabilities.\n",
      "9 - Code issues are hurting the city.\n",
      "\t- Restrictive zoning, city planning and code enforcement, city council and the mayor\n",
      "\t  worsen out lives.\n",
      "\t- You are ruining the city with your incompetent policies and arrogance.\n",
      "8 - City Council members should represent all citizens.\n",
      "\t- The mayor should be more inclusive to the overall population of city residents than less\n",
      "\t  inclusive when establishing policies and services.\n",
      "\t- Please address this  systemic, out of control, evil, unkindness, money  sucking, taxing\n",
      "\t  without representation on lifetime, homeowner senior citizens of Austin.\n",
      "8 - WE NEED BETTER FLOOD PLANNING.\n",
      "\t- TO HAVE BETTER PLANNING FOR CITY GROWTH.\n",
      "\t- BETTER LONG RANGE PLANNING ON TRAFFIC FLOW.\n",
      "8 - Water consumption rates are too high.\n",
      "\t- The cost or water is excessive and way too high.\n",
      "\t- and Downtown is putting a terrible strain on water availability.\n",
      "7 - Roads are poorly maintain.\n",
      "\t- Major thoroughfares poorly planned, not functioning, city streets need repair.\n",
      "\t- This lack of maintenance makes Austin look run down.\n",
      "6 - 30 mph kills children and pedestrians.\n",
      "\t- Pedestrians are at great risk, particularly children, and unrealistic speed limits\n",
      "\t  reflect an Austin that no longer exists.\n",
      "\t- Also now would be a good time to ensure that people who endanger, hurt or kill\n",
      "\t  vulnerable road users will be punished appropriately.\n",
      "6 - CRIME IS ON THE INCREASE.\n",
      "\t- The crime in our neighborhood is out of control.\n",
      "\t- Our taxes have doubled over the past year and so have the crime and police response time.\n",
      "5 - Police response time in unacceptably slow.\n",
      "\t- THE RESPONSE TIME FOR 311 CALLS COMPLAINTS IS EXTREMELY SLOW.\n",
      "\t- But, the process is too slow to remedy the current situation.\n"
     ]
    }
   ],
   "source": [
    "kpa_result_top_aq_1000_2016, kpa_top_aq_1000_2016_job_id = run_kpa(sentences_2016_top_1000_aq, \n",
    "                                                                {'n_top_kps': 20, 'mapping_threshold': 0.95})\n",
    "print_results(kpa_result_top_aq_1000_2016, n_sentences_per_kp=2, title='Top aq 2016')"
   ]
  },
  {
   "cell_type": "markdown",
   "metadata": {},
   "source": [
    "The coverage was indeed increased to about 50%. Let's examine the bottom 5 sentences that were matched to the first key point and make sure that the precision is still high."
   ]
  },
  {
   "cell_type": "code",
   "execution_count": 12,
   "metadata": {},
   "outputs": [
    {
     "name": "stdout",
     "output_type": "stream",
     "text": [
      "\n",
      "Bottom 5 matches:\n",
      "\t- The biggest problem Austin has is a lack of viable north-south arteries.\n",
      "\t- If the train traveled to more locations there would be more people on the train and less\n",
      "\t  traffic.\n",
      "\t- Please plan for the future through investments in a comprehensive transit plan rather\n",
      "\t  than quick fixes related to traffic.\n",
      "\t- Providing more bike lanes and dashed lanes is adding to the problem because drivers have\n",
      "\t  no idea what the rules are, and neither do bicycles.\n",
      "\t- Traffic in Austin is a major problem no matter which road you use.\n"
     ]
    }
   ],
   "source": [
    "from austin_utils import print_bottom_matches_for_kp\n",
    "print_bottom_matches_for_kp(kpa_result_top_aq_1000_2016, 'Traffic congestion needs major improvement', 5)"
   ]
  },
  {
   "cell_type": "markdown",
   "metadata": {},
   "source": [
    "## 3. Run *Key Point Analysis* over 2017 survey using the key points from 2016 survey\n",
    "### 3.1 Select top 1000 sentences from 2017 data using the *Argument Quality* service\n",
    "It is very useful to be able to compare between different subsets of the data (compare between different years, different districts, etc'). We will demonstrate how easy it is to compare the 2017 data to the 2016 data. A similar comparisson can be done between districts or other subsets. \n",
    "\n",
    "Let's first filter the 2017 sentences and take the top 1000 quality sentences, as done for the 2016 sentences."
   ]
  },
  {
   "cell_type": "code",
   "execution_count": 13,
   "metadata": {},
   "outputs": [
    {
     "name": "stderr",
     "output_type": "stream",
     "text": [
      "ArgumentQualityClient: 100%|██████████| 3005/3005 [02:04<00:00, 24.05it/s] \n",
      "ArgumentQualityClient: 100%|██████████| 3269/3269 [00:06<00:00, 509.95it/s]2021-06-22 17:12:08,638 [INFO] argument_quality_client.py 24: argument_quality_client.run = 6196.404933929443ms.\n",
      "ArgumentQualityClient: 100%|██████████| 3269/3269 [00:06<00:00, 527.65it/s]"
     ]
    },
    {
     "name": "stdout",
     "output_type": "stream",
     "text": [
      "Top 10 quality sentences: \n",
      "\t- Affordable housing is important to promote diversity in Austin.\n",
      "\t- More space (and more affordable, quality housing) means more artists, more artwork of\n",
      "\t  all mediums, and a more culturally diverse and enriched city.\n",
      "\t- AUSTIN NEEDS A BETTER PUBLIC TRANSPORTATION SYSTEM THAT CAN ACCOMMODATE MORE PEOPLE TO\n",
      "\t  HELP WITH TRAFFIC AND OVERALL GROWTH OF THE CITY.\n",
      "\t- We are at a tipping point in Austin, with such amazing growth from new businesses, that\n",
      "\t  we have a wonderful opportunity to address basic needs.\n",
      "\t- The middle and lower income people need more affordable housing; property taxes need to\n",
      "\t  be lowered and be more equitable.\n",
      "\t- Protect historic neighborhoods, they offer social and economic sustainability.\n",
      "\t- WE NEED TO KEEP AUSTIN AFFORDABLE FOR ALL SO WE CAN BENEFIT FROM THAT DIVERSITY.\n",
      "\t- THE QUALITY OF LIFE IN AUSTIN IS DEGRADING BECAUSE OF THE LACK OF COMPREHENSIVE PLAN TO\n",
      "\t  ADDRESS THE HOMELESS EPIDEMIC TO FIX TRAFFIC/ROAD CONGESTION AND THE LACK OF HOME\n",
      "\t  BUILDING\n",
      "\t- Educational and positive role model programs that aid underprivileged youths is key to\n",
      "\t  maintaining an ethical culture in our city.\n",
      "\t- More money should be directed towards affordable housing, abating traffic congestion,\n",
      "\t  and addressing climate change (water conservation, public transportation, etc.).\n",
      "\n",
      "\n",
      "Bottom 10 quality sentences: \n",
      "\t- Well, come on!!!!!!\n",
      "\t- I LOVE TREES BUT JEEZ!\n",
      "\t- Don't California our Texas\n",
      "\t- And the solution?\n",
      "\t- I called again.\n",
      "\t- Excuse my language.\n",
      "\t- when I retire.\n",
      "\t- Keep us a blueberry in the tomato soup!!\n",
      "\t- Thanks! :)\n",
      "\t- FINISH MOAPC HOV!\n"
     ]
    },
    {
     "name": "stderr",
     "output_type": "stream",
     "text": [
      "\n"
     ]
    }
   ],
   "source": [
    "sentences_2017 = [sentence for sentence in sentences if sentence['year'] == '2017']\n",
    "sentences_2017_top_1000_aq = get_top_quality_sentences(sentences_2017, 1000, 'Austin is a great place to live')"
   ]
  },
  {
   "cell_type": "markdown",
   "metadata": {},
   "source": [
    "### 3.2 Run *Key Point Analysis* over top 1000 quality 2017 sentences using the key points from 2016\n",
    "Exercise 2:<br/>\n",
    "In order to compare the 2017 sentences to 2016 sentences we will want to map the 2017 sentences to the same key points extracted on the 2016 sentences (otherwise different key points could be automattically extracted on the 2017 sentences and it would be hard to compare between them).\n",
    "\n",
    "For this end we will reimplement the *run_kpa* method (please copy paste the previous one and modify it). This time the method will receive a new *key_points_by_job_id* parameter. This parameter is passed to the *key_points_by_job_id* parameter in the **future = keypoints_client.start_kp_analysis_job(domain=domain, comments_ids=sentences_ids, run_params=run_params, key_points_by_job_id=key_points_by_job_id)** method. When *None* is passed to *key_points_by_job_id*, key points are automatically extracted, however when it is set with a *job_id* of a previous job it uses the key points from that job and matches all sentences to them."
   ]
  },
  {
   "cell_type": "code",
   "execution_count": 14,
   "metadata": {},
   "outputs": [],
   "source": [
    "def run_kpa(sentences, run_params, key_points_by_job_id=None):\n",
    "    sentences_texts = [sentence['text'] for sentence in sentences]\n",
    "    sentences_ids = [sentence['id'] for sentence in sentences]\n",
    "\n",
    "    keypoints_client.upload_comments(domain=domain,\n",
    "                                     comments_ids=sentences_ids,\n",
    "                                     comments_texts=sentences_texts,\n",
    "                                     dont_split=True)\n",
    "\n",
    "    keypoints_client.wait_till_all_comments_are_processed(domain=domain)\n",
    "\n",
    "    future = keypoints_client.start_kp_analysis_job(domain=domain, comments_ids=sentences_ids,\n",
    "                                                    run_params=run_params,\n",
    "                                                    key_points_by_job_id=key_points_by_job_id)\n",
    "\n",
    "    kpa_result = future.get_result(high_verbosity=True, polling_timout_secs=5)\n",
    "    \n",
    "    return kpa_result, future.get_job_id()"
   ]
  },
  {
   "cell_type": "markdown",
   "metadata": {},
   "source": [
    "Let's use the new *run_kpa* and provide it with the *top 1000 quality sentences from 2017* and the job_id of *top 1000 quality sentences from 2016*."
   ]
  },
  {
   "cell_type": "code",
   "execution_count": 15,
   "metadata": {},
   "outputs": [
    {
     "name": "stderr",
     "output_type": "stream",
     "text": [
      "2021-06-22 17:12:08,658 [INFO] keypoints_client.py 284: uploading 1000 comments in batches\n",
      "2021-06-22 17:12:08,659 [INFO] keypoints_client.py 214: client calls service (post): https://keypoint-matching-backend.debater.res.ibm.com/comments\n",
      "2021-06-22 17:12:09,905 [INFO] keypoints_client.py 301: uploaded 1000 comments, out of 1000\n",
      "2021-06-22 17:12:09,906 [INFO] keypoints_client.py 214: client calls service (get): https://keypoint-matching-backend.debater.res.ibm.com/comments\n",
      "2021-06-22 17:12:10,607 [INFO] keypoints_client.py 313: domain: austin_demo, comments status: {'processed_comments': 3122, 'pending_comments': 1000, 'processed_sentences': 3122}\n",
      "2021-06-22 17:12:20,613 [INFO] keypoints_client.py 214: client calls service (get): https://keypoint-matching-backend.debater.res.ibm.com/comments\n",
      "2021-06-22 17:12:21,224 [INFO] keypoints_client.py 313: domain: austin_demo, comments status: {'processed_comments': 3122, 'pending_comments': 0, 'processed_sentences': 3122}\n",
      "2021-06-22 17:12:21,224 [INFO] keypoints_client.py 214: client calls service (post): https://keypoint-matching-backend.debater.res.ibm.com/kp_extraction\n",
      "2021-06-22 17:12:22,213 [INFO] keypoints_client.py 375: started a kp analysis job - domain: austin_demo, job_id: 60d1efc693247fbd991aa68c\n",
      "2021-06-22 17:12:22,214 [INFO] keypoints_client.py 214: client calls service (get): https://keypoint-matching-backend.debater.res.ibm.com/kp_extraction\n",
      "2021-06-22 17:12:22,796 [INFO] keypoints_client.py 548: job_id 60d1efc693247fbd991aa68c is pending\n",
      "2021-06-22 17:12:27,798 [INFO] keypoints_client.py 214: client calls service (get): https://keypoint-matching-backend.debater.res.ibm.com/kp_extraction\n",
      "2021-06-22 17:12:29,284 [INFO] keypoints_client.py 555: job_id 60d1efc693247fbd991aa68c is done, returning result\n"
     ]
    },
    {
     "name": "stdout",
     "output_type": "stream",
     "text": [
      "Top aq 2017, using 2016 key points coverage: 49.15\n",
      "Top aq 2017, using 2016 key points key points:\n",
      "122 - We need affordable housing.\n",
      "\t- Please consider working towards more affordable quality housing for middle and lower\n",
      "\t  income families in the City of Austin.\n",
      "\t- And try to increase housing affordability, especially for seniors and low-income families.\n",
      "93 - Traffic congestion needs major improvement\n",
      "\t- HWY & ROAD SYSTEMS NEED IMPROVEMENT, THE FLOW OF TRAFFIC NEEDS TO MAKE SENSE, WE NEED\n",
      "\t  MORE READILY AVAILABLE PUBLIC TRANSPORTATION SYSTEMS\n",
      "\t- The rush hour traffic on city highways and major city streets needs significant\n",
      "\t  improvement.\n",
      "43 - Integrated transportation is critical.\n",
      "\t- Austin needs better public transportation\n",
      "\t- WE NEED A BETTER TRANSPORTATION SYSTEM - A COMBINATION OF TRAINS AND BUSES.\n",
      "39 - UTILITY RATES & PROPERTY TAXES ARE OUTRAGEOUS\n",
      "\t- PROPERTY TAXES ARE WAY TOO HIGH.\n",
      "\t- Wastewater service fees and property taxes are ridiculously high.\n",
      "33 - THE HOMELESS POPULATION NEEDS MORE HELP/ATTENTION\n",
      "\t- THE QUALITY OF LIFE IN AUSTIN IS DEGRADING BECAUSE OF THE LACK OF COMPREHENSIVE PLAN TO\n",
      "\t  ADDRESS THE HOMELESS EPIDEMIC TO FIX TRAFFIC/ROAD CONGESTION AND THE LACK OF HOME\n",
      "\t  BUILDING\n",
      "\t- THE HOMELESSNESS ISSUE, ESPECIALLY IN THE DOWNTOWN (I.E. TOURIST) AREA NEEDS TO BE\n",
      "\t  ADDRESSED.\n",
      "20 - HOUSING PRICES ARE OUT OF CONTROL.\n",
      "\t- THE HIGH TAXES HAVE GOTTEN OUT OF CONTROL.\n",
      "\t- PROPERTY TAXES ARE OUT OF CONTROL BECAUSE OF THE CITY COUNCIL'S WASTEFULNESS.\n",
      "18 - City Council members should represent all citizens.\n",
      "\t- It is not to promote liberal or conservative ideas...it is to server ALL of its\n",
      "\t  taxpayers, by first providing SAFETY and reliable INFRASTRUCTURE.\n",
      "\t- The city government comes first; not the welfare of the citizens.\n",
      "16 - South Austin is losing businesses and residents.\n",
      "\t- Should do more about parking problems in neighborhoods that are starting to get filled\n",
      "\t  up with businesses that rarely have enough parking to support their customers, leading\n",
      "\t  to overflow of parking on the street.\n",
      "\t- CONSTANT HIGH DOLLAR PROPERTIES BEING BUILT ARE DRIVING THE BLUE COLLAR WORKERS OUT OF\n",
      "\t  THE CITY.\n",
      "14 - Infrastructure can't support rapid growth.\n",
      "\t- The rate of population is not keeping up with the rate of development of its roads.\n",
      "\t- Austin is not managing growth well.\n",
      "12 - There is constant traffic and noise pollution.\n",
      "\t- THEY ARE A TRAFFIC HAZARD AND LEAVE GARBAGE EVERYWHERE.\n",
      "\t- Stop all of the cookie cutter, over development - we are losing quality of life - noise,\n",
      "\t  pollution, traffic, tree loss.\n",
      "10 - TOLL ROADS DISCRIMINATE AGAINST LOW INCOME PEOPLE.\n",
      "\t- If something doesn't change soon with traffic and the cost of living Austin wont have\n",
      "\t  any low middle class worker.\n",
      "\t- THEY HURT THE PEOPLE WHO CAN LEAST AFFORD IT.\n",
      "9 - Code issues are hurting the city.\n",
      "\t- The city gets dirtier and more crowded every year and the city employees do very little\n",
      "\t  to enforce clean and safe environments within their apartment complexes.\n",
      "\t- This negatively effects the quality of life for Austin residents, and one of the main\n",
      "\t  reasons why I do not see myself staying in Austin next year.\n",
      "8 - Austin Utility Services need an overhaul-especially water/wastewater.\n",
      "\t- Stop worrying so much about water conservation and zero waste and provide lower cost,\n",
      "\t  adequate services.\n",
      "\t- Charges for wastewater are too high and have no relation to actual water \"wasted\".\n",
      "6 - WE NEED BETTER FLOOD PLANNING.\n",
      "\t- Our infrastructure planning has been abysmal.\n",
      "\t- This is poor planning on the part of city of Austin.\n",
      "4 - 30 mph kills children and pedestrians.\n",
      "\t- They are making our community dangerous.\n",
      "\t- It's puts everyone going downtown at risk.\n",
      "4 - Better training and sensitivity is needed.\n",
      "\t- We need to train our civil servants how to unlearn their own bias.\n",
      "\t- CONSTANT GRAFFITI IN PUBLIC PLACES IS OUT OF CONTROL LAWS ON THIS SHOULD BE ENFORCED\n",
      "\t  MORE STRICT AND WITH HARSHER PENALTIES.\n",
      "4 - CRIME IS ON THE INCREASE.\n",
      "\t- The rates go up each year and there is no reprieve.\n",
      "\t- We need more police presence in the higher crime areas such as Rundberg/ Georgian Acres\n",
      "\t  and other contiguous neighborhoods, including Heritage Hills (my area).\n",
      "4 - Police response time in unacceptably slow.\n",
      "\t- THEY ARE SLOW, IMPOSSIBLE TO DEAL WITH AND MAKE LIFE A MISERY.\n",
      "\t- Police are slow to respond and treat every average citizen as a criminal even when you\n",
      "\t  are the one to need services and help.\n",
      "4 - Roads are poorly maintain.\n",
      "\t- Poor condition of neighborhood streets; absence/inadequacy of sidewalks.\n",
      "\t- Some neighborhoods have such poorly maintained, overgrown sidewalks that they aren't\n",
      "\t  even accessible.\n"
     ]
    }
   ],
   "source": [
    "kpa_result_top_aq_1000_2017, _ = run_kpa(sentences_2017_top_1000_aq, \n",
    "                                    {'n_top_kps': 20, 'mapping_threshold': 0.95}, kpa_top_aq_1000_2016_job_id)\n",
    "print_results(kpa_result_top_aq_1000_2017, n_sentences_per_kp=2, title='Top aq 2017, using 2016 key points')"
   ]
  },
  {
   "cell_type": "markdown",
   "metadata": {},
   "source": [
    "Since both jobs have the same key points, we can now easily compare the two results."
   ]
  },
  {
   "cell_type": "code",
   "execution_count": 16,
   "metadata": {
    "scrolled": true
   },
   "outputs": [
    {
     "name": "stdout",
     "output_type": "stream",
     "text": [
      "2016 - 2017 comparison:\n",
      "+-----------------------------------------------------------------------+------+------+--------+\n",
      "|                               key point                               | 2016 | 2017 | change |\n",
      "+-----------------------------------------------------------------------+------+------+--------+\n",
      "|               Traffic congestion needs major improvement              |  93  |  93  |   0%   |\n",
      "|                      We need affordable housing.                      |  91  | 122  |  34%   |\n",
      "|                 Integrated transportation is critical.                |  53  |  43  |  -19%  |\n",
      "|             UTILITY RATES & PROPERTY TAXES ARE OUTRAGEOUS             |  34  |  39  |  14%   |\n",
      "|            South Austin is losing businesses and residents.           |  26  |  16  |  -39%  |\n",
      "|           THE HOMELESS POPULATION NEEDS MORE HELP/ATTENTION           |  23  |  33  |  43%   |\n",
      "|                   HOUSING PRICES ARE OUT OF CONTROL.                  |  18  |  20  |  11%   |\n",
      "| Austin Utility Services need an overhaul-especially water/wastewater. |  18  |  8   |  -56%  |\n",
      "|               Infrastructure can't support rapid growth.              |  18  |  14  |  -23%  |\n",
      "|             There is constant traffic and noise pollution.            |  17  |  12  |  -30%  |\n",
      "|           TOLL ROADS DISCRIMINATE AGAINST LOW INCOME PEOPLE.          |  15  |  10  |  -34%  |\n",
      "|               Better training and sensitivity is needed.              |  11  |  4   |  -64%  |\n",
      "|                   Code issues are hurting the city.                   |  9   |  9   |   0%   |\n",
      "|          City Council members should represent all citizens.          |  8   |  18  |  125%  |\n",
      "|                     WE NEED BETTER FLOOD PLANNING.                    |  8   |  6   |  -25%  |\n",
      "|                       Roads are poorly maintain.                      |  7   |  4   |  -43%  |\n",
      "|                 30 mph kills children and pedestrians.                |  6   |  4   |  -34%  |\n",
      "|                       CRIME IS ON THE INCREASE.                       |  6   |  4   |  -34%  |\n",
      "|               Police response time in unacceptably slow.              |  5   |  4   |  -20%  |\n",
      "|                 Water consumption rates are too high.                 |  8   | ---  |  ---   |\n",
      "+-----------------------------------------------------------------------+------+------+--------+\n"
     ]
    }
   ],
   "source": [
    "from austin_utils import compare_results\n",
    "\n",
    "compare_results(kpa_result_top_aq_1000_2016, '2016', kpa_result_top_aq_1000_2017, '2017')"
   ]
  },
  {
   "cell_type": "markdown",
   "metadata": {},
   "source": [
    "Note: This comparision is for illustration only. Given that we ran on a subset of comments, the statistical significant of difference between the years is limited, except for the most recurring keypoints."
   ]
  },
  {
   "cell_type": "markdown",
   "metadata": {},
   "source": [
    "## 4. Deep dive into the *traffic problem* in Austin using the *Term Wikifier* and *Term Relater* services\n",
    "As we've seen in the 2016 results, that the traffic problem in Austin is significant. In this section we will use the *Term Wikifier* and *Term Relater* services to select a subset of the sentences related to the *Traffic* topic and run *Key Point Analysis* over them. \n",
    "\n",
    "The *Term Wikifier* service runs over sentences and identifies the Wikipedia concepts that are referenced by phrases in the sentence text.  Concepts correspond to Wikipedia articles.  Each occurance of a concept in the sentence is called a *mention*.  For example, the sentence \"My car insurance went up 20% due to vehicle thefts and burglary\" mentions three Wikipedia concepts: The phrase \"car insurance\" is mapped to the concept *Vehicle insurance*; the phrase \"vehicle thefts\" is mapped to the concept *Motor vehicle theft* and the phrase \"burglary\" is mapped to the concept *Burglary*.\n",
    "\n",
    "The *Term Relater* service runs over pairs of Wikipedia concepts and scores how closely these concepts are related.  For example, the *Car* concept is very related to the *Traffic* concept but the *Cat* concept is not very related to the *Traffic* concept.\n",
    "\n",
    "We will use the *Term Wikifier* to extract all mentions in all sentences; then use the *Term Relater* to select a subset of these mentions which are related to the 'Traffic' concept; then select all sentences that have mentions related to the 'Traffic' concept; and finally run *Key Point Analysis* over them. Running over these sentences will create key points specifically to the traffic problem in Austin and expose insights and suggestions related to it."
   ]
  },
  {
   "cell_type": "markdown",
   "metadata": {},
   "source": [
    "### 4.1 Calculate the mentions in the sentences using the *Term Wikifier*\n",
    "Exercise 3:\n",
    "\n",
    "Please complete the missing parts in the *get_sentence_to_mentions(sentences_texts)* method. The method uses the *Term Wikifier* service, calculates the mentions for each sentence and stores it in a dictionary named *sentence_to_mentions*. \n",
    "\n",
    "The *Term Wikifier* client runs over the sentences_texts using the **mentions_list = term_wikifier_client.run(sentences_texts)** method and returns a list of mentions_lists."
   ]
  },
  {
   "cell_type": "code",
   "execution_count": 17,
   "metadata": {},
   "outputs": [],
   "source": [
    "def get_sentence_to_mentions(sentences_texts):\n",
    "    term_wikifier_client = debater_api.get_term_wikifier_client()\n",
    "\n",
    "    mentions_list = term_wikifier_client.run(sentences_texts)\n",
    "    \n",
    "    sentence_to_mentions = {}\n",
    "    for sentence_text, mentions in zip(sentences_texts, mentions_list):\n",
    "        sentence_to_mentions[sentence_text] = set([mention['concept']['title'] for mention in mentions])\n",
    "    return sentence_to_mentions"
   ]
  },
  {
   "cell_type": "markdown",
   "metadata": {},
   "source": [
    "Let's calculate the mentions on all 2016 sentences\""
   ]
  },
  {
   "cell_type": "code",
   "execution_count": 18,
   "metadata": {},
   "outputs": [
    {
     "name": "stderr",
     "output_type": "stream",
     "text": [
      "TermWikifierClient: 100%|█████████▉| 3000/3005 [00:12<00:00, 243.73it/s]2021-06-22 17:12:42,054 [INFO] term_wikifier_client.py 34: term_wikifier_client.run = 12746.110916137695ms.\n"
     ]
    }
   ],
   "source": [
    "sentences_2016_texts = [sentence['text'] for sentence in sentences_2016]\n",
    "sentence_to_mentions = get_sentence_to_mentions(sentences_2016_texts)"
   ]
  },
  {
   "cell_type": "markdown",
   "metadata": {},
   "source": [
    "### 4.2 Find the mentions that relate to the *traffic* concept using the *Term Relater* service\n",
    "Since we're interested in the *Traffic* concept, we will now take all mentions and find the ones that are related to that concept. Then we will select all sentences that have at least one mention that is related to the *Traffic* concept."
   ]
  },
  {
   "cell_type": "code",
   "execution_count": 19,
   "metadata": {},
   "outputs": [],
   "source": [
    "all_mentions = set([mention for sentence in sentence_to_mentions \n",
    "                   for mention in sentence_to_mentions[sentence]])"
   ]
  },
  {
   "cell_type": "markdown",
   "metadata": {},
   "source": [
    "Exercise 4:<br/>\n",
    "Please complete the missing parts in the *get_related_mentions(concept, threshold, all_mentions)* method. It receives a given concept, a threshold and all_mentions. It then uses the *Term Relater* service to calculate the relatedness between the mentions and the concept and returns all mentions that have relatedness score above the given threhold. The *term_relater_client* runs over the pairs using the **scores = term_relater_client.run(concept_mention_pairs)** method and returns a list of scores."
   ]
  },
  {
   "cell_type": "code",
   "execution_count": 20,
   "metadata": {},
   "outputs": [],
   "source": [
    "def get_related_mentions(concept, threshold, all_mentions):\n",
    "    term_relater_client = debater_api.get_term_relater_client()\n",
    "    concept_mention_pairs = [[concept, mention] for mention in all_mentions]\n",
    "\n",
    "    scores = term_relater_client.run(concept_mention_pairs)\n",
    "    \n",
    "    return [mention for mention, score in zip(all_mentions, scores) if score > threshold]"
   ]
  },
  {
   "cell_type": "markdown",
   "metadata": {},
   "source": [
    "We will now use the method you've implemented and find the mentions that match the *traffic* concept."
   ]
  },
  {
   "cell_type": "code",
   "execution_count": 21,
   "metadata": {},
   "outputs": [
    {
     "name": "stderr",
     "output_type": "stream",
     "text": [
      "TermWikifierClient: 100%|██████████| 3005/3005 [00:12<00:00, 234.86it/s]\n",
      "TermRelaterClient: 100%|██████████| 1634/1634 [00:02<00:00, 526.68it/s]2021-06-22 17:12:44,920 [INFO] term_relater_client.py 37: term_relater_client.run = 2813.074827194214ms.\n"
     ]
    },
    {
     "name": "stdout",
     "output_type": "stream",
     "text": [
      "['Frontage road', 'Motor vehicle', 'Driving under the influence', 'Driving', 'Public transport timetable', 'Stop sign', 'Bicycle safety', 'Mode of transport', 'Truck', 'Police transport', 'Single-vehicle crash', 'Capital Metropolitan Transportation Authority', 'Transport network', 'Traffic flow', 'Thoroughfare', 'Traffic congestion', 'State highway', 'Car', 'Bus station', 'Traffic light', 'Traffic collision', 'Public transport bus service', 'Transport', 'Gridlock', 'Travel', 'Highway', 'Ridesharing company', 'Vehicle insurance', 'Bus driver', 'Road surface', 'Cycling', 'Bicycle', 'Park and ride', 'One-way traffic', 'Controlled-access highway', 'Highway systems by country', 'Rail freight transport', 'Pedestrian', 'Bus', 'Boulevard', 'Parking', 'Right of way', 'Pedestrian facilities', 'Speed bump', 'Traffic management', 'Signal', 'Transit bus', 'Parking violation', 'Vehicle', 'Bus lane', 'Bridge', 'Driveway', 'Parkway', 'Traffic ticket', 'Rail transport', 'Road', 'Road traffic safety', 'Street', 'Transportation planning', 'Speed', 'Carriageway', 'Bike path', 'Transport Plan', 'Bicycle commuting', 'Train', 'Traffic (conservation programme)', 'Road surface marking', 'Truck driver', 'Local–express lanes', 'Sidewalk', 'Bike lane', 'Road cycling', 'Rapid transit', 'Lane', 'Uber', 'Taxicab', 'Road expansion', 'Tram', 'Transport hub', 'Track (rail transport)', 'Drive-through', 'Trail', 'Passing lane', 'Roundabout', 'Toll road', 'Commercial vehicle', 'Bicycle-friendly', 'Speed limit', 'Traffic', 'Traffic sign', 'Bus stop', 'Transportation theory (mathematics)', 'Public transport', 'Rush hour']\n"
     ]
    }
   ],
   "source": [
    "matched_mentions = get_related_mentions('Traffic', 0.5, all_mentions)\n",
    "print(matched_mentions)"
   ]
  },
  {
   "cell_type": "markdown",
   "metadata": {},
   "source": [
    "### 4.3 Run *Key Point Analysis* over the sentences that relate to the *Traffic* concept\n",
    "Let's select the sentences that have mentions that are related to the *Traffic* concept and run over them. We will need to switch back from sentences_texts to sentences dictionaries since our *run_kpa* method needs the sentences dictionaries."
   ]
  },
  {
   "cell_type": "code",
   "execution_count": 22,
   "metadata": {},
   "outputs": [
    {
     "name": "stdout",
     "output_type": "stream",
     "text": [
      "Running over 980 sentences\n"
     ]
    }
   ],
   "source": [
    "matched_sentences_texts = [sentence for sentence in sentences_2016_texts \n",
    "                     if len(sentence_to_mentions[sentence].intersection(matched_mentions)) > 0]\n",
    "matched_sentences = [sentence for sentence in sentences_2016 if sentence['text'] in matched_sentences_texts]\n",
    "matched_sentences = matched_sentences if len(matched_sentences) <= 1000 else random.sample(matched_sentences, 1000)\n",
    "print('Running over %d sentences' % len(matched_sentences))"
   ]
  },
  {
   "cell_type": "markdown",
   "metadata": {},
   "source": [
    "Finally, let's run over these sentences and examine the *Traffic* related key points"
   ]
  },
  {
   "cell_type": "code",
   "execution_count": 23,
   "metadata": {},
   "outputs": [
    {
     "name": "stderr",
     "output_type": "stream",
     "text": [
      "2021-06-22 17:12:44,983 [INFO] keypoints_client.py 284: uploading 980 comments in batches\n",
      "2021-06-22 17:12:44,984 [INFO] keypoints_client.py 214: client calls service (post): https://keypoint-matching-backend.debater.res.ibm.com/comments\n",
      "2021-06-22 17:12:45,961 [INFO] keypoints_client.py 301: uploaded 980 comments, out of 980\n",
      "2021-06-22 17:12:45,962 [INFO] keypoints_client.py 214: client calls service (get): https://keypoint-matching-backend.debater.res.ibm.com/comments\n",
      "2021-06-22 17:12:46,660 [INFO] keypoints_client.py 313: domain: austin_demo, comments status: {'processed_comments': 3122, 'pending_comments': 980, 'processed_sentences': 3122}\n",
      "2021-06-22 17:12:56,665 [INFO] keypoints_client.py 214: client calls service (get): https://keypoint-matching-backend.debater.res.ibm.com/comments\n",
      "2021-06-22 17:12:57,225 [INFO] keypoints_client.py 313: domain: austin_demo, comments status: {'processed_comments': 3122, 'pending_comments': 0, 'processed_sentences': 3122}\n",
      "2021-06-22 17:12:57,226 [INFO] keypoints_client.py 214: client calls service (post): https://keypoint-matching-backend.debater.res.ibm.com/kp_extraction\n",
      "TermRelaterClient: 100%|██████████| 1634/1634 [00:15<00:00, 526.68it/s]2021-06-22 17:12:58,203 [INFO] keypoints_client.py 375: started a kp analysis job - domain: austin_demo, job_id: 60d1efea93247fbd991aa691\n",
      "2021-06-22 17:12:58,204 [INFO] keypoints_client.py 214: client calls service (get): https://keypoint-matching-backend.debater.res.ibm.com/kp_extraction\n",
      "2021-06-22 17:12:58,737 [INFO] keypoints_client.py 548: job_id 60d1efea93247fbd991aa691 is pending\n",
      "2021-06-22 17:13:03,741 [INFO] keypoints_client.py 214: client calls service (get): https://keypoint-matching-backend.debater.res.ibm.com/kp_extraction\n",
      "2021-06-22 17:13:04,430 [INFO] keypoints_client.py 552: job_id 60d1efea93247fbd991aa691 is running, progress: not updated yet\n",
      "2021-06-22 17:13:09,435 [INFO] keypoints_client.py 214: client calls service (get): https://keypoint-matching-backend.debater.res.ibm.com/kp_extraction\n",
      "2021-06-22 17:13:10,560 [INFO] keypoints_client.py 552: job_id 60d1efea93247fbd991aa691 is running, progress: not updated yet\n",
      "2021-06-22 17:13:15,565 [INFO] keypoints_client.py 214: client calls service (get): https://keypoint-matching-backend.debater.res.ibm.com/kp_extraction\n",
      "2021-06-22 17:13:17,032 [INFO] keypoints_client.py 555: job_id 60d1efea93247fbd991aa691 is done, returning result\n"
     ]
    },
    {
     "name": "stdout",
     "output_type": "stream",
     "text": [
      "Traffic KPA 2016 coverage: 62.17\n",
      "Traffic KPA 2016 key points:\n",
      "174 - PLEASE ADDRESS THE TRAFFIC CONGESTION\n",
      "\t- Pay closer attention to the Four Points area - extreme traffic congestion that is only\n",
      "\t  getting worse!\n",
      "\t- Austin traffic (especially the morning commute) needs help!\n",
      "74 - We need better mass transit!\n",
      "\t- WE NEED MASS TRANSIT TO THE AIRPORT!\n",
      "\t- Steiner Ranch area needs more access to public transportation (bus, train, etc>) and\n",
      "\t  taxi/ridesharing  to/from downtown and airport\n",
      "49 - Fix traffic congestion - better planning needed.\n",
      "\t- Need to plan for the growth and traffic this city is now experiencing much better.\n",
      "\t- NEED BETTER TRAFFIC FLOW PLANNING.\n",
      "45 - Affordable housing, traffic, cleaner streets/roads.\n",
      "\t- Ensure good traffic flow, safety, affordable housing, city planning, and cleanliness.\n",
      "\t- WE NEED AFFORDABLE HOUSING, BETTER ROADS AND MORE ROADS\n",
      "42 - Transportation improvements--light rail, bike facilities, roadways, sidewalks\n",
      "\t- Austin needs to get serious about alternatives to driving including real mass transit,\n",
      "\t  bike, and pedestrian facilities.\n",
      "\t- It's more important to improve the infrastructure for bikes and pedestrians and public\n",
      "\t  transportation to reduce the amount of cars on the roads.\n",
      "24 - The highways need a major overhaul.\n",
      "\t- Rebuild IH-35!...Major highway IH-35 needs a big over-haul!!\n",
      "\t- TRAFFIC IS RIDICULOUS MAJOR IMPROVEMENTS NEEDED.\n",
      "19 - Public wheelchair transportation to ALL areas.\n",
      "\t- More accessibility for the  handicap on roads, restaurants and vehicles taking you to\n",
      "\t  the outskirts of the city.\n",
      "\t- We need an extended streetcar system (middle of all major roads).\n",
      "18 - WE NEED BETTER SIDEWALKS AND LIGHTING.\n",
      "\t- Better traffic flow and traffic light timing.\n",
      "\t- Also, keeping streets and parks clean, lights burning,  crime controlled.\n",
      "14 - Better pedestrian and biking lifestyle options.\n",
      "\t- Increase affordable family friendly housing (2 or more brims) in family friendly walk\n",
      "\t  able neighborhoods near public transportation & bike trails & parks so people are less\n",
      "\t  dependent on car travel\n",
      "\t- Interconnect hike and bike trails, neighborhoods.\n",
      "7 - City services (water, streets, electric) are outstanding!!\n",
      "\t- The electric, water, waist water, street, drainage etc all the extra items list are\n",
      "\t  taxes in excess!!!\n",
      "\t- Focus on the core functions of government- roads, public safety, essential services like\n",
      "\t  water & electricity (although Austin would likely be better served in a deregulated\n",
      "\t  electric market), reasonable property taxes.\n",
      "7 - Roads are poorly maintain.\n",
      "\t- Major thoroughfares poorly planned, not functioning, city streets need repair.\n",
      "\t- Better streets, too many potholes.\n",
      "6 - Stricter laws for cyclists in traffic\n",
      "\t- Enforce the traffic laws.\n",
      "\t- Remove peddlers at traffic lights and fix traffic problems.\n",
      "4 - 30 mph kills children and pedestrians.\n",
      "\t- I am very concerned with highway and pedestrian safety.\n",
      "\t- Pedestrians are at great risk, particularly children, and unrealistic speed limits\n",
      "\t  reflect an Austin that no longer exists.\n",
      "4 - Public transportation has always been problematic here.\n",
      "\t- Our public transport is incredibly deficient.\n",
      "\t- HIGHWAY SYSTEM THRU CITY IS TERRIBLE\n",
      "4 - Speed limits in neighborhoods are too fast.\n",
      "\t- People in my neighborhood drive 40-50 up Scotland Well Drive, the speed limit is 30!\n",
      "\t- Would like slower speeds limits in residential neighborhoods and enforced.\n",
      "3 - MORE FREE PARKING DOWNTOWN.\n",
      "\t- There use to be free parking around town, now it costs to park anywhere in the city.\n",
      "\t- There is no parking now in Austin and then they tell us that our neighborhoods may get\n",
      "\t  metered.\n",
      "2 - Effective, affordable ride-share networks are critical.\n",
      "\t- Better local transportation including ride share companies as reasonable options.\n",
      "2 - TOLL ROADS DISCRIMINATE AGAINST LOW INCOME PEOPLE.\n",
      "\t- They're predatory towards the poor and do not ease traffic congestion at all.\n"
     ]
    }
   ],
   "source": [
    "kpa_result_traffic_2016, _ = run_kpa(matched_sentences, {'n_top_kps': 20, 'mapping_threshold': 0.99}, None)\n",
    "print_results(kpa_result_traffic_2016, n_sentences_per_kp=2, title='Traffic KPA 2016')"
   ]
  },
  {
   "cell_type": "markdown",
   "metadata": {},
   "source": [
    "### 4.4 Conclusion"
   ]
  },
  {
   "cell_type": "markdown",
   "metadata": {},
   "source": [
    "In this tutorial, we showed how *Key Point Analysis* can provide you with detailed insights over survey data right out of the box - significantly reducing the effort required by a data scientist to analyze the data.  We also demonstrated how key point analysis over unstructured text can be combined with available structured information, to provide new views over the data.   Finally, we showed how utilizing of additional Project Debater text analysis services such as *Argument Quality*, *Term Wikifier* , and *Term Relater* can further improve the quality of the results."
   ]
  }
 ],
 "metadata": {
  "kernelspec": {
   "display_name": "kpa_env",
   "language": "python",
   "name": "kpa_env"
  },
  "language_info": {
   "codemirror_mode": {
    "name": "ipython",
    "version": 3
   },
   "file_extension": ".py",
   "mimetype": "text/x-python",
   "name": "python",
   "nbconvert_exporter": "python",
   "pygments_lexer": "ipython3",
   "version": "3.7.10"
  }
 },
 "nbformat": 4,
 "nbformat_minor": 5
}
