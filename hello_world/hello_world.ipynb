{
 "cells": [
  {
   "cell_type": "markdown",
   "metadata": {},
   "source": [
    "# Hello World"
   ]
  },
  {
   "cell_type": "markdown",
   "metadata": {},
   "source": [
    "The purpose of this notebook is to check that your environment is set up correctly and that you are able to access the Debater Early Access APIs.  It also demonstrates how to call the Pro/Con Service."
   ]
  },
  {
   "cell_type": "markdown",
   "metadata": {},
   "source": [
    "Set up imports"
   ]
  },
  {
   "cell_type": "code",
   "execution_count": null,
   "metadata": {},
   "outputs": [],
   "source": [
    "from debater_python_api.api.debater_api import DebaterApi\n",
    "import os"
   ]
  },
  {
   "cell_type": "markdown",
   "metadata": {},
   "source": [
    "Check that DEBATER_API_KEY environment variable is set up correctly"
   ]
  },
  {
   "cell_type": "code",
   "execution_count": null,
   "metadata": {},
   "outputs": [],
   "source": [
    "if not 'DEBATER_API_KEY' in os.environ:\n",
    "    raise ValueError(\"Please set the DEBATER_API_KEY environment variable to the API KEY found in the API-KEY \"\n",
    "        \"tab of the Early Access Program Website\")\n",
    "api_key = os.environ['DEBATER_API_KEY']\n",
    "if api_key == \"<PUT_YOUR_API_KEY_HERE>\":\n",
    "    raise ValueError(\"Please set the content of the DEBATER_API_KEY environment variable to the API KEY found in the API-KEY \"\n",
    "        \"tab of the Early Access Program Website. It currently uses a placeholder template\")"
   ]
  },
  {
   "cell_type": "markdown",
   "metadata": {},
   "source": [
    "Initialize a DebaterApi object with the api key, and return a pro/con client object."
   ]
  },
  {
   "cell_type": "code",
   "execution_count": null,
   "metadata": {},
   "outputs": [],
   "source": [
    "debater_api = DebaterApi(api_key)\n",
    "pro_con_client = debater_api.get_pro_con_client()"
   ]
  },
  {
   "cell_type": "markdown",
   "metadata": {},
   "source": [
    "Initialize the data to be sent to the pro/con service.  In this case, it is list containing a single pair of a \n",
    "sentence and a topic:"
   ]
  },
  {
   "cell_type": "code",
   "execution_count": null,
   "metadata": {},
   "outputs": [],
   "source": [
    "topic = 'This tutorial is helpful.'\n",
    "sentence = 'This tutorial works as expected.' \n",
    "\n",
    "sentence_topic_dicts = [{'sentence' : sentence, 'topic' : topic } ]"
   ]
  },
  {
   "cell_type": "markdown",
   "metadata": {},
   "source": [
    "Call the pro/con client.  The client performs a REST call to the service and receives the pro/con scores as a list (one score per pair of topic/sentence submitted)"
   ]
  },
  {
   "cell_type": "code",
   "execution_count": null,
   "metadata": {},
   "outputs": [],
   "source": [
    "scores = pro_con_client.run(sentence_topic_dicts)"
   ]
  },
  {
   "cell_type": "markdown",
   "metadata": {},
   "source": [
    "Print the score and validate it is in the right range."
   ]
  },
  {
   "cell_type": "code",
   "execution_count": null,
   "metadata": {},
   "outputs": [],
   "source": [
    "print(\"Score: \"+\"{:.4f}\".format(scores[0]))\n",
    "\n",
    "if (scores[0] > 0.99):\n",
    "    print(\"Hello world! It works.\")"
   ]
  }
 ],
 "metadata": {
  "kernelspec": {
   "display_name": "eap",
   "language": "python",
   "name": "eap"
  },
  "language_info": {
   "codemirror_mode": {
    "name": "ipython",
    "version": 3
   },
   "file_extension": ".py",
   "mimetype": "text/x-python",
   "name": "python",
   "nbconvert_exporter": "python",
   "pygments_lexer": "ipython3",
   "version": "3.8.8"
  }
 },
 "nbformat": 4,
 "nbformat_minor": 4
}
