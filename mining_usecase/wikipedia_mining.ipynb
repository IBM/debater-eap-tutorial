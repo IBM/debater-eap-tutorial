{
 "cells": [
  {
   "cell_type": "markdown",
   "metadata": {},
   "source": [
    "## Mining argumentative content from Wikipedia\n",
    "\n",
    "This notebook demonstrates how to use Project Debater APIs to extract the most relevant argumentative statements for a given topic from Wikipedia. \n",
    "\n",
    "The output includes three main parts:\n",
    "1. A table of the most argumentative statements with respect to the topic\n",
    "2. A narrative which automatically generated from the most argumentative statements\n",
    "3. Given an additional list of aspects of interest it provides a summary of the most argumentative statements for each aspect seperately.\n"
   ]
  },
  {
   "cell_type": "markdown",
   "metadata": {},
   "source": [
    "The following two lines define the topic of interest and its specific aspects that are of interest.  In this case, we are interested in pros and cons related to Roman Empire in general, and also those that related to war, economy and technology aspects of the Roman Empire."
   ]
  },
  {
   "cell_type": "code",
   "execution_count": 1,
   "metadata": {},
   "outputs": [],
   "source": [
    "dc = 'Roman Empire'\n",
    "aspects = ['War','Economy','Technology']\n"
   ]
  },
  {
   "cell_type": "markdown",
   "metadata": {},
   "source": [
    "These are additional parameters, which can remain as default in most cases:"
   ]
  },
  {
   "cell_type": "code",
   "execution_count": 2,
   "metadata": {},
   "outputs": [],
   "source": [
    "articles_filename = dc + \"_wikipedia.json\"\n",
    "dc_re = dc  # This can allow a more refined regular expression to find relevant sentences containing the topic concept.\n",
    "            # For example 'Hybrid.*Cloud' would increase coverage.\n",
    "topic = 'The ' + dc + ' was beneficial to the world'\n",
    "max_sentence_length = 50\n",
    "max_articles = 10000\n"
   ]
  },
  {
   "cell_type": "markdown",
   "metadata": {},
   "source": [
    "### Install the early access program SDK"
   ]
  },
  {
   "cell_type": "code",
   "execution_count": 3,
   "metadata": {},
   "outputs": [
    {
     "name": "stdout",
     "output_type": "stream",
     "text": [
      "Install Early-Access-Program SDK:\n",
      "--2021-07-25 16:05:02--  https://early-access-program.debater.res.ibm.com/sdk/python_api.tar.gz\n",
      "Resolving early-access-program.debater.res.ibm.com (early-access-program.debater.res.ibm.com)... 169.55.93.82\n",
      "Connecting to early-access-program.debater.res.ibm.com (early-access-program.debater.res.ibm.com)|169.55.93.82|:443... connected.\n",
      "HTTP request sent, awaiting response... 200 \n",
      "Length: 441774 (431K) [application/x-gzip]\n",
      "Saving to: ‘./python_api.tar.gz’\n",
      "\n",
      "python_api.tar.gz   100%[===================>] 431.42K   553KB/s    in 0.8s    \n",
      "\n",
      "2021-07-25 16:05:04 (553 KB/s) - ‘./python_api.tar.gz’ saved [441774/441774]\n",
      "\n",
      "x python_api/\n",
      "x python_api/__init__.py\n",
      "x python_api/setup.py\n",
      "x python_api/README.md\n",
      "x python_api/debater_python_api/\n",
      "x python_api/debater_python_api/__init__.py\n",
      "x python_api/debater_python_api/examples/\n",
      "x python_api/debater_python_api/examples/__init__.py\n",
      "x python_api/debater_python_api/examples/evidence_detection_example.py\n",
      "x python_api/debater_python_api/examples/term_wikifier_example.py\n",
      "x python_api/debater_python_api/examples/usecases/\n",
      "x python_api/debater_python_api/examples/usecases/mining_to_narrative.py\n",
      "x python_api/debater_python_api/examples/usecases/kp_based_survey.py\n",
      "x python_api/debater_python_api/examples/usecases/survey.py\n",
      "x python_api/debater_python_api/examples/example_of_sc_args.py\n",
      "x python_api/debater_python_api/examples/term_relater_example.py\n",
      "x python_api/debater_python_api/examples/argument_quality_response.txt\n",
      "x python_api/debater_python_api/examples/clustering_example.py\n",
      "x python_api/debater_python_api/examples/pro_con_example.py\n",
      "x python_api/debater_python_api/examples/term_wikifier_response.txt\n",
      "x python_api/debater_python_api/examples/evidence_detection_response.txt\n",
      "x python_api/debater_python_api/examples/embedding_example.py\n",
      "x python_api/debater_python_api/examples/speech_construction_example.py\n",
      "x python_api/debater_python_api/examples/term_relater_response.txt\n",
      "x python_api/debater_python_api/examples/keypoints_example.py\n",
      "x python_api/debater_python_api/examples/claim_boundaries_response.txt\n",
      "x python_api/debater_python_api/examples/claim_boundaries_example.py\n",
      "x python_api/debater_python_api/examples/claim_detection_example.py\n",
      "x python_api/debater_python_api/examples/argument_quality_example.py\n",
      "x python_api/debater_python_api/examples/keypoints_response.txt\n",
      "x python_api/debater_python_api/examples/theme_extraction_example.py\n",
      "x python_api/debater_python_api/examples/claim_detection_response.txt\n",
      "x python_api/debater_python_api/examples/theme_extraction_response.txt\n",
      "x python_api/debater_python_api/examples/pro_con_response.txt\n",
      "x python_api/debater_python_api/examples/clustering_response.txt\n",
      "x python_api/debater_python_api/examples/index_searcher_example.py\n",
      "x python_api/debater_python_api/examples/run_all_services.py\n",
      "x python_api/debater_python_api/examples/index_searcher_response.txt\n",
      "x python_api/debater_python_api/examples/resources/\n",
      "x python_api/debater_python_api/examples/resources/__init__.py\n",
      "x python_api/debater_python_api/examples/resources/argument_quality_arguments.txt\n",
      "x python_api/debater_python_api/examples/resources/pro_con_arguments.txt\n",
      "x python_api/debater_python_api/examples/resources/term_relater_pairs.txt\n",
      "x python_api/debater_python_api/examples/resources/filters_output/\n",
      "x python_api/debater_python_api/examples/resources/filters_output/__init__.py\n",
      "x python_api/debater_python_api/examples/resources/arguments.py\n",
      "x python_api/debater_python_api/examples/resources/claim_classifier_pairs.txt\n",
      "x python_api/debater_python_api/examples/resources/term_wikifier_texts.txt\n",
      "x python_api/debater_python_api/examples/resources/dataset_austin.csv\n",
      "x python_api/debater_python_api/examples/resources/evidence_classifier_pairs.txt\n",
      "x python_api/debater_python_api/examples/resources/clustering_arguments.txt\n",
      "x python_api/debater_python_api/examples/resources/pro_con_scores.py\n",
      "x python_api/debater_python_api/integration_tests/\n",
      "x python_api/debater_python_api/integration_tests/__init__.py\n",
      "x python_api/debater_python_api/integration_tests/api/\n",
      "x python_api/debater_python_api/integration_tests/api/__init__.py\n",
      "x python_api/debater_python_api/integration_tests/api/clients/\n",
      "x python_api/debater_python_api/integration_tests/api/clients/__init__.py\n",
      "x python_api/debater_python_api/integration_tests/api/clients/ServicesIT.py\n",
      "x python_api/debater_python_api/integration_tests/api/clients/ServicesLoad.py\n",
      "x python_api/debater_python_api/integration_tests/api/clients/DebaterApiWithAdjustedUrl.py\n",
      "x python_api/debater_python_api/integration_tests/test_data_files/\n",
      "x python_api/debater_python_api/integration_tests/test_data_files/dataset_austin_open_ended_comments_3k_with_ids.csv\n",
      "x python_api/debater_python_api/utils/\n",
      "x python_api/debater_python_api/utils/__init__.py\n",
      "x python_api/debater_python_api/utils/general_utils.py\n",
      "x python_api/debater_python_api/utils/kp_analysis_utils.py\n",
      "x python_api/debater_python_api/utils/clusters_refiner.py\n",
      "x python_api/debater_python_api/utils/kp_analysis_conf.py\n",
      "x python_api/debater_python_api/api/\n",
      "x python_api/debater_python_api/api/__init__.py\n",
      "x python_api/debater_python_api/api/sentence_level_index/\n",
      "x python_api/debater_python_api/api/sentence_level_index/__init__.py\n",
      "x python_api/debater_python_api/api/sentence_level_index/client/\n",
      "x python_api/debater_python_api/api/sentence_level_index/client/__init__.py\n",
      "x python_api/debater_python_api/api/sentence_level_index/client/article_retrieval_request.py\n",
      "x python_api/debater_python_api/api/sentence_level_index/client/sentence_query_base.py\n",
      "x python_api/debater_python_api/api/sentence_level_index/client/elastic_search_sentence_res.py\n",
      "x python_api/debater_python_api/api/sentence_level_index/client/elastic_client.py\n",
      "x python_api/debater_python_api/api/sentence_level_index/client/elastic_search_article_res.py\n",
      "x python_api/debater_python_api/api/sentence_level_index/client/sentence_query_request.py\n",
      "x python_api/debater_python_api/api/clients/\n",
      "x python_api/debater_python_api/api/clients/__init__.py\n",
      "x python_api/debater_python_api/api/clients/pro_con_client.py\n",
      "x python_api/debater_python_api/api/clients/term_relater_client.py\n",
      "x python_api/debater_python_api/api/clients/abstract_client.py\n",
      "x python_api/debater_python_api/api/clients/keypoints_client.py\n",
      "x python_api/debater_python_api/api/clients/claim_boundaries_client.py\n",
      "x python_api/debater_python_api/api/clients/term_wikifier_client.py\n",
      "x python_api/debater_python_api/api/clients/clustering_client.py\n",
      "x python_api/debater_python_api/api/clients/embedding_client.py\n",
      "x python_api/debater_python_api/api/clients/theme_extraction_client.py\n",
      "x python_api/debater_python_api/api/clients/claim_and_evidence_detection_client.py\n",
      "x python_api/debater_python_api/api/clients/index_searcher_client.py\n",
      "x python_api/debater_python_api/api/clients/response_data/\n",
      "x python_api/debater_python_api/api/clients/response_data/__init__.py\n",
      "x python_api/debater_python_api/api/clients/response_data/speech_response.py\n",
      "x python_api/debater_python_api/api/clients/argument_quality_client.py\n",
      "x python_api/debater_python_api/api/clients/narrative_generation_client.py\n",
      "x python_api/debater_python_api/api/clients/keypoints_pairs_infer_client.py\n",
      "x python_api/debater_python_api/api/debater_api.py\n",
      "x python_api/requirements.txt\n",
      "Processing /Users/katz/eap2/debater-eap-tutorial/mining_usecase/python_api\n",
      "\u001b[33m  DEPRECATION: A future pip version will change local packages to be built in-place without first copying to a temporary directory. We recommend you use --use-feature=in-tree-build to test your packages with this new behavior before it becomes the default.\n",
      "   pip 21.3 will remove support for this functionality. You can find discussion regarding this at https://github.com/pypa/pip/issues/7555.\u001b[0m\n",
      "Requirement already satisfied: requests==2.21.0 in /Users/katz/.local/lib/python3.7/site-packages/requests-2.21.0-py3.7.egg (from debater-python-api===3.5.8.RELEASE) (2.21.0)\n",
      "Requirement already satisfied: prettytable==0.7.2 in /Users/katz/.local/lib/python3.7/site-packages/prettytable-0.7.2-py3.7.egg (from debater-python-api===3.5.8.RELEASE) (0.7.2)\n",
      "Requirement already satisfied: sklearn==0.0 in /Users/katz/.local/lib/python3.7/site-packages/sklearn-0.0-py3.7.egg (from debater-python-api===3.5.8.RELEASE) (0.0)\n",
      "Requirement already satisfied: matplotlib==3.0.3 in /Users/katz/.local/lib/python3.7/site-packages/matplotlib-3.0.3-py3.7-macosx-10.7-x86_64.egg (from debater-python-api===3.5.8.RELEASE) (3.0.3)\n",
      "Requirement already satisfied: numpy in /Users/katz/.local/lib/python3.7/site-packages/numpy-1.21.0rc1-py3.7-macosx-10.9-x86_64.egg (from debater-python-api===3.5.8.RELEASE) (1.21.0rc1)\n",
      "Requirement already satisfied: pandas in /Users/katz/.local/lib/python3.7/site-packages/pandas-1.2.4-py3.7-macosx-10.9-x86_64.egg (from debater-python-api===3.5.8.RELEASE) (1.2.4)\n",
      "Requirement already satisfied: spacy==2.2.1 in /Users/katz/.local/lib/python3.7/site-packages/spacy-2.2.1-py3.7-macosx-10.7-x86_64.egg (from debater-python-api===3.5.8.RELEASE) (2.2.1)\n",
      "Requirement already satisfied: PyHamcrest==2.0.2 in /Users/katz/.local/lib/python3.7/site-packages/PyHamcrest-2.0.2-py3.7.egg (from debater-python-api===3.5.8.RELEASE) (2.0.2)\n",
      "Requirement already satisfied: cycler>=0.10 in /Users/katz/anaconda3/lib/python3.7/site-packages (from matplotlib==3.0.3->debater-python-api===3.5.8.RELEASE) (0.10.0)\n",
      "Requirement already satisfied: kiwisolver>=1.0.1 in /Users/katz/anaconda3/lib/python3.7/site-packages (from matplotlib==3.0.3->debater-python-api===3.5.8.RELEASE) (1.3.1)\n",
      "Requirement already satisfied: pyparsing!=2.0.4,!=2.1.2,!=2.1.6,>=2.0.1 in /Users/katz/anaconda3/lib/python3.7/site-packages (from matplotlib==3.0.3->debater-python-api===3.5.8.RELEASE) (2.4.7)\n",
      "Requirement already satisfied: python-dateutil>=2.1 in /Users/katz/anaconda3/lib/python3.7/site-packages (from matplotlib==3.0.3->debater-python-api===3.5.8.RELEASE) (2.8.1)\n"
     ]
    },
    {
     "name": "stdout",
     "output_type": "stream",
     "text": [
      "Requirement already satisfied: certifi>=2017.4.17 in /Users/katz/anaconda3/lib/python3.7/site-packages (from requests==2.21.0->debater-python-api===3.5.8.RELEASE) (2021.5.30)\n",
      "Requirement already satisfied: chardet<3.1.0,>=3.0.2 in /Users/katz/.local/lib/python3.7/site-packages/chardet-3.0.4-py3.7.egg (from requests==2.21.0->debater-python-api===3.5.8.RELEASE) (3.0.4)\n",
      "Requirement already satisfied: idna<2.9,>=2.5 in /Users/katz/.local/lib/python3.7/site-packages/idna-2.8-py3.7.egg (from requests==2.21.0->debater-python-api===3.5.8.RELEASE) (2.8)\n",
      "Requirement already satisfied: urllib3<1.25,>=1.21.1 in /Users/katz/.local/lib/python3.7/site-packages/urllib3-1.24.3-py3.7.egg (from requests==2.21.0->debater-python-api===3.5.8.RELEASE) (1.24.3)\n",
      "Requirement already satisfied: scikit-learn in /Users/katz/.local/lib/python3.7/site-packages/scikit_learn-0.24.2-py3.7-macosx-10.9-x86_64.egg (from sklearn==0.0->debater-python-api===3.5.8.RELEASE) (0.24.2)\n",
      "Requirement already satisfied: blis<0.5.0,>=0.4.0 in /Users/katz/.local/lib/python3.7/site-packages/blis-0.4.1-py3.7-macosx-10.7-x86_64.egg (from spacy==2.2.1->debater-python-api===3.5.8.RELEASE) (0.4.1)\n",
      "Requirement already satisfied: cymem<2.1.0,>=2.0.2 in /Users/katz/.local/lib/python3.7/site-packages/cymem-2.0.5-py3.7-macosx-10.7-x86_64.egg (from spacy==2.2.1->debater-python-api===3.5.8.RELEASE) (2.0.5)\n",
      "Requirement already satisfied: murmurhash<1.1.0,>=0.28.0 in /Users/katz/.local/lib/python3.7/site-packages/murmurhash-1.0.5-py3.7-macosx-10.7-x86_64.egg (from spacy==2.2.1->debater-python-api===3.5.8.RELEASE) (1.0.5)\n",
      "Requirement already satisfied: plac<1.0.0,>=0.9.6 in /Users/katz/.local/lib/python3.7/site-packages/plac-0.9.6-py3.7.egg (from spacy==2.2.1->debater-python-api===3.5.8.RELEASE) (0.9.6)\n",
      "Requirement already satisfied: preshed<3.1.0,>=3.0.2 in /Users/katz/.local/lib/python3.7/site-packages/preshed-3.0.5-py3.7-macosx-10.7-x86_64.egg (from spacy==2.2.1->debater-python-api===3.5.8.RELEASE) (3.0.5)\n",
      "Requirement already satisfied: srsly<1.1.0,>=0.1.0 in /Users/katz/.local/lib/python3.7/site-packages/srsly-1.0.5-py3.7-macosx-10.7-x86_64.egg (from spacy==2.2.1->debater-python-api===3.5.8.RELEASE) (1.0.5)\n",
      "Requirement already satisfied: thinc<7.2.0,>=7.1.1 in /Users/katz/.local/lib/python3.7/site-packages/thinc-7.1.1-py3.7-macosx-10.7-x86_64.egg (from spacy==2.2.1->debater-python-api===3.5.8.RELEASE) (7.1.1)\n",
      "Requirement already satisfied: wasabi<1.1.0,>=0.2.0 in /Users/katz/.local/lib/python3.7/site-packages/wasabi-0.8.2-py3.7.egg (from spacy==2.2.1->debater-python-api===3.5.8.RELEASE) (0.8.2)\n",
      "Requirement already satisfied: six in /Users/katz/anaconda3/lib/python3.7/site-packages (from cycler>=0.10->matplotlib==3.0.3->debater-python-api===3.5.8.RELEASE) (1.15.0)\n",
      "Requirement already satisfied: tqdm<5.0.0,>=4.10.0 in /Users/katz/anaconda3/lib/python3.7/site-packages (from thinc<7.2.0,>=7.1.1->spacy==2.2.1->debater-python-api===3.5.8.RELEASE) (4.59.0)\n",
      "Requirement already satisfied: pytz>=2017.3 in /Users/katz/anaconda3/lib/python3.7/site-packages (from pandas->debater-python-api===3.5.8.RELEASE) (2021.1)\n",
      "Requirement already satisfied: joblib>=0.11 in /Users/katz/anaconda3/lib/python3.7/site-packages (from scikit-learn->sklearn==0.0->debater-python-api===3.5.8.RELEASE) (1.0.1)\n",
      "Requirement already satisfied: scipy>=0.19.1 in /Users/katz/.local/lib/python3.7/site-packages/scipy-1.6.3-py3.7-macosx-10.9-x86_64.egg (from scikit-learn->sklearn==0.0->debater-python-api===3.5.8.RELEASE) (1.6.3)\n",
      "Requirement already satisfied: threadpoolctl>=2.0.0 in /Users/katz/anaconda3/lib/python3.7/site-packages (from scikit-learn->sklearn==0.0->debater-python-api===3.5.8.RELEASE) (2.1.0)\n",
      "Building wheels for collected packages: debater-python-api\n",
      "  Building wheel for debater-python-api (setup.py) ... \u001b[?25ldone\n",
      "\u001b[?25h  Created wheel for debater-python-api: filename=debater_python_api-3.5.8.RELEASE-py3-none-any.whl size=87347 sha256=610f85b95c2805f573f09db8e1c57720afcf2581ec2466e2a02cb6a67bce340b\n",
      "  Stored in directory: /private/var/folders/jg/w_b1r4z113v36vwhx9d2d8k05zj9c7/T/pip-ephem-wheel-cache-bx0gj4c6/wheels/db/e1/a3/c5cc10ec08b93503cc9641e791cfdc9e53a6426cca12e9fb8b\n",
      "\u001b[33m  WARNING: Built wheel for debater-python-api is invalid: Metadata 1.2 mandates PEP 440 version, but '3.5.8.RELEASE' is not\u001b[0m\n",
      "Failed to build debater-python-api\n",
      "Installing collected packages: debater-python-api\n",
      "  Attempting uninstall: debater-python-api\n",
      "    Found existing installation: debater-python-api 3.5.8.RELEASE\n",
      "    Uninstalling debater-python-api-3.5.8.RELEASE:\n",
      "      Successfully uninstalled debater-python-api-3.5.8.RELEASE\n",
      "    Running setup.py install for debater-python-api ... \u001b[?25ldone\n",
      "\u001b[33m  DEPRECATION: debater-python-api was installed using the legacy 'setup.py install' method, because a wheel could not be built for it. A possible replacement is to fix the wheel build issue reported above. You can find discussion regarding this at https://github.com/pypa/pip/issues/8368.\u001b[0m\n",
      "\u001b[?25hSuccessfully installed debater-python-api-3.5.8.RELEASE\n"
     ]
    }
   ],
   "source": [
    "print('Install Early-Access-Program SDK:')\n",
    "!wget -P . https://early-access-program.debater.res.ibm.com/sdk/python_api.tar.gz\n",
    "!tar -xvf python_api.tar.gz\n",
    "!cd python_api ; pip install .\n",
    "!rm -f python_api.tar.gz*\n"
   ]
  },
  {
   "cell_type": "markdown",
   "metadata": {},
   "source": [
    "### Initialize the Debater API \n",
    "\n",
    "The next segment initializes the Debater API.  It assumes the DEBATER_API_KEY environment variable was set with the Project Debater Early Access Program API key, before the notebook was loaded."
   ]
  },
  {
   "cell_type": "code",
   "execution_count": 5,
   "metadata": {},
   "outputs": [],
   "source": [
    "# (C) Copyright IBM Corp. 2020.\n",
    "import os\n",
    "from debater_python_api.api.clients.narrative_generation_client import Polarity\n",
    "from debater_python_api.api.debater_api import DebaterApi\n",
    "api_key = os.environ['DEBATER_API_KEY']\n",
    "debater_api = DebaterApi(api_key)"
   ]
  },
  {
   "cell_type": "markdown",
   "metadata": {},
   "source": [
    "The following are some utility functions to pretty print results."
   ]
  },
  {
   "cell_type": "code",
   "execution_count": 6,
   "metadata": {},
   "outputs": [],
   "source": [
    "from IPython.core.display import HTML,display\n",
    "import math\n",
    "def print_candidates(title,candidates,fields = None):\n",
    "    display(HTML('<h2>'+title+'</h2>'))\n",
    "    print('Number of candidates: {}'.format(len(candidates)))\n",
    "    html = \"<table>\"\n",
    "    html += \"<tr>\"\n",
    "    if fields == None:\n",
    "        fields = candidates[0]\n",
    "    for field in fields:\n",
    "       html += \"<td><p style=\\\"text-align:left;\\\">%s</p></td>\"%(field)\n",
    "    html += \"</tr>\"\n",
    "\n",
    "    for row in candidates:\n",
    "        html += \"<tr>\"\n",
    "        for field in fields:\n",
    "            html += \"<td><p style=\\\"text-align:left;\\\">%s</p></td>\"%(row[field])\n",
    "        html += \"</tr>\"\n",
    "    html += \"</table>\"\n",
    "    display(HTML(html))     \n",
    "\n",
    "def print_top_by_function(title,candidates,function, n = 20, fields = None):\n",
    "    sorted_candidates = sorted(candidates, key=function)[0:n]\n",
    "    print_candidates(title,sorted_candidates,fields)\n",
    "    \n",
    "    "
   ]
  },
  {
   "cell_type": "markdown",
   "metadata": {},
   "source": [
    "### Retrieve from Wikipedia\n",
    "\n",
    "First, we use Index Searcher service to retrieve arguments relevant to topic.  We perform two queries to retrieve sentences.  The first query returns sentences that return sentences that contain the word 'that' followed by the main concept of the topic.  For example, \"Classics experts ... concluding ... THAT ... in the ROMAN EMPIRE...\". The second query returns sentences that contain the main concept followed by a sentiment or causility word from a prepared lexicon. For example, \"The ROMAN EMPIRE had an IMMENSE impact on...\""
   ]
  },
  {
   "cell_type": "code",
   "execution_count": 37,
   "metadata": {},
   "outputs": [
    {
     "name": "stdout",
     "output_type": "stream",
     "text": [
      "'that' followed by Roman Empire appears 1589 times. \n",
      "Roman Empire followed by sentiment or causality word appears 8472 times. \n"
     ]
    }
   ],
   "source": [
    "from debater_python_api.api.sentence_level_index.client.sentence_query_base import SimpleQuery\n",
    "from debater_python_api.api.sentence_level_index.client.sentence_query_request import SentenceQueryRequest\n",
    "searcher = debater_api.get_index_searcher_client()\n",
    "candidates = set()\n",
    "query_size=10000\n",
    "query = SimpleQuery(is_ordered=True, window_size=12)\n",
    "query.add_normalized_element(['that'])\n",
    "query.add_concept_element([dc])\n",
    "query_request = SentenceQueryRequest(query=query.get_sentence_query(), size=query_size, sentenceLength=(7, 60))\n",
    "results = searcher.run(query_request)\n",
    "print(\"'that' followed by {} appears {} times. \".format(dc,len(results)))\n",
    "candidates.update(results)\n",
    "\n",
    "  \n",
    "query = SimpleQuery(is_ordered=False, window_size=12)\n",
    "query.add_concept_element([dc])\n",
    "query.add_type_element(['Causality', 'Sentiment'])\n",
    "query_request = SentenceQueryRequest(query=query.get_sentence_query(), size=query_size, sentenceLength=(7, 60))\n",
    "results = searcher.run(query_request)\n",
    "print(\"{} followed by sentiment or causality word appears {} times. \".format(dc,len(results)))\n",
    "candidates.update(results)\n",
    "\n",
    "texts = ([ { 'news_content': c, 'news_title' : c, 'id' : c } for c in candidates ])\n",
    "\n"
   ]
  },
  {
   "cell_type": "markdown",
   "metadata": {},
   "source": [
    "Save the results to file."
   ]
  },
  {
   "cell_type": "code",
   "execution_count": 14,
   "metadata": {},
   "outputs": [],
   "source": [
    "import json\n",
    "with open(articles_filename, 'w') as outfile:\n",
    "    json.dump(texts, outfile)  \n",
    " "
   ]
  },
  {
   "cell_type": "markdown",
   "metadata": {},
   "source": [
    "### Read the articles from the saved file"
   ]
  },
  {
   "cell_type": "markdown",
   "metadata": {},
   "source": [
    "Next we, read the articles from the saved file in json format, split into to sentences, and create an html snippet which includes the sentence, the surrounding context and the article's title.  We also remove duplicate sentences."
   ]
  },
  {
   "cell_type": "code",
   "execution_count": 15,
   "metadata": {},
   "outputs": [
    {
     "name": "stdout",
     "output_type": "stream",
     "text": [
      "Number of removed duplicates: 65\n",
      "Total number of sentences remaining: 9473\n"
     ]
    }
   ],
   "source": [
    "import json\n",
    "with open(articles_filename, \"r\") as read_file:\n",
    "    data = json.load(read_file)\n",
    "\n",
    "from spacy.lang.en import English # updated\n",
    "import re\n",
    "nlp = English()\n",
    "\n",
    "all_sentences = []\n",
    "hashed_sentences = {}\n",
    "total_sentences = 0\n",
    "nlp.max_length = 1000000000\n",
    "nlp.add_pipe(nlp.create_pipe('sentencizer')) # updated\n",
    "for hit in data:\n",
    "    doc_id = hit['id']\n",
    "    doc_text = hit['news_content']\n",
    "    doc_title = hit['news_title']\n",
    "    doc = nlp(doc_text)\n",
    "    prev = {'text' : '', 'html':''}\n",
    "    for (i,sent) in enumerate(doc.sents):\n",
    "        total_sentences += 1\n",
    "        text = sent.string.strip()\n",
    "        hash_of_text = hash(text)\n",
    "        if hash_of_text in hashed_sentences:\n",
    "            continue\n",
    "        hashed_sentences[hash_of_text] = True    \n",
    "        sentence_entry = { 'doc_id': doc_id , 'line' : i , 'text': text , 'prev': prev['text'] }\n",
    "        sentence_entry['wordcount'] = len(re.findall(r'\\w+', sentence_entry['text']))\n",
    "        prev[ 'next' ] = sentence_entry['text']\n",
    "        sentence_entry[ 'html'] = sentence_entry['prev'] + '<b><br>' + sentence_entry['text'] + '</b><br>' \n",
    "        prev[ 'html' ] += sentence_entry['text']\n",
    "        prev = sentence_entry\n",
    "        all_sentences.append(sentence_entry)\n",
    "    sentence_entry['next'] = ''      \n",
    "print('Number of removed duplicates: {}'.format(total_sentences - len(all_sentences)))\n",
    "print('Total number of sentences remaining: {}'.format(len(all_sentences)))\n",
    "\n"
   ]
  },
  {
   "cell_type": "markdown",
   "metadata": {},
   "source": [
    "We now filter sentences that contain the main concept using a regular expression. We also remove sentences that are too long.\n"
   ]
  },
  {
   "cell_type": "code",
   "execution_count": null,
   "metadata": {},
   "outputs": [],
   "source": [
    "import re\n",
    "all_candidates = [sent for sent in all_sentences  if re.search(dc_re,sent['text'],re.IGNORECASE) and sent['wordcount'] < max_sentence_length]\n",
    "print('Total number of sentences containing the topic:' + str(len(all_candidates)))\n"
   ]
  },
  {
   "cell_type": "markdown",
   "metadata": {},
   "source": [
    "We print some random example candidates.  We can see most are not argumentative."
   ]
  },
  {
   "cell_type": "code",
   "execution_count": 38,
   "metadata": {},
   "outputs": [
    {
     "data": {
      "text/html": [
       "<h2>Example candidates</h2>"
      ],
      "text/plain": [
       "<IPython.core.display.HTML object>"
      ]
     },
     "metadata": {},
     "output_type": "display_data"
    },
    {
     "name": "stdout",
     "output_type": "stream",
     "text": [
      "Number of candidates: 100\n"
     ]
    },
    {
     "data": {
      "text/html": [
       "<table><tr><td><p style=\"text-align:left;\">html</p></td></tr><tr><td><p style=\"text-align:left;\"><b><br>Christianity eventually became the dominant religion of the Roman Empire, and Zeus decided that the Olympian gods would break most of their ties with Earth, except for Poseidon, who would continue to watch over his worshippers in Atlantis.</b><br></p></td></tr><tr><td><p style=\"text-align:left;\"><b><br>Within the \"tale\" sections of the book, Peter, Martin, and Jack fall into bad company (becoming the official religion of the Roman empire) and begin altering their coats (faith) by adding ornaments.</b><br></p></td></tr><tr><td><p style=\"text-align:left;\"><b><br>In the 1951 film Quo Vadis, Nero's repeated use of the salute at mass rallies explicitly presents the Roman Empire as a Fascist military state [REF].</b><br></p></td></tr><tr><td><p style=\"text-align:left;\"><b><br>Europe has about 225 indigenous languages,[REF] mostly falling within three Indo-European language groups: the Romance languages, derived from the Latin of the Roman Empire; the Germanic languages, whose ancestor language came from southern Scandinavia; and the Slavic languages [REF].</b><br></p></td></tr><tr><td><p style=\"text-align:left;\"><b><br>zemenyei road to the remains of the highway, built by the Roman Empire from Rome Arrabonáig, that today's Gyor.</b><br></p></td></tr><tr><td><p style=\"text-align:left;\"><b><br>Not long after, Wild Geese Gate is threatened by a legion from the Roman Empire in need of water and supplies, among which is a blind boy named Publius (Jozef Waite).</b><br></p></td></tr><tr><td><p style=\"text-align:left;\"><b><br>Archaeological finds have revealed that Empoli was already settled in the early Roman Empire times, and continued to exist until the 4th century AD.</b><br></p></td></tr><tr><td><p style=\"text-align:left;\"><b><br>This opened the Silk Road and led to the appearance of Chinese silk in the Roman Empire.</b><br></p></td></tr><tr><td><p style=\"text-align:left;\"><b><br>Historically, master morality was defeated, as the slave morality of Judaism and Christianity spread throughout the Roman Empire.</b><br></p></td></tr><tr><td><p style=\"text-align:left;\"><b><br>The Ottomans were one of the first states to maintain a standing army in Europe since the Roman Empire.</b><br></p></td></tr><tr><td><p style=\"text-align:left;\"><b><br>These innovations fixed the Roman Empire's basic governance structures for two centuries.</b><br></p></td></tr><tr><td><p style=\"text-align:left;\"><b><br>Frankish rulers followed this practice mainly to increase their influence across larger areas of land in the wake of the Roman empire's collapse.</b><br></p></td></tr><tr><td><p style=\"text-align:left;\"><b><br>Selamselae also known as Selemselitanus and Selamselae is a suppressed titular see of the Roman Catholic Church,[REF][REF] It is under the jurisdiction of Archdiocese of Carthage and was active through the Vandal and Roman Empires [REF].</b><br></p></td></tr><tr><td><p style=\"text-align:left;\"><b><br>The Meditations of Marcus Aurelius, on the other hand, can be best thought of as the philosophical reflections of an emperor divided between his philosophical aspirations and the duty he felt to defend the Roman Empire from its external enemies through his various military campaigns.</b><br></p></td></tr><tr><td><p style=\"text-align:left;\"><b><br>The Holy Roman Empire, of course, never came anywhere near ruling the vast territories that the Roman Empire ruled.</b><br></p></td></tr><tr><td><p style=\"text-align:left;\"><b><br>In July 1461, with Salmeniko now isolated and surrounded and, as the last garrison of the Roman Empire, no hope of relief, Graitzas, leading a sortie of the remaining garrison, escaped the besiegers and sought refuge in the Venetian fortress of Lepanto (modern Naupactus).</b><br></p></td></tr><tr><td><p style=\"text-align:left;\"><b><br>In ancient times, the Sambre and Meuse valley was an important industrial area in the Roman Empire.</b><br></p></td></tr><tr><td><p style=\"text-align:left;\"><b><br>In 293 AD the emperor Diocletian radically reformed the administrative structure of the Roman empire.</b><br></p></td></tr><tr><td><p style=\"text-align:left;\"><b><br>The crowning of the Emperor by the Pope led to the assumption that the highest power was the papal hierarchy, quintessential Roman Empire's spiritual heritage authority, establishing then, until the Protestant Reformation, the civilization of West Christendom.</b><br></p></td></tr><tr><td><p style=\"text-align:left;\"><b><br>Originally (as dux in the Roman Empire) they were provincial governors, later becoming the highest-ranking nobles and military commanders after the king.</b><br></p></td></tr><tr><td><p style=\"text-align:left;\"><b><br>According to Willi Wegewitz the Tangendorf disc brooch is one of the most magnificent brooches of the period of the Roman Empire from northern Germany and Scandinavia [REF].</b><br></p></td></tr><tr><td><p style=\"text-align:left;\"><b><br>The Naples National Archaeological Museum is one of the main museums, considered one of the most important for artifacts of the Roman Empire in the world [REF].</b><br></p></td></tr><tr><td><p style=\"text-align:left;\"><b><br>\"We are a great imperial Republic, destined to exercise a controlling influence upon the actions of mankind and to affect the future of the world as the world was never affected, even by the Roman Empire.</b><br>\"[REF][REF] .</p></td></tr><tr><td><p style=\"text-align:left;\"><b><br>Cerme edits on a variety of topics such as politics of the Roman Empire and Brazil, and has no edits on the Portuguese wiki.</b><br></p></td></tr><tr><td><p style=\"text-align:left;\"><b><br>What about Comparison between Roman Empire and modern Uruguay?</b><br></p></td></tr><tr><td><p style=\"text-align:left;\"><b><br>Although the most powerful individual in the Roman Empire, Augustus wished to embody the spirit of Republican virtue and norms.</b><br></p></td></tr><tr><td><p style=\"text-align:left;\"><b><br>As they approached the Black Sea and conquered the Ostrogoths, they also drove the Visigoths across the Danube into the Roman Empire and caused the crisis that led to the astounding defeat of the Roman army under the Emperor Valens near Adrianople (Edirne) in 378 AD.</b><br></p></td></tr><tr><td><p style=\"text-align:left;\"><b><br>As a whole it is extremely valuable, constituting the foundation of modern understanding of the history of the fourth century Roman Empire.</b><br></p></td></tr><tr><td><p style=\"text-align:left;\"><b><br>The honesta missio was the honorable discharge from the military service in the Roman Empire.</b><br></p></td></tr><tr><td><p style=\"text-align:left;\"><b><br>I believe Libya corresponded roughly the coast of modern Libya as well as western Egypt (beyond the area flooded by the Nile), while Africa, at least in the Roman Empire, corresponded more to modern Tunisia and Algeria.</b><br></p></td></tr><tr><td><p style=\"text-align:left;\"><b><br>Nonetheless, \"the shepherd must have been the picture most frequently found in [Christian] places of worship before Constantine,\"[REF] as the most common of the symbolic depictions of Jesus used during the persecution of Christians under the Roman Empire, when Early Christian art was necessarily furtive and ambiguous.</b><br></p></td></tr><tr><td><p style=\"text-align:left;\"><b><br>The timeline of the game will span from 304 AUC and include the period of the establishment of the Roman Empire.</b><br></p></td></tr><tr><td><p style=\"text-align:left;\"><b><br>That part of the territory of modern Germany that lay east of the Rhine remained outside the Roman Empire.</b><br></p></td></tr><tr><td><p style=\"text-align:left;\"><b><br>The chief difference is that in the case of the Roman Empire the transformations took place over centuries, whereas in the British case events can be telescoped into the half century between about 1900 and 1950.</b><br></p></td></tr><tr><td><p style=\"text-align:left;\"><b><br>Cursus publicus was the courier service of the Roman Empire.</b><br></p></td></tr><tr><td><p style=\"text-align:left;\"><b><br>This was an affectation of urban aristocrats playing at being old-fashioned virtuous Roman farmers, it has been said that the economic independence of later rural villas was a symptom of the increasing economic fragmentation of the Roman Empire.</b><br></p></td></tr><tr><td><p style=\"text-align:left;\"><b><br>Some scholars specifically point to Vologases I, a Parthian shah who clashed with the Roman Empire and won one significant battle in 62 AD [REF].</b><br></p></td></tr><tr><td><p style=\"text-align:left;\"><b><br>Examples are the Roman Empire, the Incan empire, the Mongolian expansion across Asia, etc.</b><br></p></td></tr><tr><td><p style=\"text-align:left;\"><b><br>Claudius, the fourth Roman Emperor of the Julio-Claudian dynasty, ruled the Roman Empire following Caligula's death in AD 41 until his death in AD 54.</b><br></p></td></tr><tr><td><p style=\"text-align:left;\"><b><br>The eastern part of the Roman Empire understood how important Classe was as a military port.</b><br></p></td></tr><tr><td><p style=\"text-align:left;\"><b><br>It remains a vacant titular bishopric[REF] from the Roman Empire.</b><br></p></td></tr><tr><td><p style=\"text-align:left;\"><b><br>The name survived the Roman Empire and has continued to be used, in various forms, into modern times [REF].</b><br></p></td></tr><tr><td><p style=\"text-align:left;\"><b><br>Hatra became an important fortified frontier city and withstood repeated attacks by the Roman Empire, and played an important role in the Second Parthian War.</b><br></p></td></tr><tr><td><p style=\"text-align:left;\"><b><br>He says that during the Roman Empire if a white rat crosses your path, it brought good luck, while if a black rat crosses your path, it brought bad luck.</b><br></p></td></tr><tr><td><p style=\"text-align:left;\"><b><br>A migrating form of political was a natural ingredient in the feudalism that succeeded the more centralized Roman Empire of old.</b><br></p></td></tr><tr><td><p style=\"text-align:left;\"><b><br>Tranquillitas seems to be related to Annona (the goddess of the corn harvest from Egypt) and Securitas, implying reference to the peaceful security of the Roman Empire.</b><br></p></td></tr><tr><td><p style=\"text-align:left;\"><b><br>In the early Roman Empire, Corinna's poetry was popular:[REF] the earliest mention of Corinna is by the first century BC poet Antipater of Thessalonica, who includes her in his selection of nine \"mortal muses\".</b><br></p></td></tr><tr><td><p style=\"text-align:left;\"><b><br>In 1938, Franz Altheim and his research partner Erika Trautmann requested the Ahnenerbe sponsor their Middle East trek to study an internal power struggle of the Roman Empire, which they believed was fought between the Nordic and Semitic peoples.</b><br></p></td></tr><tr><td><p style=\"text-align:left;\"><b><br>The legalization of Christianity by the Roman Empire in 313 gave Anthony a greater resolve to go out into the desert.</b><br></p></td></tr><tr><td><p style=\"text-align:left;\"><b><br>Greek influence was only reinforced after the First Punic War, when Malta was annexed to the Roman Republic, later becoming part of the Roman Empire alongside Roman Greece.</b><br></p></td></tr><tr><td><p style=\"text-align:left;\"><b><br>The area has seen conflict since the time of the Roman Empire.</b><br></p></td></tr><tr><td><p style=\"text-align:left;\"><b><br>It might be of some interest for people to note that the Roman Empire, as political institution, 'evolved', so to speak, over a lengthy period of time.</b><br></p></td></tr><tr><td><p style=\"text-align:left;\"><b><br>Traditionally, historians had dated the Middle Ages from the fall of the Western Roman Empire in the 5th century, a theory Edward Gibbon famously put forward in the 18th century, and which is inexorably linked to the supposition of a Roman \"decline\" from a previous classic ideal.</b><br></p></td></tr><tr><td><p style=\"text-align:left;\"><b><br>He was a Roman senator and consul (chief-magistrate) who played a critical role in the transformation of the Roman Republic into the Roman Empire.</b><br></p></td></tr><tr><td><p style=\"text-align:left;\"><b><br>It seems quite clear that whether or not the Byzantine Empire is the One True Roman Empire is a matter of definition rather than debate.</b><br></p></td></tr><tr><td><p style=\"text-align:left;\"><b><br>Its festivals and rites were so popular that the site became an architectural model for sanctuaries to the Egyptian gods throughout the Roman Empire.</b><br></p></td></tr><tr><td><p style=\"text-align:left;\"><b><br>In Israel, Lag Ba'Omer is associated with the Bar Kokhba revolt against the Roman Empire.</b><br></p></td></tr><tr><td><p style=\"text-align:left;\"><b><br>9 BC: Pannonia annexed to the Roman empire by the future emperor Tiberius\n",
       "8 BC: Wang Mang becomes head of the Chinese armed forces and administration.</b><br></p></td></tr><tr><td><p style=\"text-align:left;\"><b><br>Unlike many of the would-be emperors and rebels who vied for imperial power during the Crisis of the Third Century of the Roman Empire, Valerian was of a noble and traditional senatorial family.</b><br></p></td></tr><tr><td><p style=\"text-align:left;\"><b><br>The population of Germania Inferior reduced significantly in late Roman times, as new waves of Germanic tribes raided, and the Roman empire lost military control.</b><br></p></td></tr><tr><td><p style=\"text-align:left;\"><b><br>Several states claimed to be the Roman Empire's successors after the fall of the Western Roman Empire.</b><br></p></td></tr><tr><td><p style=\"text-align:left;\"><b><br>The setting is Mamertine Prison in Rome where Paul has been imprisoned because he has been deemed a threat to the Roman Empire.</b><br></p></td></tr><tr><td><p style=\"text-align:left;\"><b><br>Gaius Sallustius Passienus Crispus was a prominent figure in the Roman Empire during the first century.</b><br></p></td></tr><tr><td><p style=\"text-align:left;\"><b><br>However, in 133 BC, the Pergamons lost control of the city as it was absorbed by the Roman empire [REF].</b><br></p></td></tr><tr><td><p style=\"text-align:left;\"><b><br>To locate its history of religion context, the Arab conquest and the Islamic conversion of the Berbers followed a centuries-long period of religious conflict and polarization of society in the old Roman Empire's Africa Province.</b><br></p></td></tr><tr><td><p style=\"text-align:left;\"><b><br>The initial two games focused on events in Europe and Asia Minor, spanning from the Stone Age to the Classical period; one game explored the formation and expansion of the Roman Empire.</b><br></p></td></tr><tr><td><p style=\"text-align:left;\"><b><br>During the Roman Empire a Roman town called Fallaba was built on the site of Djelfa [REF].</b><br></p></td></tr><tr><td><p style=\"text-align:left;\"><b><br>Before 212 the majority of Roman citizens had been inhabitants of Roman Italia, with about 4-7% of all peoples in the Roman Empire being Roman citizens at the time of the death of Augustus in 14AD.</b><br></p></td></tr><tr><td><p style=\"text-align:left;\"><b><br>A man is shown burying his wealth, hoping to protect it for the future on the hopes the Roman empire will return to Britain.</b><br></p></td></tr><tr><td><p style=\"text-align:left;\"><b><br>417[REF]) was a Desert Mother who was an influential figure in the Christian ascetic movement (the Desert Fathers and Mothers) that sprang up in the generation after the Emperor Constantine made Christianity a legal religion of the Roman Empire.</b><br></p></td></tr><tr><td><p style=\"text-align:left;\"><b><br>Various artifacts, including glassware, excavated from tombs in Silla were similar to those found in the mediterranean part of the Roman Empire showing that exchange did take place between the two extremities of the Steppe road [REF].</b><br></p></td></tr><tr><td><p style=\"text-align:left;\"><b><br>events in the empire) and other categories that relate to the topic of the Roman Empire (biographies, etc).</b><br></p></td></tr><tr><td><p style=\"text-align:left;\"><b><br>The general structure of jurisprudence used today, in many jurisdictions, is the same (trial with a judge, plaintiff, and defendant) as that established during the Roman Empire.</b><br></p></td></tr><tr><td><p style=\"text-align:left;\"><b><br>Though principalities existed in antiquity, even before the height of the Roman Empire, the principality as it is known today developed in the Middle Ages between 750 and 1450 when feudalism was the primary economic and social system in much of Europe.</b><br></p></td></tr><tr><td><p style=\"text-align:left;\"><b><br>:The Roman Empire reached its apogee during the reign of the [[Five Good Emperors]], but by the time of [[Marcus Aurelius]] the signs of future trouble were already evident, achieving full expression in the [[Crisis of the Third Century]].</b><br></p></td></tr><tr><td><p style=\"text-align:left;\"><b><br>In 43 AD, the settlement was conquered by the Roman Empire under Emperor Claudius, who led the attack in person,[REF] building a legionary fortress on the site, the first in Britain [REF].</b><br></p></td></tr><tr><td><p style=\"text-align:left;\"><b><br>The Via Egnatia, that crossed through the mountains of Albania, was at that time among the most important routes of the Roman Empire.</b><br></p></td></tr><tr><td><p style=\"text-align:left;\"><b><br>The castle played a key role due to its location on the easternmost border protecting the Roman Empire [REF].</b><br></p></td></tr><tr><td><p style=\"text-align:left;\"><b><br>.. that during the Roman Empire in Palestine, the road that connected Lydda to Jerusalem passed through Barfiliya?</b><br></p></td></tr><tr><td><p style=\"text-align:left;\"><b><br>The Roman Empire expanded to include different peoples and cultures; in principle, Rome followed the same inclusionist policies that had recognised Latin, Etruscan and other Italian peoples, cults and deities as Roman.</b><br></p></td></tr><tr><td><p style=\"text-align:left;\"><b><br>One theory is that the lateen sail originated during the early Roman empire in the Mediterranean Sea [REF].</b><br></p></td></tr><tr><td><p style=\"text-align:left;\"><b><br>Towards the end of the republic and the beginning of the Roman Empire, the Roman cavalry itself was rendered less and less of a powerful force, with Rome meeting its cavalry needs with auxiliary, allied cavalry instead.</b><br></p></td></tr><tr><td><p style=\"text-align:left;\"><b><br>The Roman Empire - While searching for her lost children, Rapunzel witnessed the birth of an empire, when she found a she-wolf suckling the infant Romulus and Remus [REF].</b><br></p></td></tr><tr><td><p style=\"text-align:left;\"><b><br>Kaunos was christianized at an early date and when the Roman Empire officially adopted the Christian faith, its name changed into Caunos-Hegia.</b><br></p></td></tr><tr><td><p style=\"text-align:left;\"><b><br>The Roman Empire had been repeatedly attacked by invading armies from Northern Europe and in 476, Rome finally fell.</b><br></p></td></tr><tr><td><p style=\"text-align:left;\"><b><br>Here he made a mellifluous speech about the splendour of the Roman Empire at Constantinople.</b><br></p></td></tr><tr><td><p style=\"text-align:left;\"><b><br>The trade that flourished between the Chola country and the ancient Roman Empire is given in much detail by Periplus of the Erythraean Sea (c.</b><br></p></td></tr><tr><td><p style=\"text-align:left;\"><b><br>The classic Diocletianian/Constantinian model, as exemplified by the Notitia Dignitatum, divided the Roman Empire into provinces (in Greek επαρχία, eparchy), which in turn were grouped into dioceses and then into praetorian prefectures.</b><br></p></td></tr><tr><td><p style=\"text-align:left;\"><b><br>Corigliano intended the title and music to reflect the decadence of the ancient Roman Empire with modern entertainment culture [REF].</b><br></p></td></tr><tr><td><p style=\"text-align:left;\"><b><br>The Order of Saint George () is a dynastic order of chivalry and thus house order of the House of Habsburg-Lorraine, the former imperial house of the Holy Roman Empire, Austria and Hungary.</b><br></p></td></tr><tr><td><p style=\"text-align:left;\"><b><br>There is a significant number of sources which claim that the Roman Empire ended in 1453 (and there are also some historians which even claim that \"No Empire fell in 476\").</b><br></p></td></tr><tr><td><p style=\"text-align:left;\"><b><br>When the Roman Empire divided into east and west in 395, the territories of modern Albania became part of the Byzantine Empire.</b><br></p></td></tr><tr><td><p style=\"text-align:left;\"><b><br>The transformation of the Old Republic into the Galactic Empire parallels that of the Roman Republic which transformed into the Roman Empire in the same manner of conspiracy and manipulation.</b><br></p></td></tr><tr><td><p style=\"text-align:left;\"><b><br>The Roman Empire had lost its dominant position.</b><br></p></td></tr><tr><td><p style=\"text-align:left;\"><b><br>It fell to the Roman Republic in AD 196 , and was known as Byzantium until 330, when it was renamed Constantinople and made the new capital of the Roman Empire.</b><br></p></td></tr><tr><td><p style=\"text-align:left;\"><b><br>It has been assumed that when the city of Alba was founded at the beginning of the Roman Empire it was the successor, as often occurred in Gaul, of an earlier city.</b><br></p></td></tr><tr><td><p style=\"text-align:left;\"><b><br>The military history of Italy chronicles a vast time period, lasting from the overthrow of Tarquinius Superbus in 509 BC, through the Roman Empire, Italian unification, and into the modern day.</b><br></p></td></tr><tr><td><p style=\"text-align:left;\"><b><br>It worked for the ancient Roman empire and it is working for modern-day America.</b><br></p></td></tr><tr><td><p style=\"text-align:left;\"><b><br>In 380 Emperor Theodosius I made Christianity the Roman Empire's official religion (see State church of the Roman Empire, Byzantine Empire and the Goths) and did enforce the edict.</b><br></p></td></tr><tr><td><p style=\"text-align:left;\"><b><br>Similarly, the status of the brothers Szentgyörgyi did not change when they were rewarded with the hereditary title count of the Roman Empire in 1459 by Frederick III, Holy Roman Emperor who had been claiming the throne for himself against King Matthias I.</b><br></p></td></tr></table>"
      ],
      "text/plain": [
       "<IPython.core.display.HTML object>"
      ]
     },
     "metadata": {},
     "output_type": "display_data"
    }
   ],
   "source": [
    "print_candidates(\"Example candidates\", all_candidates[0:100], ['html'])"
   ]
  },
  {
   "cell_type": "markdown",
   "metadata": {},
   "source": [
    "### Finding most argumentative statements\n",
    "\n",
    "We now score the candidate sentences' stance toward the topic using the Debater Pro/Con service.  "
   ]
  },
  {
   "cell_type": "code",
   "execution_count": 17,
   "metadata": {},
   "outputs": [
    {
     "name": "stderr",
     "output_type": "stream",
     "text": [
      "ProConClient: 100%|██████████| 4375/4375 [01:23<00:00, 52.12it/s]"
     ]
    }
   ],
   "source": [
    "sentence_topic_dicts = [{'sentence' : sentence['text'], 'topic' : topic } for sentence in all_candidates]\n",
    "pro_con_scores = debater_api.get_pro_con_client().run(sentence_topic_dicts)\n",
    "for sentence, pro_con_score in zip(all_candidates, pro_con_scores):\n",
    "    sentence['procon'] = round(pro_con_score, 3)\n"
   ]
  },
  {
   "cell_type": "markdown",
   "metadata": {},
   "source": [
    "Similarly, we score the candidate sentences according to the Debater Evidence Detection service."
   ]
  },
  {
   "cell_type": "code",
   "execution_count": 18,
   "metadata": {},
   "outputs": [
    {
     "name": "stderr",
     "output_type": "stream",
     "text": [
      "ProConClient: 100%|██████████| 4375/4375 [01:23<00:00, 52.31it/s]\n",
      "EvidenceDetectionClient: 100%|██████████| 4375/4375 [09:16<00:00,  7.72it/s]"
     ]
    }
   ],
   "source": [
    "evidence_scores = debater_api.get_evidence_detection_client().run(sentence_topic_dicts)\n",
    "for sentence, evidence_score in zip(all_candidates, evidence_scores):\n",
    "    sentence['evidence'] = round(evidence_score, 3)\n"
   ]
  },
  {
   "cell_type": "markdown",
   "metadata": {},
   "source": [
    "We now print the top 20 statements that have the highest combination of evidence and stance scores."
   ]
  },
  {
   "cell_type": "code",
   "execution_count": 19,
   "metadata": {},
   "outputs": [
    {
     "data": {
      "text/html": [
       "<h2>Most argumentative</h2>"
      ],
      "text/plain": [
       "<IPython.core.display.HTML object>"
      ]
     },
     "metadata": {},
     "output_type": "display_data"
    },
    {
     "name": "stdout",
     "output_type": "stream",
     "text": [
      "Number of candidates: 20\n"
     ]
    },
    {
     "data": {
      "text/html": [
       "<table><tr><td><p style=\"text-align:left;\">html</p></td><td><p style=\"text-align:left;\">procon</p></td><td><p style=\"text-align:left;\">evidence</p></td></tr><tr><td><p style=\"text-align:left;\"><b><br>Mussolini wanted to re-establish the greatness of the Roman Empire and believed that Italy was the most powerful of the Mediterranean countries after World War I [REF].</b><br></p></td><td><p style=\"text-align:left;\">0.973</p></td><td><p style=\"text-align:left;\">0.851</p></td></tr><tr><td><p style=\"text-align:left;\"><b><br>In the first century BC, the Roman Empire emerged as the dominant power in the Mediterranean Basin and became the leading cultural, political and religious centre of Western civilisation.</b><br></p></td><td><p style=\"text-align:left;\">0.969</p></td><td><p style=\"text-align:left;\">0.832</p></td></tr><tr><td><p style=\"text-align:left;\"><b><br>That, plus the proliferation of Latin throughout the world (filtered through French and English) makes the Roman Empire by far the most successful empire ever.</b><br></p></td><td><p style=\"text-align:left;\">0.984</p></td><td><p style=\"text-align:left;\">0.805</p></td></tr><tr><td><p style=\"text-align:left;\"><b><br>The expansion of the Roman Empire helped to broaden trade patterns and the introduction of the camel as means of transport significantly fostered the spread of imported goods [REF].</b><br></p></td><td><p style=\"text-align:left;\">0.898</p></td><td><p style=\"text-align:left;\">0.887</p></td></tr><tr><td><p style=\"text-align:left;\"><b><br>Classics experts have examined the status of women in the ancient world, concluding that in the Roman Empire, with its superior social organization, internal peace, and rule of law, allowed women to enjoy a somewhat better standing than in ancient Greece, where women were distinctly inferior [REF].</b><br></p></td><td><p style=\"text-align:left;\">0.995</p></td><td><p style=\"text-align:left;\">0.77</p></td></tr><tr><td><p style=\"text-align:left;\"><b><br>For both the Pope and Charlemagne, the Roman Empire remained a significant power in European politics at this time.</b><br></p></td><td><p style=\"text-align:left;\">0.95</p></td><td><p style=\"text-align:left;\">0.811</p></td></tr><tr><td><p style=\"text-align:left;\"><b><br>In 27 BC, Augustus established the Roman Empire and inaugurated the Pax Romana, a period of stability and relative peace in which Italy flourished as the leading political and economic centre of the known world.</b><br></p></td><td><p style=\"text-align:left;\">0.951</p></td><td><p style=\"text-align:left;\">0.764</p></td></tr><tr><td><p style=\"text-align:left;\"><b><br>Ataulf famously declared that he had abandoned his intention to set up a Gothic empire because of the irredeemable barbarity of his followers, and instead he sought to restore the Roman Empire.</b><br></p></td><td><p style=\"text-align:left;\">0.89</p></td><td><p style=\"text-align:left;\">0.821</p></td></tr><tr><td><p style=\"text-align:left;\"><b><br>In contrast with the declining empire theories, historians such as Arnold J. Toynbee and James Burke argue that the Roman Empire itself was a rotten system from its inception, and that the entire Imperial era was one of steady decay of institutions founded in Republican times.</b><br></p></td><td><p style=\"text-align:left;\">-0.984</p></td><td><p style=\"text-align:left;\">0.7</p></td></tr><tr><td><p style=\"text-align:left;\"><b><br>The Roman Empire had an immense impact on the development of viticulture and oenology.</b><br></p></td><td><p style=\"text-align:left;\">0.986</p></td><td><p style=\"text-align:left;\">0.669</p></td></tr><tr><td><p style=\"text-align:left;\"><b><br>Rather than simply adopting the emotional tone of classical works, it has been argued that Steele idealizes the Roman empire as a model for the developing British empire.</b><br></p></td><td><p style=\"text-align:left;\">0.848</p></td><td><p style=\"text-align:left;\">0.801</p></td></tr><tr><td><p style=\"text-align:left;\"><b><br>Sergi noted that the Roman Empire led to the spread of Mediterranean civilization across Europe and thus contemporary European civilization was bound by ancestry to the Mediterranean race [REF].</b><br></p></td><td><p style=\"text-align:left;\">0.833</p></td><td><p style=\"text-align:left;\">0.801</p></td></tr><tr><td><p style=\"text-align:left;\"><b><br>The Roman Empire's well-built aqueducts and cities and sturdy, effective naval fleets, ships and an organized system of paved roads also facilitated fast, easy travel and better networking and trade with neighboring nations and the provinces [REF].</b><br></p></td><td><p style=\"text-align:left;\">0.995</p></td><td><p style=\"text-align:left;\">0.604</p></td></tr><tr><td><p style=\"text-align:left;\"><b><br>MacDonald emphasizes negative public opinion in the Roman empire produced violence and impacted the church's ability to \"evangelize\" [REF].</b><br></p></td><td><p style=\"text-align:left;\">-0.74</p></td><td><p style=\"text-align:left;\">0.851</p></td></tr><tr><td><p style=\"text-align:left;\"><b><br>The Roman Empire contributed greatly to pre-modern Europe, but the rediscovery of ancient Greek writings (mainly thanks to Islamic and Jewish copies) goes hand-in-hand with the origin of the modern era.</b><br></p></td><td><p style=\"text-align:left;\">0.902</p></td><td><p style=\"text-align:left;\">0.655</p></td></tr><tr><td><p style=\"text-align:left;\"><b><br>Under the Roman Empire, wine production grew, becoming more organized.</b><br></p></td><td><p style=\"text-align:left;\">0.962</p></td><td><p style=\"text-align:left;\">0.591</p></td></tr><tr><td><p style=\"text-align:left;\"><b><br>As a Christian Roman emperor, Justinian considered it his divine duty to restore the Roman Empire to its ancient boundaries.</b><br></p></td><td><p style=\"text-align:left;\">0.962</p></td><td><p style=\"text-align:left;\">0.58</p></td></tr><tr><td><p style=\"text-align:left;\"><b><br>The expansion of the Roman Empire made surrounding area safe enough.</b><br></p></td><td><p style=\"text-align:left;\">0.861</p></td><td><p style=\"text-align:left;\">0.673</p></td></tr><tr><td><p style=\"text-align:left;\"><b><br>Later, the Roman Empire kept sheep on a wide scale, and the Romans were an important agent in the spread of sheep raising through much of Europe.</b><br></p></td><td><p style=\"text-align:left;\">0.93</p></td><td><p style=\"text-align:left;\">0.595</p></td></tr><tr><td><p style=\"text-align:left;\"><b><br>For example, the Roman Empire played a vital role in building up barbarian groups along its frontier.</b><br></p></td><td><p style=\"text-align:left;\">0.93</p></td><td><p style=\"text-align:left;\">0.573</p></td></tr></table>"
      ],
      "text/plain": [
       "<IPython.core.display.HTML object>"
      ]
     },
     "metadata": {},
     "output_type": "display_data"
    }
   ],
   "source": [
    "print_top_by_function(\"Most argumentative\",all_candidates,\n",
    "                          function=lambda candidate: -abs(candidate['procon'])-candidate['evidence'],\n",
    "                                                       fields = ['html','procon','evidence'])"
   ]
  },
  {
   "cell_type": "markdown",
   "metadata": {},
   "source": [
    "### Generate narrative\n",
    "\n",
    "We now use the narrative generation service to automatically generate a short supporting narrative for the topic, based on the most argumentative evidence found."
   ]
  },
  {
   "cell_type": "code",
   "execution_count": 33,
   "metadata": {},
   "outputs": [
    {
     "name": "stderr",
     "output_type": "stream",
     "text": [
      "\n",
      "\n",
      "ProConClient:   0%|          | 0/178 [00:00<?, ?it/s]\u001b[A\u001b[A"
     ]
    },
    {
     "name": "stdout",
     "output_type": "stream",
     "text": [
      "Generating speech:\n",
      "Number of sentences passed to speech generation: 178\n"
     ]
    },
    {
     "name": "stderr",
     "output_type": "stream",
     "text": [
      "\n",
      "\n",
      "ProConClient: 100%|██████████| 178/178 [00:01<00:00, 103.44it/s]\u001b[A\u001b[A"
     ]
    },
    {
     "name": "stdout",
     "output_type": "stream",
     "text": [
      "25/07/2021 16:30:44, SpeechResultResponse=60fd6784ed7ca41fdb88a082, motionGenerationid=0, status=RUNNING, started to wait at 25/07/2021 16:30:43\n"
     ]
    },
    {
     "name": "stderr",
     "output_type": "stream",
     "text": [
      "ProConClient: 100%|██████████| 178/178 [05:08<00:00,  1.73s/it] \n",
      "ProConClient: 100%|██████████| 178/178 [00:14<00:00, 12.40it/s] "
     ]
    },
    {
     "name": "stdout",
     "output_type": "stream",
     "text": [
      "\n",
      "\n",
      "Speech:DONE\n",
      "The following speech is based on 178 mined from Wikipedia supporting the notion that The Roman Empire was beneficial to the world. \n",
      "\n",
      "The crowd raised four issues. The first claim is that the Roman Empire played a vital role. In addition, we will hear about politics, regions and effectiveness. \n",
      "\n",
      "Regarding role.  The Romans soon spread east, taking Greece, and the Greek heritage played an important role in the Roman Empire.   For example, the Roman Empire played a vital role in building up barbarian groups along its frontier.   The idea of a Christian empire continued to play a powerful role in Western Europe even after the collapse of Roman rule there; the name of the Holy Roman Empire bears witness to its claims to sanctity as well as to universal rule.  \n",
      "\n",
      "Moving on to politics.  The Roman Empire was among the most powerful economic, cultural, political and military forces in the world of its time, and it was one of the largest empires in world history.   In the first century BC, it emerged as the dominant power in the Mediterranean Basin and became the leading cultural, political and religious centre of Western civilisation.   While Rocker affirmed the former, Spengler considered the Roman Empire's imperial power a model for modern society.  \n",
      "\n",
      "The next issue is regions.  Spain flourished under the Roman empire Hispania, thus becoming one of the Empire's most important regions at the time.   The expansion of trade was made possible by the stability brought to the region by the Roman Empire from the time of Augustus (r.  \n",
      "\n",
      "Finally, effectiveness.  Born out of the partition of the Roman Empire, the Byzantine Empire created an effective military.   The Roman Empire's well-built aqueducts and cities and sturdy, effective naval fleets, ships and an organized system of paved roads also facilitated fast, easy travel and better networking and trade with neighboring nations and the provinces.   The ancient Roman Empire is a historical source, and the cosmopolitan royalty and also nobility were effective in spreading etiquette throughout Europe.  \n",
      "\n",
      "To conclude, with examples from the fields of role, politics, regions and effectiveness, these were the crowd's views supporting the claim that The Roman Empire was beneficial to the world. Thank you for joining.\n"
     ]
    },
    {
     "name": "stderr",
     "output_type": "stream",
     "text": [
      "\n"
     ]
    }
   ],
   "source": [
    "# customize opening statement\n",
    "opening_statement_customization_dict = {\n",
    "    'type' : 'openingStatement',\n",
    "    'items':\n",
    "        [\n",
    "              {\n",
    "                'key': 'Opening_statement',\n",
    "                'value': ' The following speech is based on <NUM_SBC_ARGUMENTS_SUGGESTED> mined from Wikipedia supporting the notion that <MOTION>.',\n",
    "                'itemType' : 'single_string'\n",
    "              },        \n",
    "        ]\n",
    "}\n",
    "\n",
    "print('Generating speech:')\n",
    "\n",
    "sentences = [ sentence['text'] for sentence in all_candidates if sentence['evidence'] > 0.2]\n",
    "print('Number of sentences passed to speech generation: ' + str(len(sentences)))\n",
    "narrative_generation_client = debater_api.get_narrative_generation_client()\n",
    "sentence_topic_dicts = [{'sentence' : sentence, 'topic' : topic } for sentence in sentences]\n",
    "pro_con_scores = debater_api.get_pro_con_client().run(sentence_topic_dicts)\n",
    "speech = narrative_generation_client.run(topic=topic, dc=dc, sentences=sentences,\n",
    "                                         pro_con_scores=pro_con_scores, polarity=Polarity.PRO, \n",
    "                                         customizations=[opening_statement_customization_dict])\n",
    "print('\\n\\nSpeech:' + speech.status)\n",
    "if (speech.status == 'DONE'):\n",
    "    print(speech)\n",
    "else: \n",
    "    print(speech.error_message)\n"
   ]
  },
  {
   "cell_type": "markdown",
   "metadata": {},
   "source": [
    "### Analyze statements per user provided aspects"
   ]
  },
  {
   "cell_type": "markdown",
   "metadata": {},
   "source": [
    "The next step is to extract for each sentence all the wikipedia concepts mentioned in it using the TermWikifier service."
   ]
  },
  {
   "cell_type": "code",
   "execution_count": 21,
   "metadata": {},
   "outputs": [
    {
     "name": "stderr",
     "output_type": "stream",
     "text": [
      "EvidenceDetectionClient: 100%|██████████| 4375/4375 [09:35<00:00,  7.61it/s]\n",
      "TermWikifierClient: 100%|██████████| 4375/4375 [00:36<00:00, 118.75it/s]"
     ]
    },
    {
     "name": "stdout",
     "output_type": "stream",
     "text": [
      "Total number of unique concepts: 5862\n"
     ]
    },
    {
     "name": "stderr",
     "output_type": "stream",
     "text": [
      "\n"
     ]
    }
   ],
   "source": [
    "def add_sentence_mentions(sentences):\n",
    "    term_wikifier_client = debater_api.get_term_wikifier_client()\n",
    "    mentions_list = term_wikifier_client.run([sentence['text'] for sentence in sentences])\n",
    "    for sentence, mentions in zip(sentences, mentions_list):\n",
    "        sentence['mentions'] = set([mention['concept']['title'] for mention in mentions])\n",
    "    all_mentions = set([mention for sentence in sentences for mention in sentence['mentions']])\n",
    "    return set(all_mentions)\n",
    "\n",
    "all_mentions = add_sentence_mentions(all_candidates)    \n",
    "print('Total number of unique concepts: {}'.format(len(all_mentions)))"
   ]
  },
  {
   "cell_type": "markdown",
   "metadata": {},
   "source": [
    "For each aspect, we find all closely related wikipedia concepts (that are mentioned in the given sentences)."
   ]
  },
  {
   "cell_type": "code",
   "execution_count": 22,
   "metadata": {},
   "outputs": [],
   "source": [
    "def get_related_mentions(concept, threshold, mentions):\n",
    "    term_relater_client = debater_api.get_term_relater_client()\n",
    "    concept_mention_pairs = [[concept, mention] for mention in mentions]\n",
    "    scores = term_relater_client.run(concept_mention_pairs)\n",
    "    return [mention for mention, score in zip(all_mentions, scores) if score > threshold]\n"
   ]
  },
  {
   "cell_type": "code",
   "execution_count": 23,
   "metadata": {},
   "outputs": [
    {
     "name": "stderr",
     "output_type": "stream",
     "text": [
      "TermRelaterClient: 100%|██████████| 5862/5862 [00:57<00:00, 102.83it/s]\n",
      "TermRelaterClient:   0%|          | 0/5862 [00:00<?, ?it/s]\u001b[A"
     ]
    },
    {
     "name": "stdout",
     "output_type": "stream",
     "text": [
      "War : ['Wargame', 'Civil war', 'Real-time tactics', 'Peace treaty', 'Marcomannic Wars', 'Gallic Wars', 'Military service', 'Front (military)', 'Military history', 'Combat', 'Victory', 'Military administration', 'German Army', 'Military tactics', 'Declaration of war', 'Military strategy', 'Second Punic War', 'First Punic War', 'Combatant', 'Army', 'Invasion', 'Battle', 'Military campaign', 'Private army', 'Religious war', 'Soldier', 'American Civil War', 'Just war theory', 'Military tradition', 'Ancient Greek warfare', \"Caesar's Civil War\", 'War', 'Artillery', 'Prize of war', 'Prisoner of war', 'Korean War', 'Peace', 'Military history of the United States', 'Violence', 'Illyrian Wars', 'Military organization', 'Military', 'Nuclear weapon', 'Enemy', 'Third Servile War', 'War flag', 'Military threat', 'Strategic goal (military)', \"Fitzpatrick's War\", 'Peloponnesian War', 'Military technology', 'Battlefield', 'Guerrilla warfare', 'Mercenary', 'Peace process', 'Naval warfare', 'Armed', 'Military occupation', 'Insurgency', 'Last war of the Roman Republic', \"Liberators' civil war\", 'Medieval warfare']\n"
     ]
    },
    {
     "name": "stderr",
     "output_type": "stream",
     "text": [
      "\n",
      "TermRelaterClient:   9%|▊         | 500/5862 [00:04<00:51, 103.94it/s]\u001b[A\n",
      "TermRelaterClient:  17%|█▋        | 1000/5862 [00:09<00:48, 99.64it/s]\u001b[A\n",
      "TermRelaterClient: 100%|██████████| 5862/5862 [01:14<00:00, 102.83it/s][A\n",
      "TermRelaterClient:  34%|███▍      | 2000/5862 [00:20<00:39, 98.26it/s]\u001b[A\n",
      "TermRelaterClient:  43%|████▎     | 2500/5862 [00:24<00:33, 101.23it/s]\u001b[A\n",
      "TermRelaterClient:  51%|█████     | 3000/5862 [00:29<00:28, 101.18it/s]\u001b[A\n",
      "TermRelaterClient:  60%|█████▉    | 3500/5862 [00:34<00:23, 102.66it/s]\u001b[A\n",
      "TermRelaterClient:  68%|██████▊   | 4000/5862 [00:39<00:18, 100.75it/s]\u001b[A\n",
      "TermRelaterClient:  77%|███████▋  | 4500/5862 [00:44<00:13, 100.86it/s]\u001b[A\n",
      "TermRelaterClient:  85%|████████▌ | 5000/5862 [00:49<00:08, 99.09it/s] \u001b[A\n",
      "TermRelaterClient:  94%|█████████▍| 5500/5862 [00:54<00:03, 98.87it/s]\u001b[A\n",
      "TermRelaterClient: 100%|██████████| 5862/5862 [00:58<00:00, 99.94it/s]\u001b[A\n",
      "\n",
      "TermRelaterClient:   0%|          | 0/5862 [00:00<?, ?it/s]\u001b[A"
     ]
    },
    {
     "name": "stdout",
     "output_type": "stream",
     "text": [
      "Economy : ['Economic policy', 'Economics', 'Economic system', 'Economic inequality', 'Economic development', 'Economic expansion', 'Economic growth', 'Market (economics)', 'Profit (economics)', 'Economy of Portugal', 'Industry (economics)', 'Capital (economics)', 'Commodity', 'World economy', 'Economy', 'Economic depression', 'Market economy']\n"
     ]
    },
    {
     "name": "stderr",
     "output_type": "stream",
     "text": [
      "\n",
      "TermRelaterClient:   9%|▊         | 500/5862 [00:05<00:56, 95.33it/s]\u001b[A\n",
      "TermRelaterClient:  17%|█▋        | 1000/5862 [00:10<00:49, 97.99it/s]\u001b[A\n",
      "TermRelaterClient:  26%|██▌       | 1500/5862 [00:14<00:43, 101.44it/s]\u001b[A\n",
      "TermRelaterClient:  34%|███▍      | 2000/5862 [00:19<00:37, 103.84it/s]\u001b[A\n",
      "TermRelaterClient:  43%|████▎     | 2500/5862 [00:25<00:33, 99.39it/s] \u001b[A\n",
      "TermRelaterClient:  51%|█████     | 3000/5862 [00:30<00:28, 99.69it/s]\u001b[A\n",
      "TermRelaterClient:  60%|█████▉    | 3500/5862 [00:34<00:23, 100.25it/s]\u001b[A\n",
      "TermRelaterClient:  68%|██████▊   | 4000/5862 [00:39<00:18, 101.02it/s]\u001b[A\n",
      "TermRelaterClient:  77%|███████▋  | 4500/5862 [00:44<00:13, 101.54it/s]\u001b[A\n",
      "TermRelaterClient:  85%|████████▌ | 5000/5862 [00:49<00:08, 100.75it/s]\u001b[A\n",
      "TermRelaterClient:  94%|█████████▍| 5500/5862 [00:54<00:03, 99.90it/s] \u001b[A\n",
      "TermRelaterClient: 100%|██████████| 5862/5862 [00:58<00:00, 97.17it/s]\u001b[A"
     ]
    },
    {
     "name": "stdout",
     "output_type": "stream",
     "text": [
      "Technology : ['Inventor', 'Technology', 'Manufacturing', 'Engineering', 'Scientist', 'Innovation', 'Military technology', 'Science', 'Machine', 'Information technology', 'Computer', 'Invention', 'Massachusetts Institute of Technology', 'Robot']\n"
     ]
    }
   ],
   "source": [
    "matched_mentions = {}\n",
    "for aspect in aspects:\n",
    "    matched_mentions[aspect] = get_related_mentions(aspect, 0.8, all_mentions)\n",
    "    print(aspect,\":\",matched_mentions[aspect])\n",
    "    \n",
    "    "
   ]
  },
  {
   "cell_type": "markdown",
   "metadata": {},
   "source": [
    "We identify for each sentence all related concepts that appear in it for each aspect. "
   ]
  },
  {
   "cell_type": "code",
   "execution_count": 24,
   "metadata": {},
   "outputs": [
    {
     "name": "stderr",
     "output_type": "stream",
     "text": [
      "TermRelaterClient: 100%|██████████| 5862/5862 [00:58<00:00, 99.55it/s]\n"
     ]
    }
   ],
   "source": [
    "for sentence in all_candidates:\n",
    "    for aspect in aspects:\n",
    "        sentence[aspect + '_concepts'] = sentence['mentions'].intersection(matched_mentions[aspect]) \n",
    " "
   ]
  },
  {
   "cell_type": "markdown",
   "metadata": {},
   "source": [
    "\n",
    "We now generate the final output.  We print the top 20 most relevant sentences for each aspect.\n",
    "\n",
    "We first focus on sentences that contain atleast one related concept to the aspect. \n",
    "\n",
    "We then print the top sentences sorted by an aggregated score based on their evidence score, the pro con score, and the number of related concepts in the sentence."
   ]
  },
  {
   "cell_type": "code",
   "execution_count": 25,
   "metadata": {},
   "outputs": [
    {
     "data": {
      "text/html": [
       "<h2>War</h2>"
      ],
      "text/plain": [
       "<IPython.core.display.HTML object>"
      ]
     },
     "metadata": {},
     "output_type": "display_data"
    },
    {
     "name": "stdout",
     "output_type": "stream",
     "text": [
      "Number of candidates: 20\n"
     ]
    },
    {
     "data": {
      "text/html": [
       "<table><tr><td><p style=\"text-align:left;\">html</p></td><td><p style=\"text-align:left;\">procon</p></td><td><p style=\"text-align:left;\">evidence</p></td><td><p style=\"text-align:left;\">War_concepts</p></td></tr><tr><td><p style=\"text-align:left;\"><b><br>Classics experts have examined the status of women in the ancient world, concluding that in the Roman Empire, with its superior social organization, internal peace, and rule of law, allowed women to enjoy a somewhat better standing than in ancient Greece, where women were distinctly inferior [REF].</b><br></p></td><td><p style=\"text-align:left;\">0.995</p></td><td><p style=\"text-align:left;\">0.77</p></td><td><p style=\"text-align:left;\">{'Peace'}</p></td></tr><tr><td><p style=\"text-align:left;\"><b><br>In 27 BC, Augustus established the Roman Empire and inaugurated the Pax Romana, a period of stability and relative peace in which Italy flourished as the leading political and economic centre of the known world.</b><br></p></td><td><p style=\"text-align:left;\">0.951</p></td><td><p style=\"text-align:left;\">0.764</p></td><td><p style=\"text-align:left;\">{'Peace'}</p></td></tr><tr><td><p style=\"text-align:left;\"><b><br>MacDonald emphasizes negative public opinion in the Roman empire produced violence and impacted the church's ability to \"evangelize\" [REF].</b><br></p></td><td><p style=\"text-align:left;\">-0.74</p></td><td><p style=\"text-align:left;\">0.851</p></td><td><p style=\"text-align:left;\">{'Violence'}</p></td></tr><tr><td><p style=\"text-align:left;\"><b><br>The Roman Empire was among the most powerful economic, cultural, political and military forces in the world of its time, and it was one of the largest empires in world history.</b><br></p></td><td><p style=\"text-align:left;\">0.994</p></td><td><p style=\"text-align:left;\">0.436</p></td><td><p style=\"text-align:left;\">{'Military'}</p></td></tr><tr><td><p style=\"text-align:left;\"><b><br>Its regular practice during the Roman Republic and Roman Empire led to military excellence and victory.</b><br></p></td><td><p style=\"text-align:left;\">0.969</p></td><td><p style=\"text-align:left;\">0.119</p></td><td><p style=\"text-align:left;\">{'Victory', 'Military'}</p></td></tr><tr><td><p style=\"text-align:left;\"><b><br>The Roman Empire was among the most powerful economic, cultural, political and military forces in the world of its time.</b><br></p></td><td><p style=\"text-align:left;\">0.994</p></td><td><p style=\"text-align:left;\">0.41</p></td><td><p style=\"text-align:left;\">{'Military'}</p></td></tr><tr><td><p style=\"text-align:left;\"><b><br>In 31 BC, the great naval Battle of Actium ended the civil wars culminating in the final victory of Augustus and the establishment of the Roman Empire.</b><br></p></td><td><p style=\"text-align:left;\">0.766</p></td><td><p style=\"text-align:left;\">0.275</p></td><td><p style=\"text-align:left;\">{'Victory', 'Civil war'}</p></td></tr><tr><td><p style=\"text-align:left;\"><b><br>The Roman Empire, which then ruled over neighbouring southern Britain, represented a very real threat of invasion to Ireland, which may have acted as a spur to the creation of the alphabet.</b><br></p></td><td><p style=\"text-align:left;\">-0.809</p></td><td><p style=\"text-align:left;\">0.551</p></td><td><p style=\"text-align:left;\">{'Invasion'}</p></td></tr><tr><td><p style=\"text-align:left;\"><b><br>During the Crisis of the Third Century the Roman Empire nearly collapsed under the combined pressures of invasions, military anarchy and civil wars, and hyperinflation.</b><br></p></td><td><p style=\"text-align:left;\">-0.62</p></td><td><p style=\"text-align:left;\">0.049</p></td><td><p style=\"text-align:left;\">{'Civil war', 'Military', 'Invasion'}</p></td></tr><tr><td><p style=\"text-align:left;\"><b><br>He increases taxes in order to maintain the war against the Sassanids and strengthen the defenses of the Roman Empire.</b><br></p></td><td><p style=\"text-align:left;\">0.928</p></td><td><p style=\"text-align:left;\">0.06</p></td><td><p style=\"text-align:left;\">{'War', 'Military'}</p></td></tr><tr><td><p style=\"text-align:left;\"><b><br>Nationalist ideology as well as propaganda supporting the Roman Army and military success, bravery, and valor also strengthened the Roman Empire's spread across Western Europe and the Mediterranean Area [REF].</b><br></p></td><td><p style=\"text-align:left;\">0.895</p></td><td><p style=\"text-align:left;\">0.397</p></td><td><p style=\"text-align:left;\">{'Military'}</p></td></tr><tr><td><p style=\"text-align:left;\"><b><br>Born out of the partition of the Roman Empire, the Byzantine Empire created an effective military.</b><br></p></td><td><p style=\"text-align:left;\">0.965</p></td><td><p style=\"text-align:left;\">0.288</p></td><td><p style=\"text-align:left;\">{'Military'}</p></td></tr><tr><td><p style=\"text-align:left;\"><b><br>Raoul McLaughlin stresses that \"as long as international commerce thrived, the Roman Empire could meet these high-level military costs.</b><br></p></td><td><p style=\"text-align:left;\">0.85</p></td><td><p style=\"text-align:left;\">0.393</p></td><td><p style=\"text-align:left;\">{'Military'}</p></td></tr><tr><td><p style=\"text-align:left;\"><b><br>Following this, Antony and Caesar's adopted son Octavius would fight yet another civil war against remnants of the Optimates and Liberatores faction, ultimately resulting in the establishment of the Roman Empire.</b><br></p></td><td><p style=\"text-align:left;\">0.897</p></td><td><p style=\"text-align:left;\">0.01</p></td><td><p style=\"text-align:left;\">{'Civil war', 'Combat'}</p></td></tr><tr><td><p style=\"text-align:left;\"><b><br>According to this argument, internal turmoil in the Roman Empire and the need to withdraw troops to fight off barbarian armies led Rome to abandon Britain.</b><br></p></td><td><p style=\"text-align:left;\">-0.816</p></td><td><p style=\"text-align:left;\">0.023</p></td><td><p style=\"text-align:left;\">{'Army', 'Combat'}</p></td></tr><tr><td><p style=\"text-align:left;\"><b><br>The battle ensured the survival of the Roman Empire for another two centuries.</b><br></p></td><td><p style=\"text-align:left;\">0.869</p></td><td><p style=\"text-align:left;\">0.268</p></td><td><p style=\"text-align:left;\">{'Battle'}</p></td></tr><tr><td><p style=\"text-align:left;\"><b><br>Land promised in advance of military service is called a bounty,[REF] which is a military tradition dating back beyond the Roman Empire, and was a well-established tradition in American military history prior to hostilities in Texas during the revolution.</b><br></p></td><td><p style=\"text-align:left;\">0.124</p></td><td><p style=\"text-align:left;\">0.001</p></td><td><p style=\"text-align:left;\">{'War', 'Military history of the United States', 'Military tradition', 'Military service'}</p></td></tr><tr><td><p style=\"text-align:left;\"><b><br>Augustus expanded the boundaries of the Roman Empire, secured the Empire's borders with client states, and made peace with Parthia through diplomacy.</b><br></p></td><td><p style=\"text-align:left;\">0.902</p></td><td><p style=\"text-align:left;\">0.2</p></td><td><p style=\"text-align:left;\">{'Peace'}</p></td></tr><tr><td><p style=\"text-align:left;\"><b><br>The Byzantine victory later resulted in civil war in Persia and for a period of time restored the Roman empire to its ancient boundaries in the Middle East.</b><br></p></td><td><p style=\"text-align:left;\">0.647</p></td><td><p style=\"text-align:left;\">0.11</p></td><td><p style=\"text-align:left;\">{'Victory', 'Civil war'}</p></td></tr><tr><td><p style=\"text-align:left;\"><b><br>Peace prevailed at this time throughout the Roman Empire.</b><br></p></td><td><p style=\"text-align:left;\">0.902</p></td><td><p style=\"text-align:left;\">0.169</p></td><td><p style=\"text-align:left;\">{'Peace'}</p></td></tr></table>"
      ],
      "text/plain": [
       "<IPython.core.display.HTML object>"
      ]
     },
     "metadata": {},
     "output_type": "display_data"
    },
    {
     "data": {
      "text/html": [
       "<h2>Economy</h2>"
      ],
      "text/plain": [
       "<IPython.core.display.HTML object>"
      ]
     },
     "metadata": {},
     "output_type": "display_data"
    },
    {
     "name": "stdout",
     "output_type": "stream",
     "text": [
      "Number of candidates: 20\n"
     ]
    },
    {
     "data": {
      "text/html": [
       "<table><tr><td><p style=\"text-align:left;\">html</p></td><td><p style=\"text-align:left;\">procon</p></td><td><p style=\"text-align:left;\">evidence</p></td><td><p style=\"text-align:left;\">Economy_concepts</p></td></tr><tr><td><p style=\"text-align:left;\"><b><br>In 27 BC, Augustus established the Roman Empire and inaugurated the Pax Romana, a period of stability and relative peace in which Italy flourished as the leading political and economic centre of the known world.</b><br></p></td><td><p style=\"text-align:left;\">0.951</p></td><td><p style=\"text-align:left;\">0.764</p></td><td><p style=\"text-align:left;\">{'Economy'}</p></td></tr><tr><td><p style=\"text-align:left;\"><b><br>The period of Ancient Greece 4th century B.C. and later of the Roman Empire marks the beginning not only of democracy, but as well as its connection to economic growth.</b><br></p></td><td><p style=\"text-align:left;\">0.979</p></td><td><p style=\"text-align:left;\">0.499</p></td><td><p style=\"text-align:left;\">{'Economic growth'}</p></td></tr><tr><td><p style=\"text-align:left;\"><b><br>The Roman Empire was among the most powerful economic, cultural, political and military forces in the world of its time, and it was one of the largest empires in world history.</b><br></p></td><td><p style=\"text-align:left;\">0.994</p></td><td><p style=\"text-align:left;\">0.436</p></td><td><p style=\"text-align:left;\">{'Economy'}</p></td></tr><tr><td><p style=\"text-align:left;\"><b><br>The Roman Empire was among the most powerful economic, cultural, political and military forces in the world of its time.</b><br></p></td><td><p style=\"text-align:left;\">0.994</p></td><td><p style=\"text-align:left;\">0.41</p></td><td><p style=\"text-align:left;\">{'Economy'}</p></td></tr><tr><td><p style=\"text-align:left;\"><b><br>Deforestation during the Roman period was a result of the geographical expansion of the Roman Empire, with its increased population, large-scale agriculture, and unprecedented economic development.</b><br></p></td><td><p style=\"text-align:left;\">0.825</p></td><td><p style=\"text-align:left;\">0.548</p></td><td><p style=\"text-align:left;\">{'Economic development'}</p></td></tr><tr><td><p style=\"text-align:left;\"><b><br>Institutions of the Roman Empire government failed to meet the moral and economic needs of the citizens, resulting in the conditions that would facilitate political decay and the fall of the Roman state [REF].</b><br></p></td><td><p style=\"text-align:left;\">-0.991</p></td><td><p style=\"text-align:left;\">0.367</p></td><td><p style=\"text-align:left;\">{'Economy'}</p></td></tr><tr><td><p style=\"text-align:left;\"><b><br>In the past, geographically large economic systems existed but were mostly limited to spheres of domination of large empires (such as the Roman Empire); development of capitalism enabled the world economy to extend beyond individual states [REF].</b><br></p></td><td><p style=\"text-align:left;\">0.843</p></td><td><p style=\"text-align:left;\">0.138</p></td><td><p style=\"text-align:left;\">{'Economic system', 'World economy'}</p></td></tr><tr><td><p style=\"text-align:left;\"><b><br>For example, economics played a key role in the Roman Empire.</b><br></p></td><td><p style=\"text-align:left;\">0.854</p></td><td><p style=\"text-align:left;\">0.252</p></td><td><p style=\"text-align:left;\">{'Economics'}</p></td></tr><tr><td><p style=\"text-align:left;\"><b><br>Historian Michael Rostovtzeff and economist Ludwig von Mises both argued that unsound economic policies played a key role in the impoverishment and decay of the Roman Empire.</b><br></p></td><td><p style=\"text-align:left;\">-0.93</p></td><td><p style=\"text-align:left;\">0.154</p></td><td><p style=\"text-align:left;\">{'Economic policy'}</p></td></tr><tr><td><p style=\"text-align:left;\"><b><br>During the classical age, the unification of China and the pacification of the Mediterranean basin by the Roman Empire created vast regional markets in commodities at either end of Eurasia.</b><br></p></td><td><p style=\"text-align:left;\">0.582</p></td><td><p style=\"text-align:left;\">0.097</p></td><td><p style=\"text-align:left;\">{'Commodity', 'Market (economics)'}</p></td></tr><tr><td><p style=\"text-align:left;\"><b><br>Early development was due to a 400-year affiliation with the Roman Empire, especially because of its excellent military, economic and geographic position at the convergence of the Alpine rivers Lech and Wertach, and with direct access to most important Alpine passes.</b><br></p></td><td><p style=\"text-align:left;\">0.941</p></td><td><p style=\"text-align:left;\">0.071</p></td><td><p style=\"text-align:left;\">{'Economy'}</p></td></tr><tr><td><p style=\"text-align:left;\"><b><br>There is a long historical tradition that has collected ample evidence to show that the Roman Empire itself was undergoing profound social, economic, and spiritual changes that were only hastened by the invasions.</b><br></p></td><td><p style=\"text-align:left;\">0.651</p></td><td><p style=\"text-align:left;\">0.294</p></td><td><p style=\"text-align:left;\">{'Economy'}</p></td></tr><tr><td><p style=\"text-align:left;\"><b><br>In many of these cultures slaves formed a very large part of the economy, and in particular the Roman Empire and some of the Greek City-States built a large part of their wealth on slaves acquired through conquest.</b><br></p></td><td><p style=\"text-align:left;\">0.841</p></td><td><p style=\"text-align:left;\">0.04</p></td><td><p style=\"text-align:left;\">{'Economy'}</p></td></tr><tr><td><p style=\"text-align:left;\"><b><br>Then, the Roman Empire took over, some Jews thought this was okay because it gave them free economic access to the entire Mediterranean world, other Jews didn't like this because all Roman citizens where obliged to believe in the Roman pantheon of gods.</b><br></p></td><td><p style=\"text-align:left;\">0.803</p></td><td><p style=\"text-align:left;\">0.047</p></td><td><p style=\"text-align:left;\">{'Economy'}</p></td></tr><tr><td><p style=\"text-align:left;\"><b><br>Syracuse was later extensively rebuilt and repopulated and would be an important city for the Roman empire until well into the 5th century, playing both a military and economic part in the creation of the empire.</b><br></p></td><td><p style=\"text-align:left;\">0.546</p></td><td><p style=\"text-align:left;\">0.299</p></td><td><p style=\"text-align:left;\">{'Economy'}</p></td></tr><tr><td><p style=\"text-align:left;\"><b><br>It has been suggested that this, and the contemporary change in material culture of the Britons (such as the introduction of coinage and cemeteries and an increase in craft industries), was caused by increased interaction with the Roman Empire.</b><br></p></td><td><p style=\"text-align:left;\">0.586</p></td><td><p style=\"text-align:left;\">0.104</p></td><td><p style=\"text-align:left;\">{'Industry (economics)'}</p></td></tr><tr><td><p style=\"text-align:left;\"><b><br>Because of the supply-and-demand economy, citizens possessed an ample supply of coinage, suggesting the existence of a complex market economy surrounding the wine trade of the Roman Empire.</b><br></p></td><td><p style=\"text-align:left;\">0.326</p></td><td><p style=\"text-align:left;\">0.018</p></td><td><p style=\"text-align:left;\">{'Economy', 'Market economy'}</p></td></tr><tr><td><p style=\"text-align:left;\"><b><br>It has its roots prior to nationality, when Roman occupation developed a thriving economy in Hispania, in the provinces of Lusitania and Gallaecia, as producers and exporters to the Roman Empire.</b><br></p></td><td><p style=\"text-align:left;\">0.59</p></td><td><p style=\"text-align:left;\">0.044</p></td><td><p style=\"text-align:left;\">{'Economy'}</p></td></tr><tr><td><p style=\"text-align:left;\"><b><br>During the following period known as the crisis of the Third Century (AD 235-284) the Roman Empire nearly collapsed under the combined pressures of invasion, civil war, plague, and economic depression.</b><br></p></td><td><p style=\"text-align:left;\">-0.618</p></td><td><p style=\"text-align:left;\">0.014</p></td><td><p style=\"text-align:left;\">{'Economic depression'}</p></td></tr><tr><td><p style=\"text-align:left;\"><b><br>The Crisis of the Third Century, also known as Military Anarchy or the Imperial Crisis (AD 235-284), was a period in which the Roman Empire nearly collapsed under the combined pressures of invasion, civil war, plague, and economic depression.</b><br></p></td><td><p style=\"text-align:left;\">-0.574</p></td><td><p style=\"text-align:left;\">0.004</p></td><td><p style=\"text-align:left;\">{'Economic depression'}</p></td></tr></table>"
      ],
      "text/plain": [
       "<IPython.core.display.HTML object>"
      ]
     },
     "metadata": {},
     "output_type": "display_data"
    },
    {
     "data": {
      "text/html": [
       "<h2>Technology</h2>"
      ],
      "text/plain": [
       "<IPython.core.display.HTML object>"
      ]
     },
     "metadata": {},
     "output_type": "display_data"
    },
    {
     "name": "stdout",
     "output_type": "stream",
     "text": [
      "Number of candidates: 20\n"
     ]
    },
    {
     "data": {
      "text/html": [
       "<table><tr><td><p style=\"text-align:left;\">html</p></td><td><p style=\"text-align:left;\">procon</p></td><td><p style=\"text-align:left;\">evidence</p></td><td><p style=\"text-align:left;\">Technology_concepts</p></td></tr><tr><td><p style=\"text-align:left;\"><b><br>Ancient Greek science, philosophy, democracy, architecture, literature, and art provided a foundation embraced and built upon by the Roman Empire as it swept up Europe, including the Hellenic World in its conquests in the 1st century BCE.</b><br></p></td><td><p style=\"text-align:left;\">0.971</p></td><td><p style=\"text-align:left;\">0.458</p></td><td><p style=\"text-align:left;\">{'Science'}</p></td></tr><tr><td><p style=\"text-align:left;\"><b><br>Ancient Greek science, philosophy, democracy, architecture, literature, and art provided a foundation embraced and built upon by the Roman Empire as it swept up Europe, including the Hellenic world in its conquests in the 1st century BC.</b><br></p></td><td><p style=\"text-align:left;\">0.968</p></td><td><p style=\"text-align:left;\">0.457</p></td><td><p style=\"text-align:left;\">{'Science'}</p></td></tr><tr><td><p style=\"text-align:left;\"><b><br>Winemaking technology improved considerably during the time of the Roman Empire.</b><br></p></td><td><p style=\"text-align:left;\">0.856</p></td><td><p style=\"text-align:left;\">0.509</p></td><td><p style=\"text-align:left;\">{'Technology'}</p></td></tr><tr><td><p style=\"text-align:left;\"><b><br>The invention of glassblowing coincided with the establishment of the Roman Empire in the 1st century BC, which enhanced the spread and dominance of this new technology [REF].</b><br></p></td><td><p style=\"text-align:left;\">0.885</p></td><td><p style=\"text-align:left;\">0.368</p></td><td><p style=\"text-align:left;\">{'Technology'}</p></td></tr><tr><td><p style=\"text-align:left;\"><b><br>The Roman Empire was one of the most technologically advanced civilizations of antiquity, with some of the more advanced concepts and inventions forgotten during the turbulent eras of Late Antiquity and the early Middle Ages.</b><br></p></td><td><p style=\"text-align:left;\">0.955</p></td><td><p style=\"text-align:left;\">0.193</p></td><td><p style=\"text-align:left;\">{'Invention'}</p></td></tr><tr><td><p style=\"text-align:left;\"><b><br>Legacy of the Roman Empire - what the Roman Empire passed on, in the form of cultural values, religious beliefs, as well as technological and other achievements, and through which it continued to shape other civilizations, a process which continues to this day.</b><br></p></td><td><p style=\"text-align:left;\">0.953</p></td><td><p style=\"text-align:left;\">0.174</p></td><td><p style=\"text-align:left;\">{'Technology'}</p></td></tr><tr><td><p style=\"text-align:left;\"><b><br>Technological influences spread throughout Europe with the expansion of the Roman empire.</b><br></p></td><td><p style=\"text-align:left;\">0.86</p></td><td><p style=\"text-align:left;\">0.262</p></td><td><p style=\"text-align:left;\">{'Technology'}</p></td></tr><tr><td><p style=\"text-align:left;\"><b><br>The Roman Empire had an advanced set of technology for their time.</b><br></p></td><td><p style=\"text-align:left;\">0.926</p></td><td><p style=\"text-align:left;\">0.136</p></td><td><p style=\"text-align:left;\">{'Technology'}</p></td></tr><tr><td><p style=\"text-align:left;\"><b><br>With the rise of the Roman Empire, technology became more popular than philosophy and the next bio-mechanic arose.</b><br></p></td><td><p style=\"text-align:left;\">0.931</p></td><td><p style=\"text-align:left;\">0.112</p></td><td><p style=\"text-align:left;\">{'Technology'}</p></td></tr><tr><td><p style=\"text-align:left;\"><b><br>These innovations would be combined and adopted under the Roman empire.</b><br></p></td><td><p style=\"text-align:left;\">0.887</p></td><td><p style=\"text-align:left;\">0.111</p></td><td><p style=\"text-align:left;\">{'Innovation'}</p></td></tr><tr><td><p style=\"text-align:left;\"><b><br>The Roman Empire had the most advanced set of technology of their time, some of which may have been lost during the turbulent eras of Late Antiquity and the Early Middle Ages.</b><br></p></td><td><p style=\"text-align:left;\">0.639</p></td><td><p style=\"text-align:left;\">0.068</p></td><td><p style=\"text-align:left;\">{'Technology'}</p></td></tr><tr><td><p style=\"text-align:left;\"><b><br>The Roman empire seemed to lack some technology needed to conquer the entire world, though, like ships capable of crossing oceans safely.</b><br></p></td><td><p style=\"text-align:left;\">-0.653</p></td><td><p style=\"text-align:left;\">0.035</p></td><td><p style=\"text-align:left;\">{'Technology'}</p></td></tr><tr><td><p style=\"text-align:left;\"><b><br>It forms an important link between the natural breakwaters on the Greek and Etruscan ports and the elaborate engineering of man-made harbors of the Roman Empire (such as the Trajanic port at Ostia) [REF].</b><br></p></td><td><p style=\"text-align:left;\">0.656</p></td><td><p style=\"text-align:left;\">0.004</p></td><td><p style=\"text-align:left;\">{'Engineering'}</p></td></tr><tr><td><p style=\"text-align:left;\"><b><br>The manufacture of coins in the Roman Empire, dating from about the 4th century BC, significantly influenced later development of coin minting in Europe.</b><br></p></td><td><p style=\"text-align:left;\">0.6</p></td><td><p style=\"text-align:left;\">0.017</p></td><td><p style=\"text-align:left;\">{'Manufacturing'}</p></td></tr><tr><td><p style=\"text-align:left;\"><b><br>In the subsequent Roman empire, Greek was the primary language of science.</b><br></p></td><td><p style=\"text-align:left;\">0.399</p></td><td><p style=\"text-align:left;\">0.193</p></td><td><p style=\"text-align:left;\">{'Science'}</p></td></tr><tr><td><p style=\"text-align:left;\"><b><br>These roles, and their associations with scientific knowledge, spread with the Roman Empire and, with the spread of Christianity, became closely linked to religious institutions in most of European countries.</b><br></p></td><td><p style=\"text-align:left;\">0.532</p></td><td><p style=\"text-align:left;\">0.026</p></td><td><p style=\"text-align:left;\">{'Science'}</p></td></tr><tr><td><p style=\"text-align:left;\"><b><br>The Lusitanii, a pre-Celtic people dominating the lands west of Iberia (most of modern Portugal and Extremadura) successfully held off the Roman Empire for many years with a variety of innovative tactics and light weapons, including iron-bladed short spears and daggers modeled after Iberian patterns.</b><br></p></td><td><p style=\"text-align:left;\">-0.451</p></td><td><p style=\"text-align:left;\">0.008</p></td><td><p style=\"text-align:left;\">{'Innovation'}</p></td></tr><tr><td><p style=\"text-align:left;\"><b><br>These innovations fixed the Roman Empire's basic governance structures for two centuries; and were the products of pre-285 structures, innovations and competencies being mixed, remolded and adapted over a period 50 years [REF].</b><br></p></td><td><p style=\"text-align:left;\">0.429</p></td><td><p style=\"text-align:left;\">0.027</p></td><td><p style=\"text-align:left;\">{'Innovation'}</p></td></tr><tr><td><p style=\"text-align:left;\"><b><br>These innovations fixed the Roman Empire's basic governance structures for two centuries.</b><br></p></td><td><p style=\"text-align:left;\">0.352</p></td><td><p style=\"text-align:left;\">0.078</p></td><td><p style=\"text-align:left;\">{'Innovation'}</p></td></tr><tr><td><p style=\"text-align:left;\"><b><br>According to Peter N. Stearns, the area was an important centre for iron manufacture for the Roman Empire.</b><br></p></td><td><p style=\"text-align:left;\">0.377</p></td><td><p style=\"text-align:left;\">0.05</p></td><td><p style=\"text-align:left;\">{'Manufacturing'}</p></td></tr></table>"
      ],
      "text/plain": [
       "<IPython.core.display.HTML object>"
      ]
     },
     "metadata": {},
     "output_type": "display_data"
    }
   ],
   "source": [
    "for aspect in aspects:\n",
    "    matched_sentences = [sentence for sentence in all_candidates if len(sentence[aspect + '_concepts']) >= 1]\n",
    "           \n",
    "    for sentence in all_candidates:\n",
    "        sentence['score'] = len(sentence[aspect + '_concepts'])/3 + sentence['evidence'] + abs(sentence['procon'])\n",
    "          \n",
    "    print_top_by_function(aspect,matched_sentences,\n",
    "                          function=lambda candidate: -candidate['score'],\n",
    "                                                       fields = ['html','procon', 'evidence',aspect + '_concepts'])"
   ]
  },
  {
   "cell_type": "code",
   "execution_count": null,
   "metadata": {},
   "outputs": [],
   "source": []
  },
  {
   "cell_type": "code",
   "execution_count": null,
   "metadata": {},
   "outputs": [],
   "source": []
  }
 ],
 "metadata": {
  "kernelspec": {
   "display_name": "Python 3",
   "language": "python",
   "name": "python3"
  },
  "language_info": {
   "codemirror_mode": {
    "name": "ipython",
    "version": 3
   },
   "file_extension": ".py",
   "mimetype": "text/x-python",
   "name": "python",
   "nbconvert_exporter": "python",
   "pygments_lexer": "ipython3",
   "version": "3.7.1"
  }
 },
 "nbformat": 4,
 "nbformat_minor": 2
}
