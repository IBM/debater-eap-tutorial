{
 "cells": [
  {
   "cell_type": "code",
   "execution_count": 1,
   "metadata": {},
   "outputs": [],
   "source": [
    "import csv\n",
    "import random\n",
    "\n",
    "\n",
    "with open('./dataset_austin_sentences.csv') as csv_file:\n",
    "    reader = csv.DictReader(csv_file)\n",
    "    sentences = list(reader)"
   ]
  },
  {
   "cell_type": "code",
   "execution_count": 2,
   "metadata": {},
   "outputs": [
    {
     "name": "stdout",
     "output_type": "stream",
     "text": [
      "There are 3005 sentences in the 2016 survey\n"
     ]
    }
   ],
   "source": [
    "sentences_2016 = [sentence for sentence in sentences if sentence['year'] == '2016']\n",
    "print('There are %d sentences in the 2016 survey' % len(sentences_2016))"
   ]
  },
  {
   "cell_type": "code",
   "execution_count": 3,
   "metadata": {},
   "outputs": [
    {
     "name": "stderr",
     "output_type": "stream",
     "text": [
      "2021-06-24 19:13:30,102 [INFO] keypoints_client.py 214: client calls service (delete): https://keypoint-matching-backend.debater.res.ibm.com/data\n",
      "2021-06-24 19:13:31,207 [INFO] keypoints_client.py 214: client calls service (post): https://keypoint-matching-backend.debater.res.ibm.com/domains\n",
      "2021-06-24 19:13:31,758 [INFO] keypoints_client.py 261: created domain: stance_demo with domain_params: {'dont_split': True, 'do_stance_analysis': True}\n"
     ]
    }
   ],
   "source": [
    "from debater_python_api.api.debater_api import DebaterApi\n",
    "from austin_utils import init_logger\n",
    "import os\n",
    "\n",
    "init_logger()\n",
    "api_key = os.environ['DEBATER_API_KEY']\n",
    "debater_api = DebaterApi(apikey=api_key)\n",
    "keypoints_client = debater_api.get_keypoints_client()\n",
    "domain = 'stance_demo'\n",
    "keypoints_client.delete_domain_cannot_be_undone(domain)\n",
    "keypoints_client.create_domain(domain, {'dont_split': True, 'do_stance_analysis': True})"
   ]
  },
  {
   "cell_type": "code",
   "execution_count": 4,
   "metadata": {},
   "outputs": [
    {
     "name": "stderr",
     "output_type": "stream",
     "text": [
      "ArgumentQualityClient: 100%|█████████▉| 3000/3005 [00:05<00:00, 559.06it/s]2021-06-24 19:13:37,715 [INFO] argument_quality_client.py 24: argument_quality_client.run = 5946.797132492065ms.\n"
     ]
    },
    {
     "name": "stdout",
     "output_type": "stream",
     "text": [
      "Top 10 quality sentences: \n",
      "\t- Affordable housing is essential to keep Austin diverse, welcoming, and growing in the\n",
      "\t  ways that reflect the progressive ideals of this city and the future generations.\n",
      "\t- Austin has a unique charm, with high quality customer service,  and great quality of\n",
      "\t  life that will quickly deteriorate with this rapid urban sprawl.\n",
      "\t- We need to make sure our city continues to be an example across the country for\n",
      "\t  unwavering progress, with regards to energy, policing, fair housing and employment,\n",
      "\t  non-discrimination policy, and creating a sound infrastructure to accommodate the city's\n",
      "\t  rapid growth.\n",
      "\t- We need a coordinated effort by many agencies to find housing, training, rehab,\n",
      "\t  healthcare and work for our homeless.\n",
      "\t- Affordability and diversity (in culture and age groups) are extremely important to\n",
      "\t  keeping Austin the vibrant, egalitarian city it is.\n",
      "\t- KEEP AUSTIN QUALITY OF LIFE BY INVESTING IN TRAILS, BIKE LANES, SIDEWALKS, PARKS, THESE\n",
      "\t  ARE IMPORTANT FOR ALL SOCIO-ECONOMIC LEVELS AND TO MAINTAIN A PEOPLE CENTRIC COMMUNITY\n",
      "\t- TOLL ROADS DISCRIMINATE AGAINST LOW INCOME PEOPLE.\n",
      "\t- The cost of living in Austin has sky-rocketed, and local businesses are not able or\n",
      "\t  willing to meet the financial needs of the lower-middle class.\n",
      "\t- We need leadership with a progressive vision that can embrace responsible growth and\n",
      "\t  double down on a progressive agenda towards renewable energy and an effective\n",
      "\t  transportation plan that does not rely on more roads and highways for cars.\n",
      "\t- We deserve clean drinking water, not poisoned with endocrine disruptors and neurotoxins.\n",
      "\n",
      "\n",
      "Bottom 10 quality sentences: \n",
      "\t- BRING LYFT UBER BACK.\n",
      "\t- Please compost!\n",
      "\t- FIX THE WASHBOARD SURFACE OF GREYSTONE BETWEEN MESA NAD BALBURN\n",
      "\t- Mistake to let Ott go\n",
      "\t- How does this happen!?!\n",
      "\t- Fix Mopac.\n",
      "\t- Need Uber back! !!!!!!!!!!!\n",
      "\t- WANT ALLON UBER BACK.\n",
      "\t- I want Uber/Lyft.\n",
      "\t- Seriously!?!\n"
     ]
    }
   ],
   "source": [
    "from austin_utils import print_top_and_bottom_k_sentences\n",
    "\n",
    "def get_top_quality_sentences(sentences, top_k, topic):    \n",
    "    arg_quality_client = debater_api.get_argument_quality_client()\n",
    "    sentences_topic = [{'sentence': sentence['text'], 'topic': topic} for sentence in sentences]\n",
    "    arg_quality_scores = arg_quality_client.run(sentences_topic)\n",
    "    sentences_and_scores = zip(sentences, arg_quality_scores)\n",
    "    sentences_and_scores_sorted = sorted(sentences_and_scores, key=lambda x: x[1], reverse=True)\n",
    "    sentences_sorted = [sentence for sentence, _ in sentences_and_scores_sorted]\n",
    "    print_top_and_bottom_k_sentences(sentences_sorted, 10)\n",
    "    return sentences_sorted[:top_k]\n",
    "\n",
    "sentences_2016_top_1000_aq = get_top_quality_sentences(sentences_2016, 1000, 'Austin is a great place to live')"
   ]
  },
  {
   "cell_type": "code",
   "execution_count": 5,
   "metadata": {},
   "outputs": [],
   "source": [
    "def run_kpa(sentences_ids, run_params):\n",
    "    future = keypoints_client.start_kp_analysis_job(domain=domain, \n",
    "                                                    comments_ids=sentences_ids, \n",
    "                                                    run_params=run_params)\n",
    "\n",
    "    kpa_result = future.get_result(high_verbosity=True, \n",
    "                                   polling_timout_secs=5)\n",
    "    \n",
    "    return kpa_result"
   ]
  },
  {
   "cell_type": "code",
   "execution_count": 6,
   "metadata": {},
   "outputs": [
    {
     "name": "stderr",
     "output_type": "stream",
     "text": [
      "2021-06-24 19:13:37,733 [INFO] keypoints_client.py 284: uploading 1000 comments in batches\n",
      "2021-06-24 19:13:37,734 [INFO] keypoints_client.py 214: client calls service (post): https://keypoint-matching-backend.debater.res.ibm.com/comments\n",
      "2021-06-24 19:13:38,869 [INFO] keypoints_client.py 301: uploaded 1000 comments, out of 1000\n",
      "2021-06-24 19:13:38,870 [INFO] keypoints_client.py 214: client calls service (get): https://keypoint-matching-backend.debater.res.ibm.com/comments\n",
      "2021-06-24 19:13:39,628 [INFO] keypoints_client.py 313: domain: stance_demo, comments status: {'processed_comments': 0, 'pending_comments': 1000, 'processed_sentences': 0}\n",
      "2021-06-24 19:13:49,632 [INFO] keypoints_client.py 214: client calls service (get): https://keypoint-matching-backend.debater.res.ibm.com/comments\n",
      "2021-06-24 19:13:50,195 [INFO] keypoints_client.py 313: domain: stance_demo, comments status: {'processed_comments': 1000, 'pending_comments': 0, 'processed_sentences': 1000}\n"
     ]
    }
   ],
   "source": [
    "sentences_texts = [sentence['text'] for sentence in sentences_2016_top_1000_aq]\n",
    "sentences_ids = [sentence['id'] for sentence in sentences_2016_top_1000_aq]\n",
    "keypoints_client.upload_comments(domain=domain, \n",
    "                                 comments_ids=sentences_ids, \n",
    "                                 comments_texts=sentences_texts,\n",
    "                                 dont_split=True)\n",
    "\n",
    "keypoints_client.wait_till_all_comments_are_processed(domain=domain)"
   ]
  },
  {
   "cell_type": "code",
   "execution_count": 7,
   "metadata": {},
   "outputs": [
    {
     "name": "stderr",
     "output_type": "stream",
     "text": [
      "2021-06-24 19:13:50,202 [INFO] keypoints_client.py 214: client calls service (post): https://keypoint-matching-backend.debater.res.ibm.com/kp_extraction\n",
      "2021-06-24 19:13:51,165 [INFO] keypoints_client.py 375: started a kp analysis job - domain: stance_demo, job_id: 60d4af3f93247fbd991aaf3a\n",
      "2021-06-24 19:13:51,166 [INFO] keypoints_client.py 214: client calls service (get): https://keypoint-matching-backend.debater.res.ibm.com/kp_extraction\n",
      "2021-06-24 19:13:51,680 [INFO] keypoints_client.py 548: job_id 60d4af3f93247fbd991aaf3a is pending\n",
      "ArgumentQualityClient: 100%|██████████| 3005/3005 [00:20<00:00, 559.06it/s]2021-06-24 19:13:56,685 [INFO] keypoints_client.py 214: client calls service (get): https://keypoint-matching-backend.debater.res.ibm.com/kp_extraction\n",
      "2021-06-24 19:13:57,292 [INFO] keypoints_client.py 552: job_id 60d4af3f93247fbd991aaf3a is running, progress: {'total_stages': 1, 'stage_1': {'inferred_batches': 0, 'total_batches': 1, 'batch_size': 2000}}\n"
     ]
    },
    {
     "name": "stdout",
     "output_type": "stream",
     "text": [
      "Stage 1/1: |--------------------------------------------------| 0.0% Complete\n",
      "\n"
     ]
    },
    {
     "name": "stderr",
     "output_type": "stream",
     "text": [
      "2021-06-24 19:14:02,296 [INFO] keypoints_client.py 214: client calls service (get): https://keypoint-matching-backend.debater.res.ibm.com/kp_extraction\n",
      "2021-06-24 19:14:03,100 [INFO] keypoints_client.py 555: job_id 60d4af3f93247fbd991aaf3a is done, returning result\n"
     ]
    },
    {
     "name": "stdout",
     "output_type": "stream",
     "text": [
      "Positive results coverage: 0.00\n",
      "Positive results key points:\n"
     ]
    }
   ],
   "source": [
    "from austin_utils import print_results\n",
    "\n",
    "pos_result = run_kpa(sentences_ids, {'n_top_kps': 20, 'stances_to_run': ['pos'], 'stances_threshold': 0.5})\n",
    "print_results(pos_result, n_sentences_per_kp=2, title='Positive results')"
   ]
  },
  {
   "cell_type": "code",
   "execution_count": 8,
   "metadata": {
    "scrolled": true
   },
   "outputs": [
    {
     "name": "stderr",
     "output_type": "stream",
     "text": [
      "2021-06-24 19:14:03,111 [INFO] keypoints_client.py 214: client calls service (post): https://keypoint-matching-backend.debater.res.ibm.com/kp_extraction\n",
      "2021-06-24 19:14:04,139 [INFO] keypoints_client.py 375: started a kp analysis job - domain: stance_demo, job_id: 60d4af4c93247fbd991aaf3d\n",
      "2021-06-24 19:14:04,140 [INFO] keypoints_client.py 214: client calls service (get): https://keypoint-matching-backend.debater.res.ibm.com/kp_extraction\n",
      "2021-06-24 19:14:04,739 [INFO] keypoints_client.py 548: job_id 60d4af4c93247fbd991aaf3d is pending\n",
      "2021-06-24 19:14:09,743 [INFO] keypoints_client.py 214: client calls service (get): https://keypoint-matching-backend.debater.res.ibm.com/kp_extraction\n",
      "2021-06-24 19:14:10,368 [INFO] keypoints_client.py 552: job_id 60d4af4c93247fbd991aaf3d is running, progress: {'total_stages': 1, 'stage_1': {'inferred_batches': 0, 'total_batches': 20, 'batch_size': 2000}}\n"
     ]
    },
    {
     "name": "stdout",
     "output_type": "stream",
     "text": [
      "Stage 1/1: |--------------------------------------------------| 0.0% Complete\n",
      "\n"
     ]
    },
    {
     "name": "stderr",
     "output_type": "stream",
     "text": [
      "2021-06-24 19:14:15,374 [INFO] keypoints_client.py 214: client calls service (get): https://keypoint-matching-backend.debater.res.ibm.com/kp_extraction\n",
      "2021-06-24 19:14:15,954 [INFO] keypoints_client.py 552: job_id 60d4af4c93247fbd991aaf3d is running, progress: {'total_stages': 1, 'stage_1': {'inferred_batches': 0, 'total_batches': 20, 'batch_size': 2000}}\n"
     ]
    },
    {
     "name": "stdout",
     "output_type": "stream",
     "text": [
      "Stage 1/1: |--------------------------------------------------| 0.0% Complete\n",
      "\n"
     ]
    },
    {
     "name": "stderr",
     "output_type": "stream",
     "text": [
      "2021-06-24 19:14:20,958 [INFO] keypoints_client.py 214: client calls service (get): https://keypoint-matching-backend.debater.res.ibm.com/kp_extraction\n",
      "2021-06-24 19:14:21,560 [INFO] keypoints_client.py 552: job_id 60d4af4c93247fbd991aaf3d is running, progress: {'total_stages': 1, 'stage_1': {'inferred_batches': 0, 'total_batches': 20, 'batch_size': 2000}}\n"
     ]
    },
    {
     "name": "stdout",
     "output_type": "stream",
     "text": [
      "Stage 1/1: |--------------------------------------------------| 0.0% Complete\n",
      "\n"
     ]
    },
    {
     "name": "stderr",
     "output_type": "stream",
     "text": [
      "2021-06-24 19:14:26,562 [INFO] keypoints_client.py 214: client calls service (get): https://keypoint-matching-backend.debater.res.ibm.com/kp_extraction\n",
      "2021-06-24 19:14:27,174 [INFO] keypoints_client.py 552: job_id 60d4af4c93247fbd991aaf3d is running, progress: {'total_stages': 1, 'stage_1': {'inferred_batches': 2, 'total_batches': 20, 'batch_size': 2000}}\n"
     ]
    },
    {
     "name": "stdout",
     "output_type": "stream",
     "text": [
      "Stage 1/1: |█████---------------------------------------------| 10.0% Complete\n",
      "\n"
     ]
    },
    {
     "name": "stderr",
     "output_type": "stream",
     "text": [
      "2021-06-24 19:14:32,176 [INFO] keypoints_client.py 214: client calls service (get): https://keypoint-matching-backend.debater.res.ibm.com/kp_extraction\n",
      "2021-06-24 19:14:32,839 [INFO] keypoints_client.py 552: job_id 60d4af4c93247fbd991aaf3d is running, progress: {'total_stages': 1, 'stage_1': {'inferred_batches': 3, 'total_batches': 20, 'batch_size': 2000}}\n"
     ]
    },
    {
     "name": "stdout",
     "output_type": "stream",
     "text": [
      "Stage 1/1: |███████-------------------------------------------| 15.0% Complete\n",
      "\n"
     ]
    },
    {
     "name": "stderr",
     "output_type": "stream",
     "text": [
      "2021-06-24 19:14:37,843 [INFO] keypoints_client.py 214: client calls service (get): https://keypoint-matching-backend.debater.res.ibm.com/kp_extraction\n",
      "2021-06-24 19:14:38,468 [INFO] keypoints_client.py 552: job_id 60d4af4c93247fbd991aaf3d is running, progress: {'total_stages': 1, 'stage_1': {'inferred_batches': 8, 'total_batches': 20, 'batch_size': 2000}}\n"
     ]
    },
    {
     "name": "stdout",
     "output_type": "stream",
     "text": [
      "Stage 1/1: |████████████████████------------------------------| 40.0% Complete\n",
      "\n"
     ]
    },
    {
     "name": "stderr",
     "output_type": "stream",
     "text": [
      "2021-06-24 19:14:43,471 [INFO] keypoints_client.py 214: client calls service (get): https://keypoint-matching-backend.debater.res.ibm.com/kp_extraction\n",
      "2021-06-24 19:14:44,072 [INFO] keypoints_client.py 552: job_id 60d4af4c93247fbd991aaf3d is running, progress: {'total_stages': 1, 'stage_1': {'inferred_batches': 11, 'total_batches': 20, 'batch_size': 2000}}\n"
     ]
    },
    {
     "name": "stdout",
     "output_type": "stream",
     "text": [
      "Stage 1/1: |███████████████████████████-----------------------| 55.0% Complete\n",
      "\n"
     ]
    },
    {
     "name": "stderr",
     "output_type": "stream",
     "text": [
      "2021-06-24 19:14:49,076 [INFO] keypoints_client.py 214: client calls service (get): https://keypoint-matching-backend.debater.res.ibm.com/kp_extraction\n",
      "2021-06-24 19:14:49,671 [INFO] keypoints_client.py 552: job_id 60d4af4c93247fbd991aaf3d is running, progress: {'total_stages': 1, 'stage_1': {'inferred_batches': 14, 'total_batches': 20, 'batch_size': 2000}}\n"
     ]
    },
    {
     "name": "stdout",
     "output_type": "stream",
     "text": [
      "Stage 1/1: |███████████████████████████████████---------------| 70.0% Complete\n",
      "\n"
     ]
    },
    {
     "name": "stderr",
     "output_type": "stream",
     "text": [
      "2021-06-24 19:14:54,676 [INFO] keypoints_client.py 214: client calls service (get): https://keypoint-matching-backend.debater.res.ibm.com/kp_extraction\n",
      "2021-06-24 19:14:55,292 [INFO] keypoints_client.py 552: job_id 60d4af4c93247fbd991aaf3d is running, progress: {'total_stages': 1, 'stage_1': {'inferred_batches': 15, 'total_batches': 20, 'batch_size': 2000}}\n"
     ]
    },
    {
     "name": "stdout",
     "output_type": "stream",
     "text": [
      "Stage 1/1: |█████████████████████████████████████-------------| 75.0% Complete\n",
      "\n"
     ]
    },
    {
     "name": "stderr",
     "output_type": "stream",
     "text": [
      "2021-06-24 19:15:00,298 [INFO] keypoints_client.py 214: client calls service (get): https://keypoint-matching-backend.debater.res.ibm.com/kp_extraction\n",
      "2021-06-24 19:15:00,875 [INFO] keypoints_client.py 552: job_id 60d4af4c93247fbd991aaf3d is running, progress: {'total_stages': 1, 'stage_1': {'inferred_batches': 18, 'total_batches': 20, 'batch_size': 2000}}\n"
     ]
    },
    {
     "name": "stdout",
     "output_type": "stream",
     "text": [
      "Stage 1/1: |█████████████████████████████████████████████-----| 90.0% Complete\n",
      "\n"
     ]
    },
    {
     "name": "stderr",
     "output_type": "stream",
     "text": [
      "2021-06-24 19:15:05,881 [INFO] keypoints_client.py 214: client calls service (get): https://keypoint-matching-backend.debater.res.ibm.com/kp_extraction\n",
      "2021-06-24 19:15:06,496 [INFO] keypoints_client.py 552: job_id 60d4af4c93247fbd991aaf3d is running, progress: {'total_stages': 1, 'stage_1': {'inferred_batches': 19, 'total_batches': 20, 'batch_size': 2000}}\n"
     ]
    },
    {
     "name": "stdout",
     "output_type": "stream",
     "text": [
      "Stage 1/1: |███████████████████████████████████████████████---| 95.0% Complete\n",
      "\n"
     ]
    },
    {
     "name": "stderr",
     "output_type": "stream",
     "text": [
      "2021-06-24 19:15:11,501 [INFO] keypoints_client.py 214: client calls service (get): https://keypoint-matching-backend.debater.res.ibm.com/kp_extraction\n",
      "2021-06-24 19:15:12,235 [INFO] keypoints_client.py 552: job_id 60d4af4c93247fbd991aaf3d is running, progress: {'total_stages': 1, 'stage_1': {'inferred_batches': 20, 'total_batches': 20, 'batch_size': 2000}}\n"
     ]
    },
    {
     "name": "stdout",
     "output_type": "stream",
     "text": [
      "Stage 1/1: |██████████████████████████████████████████████████| 100.0% Complete\n",
      "\n",
      "\n"
     ]
    },
    {
     "name": "stderr",
     "output_type": "stream",
     "text": [
      "2021-06-24 19:15:17,238 [INFO] keypoints_client.py 214: client calls service (get): https://keypoint-matching-backend.debater.res.ibm.com/kp_extraction\n",
      "2021-06-24 19:15:17,974 [INFO] keypoints_client.py 552: job_id 60d4af4c93247fbd991aaf3d is running, progress: {'total_stages': 1, 'stage_1': {'inferred_batches': 20, 'total_batches': 20, 'batch_size': 2000}}\n"
     ]
    },
    {
     "name": "stdout",
     "output_type": "stream",
     "text": [
      "Stage 1/1: |██████████████████████████████████████████████████| 100.0% Complete\n",
      "\n",
      "\n"
     ]
    },
    {
     "name": "stderr",
     "output_type": "stream",
     "text": [
      "2021-06-24 19:15:22,978 [INFO] keypoints_client.py 214: client calls service (get): https://keypoint-matching-backend.debater.res.ibm.com/kp_extraction\n",
      "2021-06-24 19:15:24,683 [INFO] keypoints_client.py 555: job_id 60d4af4c93247fbd991aaf3d is done, returning result\n"
     ]
    },
    {
     "name": "stdout",
     "output_type": "stream",
     "text": [
      "Positive results coverage: 43.99\n",
      "Positive results key points:\n",
      "83 - Traffic congestion needs major improvement\n",
      "\t- Austin need improved transportation infrastructure to alleviate current traffic and\n",
      "\t  accommodate rapid population growth.\n",
      "\t- Fast population growth is the cities biggest problem in areas such as congestion and\n",
      "\t  expensiveness.\n",
      "75 - We need affordable housing.\n",
      "\t- Affordable housing is crucial, & keeping seniors in their homes is part of that challenge!\n",
      "\t- We need better housing solutions for low income and homeless individuals.\n",
      "41 - Integrated transportation is critical.\n",
      "\t- a public transit train system is a necessity\n",
      "\t- Steiner Ranch area needs more access to public transportation (bus, train, etc>) and\n",
      "\t  taxi/ridesharing  to/from downtown and airport\n",
      "28 - UTILITY RATES & PROPERTY TAXES ARE OUTRAGEOUS\n",
      "\t- PROPERTY TAXES ARE TOO HIGH.\n",
      "\t- PROPERTY TAXES ARE OUT OF CONTROL.\n",
      "19 - THE HOMELESS POPULATION NEEDS MORE HELP/ATTENTION\n",
      "\t- HOMELESS SITUATION NEEDS TO BE ADDRESSED IN THE DOWNTOWN AREA\n",
      "\t- That is something that needs to be more effectively addressed by the APD.\n",
      "14 - Austin Utility Services need an overhaul-especially water/wastewater.\n",
      "\t- Utilities, particularly water, is too high.\n",
      "\t- Hundreds of gallons of water are wasted by not being collected properly\n",
      "14 - HOUSING PRICES ARE OUT OF CONTROL.\n",
      "\t- IT HAS GOTTEN OUT OF CONTROL.\n",
      "\t- Overall living costs in Austin are too high!\n",
      "14 - Infrastructure can't support rapid growth.\n",
      "\t- In many ways, the city is failing to meet the increasing demands on it's infrastructure\n",
      "\t  due to the growth of the city, especially transportation in the city - roads, public\n",
      "\t  transportation, bicycling, networks/quality, etc.\n",
      "\t- It is growing too quickly.\n",
      "14 - There is constant traffic and noise pollution.\n",
      "\t- IH35 & MoPac congestion is negative for local economy and causes air pollution and\n",
      "\t  causes safety hazards, i.e. dangerous to drive here.\n",
      "\t- My neighborhood has been subjected to 2+ years of noise, dirt, filthy side walks,\n",
      "\t  overgrown common areas, rude drivers, etc.\n",
      "13 - South Austin is losing businesses and residents.\n",
      "\t- Slow down the commercial/entertainment oriented development of central Austin\n",
      "\t  neighborhoods with a focus on preserving the lifestyles and economic viability for\n",
      "\t  residents in the aforementioned central Austin neighborhoods.\n",
      "\t- It is time for the city to place more of the burden on businesses that make tons of\n",
      "\t  money in this city and to take more of the burden away from it's residents.\n",
      "13 - TOLL ROADS DISCRIMINATE AGAINST LOW INCOME PEOPLE.\n",
      "\t- DEVELOPMENT SHOULD NOT DISPLACE LOW INCOME FAMILIES.\n",
      "\t- The middle class (and low income households) can't afford to buy a house in Austin.\n",
      "8 - Better training and sensitivity is needed.\n",
      "\t- Train law enforcement staff the proper way to deal with hostile perpetrators.\n",
      "\t- First responders/EMS/Fire/APD all need training on dealing with citizens with\n",
      "\t  cognitive/mental disabilities.\n",
      "8 - Water consumption rates are too high.\n",
      "\t- The cost or water is excessive and way too high.\n",
      "\t- and Downtown is putting a terrible strain on water availability.\n",
      "6 - WE NEED BETTER FLOOD PLANNING.\n",
      "\t- TO HAVE BETTER PLANNING FOR CITY GROWTH.\n",
      "\t- BETTER LONG RANGE PLANNING ON TRAFFIC FLOW.\n",
      "5 - Code issues are hurting the city.\n",
      "\t- Restrictive zoning, city planning and code enforcement, city council and the mayor\n",
      "\t  worsen out lives.\n",
      "\t- You are ruining the city with your incompetent policies and arrogance.\n",
      "5 - Police response time in unacceptably slow.\n",
      "\t- THE RESPONSE TIME FOR 311 CALLS COMPLAINTS IS EXTREMELY SLOW.\n",
      "\t- But, the process is too slow to remedy the current situation.\n",
      "4 - Roads are poorly maintain.\n",
      "\t- Major thoroughfares poorly planned, not functioning, city streets need repair.\n",
      "\t- This lack of maintenance makes Austin look run down.\n",
      "3 - 30 mph kills children and pedestrians.\n",
      "\t- Pedestrians are at great risk, particularly children, and unrealistic speed limits\n",
      "\t  reflect an Austin that no longer exists.\n",
      "\t- Also now would be a good time to ensure that people who endanger, hurt or kill\n",
      "\t  vulnerable road users will be punished appropriately.\n",
      "3 - CRIME IS ON THE INCREASE.\n",
      "\t- The crime in our neighborhood is out of control.\n",
      "\t- Our taxes have doubled over the past year and so have the crime and police response time.\n",
      "3 - City Council members should represent all citizens.\n",
      "\t- The mayor should be more inclusive to the overall population of city residents than less\n",
      "\t  inclusive when establishing policies and services.\n",
      "\t- Please address this  systemic, out of control, evil, unkindness, money  sucking, taxing\n",
      "\t  without representation on lifetime, homeowner senior citizens of Austin.\n"
     ]
    }
   ],
   "source": [
    "neg_result = run_kpa(sentences_ids, {'n_top_kps': 20, 'stances_to_run': ['neg', 'sug'], 'stances_threshold': 0.5})\n",
    "print_results(neg_result, n_sentences_per_kp=2, title='Positive results')"
   ]
  },
  {
   "cell_type": "code",
   "execution_count": 9,
   "metadata": {},
   "outputs": [],
   "source": [
    "def set_stance_to_result(result, stance):\n",
    "    for keypoint_matching in result['keypoint_matchings']:\n",
    "        keypoint_matching['stance'] = stance\n",
    "    return result"
   ]
  },
  {
   "cell_type": "code",
   "execution_count": 10,
   "metadata": {},
   "outputs": [],
   "source": [
    "pos_result = set_stance_to_result(pos_result, 'pos')\n",
    "neg_result = set_stance_to_result(neg_result, 'neg')"
   ]
  },
  {
   "cell_type": "code",
   "execution_count": 11,
   "metadata": {},
   "outputs": [],
   "source": [
    "def sort_matchings(result):\n",
    "    result['keypoint_matchings'].sort(key=lambda matchings: len(matchings['matching']), reverse=True)\n",
    "    \n",
    "def merge_two_results(result_con, result_pro):\n",
    "    result = {'keypoint_matchings': result_con['keypoint_matchings'] + result_pro['keypoint_matchings']}\n",
    "    sort_matchings(result)\n",
    "    return result"
   ]
  },
  {
   "cell_type": "code",
   "execution_count": 12,
   "metadata": {},
   "outputs": [],
   "source": [
    "merged_result = merge_two_results(pos_result, neg_result)"
   ]
  },
  {
   "cell_type": "code",
   "execution_count": 13,
   "metadata": {},
   "outputs": [
    {
     "name": "stdout",
     "output_type": "stream",
     "text": [
      "Merged result coverage: 43.12\n",
      "Merged result key points:\n",
      "83 - Traffic congestion needs major improvement - neg\n",
      "\t- Austin need improved transportation infrastructure to alleviate current traffic and\n",
      "\t  accommodate rapid population growth.\n",
      "\t- Fast population growth is the cities biggest problem in areas such as congestion and\n",
      "\t  expensiveness.\n",
      "75 - We need affordable housing. - neg\n",
      "\t- Affordable housing is crucial, & keeping seniors in their homes is part of that challenge!\n",
      "\t- We need better housing solutions for low income and homeless individuals.\n",
      "41 - Integrated transportation is critical. - neg\n",
      "\t- a public transit train system is a necessity\n",
      "\t- Steiner Ranch area needs more access to public transportation (bus, train, etc>) and\n",
      "\t  taxi/ridesharing  to/from downtown and airport\n",
      "28 - UTILITY RATES & PROPERTY TAXES ARE OUTRAGEOUS - neg\n",
      "\t- PROPERTY TAXES ARE TOO HIGH.\n",
      "\t- PROPERTY TAXES ARE OUT OF CONTROL.\n",
      "19 - THE HOMELESS POPULATION NEEDS MORE HELP/ATTENTION - neg\n",
      "\t- HOMELESS SITUATION NEEDS TO BE ADDRESSED IN THE DOWNTOWN AREA\n",
      "\t- That is something that needs to be more effectively addressed by the APD.\n",
      "14 - Austin Utility Services need an overhaul-especially water/wastewater. - neg\n",
      "\t- Utilities, particularly water, is too high.\n",
      "\t- Hundreds of gallons of water are wasted by not being collected properly\n",
      "14 - HOUSING PRICES ARE OUT OF CONTROL. - neg\n",
      "\t- IT HAS GOTTEN OUT OF CONTROL.\n",
      "\t- Overall living costs in Austin are too high!\n",
      "14 - Infrastructure can't support rapid growth. - neg\n",
      "\t- In many ways, the city is failing to meet the increasing demands on it's infrastructure\n",
      "\t  due to the growth of the city, especially transportation in the city - roads, public\n",
      "\t  transportation, bicycling, networks/quality, etc.\n",
      "\t- It is growing too quickly.\n",
      "14 - There is constant traffic and noise pollution. - neg\n",
      "\t- IH35 & MoPac congestion is negative for local economy and causes air pollution and\n",
      "\t  causes safety hazards, i.e. dangerous to drive here.\n",
      "\t- My neighborhood has been subjected to 2+ years of noise, dirt, filthy side walks,\n",
      "\t  overgrown common areas, rude drivers, etc.\n",
      "13 - South Austin is losing businesses and residents. - neg\n",
      "\t- Slow down the commercial/entertainment oriented development of central Austin\n",
      "\t  neighborhoods with a focus on preserving the lifestyles and economic viability for\n",
      "\t  residents in the aforementioned central Austin neighborhoods.\n",
      "\t- It is time for the city to place more of the burden on businesses that make tons of\n",
      "\t  money in this city and to take more of the burden away from it's residents.\n",
      "13 - TOLL ROADS DISCRIMINATE AGAINST LOW INCOME PEOPLE. - neg\n",
      "\t- DEVELOPMENT SHOULD NOT DISPLACE LOW INCOME FAMILIES.\n",
      "\t- The middle class (and low income households) can't afford to buy a house in Austin.\n",
      "8 - Better training and sensitivity is needed. - neg\n",
      "\t- Train law enforcement staff the proper way to deal with hostile perpetrators.\n",
      "\t- First responders/EMS/Fire/APD all need training on dealing with citizens with\n",
      "\t  cognitive/mental disabilities.\n",
      "8 - Water consumption rates are too high. - neg\n",
      "\t- The cost or water is excessive and way too high.\n",
      "\t- and Downtown is putting a terrible strain on water availability.\n",
      "6 - WE NEED BETTER FLOOD PLANNING. - neg\n",
      "\t- TO HAVE BETTER PLANNING FOR CITY GROWTH.\n",
      "\t- BETTER LONG RANGE PLANNING ON TRAFFIC FLOW.\n",
      "5 - Code issues are hurting the city. - neg\n",
      "\t- Restrictive zoning, city planning and code enforcement, city council and the mayor\n",
      "\t  worsen out lives.\n",
      "\t- You are ruining the city with your incompetent policies and arrogance.\n",
      "5 - Police response time in unacceptably slow. - neg\n",
      "\t- THE RESPONSE TIME FOR 311 CALLS COMPLAINTS IS EXTREMELY SLOW.\n",
      "\t- But, the process is too slow to remedy the current situation.\n",
      "4 - Roads are poorly maintain. - neg\n",
      "\t- Major thoroughfares poorly planned, not functioning, city streets need repair.\n",
      "\t- This lack of maintenance makes Austin look run down.\n",
      "3 - 30 mph kills children and pedestrians. - neg\n",
      "\t- Pedestrians are at great risk, particularly children, and unrealistic speed limits\n",
      "\t  reflect an Austin that no longer exists.\n",
      "\t- Also now would be a good time to ensure that people who endanger, hurt or kill\n",
      "\t  vulnerable road users will be punished appropriately.\n",
      "3 - CRIME IS ON THE INCREASE. - neg\n",
      "\t- The crime in our neighborhood is out of control.\n",
      "\t- Our taxes have doubled over the past year and so have the crime and police response time.\n",
      "3 - City Council members should represent all citizens. - neg\n",
      "\t- The mayor should be more inclusive to the overall population of city residents than less\n",
      "\t  inclusive when establishing policies and services.\n",
      "\t- Please address this  systemic, out of control, evil, unkindness, money  sucking, taxing\n",
      "\t  without representation on lifetime, homeowner senior citizens of Austin.\n"
     ]
    }
   ],
   "source": [
    "print_results(merged_result, n_sentences_per_kp=2, title='Merged result')"
   ]
  }
 ],
 "metadata": {
  "kernelspec": {
   "display_name": "kpa_env",
   "language": "python",
   "name": "kpa_env"
  },
  "language_info": {
   "codemirror_mode": {
    "name": "ipython",
    "version": 3
   },
   "file_extension": ".py",
   "mimetype": "text/x-python",
   "name": "python",
   "nbconvert_exporter": "python",
   "pygments_lexer": "ipython3",
   "version": "3.7.10"
  }
 },
 "nbformat": 4,
 "nbformat_minor": 5
}
