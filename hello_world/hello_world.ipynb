{
 "cells": [
  {
   "cell_type": "markdown",
   "metadata": {},
   "source": [
    "# Hello World"
   ]
  },
  {
   "cell_type": "markdown",
   "metadata": {},
   "source": [
    "The purpose of this notebook is to check that your environment is set up correctly and that you are able to access the Debater Early Access APIs."
   ]
  },
  {
   "cell_type": "code",
   "execution_count": null,
   "metadata": {},
   "outputs": [],
   "source": [
    "from debater_python_api.api.debater_api import DebaterApi\n",
    "import os\n",
    "\n",
    "if not 'DEBATER_API_KEY' in os.environ:\n",
    "    raise ValueError(\"Please set the DEBATER_API_KEY environment variable to the API KEY found in the API-KEY \"\n",
    "        \"tab of the Early Access Program Website\")\n",
    "api_key = os.environ['DEBATER_API_KEY']\n",
    "if api_key == \"<PUT_YOUR_API_KEY_HERE>\":\n",
    "    raise ValueError(\"Please set the content of the DEBATER_API_KEY environment variable to the API KEY found in the API-KEY \"\n",
    "        \"tab of the Early Access Program Website. It currently uses a placeholder template\")\n",
    "\n",
    "print(\"Using API key\" + api_key)\n",
    "\n",
    "debater_api = DebaterApi(api_key)\n",
    "pro_con_client = debater_api.get_pro_con_client()\n",
    "\n",
    "topic = 'This tutorial is helpful.'\n",
    "sentence = 'This tutorial works as expected.' \n",
    "\n",
    "sentence_topic_dicts = [{'sentence' : sentence, 'topic' : topic } ]\n",
    "\n",
    "scores = pro_con_client.run(sentence_topic_dicts)\n",
    "print(\"Score: \"+\"{:.4f}\".format(scores[0]))\n",
    "\n",
    "if (scores[0] > 0.99):\n",
    "    print(\"Hello world! It works.\")\n"
   ]
  }
 ],
 "metadata": {
  "kernelspec": {
   "display_name": "eap",
   "language": "python",
   "name": "eap"
  },
  "language_info": {
   "codemirror_mode": {
    "name": "ipython",
    "version": 3
   },
   "file_extension": ".py",
   "mimetype": "text/x-python",
   "name": "python",
   "nbconvert_exporter": "python",
   "pygments_lexer": "ipython3",
   "version": "3.8.8"
  }
 },
 "nbformat": 4,
 "nbformat_minor": 4
}
