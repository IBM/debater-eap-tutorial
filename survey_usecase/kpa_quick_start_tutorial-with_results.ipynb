{
 "cells": [
  {
   "cell_type": "markdown",
   "id": "a7f1683b",
   "metadata": {},
   "source": [
    "# Using *Key Point Analysis* service for analyzing and finding insights in a survey data \n",
    "When you have a large collection of texts representing people’s opinions (such as product reviews, survey answers or  social media), it is difficult to understand the key issues that come up in the data. Going over thousands of comments is prohibitively expensive.  Existing automated approaches are often limited to identifying recurring phrases or concepts and the overall sentiment toward them, but do not provide detailed or actionable insights.\n",
    "\n",
    "In this tutorial you will gain hands-on experience in using *Key Point Analysis* (KPA) for analyzing and deriving insights from open-ended answers.  \n",
    "\n",
    "The data we will use is a community survey conducted in the city of Austin (https://data.world/cityofaustin/mf9f-kvkk). In this survey, the citizens of Austin where asked \"If there was ONE thing you could share with the Mayor regarding the City of Austin (any comment, suggestion, etc.), what would it be?\". "
   ]
  },
  {
   "cell_type": "markdown",
   "id": "2ab28f81",
   "metadata": {},
   "source": [
    "## 1. Run *Key Point Analysis* (data from 2016)"
   ]
  },
  {
   "cell_type": "markdown",
   "id": "71725a3a",
   "metadata": {},
   "source": [
    "### 1.1 Read the data and run *key point analysis*  over it\n",
    "Let's read the data from *dataset_austin.csv* file, which holds the Austin survey dataset, and print the first one."
   ]
  },
  {
   "cell_type": "code",
   "execution_count": 1,
   "id": "68c6f083",
   "metadata": {},
   "outputs": [
    {
     "name": "stdout",
     "output_type": "stream",
     "text": [
      "There are 3187 comments in the dataset\n",
      "{'id': '1', 'year': '2016', 'text': \"Dissatisfied traffic and with traffic, timing of street lights.  EXTREMELY dissatisfied with cit govt. interfering in local businesses (Uber/Lyft, income property owners).  Also, extremely dissatisfied with all the free handouts to people who are perfectly capable of earning their own money.  I'm very dissatisfied with the liberal leaning local politicians.\"}\n"
     ]
    }
   ],
   "source": [
    "from debater_python_api.api.clients.keypoints_client import KpAnalysisClient, KpAnalysisUtils, KpAnalysisTaskFuture\n",
    "import os\n",
    "import csv\n",
    "import random\n",
    "\n",
    "\n",
    "with open('./dataset_austin.csv') as csv_file:\n",
    "    reader = csv.DictReader(csv_file)\n",
    "    comments = [dict(d) for d in reader]\n",
    "\n",
    "print(f'There are {len(comments)} comments in the dataset')\n",
    "print(comments[0])"
   ]
  },
  {
   "cell_type": "markdown",
   "id": "25b55e5e",
   "metadata": {},
   "source": [
    "Each comment is a dictionary with an unique_id 'id' and 'text' and a 'year'. We will first remove all comments with text longer then 1000 characters since this is a systme's limit. Then we will filter the comments and take the ones from 2016. \n",
    "\n",
    "The *Key Point Analysis* service is able to run over hundreds of thousands of sentences, however since the computation is heavy in resources (particularly GPUs) the trial version is limited to 1000 comments. You may request to increase this limit if needed. Since we want the tutorial to be relativly fast and lightweight, we will only run on a sample of 400 comments. Note that running over a larger set improves the results. Both the quality and coverage."
   ]
  },
  {
   "cell_type": "code",
   "execution_count": 2,
   "id": "fdb6777e",
   "metadata": {},
   "outputs": [],
   "source": [
    "comments = [c for c in comments if len(c['text'])<=1000]\n",
    "comments_2016 = [c for c in comments if c['year'] == '2016']\n",
    "sample_size = 400\n",
    "random.seed(0)\n",
    "comments_2016_sample = random.sample(comments_2016, sample_size)"
   ]
  },
  {
   "cell_type": "markdown",
   "id": "916ebe73",
   "metadata": {},
   "source": [
    "*Key point analysis* is a novel and promising approach for summarization, with an important quantitative angle. This service summarizes a collection of comments on a given topic as a small set of key points. The salience of each key point is given by the number of its matching sentences in the given comments.\n",
    "\n",
    "Before running the *Key Point Analysis* service we first need to initialize our client. The clients print information using the logger and a suitable verbosity level should be set. The client object is configured with an API key. It should be  retrieved from the [Project Debater Early Access Program](https://early-access-program.debater.res.ibm.com/) site.  In the code bellow it is passed by the enviroment variable *DEBATER_API_KEY* (you may also modify the code and place the api-key directly).\n",
    "\n",
    "The *Key Point Analysis* service stores the data (and cached-results) in a *domain*. A user can create several domains, one for each dataset. Domains are only accessible to the user who created them.\n",
    "\n",
    "Full documentation of the *Key Point Analysis* service can be found [here](https://early-access-program.debater.res.ibm.com/docs/services/keypoints/keypoints_pydoc.html)."
   ]
  },
  {
   "cell_type": "code",
   "execution_count": 3,
   "id": "4582d7fe",
   "metadata": {},
   "outputs": [],
   "source": [
    "KpAnalysisUtils.init_logger()\n",
    "api_key = os.environ['DEBATER_API_KEY']\n",
    "host = 'https://keypoint-matching-backend.debater.res.ibm.com'\n",
    "keypoints_client = KpAnalysisClient(api_key, host)"
   ]
  },
  {
   "cell_type": "markdown",
   "id": "8ff4b8dc",
   "metadata": {},
   "source": [
    "In order to run *Key Point Analysis*, do the following steps:\n",
    "\n",
    "### 1.2 Create a domain\n",
    "Create a domin using the **keypoints_client.create_domain(domain=domain, domain_params={})** method. Several params can be passed when creating a domain in the domain_params dictionary as described in the documentation. Leaving it empty gives us a good default behaviour. You can also use **KpAnalysisUtils.create_domain_ignore_exists(client=keypoints_client, domain=domain, domain_params={})** if you don't want an exception to be thrown if the domain already exists. Note that in such case the domain_params are not updated and are remained as they where before.\n",
    "\n",
    "Full documentation of the supported *domain_params* and how they affect the domain can be found [here](https://early-access-program.debater.res.ibm.com/docs/services/keypoints/keypoint_parameters_users.pdf)."
   ]
  },
  {
   "cell_type": "code",
   "execution_count": 4,
   "id": "f4956e78",
   "metadata": {},
   "outputs": [
    {
     "name": "stderr",
     "output_type": "stream",
     "text": [
      "2022-09-21 12:25:48,588 [INFO] keypoints_client.py 424: client calls service (post): https://keypoint-matching-backend.debater.res.ibm.com/domains\n",
      "2022-09-21 12:25:49,423 [INFO] keypoints_client.py 475: created domain: austin_demo with domain_params: {}\n",
      "2022-09-21 12:25:49,425 [INFO] keypoints_client.py 270: domain: austin_demo was created\n"
     ]
    }
   ],
   "source": [
    "domain = 'austin_demo'\n",
    "KpAnalysisUtils.create_domain_ignore_exists(client=keypoints_client, domain=domain, domain_params={})"
   ]
  },
  {
   "cell_type": "markdown",
   "id": "dd618c78",
   "metadata": {},
   "source": [
    "Few domain related points:\n",
    "* We can always delete a domain we no longer need using: **KpAnalysisUtils.delete_domain_ignore_doesnt_exist(client=keypoints_client, domain=domain)**\n",
    "* Keep in mind that a domain have a state. It stores all comments that had beed uploaded into it and a cache with all calculations performed over this data.\n",
    "* If we want to restart and run over the domain from scratch (no comments and no cache), we can delete the domain and then re-create it or obviously use a different domain. Keep in mind that the cache is also cleared and consecutive runs will take longer."
   ]
  },
  {
   "cell_type": "markdown",
   "id": "d82c51cd",
   "metadata": {},
   "source": [
    "### 1.3 Upload comments into the domain\n",
    "Upload the comments into the domain using the **keypoints_client.upload_comments(domain=domain, comments_ids=comments_ids, comments_texts=comments_texts)** method. This method receives the domain, a list of comment_ids and a list of comment_texts. When uploading comments into a domain, the *Key Point Analysis* service splits the comments into sentences and runs a minor cleansing on the sentences. If you have domain-specific knowladge and want to split the comments into sentences yourself, you can upload comments that are already splitted into sentences and set the *dont_split* parameter to True (in the domain_params when creating the domain) and *Key Point Analysis* will use the provided sentences as is. \n",
    "\n",
    "Note that:\n",
    "* Comments_ids must be unique\n",
    "* The number of comments_ids must match the number comments_texts\n",
    "* Comments_texts must not be longer than 1000 characters\n",
    "* Uploading the same comment several times (same domain + comment_id, comment_text is ignored) is not a problem and the comment is only uploaded once (if the comment_text is different, it is NOT updated)."
   ]
  },
  {
   "cell_type": "code",
   "execution_count": 5,
   "id": "4da5d650",
   "metadata": {
    "scrolled": false
   },
   "outputs": [
    {
     "name": "stderr",
     "output_type": "stream",
     "text": [
      "2022-09-21 12:25:49,445 [INFO] keypoints_client.py 497: uploading 400 comments in batches\n",
      "2022-09-21 12:25:49,446 [INFO] keypoints_client.py 424: client calls service (post): https://keypoint-matching-backend.debater.res.ibm.com/comments\n",
      "2022-09-21 12:25:50,513 [INFO] keypoints_client.py 511: uploaded 400 comments, out of 400\n"
     ]
    }
   ],
   "source": [
    "comments_texts = [comment['text'] for comment in comments_2016_sample]\n",
    "comments_ids = [comment['id'] for comment in comments_2016_sample]\n",
    "keypoints_client.upload_comments(domain=domain, comments_ids=comments_ids, comments_texts=comments_texts)"
   ]
  },
  {
   "cell_type": "markdown",
   "id": "183b1da7",
   "metadata": {},
   "source": [
    "### 1.4 Wait for the comments to be processed\n",
    "Comments that are uploaded to the domain are being processed. This takes some times and runs in an async manner. We can't run an analysis before this phase finishes and we need to wait till all comments in the domain are processed using the **keypoints_client.wait_till_all_comments_are_processed(domain=domain)** method."
   ]
  },
  {
   "cell_type": "code",
   "execution_count": 6,
   "id": "220393ed",
   "metadata": {},
   "outputs": [
    {
     "name": "stderr",
     "output_type": "stream",
     "text": [
      "2022-09-21 12:25:50,523 [INFO] keypoints_client.py 424: client calls service (get): https://keypoint-matching-backend.debater.res.ibm.com/comments\n",
      "2022-09-21 12:25:51,416 [INFO] keypoints_client.py 523: domain: austin_demo, comments status: {'processed_comments': 0, 'processed_sentences': 0, 'pending_comments': 400}\n",
      "2022-09-21 12:26:01,421 [INFO] keypoints_client.py 424: client calls service (get): https://keypoint-matching-backend.debater.res.ibm.com/comments\n",
      "2022-09-21 12:26:02,044 [INFO] keypoints_client.py 523: domain: austin_demo, comments status: {'processed_comments': 400, 'processed_sentences': 682, 'pending_comments': 0}\n"
     ]
    }
   ],
   "source": [
    "keypoints_client.wait_till_all_comments_are_processed(domain=domain)"
   ]
  },
  {
   "cell_type": "markdown",
   "id": "da852b04",
   "metadata": {},
   "source": [
    "### 1.5 Start a Key Point Analysis job\n",
    "Start a *Key Point Analysis* job using the **future = keypoints_client.start_kp_analysis_job(domain=domain, run_params=run_params)** method. This method receives the domain and a *run_params*. The run_params is a dictionary with various parameters for customizing the job. Leaving it empty gives us a good default behaviour. The job runs in an async manner therefore the method returns a future object.\n",
    "\n",
    "Few additional options when running an analysis job:\n",
    "* The analysis is performed over all comments in the domain. If we need to run over a subset of the comments (split the data by different GEOs/users types/timeframes etc') we can pass a list of comments_ids to the comments_ids parameter and it will create an analysis using only the provided comments.\n",
    "* By default, key points are extracted automatically. When we want to provide key points and match all sentences to these key points we can do so by passing them to the keypoints parameter: **run_param['keypoints'] = [...]**. This enables a mode of work named human-in-the-loop where we first automatically extract key points, then we manually edit them (refine non-perfect key points, remove duplicated and add missing ones) and then run again, this time providing the edited keypoints as a given set of key points.\n",
    "* It is also possible to provide key points and let KPA add additional missing key points. To do so pass the key points to the keypoint_candidates parameter: **run_param['keypoint_candidates'] = [...]** (see section 4 for an elaborated example).\n",
    "* Full documentation of the supported *domain_params* and *run_params* and how they affect the analysis can be found [here](https://early-access-program.debater.res.ibm.com/docs/services/keypoints/keypoint_parameters_users.pdf)."
   ]
  },
  {
   "cell_type": "code",
   "execution_count": 7,
   "id": "948bf751",
   "metadata": {},
   "outputs": [
    {
     "name": "stderr",
     "output_type": "stream",
     "text": [
      "2022-09-21 12:26:02,058 [INFO] keypoints_client.py 424: client calls service (post): https://keypoint-matching-backend.debater.res.ibm.com/kp_extraction\n",
      "2022-09-21 12:26:02,716 [INFO] keypoints_client.py 579: started a kp analysis job - domain: austin_demo, run_params: {}, job_id: 632ad8aa116742ef75496a41\n"
     ]
    }
   ],
   "source": [
    "future = keypoints_client.start_kp_analysis_job(domain=domain, run_params={})"
   ]
  },
  {
   "cell_type": "markdown",
   "id": "1a1e4414",
   "metadata": {},
   "source": [
    "### 1.6 Wait for the Key Point Analysis job to finish\n",
    "Use the returned future and wait till results are available using the **kpa_result = future.get_result()** method. The method waits for the job to finish and eventually returns the result. The result is a dictionary containing the key points (sorted descendingly according to number of matched sentences) and for each key point has a list of matched sentences (sorted descendingly according to their match score). An additional 'none' key point is added which holds all the sentences that don't match any key point."
   ]
  },
  {
   "cell_type": "code",
   "execution_count": 8,
   "id": "455eee99",
   "metadata": {},
   "outputs": [
    {
     "name": "stderr",
     "output_type": "stream",
     "text": [
      "2022-09-21 12:26:02,728 [INFO] keypoints_client.py 424: client calls service (get): https://keypoint-matching-backend.debater.res.ibm.com/kp_extraction\n",
      "2022-09-21 12:26:03,273 [INFO] keypoints_client.py 760: job_id 632ad8aa116742ef75496a41 is pending\n",
      "2022-09-21 12:26:33,277 [INFO] keypoints_client.py 424: client calls service (get): https://keypoint-matching-backend.debater.res.ibm.com/kp_extraction\n",
      "2022-09-21 12:26:33,853 [INFO] keypoints_client.py 764: job_id 632ad8aa116742ef75496a41 is running, progress: {'total_stages': 2, 'stage_1': {'inferred_batches': 0, 'total_batches': 20, 'batch_size': 2000}}\n"
     ]
    },
    {
     "name": "stdout",
     "output_type": "stream",
     "text": [
      "Stage 1/2: |--------------------------------------------------| 0.0% Complete\n",
      "\n"
     ]
    },
    {
     "name": "stderr",
     "output_type": "stream",
     "text": [
      "2022-09-21 12:27:03,858 [INFO] keypoints_client.py 424: client calls service (get): https://keypoint-matching-backend.debater.res.ibm.com/kp_extraction\n",
      "2022-09-21 12:27:04,425 [INFO] keypoints_client.py 764: job_id 632ad8aa116742ef75496a41 is running, progress: {'total_stages': 2, 'stage_1': {'inferred_batches': 0, 'total_batches': 20, 'batch_size': 2000}}\n"
     ]
    },
    {
     "name": "stdout",
     "output_type": "stream",
     "text": [
      "Stage 1/2: |--------------------------------------------------| 0.0% Complete\n",
      "\n"
     ]
    },
    {
     "name": "stderr",
     "output_type": "stream",
     "text": [
      "2022-09-21 12:27:34,435 [INFO] keypoints_client.py 424: client calls service (get): https://keypoint-matching-backend.debater.res.ibm.com/kp_extraction\n",
      "2022-09-21 12:27:35,021 [INFO] keypoints_client.py 764: job_id 632ad8aa116742ef75496a41 is running, progress: {'total_stages': 2, 'stage_1': {'inferred_batches': 0, 'total_batches': 20, 'batch_size': 2000}}\n"
     ]
    },
    {
     "name": "stdout",
     "output_type": "stream",
     "text": [
      "Stage 1/2: |--------------------------------------------------| 0.0% Complete\n",
      "\n"
     ]
    },
    {
     "name": "stderr",
     "output_type": "stream",
     "text": [
      "2022-09-21 12:28:05,038 [INFO] keypoints_client.py 424: client calls service (get): https://keypoint-matching-backend.debater.res.ibm.com/kp_extraction\n",
      "2022-09-21 12:28:05,667 [INFO] keypoints_client.py 764: job_id 632ad8aa116742ef75496a41 is running, progress: {'total_stages': 2, 'stage_1': {'inferred_batches': 1, 'total_batches': 20, 'batch_size': 2000}}\n"
     ]
    },
    {
     "name": "stdout",
     "output_type": "stream",
     "text": [
      "Stage 1/2: |██------------------------------------------------| 5.0% Complete\n",
      "\n"
     ]
    },
    {
     "name": "stderr",
     "output_type": "stream",
     "text": [
      "2022-09-21 12:28:35,682 [INFO] keypoints_client.py 424: client calls service (get): https://keypoint-matching-backend.debater.res.ibm.com/kp_extraction\n",
      "2022-09-21 12:28:36,262 [INFO] keypoints_client.py 764: job_id 632ad8aa116742ef75496a41 is running, progress: {'total_stages': 2, 'stage_1': {'inferred_batches': 1, 'total_batches': 20, 'batch_size': 2000}}\n"
     ]
    },
    {
     "name": "stdout",
     "output_type": "stream",
     "text": [
      "Stage 1/2: |██------------------------------------------------| 5.0% Complete\n",
      "\n"
     ]
    },
    {
     "name": "stderr",
     "output_type": "stream",
     "text": [
      "2022-09-21 12:29:06,268 [INFO] keypoints_client.py 424: client calls service (get): https://keypoint-matching-backend.debater.res.ibm.com/kp_extraction\n",
      "2022-09-21 12:29:06,847 [INFO] keypoints_client.py 764: job_id 632ad8aa116742ef75496a41 is running, progress: {'total_stages': 2, 'stage_1': {'inferred_batches': 1, 'total_batches': 20, 'batch_size': 2000}}\n"
     ]
    },
    {
     "name": "stdout",
     "output_type": "stream",
     "text": [
      "Stage 1/2: |██------------------------------------------------| 5.0% Complete\n",
      "\n"
     ]
    },
    {
     "name": "stderr",
     "output_type": "stream",
     "text": [
      "2022-09-21 12:29:36,854 [INFO] keypoints_client.py 424: client calls service (get): https://keypoint-matching-backend.debater.res.ibm.com/kp_extraction\n",
      "2022-09-21 12:29:37,445 [INFO] keypoints_client.py 764: job_id 632ad8aa116742ef75496a41 is running, progress: {'total_stages': 2, 'stage_1': {'inferred_batches': 1, 'total_batches': 20, 'batch_size': 2000}}\n"
     ]
    },
    {
     "name": "stdout",
     "output_type": "stream",
     "text": [
      "Stage 1/2: |██------------------------------------------------| 5.0% Complete\n",
      "\n"
     ]
    },
    {
     "name": "stderr",
     "output_type": "stream",
     "text": [
      "2022-09-21 12:30:07,453 [INFO] keypoints_client.py 424: client calls service (get): https://keypoint-matching-backend.debater.res.ibm.com/kp_extraction\n",
      "2022-09-21 12:30:08,044 [INFO] keypoints_client.py 764: job_id 632ad8aa116742ef75496a41 is running, progress: {'total_stages': 2, 'stage_1': {'inferred_batches': 8, 'total_batches': 20, 'batch_size': 2000}}\n"
     ]
    },
    {
     "name": "stdout",
     "output_type": "stream",
     "text": [
      "Stage 1/2: |████████████████████------------------------------| 40.0% Complete\n",
      "\n"
     ]
    },
    {
     "name": "stderr",
     "output_type": "stream",
     "text": [
      "2022-09-21 12:30:38,052 [INFO] keypoints_client.py 424: client calls service (get): https://keypoint-matching-backend.debater.res.ibm.com/kp_extraction\n",
      "2022-09-21 12:30:39,367 [INFO] keypoints_client.py 767: job_id 632ad8aa116742ef75496a41 is done, returning result\n"
     ]
    }
   ],
   "source": [
    "kpa_result_2016 = future.get_result(high_verbosity=True, polling_timout_secs=30)"
   ]
  },
  {
   "cell_type": "markdown",
   "id": "222b3a24",
   "metadata": {},
   "source": [
    "Let's print the results:"
   ]
  },
  {
   "cell_type": "code",
   "execution_count": 9,
   "id": "b6af7396",
   "metadata": {},
   "outputs": [
    {
     "name": "stdout",
     "output_type": "stream",
     "text": [
      "2016 Random sample coverage: 42.57\n",
      "2016 Random sample key points:\n",
      "84 - Improvement on traffic problem.\n",
      "\t- Fix the traffic problems, forget bikes and add more lanes.\n",
      "\t- FIX THE TRAFFIC SITUATION MOPAC.\n",
      "60 - Improve affordable housing/living.\n",
      "\t- BUILD MORE AFFORDABLY HOUSING\n",
      "\t- AFFORDABLE HOUSING FOR LOW INCOME & TRAFFIC\n",
      "50 - Develop public transportation network.\n",
      "\t- DEVELOP REALISTIC PLAN FOR PUBLIC TRANSPORTATION.\n",
      "\t- affordable housing in key and public transportation to reduce the number of cars on the\n",
      "\t  roads\n",
      "26 - COST OF UTILITIES IS VERY HIGH\n",
      "\t- Utilities, particularly water, is too high.\n",
      "\t- Rest is too expensive, cost of living too high.\n",
      "15 - City wide planning pertaining to infrastructure.\n",
      "\t- Plan on more roads that run east and west of the city, between ih35 and mopac\n",
      "\t- Traffic all facets-planning, congestion, enforcement\n",
      "12 - The highways need a major overhaul.\n",
      "\t- Please improve the roadways.\n",
      "\t- Fix the darn roads!\n",
      "9 - DEVELOPMENT SHOULD NOT DISPLACE LOW INCOME FAMILIES.\n",
      "\t- New construction and existing corporations should relieve tax burden so that low income\n",
      "\t  families are not forced out!\n",
      "\t- TOLL ROADS DISCRIMINATE AGAINST LOW INCOME PEOPLE.\n",
      "9 - Streamline the residential permitting process.\n",
      "\t- Have permits for new commercial build outs be processed faster.\n",
      "\t- FIX PERMITS AND ZONING REQUIREMENTS.\n",
      "7 - Attract a most diverse population to Austin\n",
      "\t- This question should be on the tip of all the city staff's tongues How can we make\n",
      "\t  Austin a desirable city for people of all ethnicities?\n",
      "\t- Affordable housing is essential to keep Austin diverse, welcoming, and growing in the\n",
      "\t  ways that reflect the progressive ideals of this city and the future generations.\n",
      "6 - Stop the gentrification.\n",
      "\t- Don't let Austin become Houston with overdevelopment.\n",
      "\t- Stop turning Austin into California, Portland, Seattle.\n"
     ]
    }
   ],
   "source": [
    "from austin_utils import print_results\n",
    "print_results(kpa_result_2016, n_sentences_per_kp=2, title='2016 Random sample')"
   ]
  },
  {
   "cell_type": "markdown",
   "id": "74421ee6",
   "metadata": {},
   "source": [
    "We can also save the results to file. This creates two files, one with the key points and all matched sentences and another summary file with only the key points and their saliance."
   ]
  },
  {
   "cell_type": "code",
   "execution_count": 10,
   "id": "5f5ed2e7",
   "metadata": {},
   "outputs": [
    {
     "name": "stderr",
     "output_type": "stream",
     "text": [
      "2022-09-21 12:30:39,403 [INFO] keypoints_client.py 115: Writing dataframe to: austin_survey_2016_kpa_results_kps_summary.csv\n",
      "2022-09-21 12:30:39,409 [INFO] keypoints_client.py 115: Writing dataframe to: austin_survey_2016_kpa_results.csv\n"
     ]
    }
   ],
   "source": [
    "KpAnalysisUtils.write_result_to_csv(kpa_result_2016, 'austin_survey_2016_kpa_results.csv')"
   ]
  },
  {
   "cell_type": "markdown",
   "id": "4b5a5ab0",
   "metadata": {},
   "source": [
    "It is always possible to cancel a pending/running job in the following way:\n",
    "* **keypoints_client.cancel_kp_extraction_job(\\<Job Id\\>)**\n",
    "\n",
    "Job Id can be found: \n",
    "1. It's printed when a job is started \n",
    "2. From the future object: **future.get_job_id()**\n",
    "3. From user report: **keypoints_client.get_full_report()** (see bellow)\n",
    "\n",
    "It is also possibe to stop all jobs in a domain, or even all jobs in all domains (might be simpler since there is no need of the job_id):\n",
    "* **keypoints_client.cancel_all_extraction_jobs_for_domain(domain)**\n",
    "* **keypoints_client.cancel_all_extraction_jobs_all_domains()**\n",
    "\n",
    "Please cancel long jobs if the results are no longer needed."
   ]
  },
  {
   "cell_type": "markdown",
   "id": "2f1adffd",
   "metadata": {},
   "source": [
    "### 1.7 Modify the run_params and increase coverage\n",
    "Each domain have a cache that stores all intermediate results that are calculated during the analysis. Therefore modifing the run_params and running another analysis runs much faster and all intersecting intermediate results are retreived from cache. \n",
    "\n",
    "Let's run again, but now reduce the **clustering_threshold** and **mapping_threshold**. The **clustering_threshold** is used for the key points selection (choose higher values for more fine-grained key points, and lower for more distinct key points). The **mapping_threshold** is used when mapping all sentences to the final key points (a lower threshold leads to a higher coverage with the risk of a lower precision)."
   ]
  },
  {
   "cell_type": "code",
   "execution_count": 11,
   "id": "199d24fa",
   "metadata": {},
   "outputs": [
    {
     "name": "stderr",
     "output_type": "stream",
     "text": [
      "2022-09-21 12:30:39,417 [INFO] keypoints_client.py 424: client calls service (post): https://keypoint-matching-backend.debater.res.ibm.com/kp_extraction\n",
      "2022-09-21 12:30:40,022 [INFO] keypoints_client.py 579: started a kp analysis job - domain: austin_demo, run_params: {'clustering_threshold': 0.95, 'mapping_threshold': 0.95}, job_id: 632ad9bf116742ef75496a44\n",
      "2022-09-21 12:30:40,024 [INFO] keypoints_client.py 424: client calls service (get): https://keypoint-matching-backend.debater.res.ibm.com/kp_extraction\n",
      "2022-09-21 12:30:40,557 [INFO] keypoints_client.py 760: job_id 632ad9bf116742ef75496a44 is pending\n",
      "2022-09-21 12:31:10,563 [INFO] keypoints_client.py 424: client calls service (get): https://keypoint-matching-backend.debater.res.ibm.com/kp_extraction\n",
      "2022-09-21 12:31:12,129 [INFO] keypoints_client.py 767: job_id 632ad9bf116742ef75496a44 is done, returning result\n",
      "2022-09-21 12:31:12,136 [INFO] keypoints_client.py 115: Writing dataframe to: austin_survey_2016_kpa_results_kps_summary.csv\n",
      "2022-09-21 12:31:12,142 [INFO] keypoints_client.py 115: Writing dataframe to: austin_survey_2016_kpa_results.csv\n"
     ]
    },
    {
     "name": "stdout",
     "output_type": "stream",
     "text": [
      "Random sample coverage: 46.86\n",
      "Random sample key points:\n",
      "96 - Improvement on traffic problem.\n",
      "\t- Fix the traffic problems, forget bikes and add more lanes.\n",
      "\t- FIX THE TRAFFIC SITUATION MOPAC.\n",
      "64 - Improve affordable housing/living.\n",
      "\t- BUILD MORE AFFORDABLY HOUSING\n",
      "\t- AFFORDABLE HOUSING FOR LOW INCOME & TRAFFIC\n",
      "52 - Develop public transportation network.\n",
      "\t- DEVELOP REALISTIC PLAN FOR PUBLIC TRANSPORTATION.\n",
      "\t- affordable housing in key and public transportation to reduce the number of cars on the\n",
      "\t  roads\n",
      "35 - COST OF UTILITIES IS VERY HIGH\n",
      "\t- Utilities, particularly water, is too high.\n",
      "\t- Rest is too expensive, cost of living too high.\n",
      "15 - TO HAVE BETTER PLANNING FOR CITY GROWTH.\n",
      "\t- Plan out the growth for Austin as the city grows.\n",
      "\t- Should have been better prepared for the city growth like Houston, San Antonio, Dallas.\n",
      "11 - Streamline the residential permitting process.\n",
      "\t- Have permits for new commercial build outs be processed faster.\n",
      "\t- FIX PERMITS AND ZONING REQUIREMENTS.\n",
      "10 - DEVELOPMENT SHOULD NOT DISPLACE LOW INCOME FAMILIES.\n",
      "\t- New construction and existing corporations should relieve tax burden so that low income\n",
      "\t  families are not forced out!\n",
      "\t- TOLL ROADS DISCRIMINATE AGAINST LOW INCOME PEOPLE.\n",
      "9 - PLEASE MAKE THIS CITY MORE BIKE FRIENDLY.\n",
      "\t- AND PLEASE GIVE US SAFE BIKE LANES THAT ARE PHYSICALLY SEPARATED FROM CARS - THIS COULD\n",
      "\t  BE A TOTAL BIKING CITY YEAR ROUND.\n",
      "\t- Make / preserve city policies that reflect kindness to animals, whether they be strays\n",
      "\t  or the deer that reside in some of our neighborhoods.\n",
      "8 - Stop the gentrification.\n",
      "\t- Don't let Austin become Houston with overdevelopment.\n",
      "\t- Stop turning Austin into California, Portland, Seattle.\n",
      "6 - Attract a most diverse population to Austin\n",
      "\t- This question should be on the tip of all the city staff's tongues How can we make\n",
      "\t  Austin a desirable city for people of all ethnicities?\n",
      "\t- Affordable housing is essential to keep Austin diverse, welcoming, and growing in the\n",
      "\t  ways that reflect the progressive ideals of this city and the future generations.\n"
     ]
    }
   ],
   "source": [
    "run_params = {'clustering_threshold': 0.95, 'mapping_threshold': 0.95}\n",
    "future = keypoints_client.start_kp_analysis_job(domain=domain, run_params=run_params)\n",
    "kpa_analysis_2016_job_id = future.get_job_id() # saving the job_id for a following section\n",
    "kpa_result_2016 = future.get_result(high_verbosity=True, polling_timout_secs=30)\n",
    "KpAnalysisUtils.write_result_to_csv(kpa_result_2016, 'austin_survey_2016_kpa_results.csv')\n",
    "print_results(kpa_result_2016, n_sentences_per_kp=2, title='Random sample')"
   ]
  },
  {
   "cell_type": "markdown",
   "id": "d61557e9",
   "metadata": {},
   "source": [
    "By reducing the thresholds, the coverage was increased from 42.5% to 46.8%."
   ]
  },
  {
   "cell_type": "markdown",
   "id": "4523a7d0",
   "metadata": {},
   "source": [
    "### 1.8 User Report\n",
    "When we want to see what domains we have, maybe delete old ones that are not needed, see past and present analysis jobs, perhaps take their job_id and fetch their result \n",
    "(via **KpAnalysisTaskFuture(keypoints_client, \\<job_id\\>).get_result()** ), \n",
    "we can get a report with all the needed information"
   ]
  },
  {
   "cell_type": "code",
   "execution_count": null,
   "id": "212b4c29",
   "metadata": {
    "scrolled": true
   },
   "outputs": [],
   "source": [
    "report = keypoints_client.get_full_report()\n",
    "KpAnalysisUtils.print_report(report)"
   ]
  },
  {
   "cell_type": "markdown",
   "id": "66f6d46c",
   "metadata": {},
   "source": [
    "## 2. Mapping setences to multiple key points, and creating a Key-Points-Graphs\n",
    "By default, each sentence is mapped to one key point at most (the key point with the highest match-score, above the **mapping_threshold**). We can run again and ask KPA to map each sentence to all key points with a match-score above the **mapping_threshold**, by adding the **sentence_to_multiple_kps** parameter."
   ]
  },
  {
   "cell_type": "code",
   "execution_count": 13,
   "id": "b677b860",
   "metadata": {},
   "outputs": [
    {
     "name": "stderr",
     "output_type": "stream",
     "text": [
      "2022-09-21 12:31:13,123 [INFO] keypoints_client.py 424: client calls service (post): https://keypoint-matching-backend.debater.res.ibm.com/kp_extraction\n",
      "2022-09-21 12:31:13,741 [INFO] keypoints_client.py 579: started a kp analysis job - domain: austin_demo, run_params: {'clustering_threshold': 0.95, 'mapping_threshold': 0.95, 'sentence_to_multiple_kps': True}, job_id: 632ad9e1116742ef75496a47\n",
      "2022-09-21 12:31:13,743 [INFO] keypoints_client.py 424: client calls service (get): https://keypoint-matching-backend.debater.res.ibm.com/kp_extraction\n",
      "2022-09-21 12:31:14,271 [INFO] keypoints_client.py 760: job_id 632ad9e1116742ef75496a47 is pending\n",
      "2022-09-21 12:31:44,276 [INFO] keypoints_client.py 424: client calls service (get): https://keypoint-matching-backend.debater.res.ibm.com/kp_extraction\n",
      "2022-09-21 12:31:45,651 [INFO] keypoints_client.py 767: job_id 632ad9e1116742ef75496a47 is done, returning result\n"
     ]
    }
   ],
   "source": [
    "run_params = {'clustering_threshold': 0.95, 'mapping_threshold': 0.95, \n",
    "              'sentence_to_multiple_kps': True}\n",
    "future = keypoints_client.start_kp_analysis_job(domain=domain, run_params=run_params)\n",
    "kpa_result_multiple_kps = future.get_result(high_verbosity=True, polling_timout_secs=30)"
   ]
  },
  {
   "cell_type": "code",
   "execution_count": 14,
   "id": "bb6a89b7",
   "metadata": {},
   "outputs": [
    {
     "name": "stdout",
     "output_type": "stream",
     "text": [
      "Random sample coverage: 54.43\n",
      "Random sample key points:\n",
      "115 - Improvement on traffic problem.\n",
      "\t- Fix the traffic problems, forget bikes and add more lanes.\n",
      "\t- FIX THE TRAFFIC SITUATION MOPAC.\n",
      "92 - Work on making Austin affordable again.\n",
      "\t- Should be able to purchase a 3bd 2ba for under 300K in Austin.\n",
      "\t- Make Austin affordable again for hard working families\n",
      "72 - Develop public transportation network.\n",
      "\t- DEVELOP REALISTIC PLAN FOR PUBLIC TRANSPORTATION.\n",
      "\t- affordable housing in key and public transportation to reduce the number of cars on the\n",
      "\t  roads\n",
      "33 - Utilities, particularly water, is too high.\n",
      "\t- Traffic and high utility bills are a problem for me\n",
      "\t- COST OF UTILITIES IS VERY HIGH\n",
      "29 - PLEASE MAKE THIS CITY MORE BIKE FRIENDLY.\n",
      "\t- AND PLEASE GIVE US SAFE BIKE LANES THAT ARE PHYSICALLY SEPARATED FROM CARS - THIS COULD\n",
      "\t  BE A TOTAL BIKING CITY YEAR ROUND.\n",
      "\t- Contributing to the traffic congestion going into the city.\n",
      "23 - make every effort to eradicate poverty\n",
      "\t- PROTECT EAST AUSTIN AND THE POOR\n",
      "\t- DEVELOPMENT SHOULD NOT DISPLACE LOW INCOME FAMILIES.\n",
      "19 - Improve the auto circulation.\n",
      "\t- Traffic signals need to be synchronized to provide for better flow of traffic around the\n",
      "\t  city.\n",
      "\t- This city needs more motor vehicle traffic lanes!!\n",
      "18 - TO HAVE BETTER PLANNING FOR CITY GROWTH.\n",
      "\t- Plan out the growth for Austin as the city grows.\n",
      "\t- Should have been better prepared for the city growth like Houston, San Antonio, Dallas.\n",
      "12 - Stop the gentrification.\n",
      "\t- Don't let Austin become Houston with overdevelopment.\n",
      "\t- Stop turning Austin into California, Portland, Seattle.\n",
      "11 - Streamline the residential permitting process.\n",
      "\t- Have permits for new commercial build outs be processed faster.\n",
      "\t- FIX PERMITS AND ZONING REQUIREMENTS.\n"
     ]
    }
   ],
   "source": [
    "print_results(kpa_result_multiple_kps, n_sentences_per_kp=2, title='Random sample')"
   ]
  },
  {
   "cell_type": "markdown",
   "id": "9b5d94bd",
   "metadata": {},
   "source": [
    "Now that sentences are mapped to multiple key points, it is possible to create a *key points graph* by first saving the results as before, then translating the results file into a graph-data json file, then load this json file in our demo graph visualization, available at: [key points graph demo](https://keypoint-matching-ui.ris2-debater-event.us-east.containers.appdomain.cloud/)"
   ]
  },
  {
   "cell_type": "code",
   "execution_count": 15,
   "id": "0b9c2614",
   "metadata": {},
   "outputs": [
    {
     "name": "stderr",
     "output_type": "stream",
     "text": [
      "2022-09-21 12:31:45,674 [INFO] keypoints_client.py 115: Writing dataframe to: austin_survey_2016_multiple_kpa_results_kps_summary.csv\n",
      "2022-09-21 12:31:45,680 [INFO] keypoints_client.py 115: Writing dataframe to: austin_survey_2016_multiple_kpa_results.csv\n",
      "2022-09-21 12:31:45,687 [INFO] keypoints_client.py 355: Creating key points graph data-file for results file: austin_survey_2016_multiple_kpa_results.csv\n",
      "2022-09-21 12:31:45,687 [INFO] keypoints_client.py 330: reading file: austin_survey_2016_multiple_kpa_results.csv\n",
      "2022-09-21 12:31:45,707 [INFO] keypoints_client.py 388: saving graph in file: austin_survey_2016_multiple_kpa_results_graph_data.json\n",
      "2022-09-21 12:31:45,707 [INFO] keypoints_client.py 389: saving graph in file: austin_survey_2016_multiple_kpa_results_graph_data.json\n"
     ]
    }
   ],
   "source": [
    "KpAnalysisUtils.write_result_to_csv(kpa_result_multiple_kps, 'austin_survey_2016_multiple_kpa_results.csv')\n",
    "KpAnalysisUtils.create_graph_data_file_for_ui('austin_survey_2016_multiple_kpa_results.csv')"
   ]
  },
  {
   "cell_type": "markdown",
   "id": "818fd69a",
   "metadata": {},
   "source": [
    "You can now go to: [key points graph demo](https://keypoint-matching-ui.ris2-debater-event.us-east.containers.appdomain.cloud/) and load the graph's data file **austin_survey_2016_multiple_kpa_results_graph_data.json** to the ui."
   ]
  },
  {
   "cell_type": "markdown",
   "id": "de996c7b",
   "metadata": {},
   "source": [
    "## 3. Run key point analysis on each stance seperatly\n",
    "In many use-cases (surveys, customer feedback, etc') the comments have positive and/or negative stance, and it is usful to create a KPA analysis on each stance seperatly. Most stance detection models don't perfome too well on survey data (also costumer feedbacks etc') since the comments tend to have many \"suggestions\" in them, and the suggestions tend to apear positive to the model while the user suggests to improve something that needs improvement.\n",
    "For that end we trained a stance-model that handles suggestions well and labels each sentence as 'Positive', 'Negative', 'Neutral' and 'Suggestion'. We usually treat Suggestions as negatives and run two separate analysis, first over 'Positive' sentences and second over 'Negative' and 'Suggestions' sentences.\n",
    "\n",
    "This has the following advantages:\n",
    "* Creates a separate positive/negative summary that shows clearly what works well and what needs to be improved.\n",
    "* Filters-out neutral sentences that usually don't contain valuable information.\n",
    "* Helps the matching model avoid stance mistakes (matching a positive sentence to a negative key point and vice-versa).\n",
    "\n",
    "Lets run again, over the Austin survey dataset, but this time create two seperate KPA analyses (positive and negative). We will first need to create a new domain and add the domain_param **do_stance_analysis**."
   ]
  },
  {
   "cell_type": "code",
   "execution_count": 16,
   "id": "cd950d77",
   "metadata": {},
   "outputs": [
    {
     "name": "stderr",
     "output_type": "stream",
     "text": [
      "2022-09-21 12:31:45,712 [INFO] keypoints_client.py 424: client calls service (post): https://keypoint-matching-backend.debater.res.ibm.com/domains\n",
      "2022-09-21 12:31:46,629 [INFO] keypoints_client.py 475: created domain: austin_demo_two_stances with domain_params: {'do_stance_analysis': True}\n",
      "2022-09-21 12:31:46,631 [INFO] keypoints_client.py 270: domain: austin_demo_two_stances was created\n"
     ]
    }
   ],
   "source": [
    "domain = 'austin_demo_two_stances'\n",
    "domain_params = {'do_stance_analysis': True}\n",
    "KpAnalysisUtils.create_domain_ignore_exists(client=keypoints_client, domain=domain, domain_params=domain_params)"
   ]
  },
  {
   "cell_type": "markdown",
   "id": "3f04dd7e",
   "metadata": {},
   "source": [
    "Let's upload all 2016 comments to the new domain and wait for them to be processed. This time the sentences' stance is also calculated."
   ]
  },
  {
   "cell_type": "code",
   "execution_count": 17,
   "id": "5bbbd3ed",
   "metadata": {},
   "outputs": [
    {
     "name": "stderr",
     "output_type": "stream",
     "text": [
      "2022-09-21 12:31:46,645 [INFO] keypoints_client.py 497: uploading 1588 comments in batches\n",
      "2022-09-21 12:31:46,647 [INFO] keypoints_client.py 424: client calls service (post): https://keypoint-matching-backend.debater.res.ibm.com/comments\n",
      "2022-09-21 12:31:47,889 [INFO] keypoints_client.py 511: uploaded 1588 comments, out of 1588\n",
      "2022-09-21 12:31:47,892 [INFO] keypoints_client.py 424: client calls service (get): https://keypoint-matching-backend.debater.res.ibm.com/comments\n",
      "2022-09-21 12:31:48,468 [INFO] keypoints_client.py 523: domain: austin_demo_two_stances, comments status: {'processed_comments': 0, 'processed_sentences': 0, 'pending_comments': 1588}\n",
      "2022-09-21 12:31:58,475 [INFO] keypoints_client.py 424: client calls service (get): https://keypoint-matching-backend.debater.res.ibm.com/comments\n",
      "2022-09-21 12:31:59,107 [INFO] keypoints_client.py 523: domain: austin_demo_two_stances, comments status: {'processed_comments': 1588, 'processed_sentences': 2708, 'pending_comments': 0}\n"
     ]
    }
   ],
   "source": [
    "comments_texts = [comment['text'] for comment in comments_2016]\n",
    "comments_ids = [comment['id'] for comment in comments_2016]\n",
    "keypoints_client.upload_comments(domain=domain, comments_ids=comments_ids, comments_texts=comments_texts)\n",
    "keypoints_client.wait_till_all_comments_are_processed(domain=domain)"
   ]
  },
  {
   "cell_type": "markdown",
   "id": "46bd699f",
   "metadata": {},
   "source": [
    "We can download the processed sentences and save them into a csv if we want to examine the processed data."
   ]
  },
  {
   "cell_type": "code",
   "execution_count": 18,
   "id": "61f97380",
   "metadata": {},
   "outputs": [
    {
     "name": "stderr",
     "output_type": "stream",
     "text": [
      "2022-09-21 12:31:59,123 [INFO] keypoints_client.py 424: client calls service (get): https://keypoint-matching-backend.debater.res.ibm.com/data\n",
      "2022-09-21 12:32:01,231 [INFO] keypoints_client.py 710: returning 2708 sentences for domain austin_demo_two_stances\n"
     ]
    }
   ],
   "source": [
    "sentences = keypoints_client.get_sentences_for_domain(domain=domain)\n",
    "KpAnalysisUtils.write_sentences_to_csv(sentences, f'{domain}_sentences.csv')"
   ]
  },
  {
   "cell_type": "markdown",
   "id": "1eae7368",
   "metadata": {},
   "source": [
    "And now, run two analyses, one over the positive sentences and one over the negative + suggestions."
   ]
  },
  {
   "cell_type": "code",
   "execution_count": 19,
   "id": "11b6e4a3",
   "metadata": {},
   "outputs": [
    {
     "name": "stderr",
     "output_type": "stream",
     "text": [
      "2022-09-21 12:32:01,972 [INFO] keypoints_client.py 424: client calls service (post): https://keypoint-matching-backend.debater.res.ibm.com/kp_extraction\n",
      "2022-09-21 12:32:02,706 [INFO] keypoints_client.py 579: started a kp analysis job - domain: austin_demo_two_stances, run_params: {'clustering_threshold': 0.95, 'mapping_threshold': 0.95, 'sentence_to_multiple_kps': True, 'stances_to_run': ['pos'], 'stances_threshold': 0.5}, job_id: 632ada12116742ef75496a4b\n",
      "2022-09-21 12:32:02,708 [INFO] keypoints_client.py 424: client calls service (get): https://keypoint-matching-backend.debater.res.ibm.com/kp_extraction\n",
      "2022-09-21 12:32:03,343 [INFO] keypoints_client.py 760: job_id 632ada12116742ef75496a4b is pending\n",
      "2022-09-21 12:32:33,345 [INFO] keypoints_client.py 424: client calls service (get): https://keypoint-matching-backend.debater.res.ibm.com/kp_extraction\n",
      "2022-09-21 12:32:33,959 [INFO] keypoints_client.py 764: job_id 632ada12116742ef75496a4b is running, progress: {'total_stages': 2, 'stage_1': {'inferred_batches': 1, 'total_batches': 1, 'batch_size': 2000}}\n"
     ]
    },
    {
     "name": "stdout",
     "output_type": "stream",
     "text": [
      "Stage 1/2: |██████████████████████████████████████████████████| 100.0% Complete\n",
      "\n",
      "\n"
     ]
    },
    {
     "name": "stderr",
     "output_type": "stream",
     "text": [
      "2022-09-21 12:33:03,963 [INFO] keypoints_client.py 424: client calls service (get): https://keypoint-matching-backend.debater.res.ibm.com/kp_extraction\n",
      "2022-09-21 12:33:04,999 [INFO] keypoints_client.py 767: job_id 632ada12116742ef75496a4b is done, returning result\n"
     ]
    },
    {
     "name": "stdout",
     "output_type": "stream",
     "text": [
      "Random sample positives coverage: 3.16\n",
      "Random sample positives key points:\n",
      "3 - RESIDENTIAL SERVICES ARE EXCELLENT!\n",
      "\t- City services (water, streets, electric) are outstanding!!\n",
      "\t- I was extremely impressed with the response time & professionalism of the workers!\n"
     ]
    }
   ],
   "source": [
    "run_params = {'clustering_threshold': 0.95, 'mapping_threshold': 0.95, \n",
    "              'sentence_to_multiple_kps': True}\n",
    "run_params['stances_to_run'] = ['pos']\n",
    "run_params['stances_threshold'] = 0.5\n",
    "future = keypoints_client.start_kp_analysis_job(domain=domain, run_params=run_params)\n",
    "kpa_pos_result = future.get_result(high_verbosity=True, polling_timout_secs=30)\n",
    "print_results(kpa_pos_result, n_sentences_per_kp=2, title='Random sample positives')"
   ]
  },
  {
   "cell_type": "markdown",
   "id": "52e9d628",
   "metadata": {},
   "source": [
    "As in many surveys, most comments are negative/suggestions therefore the positive analysis is relativly limited. Let's see how the negative analysis goes."
   ]
  },
  {
   "cell_type": "code",
   "execution_count": 20,
   "id": "160cbb3e",
   "metadata": {},
   "outputs": [
    {
     "name": "stderr",
     "output_type": "stream",
     "text": [
      "2022-09-21 12:33:05,014 [INFO] keypoints_client.py 424: client calls service (post): https://keypoint-matching-backend.debater.res.ibm.com/kp_extraction\n",
      "2022-09-21 12:33:06,549 [INFO] keypoints_client.py 579: started a kp analysis job - domain: austin_demo_two_stances, run_params: {'clustering_threshold': 0.95, 'mapping_threshold': 0.95, 'sentence_to_multiple_kps': True, 'stances_to_run': ['neg', 'sug'], 'stances_threshold': 0.5}, job_id: 632ada52116742ef75496a4e\n",
      "2022-09-21 12:33:06,552 [INFO] keypoints_client.py 424: client calls service (get): https://keypoint-matching-backend.debater.res.ibm.com/kp_extraction\n",
      "2022-09-21 12:33:07,105 [INFO] keypoints_client.py 760: job_id 632ada52116742ef75496a4e is pending\n",
      "2022-09-21 12:33:37,109 [INFO] keypoints_client.py 424: client calls service (get): https://keypoint-matching-backend.debater.res.ibm.com/kp_extraction\n",
      "2022-09-21 12:33:37,751 [INFO] keypoints_client.py 764: job_id 632ada52116742ef75496a4e is running, progress: {'total_stages': 2, 'stage_1': {'inferred_batches': 0, 'total_batches': 94, 'batch_size': 2000}}\n"
     ]
    },
    {
     "name": "stdout",
     "output_type": "stream",
     "text": [
      "Stage 1/2: |--------------------------------------------------| 0.0% Complete\n",
      "\n"
     ]
    },
    {
     "name": "stderr",
     "output_type": "stream",
     "text": [
      "2022-09-21 12:34:07,754 [INFO] keypoints_client.py 424: client calls service (get): https://keypoint-matching-backend.debater.res.ibm.com/kp_extraction\n",
      "2022-09-21 12:34:08,392 [INFO] keypoints_client.py 764: job_id 632ada52116742ef75496a4e is running, progress: {'total_stages': 2, 'stage_1': {'inferred_batches': 0, 'total_batches': 94, 'batch_size': 2000}}\n"
     ]
    },
    {
     "name": "stdout",
     "output_type": "stream",
     "text": [
      "Stage 1/2: |--------------------------------------------------| 0.0% Complete\n",
      "\n"
     ]
    },
    {
     "name": "stderr",
     "output_type": "stream",
     "text": [
      "2022-09-21 12:34:38,398 [INFO] keypoints_client.py 424: client calls service (get): https://keypoint-matching-backend.debater.res.ibm.com/kp_extraction\n",
      "2022-09-21 12:34:39,069 [INFO] keypoints_client.py 764: job_id 632ada52116742ef75496a4e is running, progress: {'total_stages': 2, 'stage_1': {'inferred_batches': 0, 'total_batches': 94, 'batch_size': 2000}}\n"
     ]
    },
    {
     "name": "stdout",
     "output_type": "stream",
     "text": [
      "Stage 1/2: |--------------------------------------------------| 0.0% Complete\n",
      "\n"
     ]
    },
    {
     "name": "stderr",
     "output_type": "stream",
     "text": [
      "2022-09-21 12:35:09,077 [INFO] keypoints_client.py 424: client calls service (get): https://keypoint-matching-backend.debater.res.ibm.com/kp_extraction\n",
      "2022-09-21 12:35:09,730 [INFO] keypoints_client.py 764: job_id 632ada52116742ef75496a4e is running, progress: {'total_stages': 2, 'stage_1': {'inferred_batches': 0, 'total_batches': 94, 'batch_size': 2000}}\n"
     ]
    },
    {
     "name": "stdout",
     "output_type": "stream",
     "text": [
      "Stage 1/2: |--------------------------------------------------| 0.0% Complete\n",
      "\n"
     ]
    },
    {
     "name": "stderr",
     "output_type": "stream",
     "text": [
      "2022-09-21 12:35:39,735 [INFO] keypoints_client.py 424: client calls service (get): https://keypoint-matching-backend.debater.res.ibm.com/kp_extraction\n",
      "2022-09-21 12:35:40,421 [INFO] keypoints_client.py 764: job_id 632ada52116742ef75496a4e is running, progress: {'total_stages': 2, 'stage_1': {'inferred_batches': 0, 'total_batches': 94, 'batch_size': 2000}}\n"
     ]
    },
    {
     "name": "stdout",
     "output_type": "stream",
     "text": [
      "Stage 1/2: |--------------------------------------------------| 0.0% Complete\n",
      "\n"
     ]
    },
    {
     "name": "stderr",
     "output_type": "stream",
     "text": [
      "2022-09-21 12:36:10,431 [INFO] keypoints_client.py 424: client calls service (get): https://keypoint-matching-backend.debater.res.ibm.com/kp_extraction\n",
      "2022-09-21 12:36:11,053 [INFO] keypoints_client.py 764: job_id 632ada52116742ef75496a4e is running, progress: {'total_stages': 2, 'stage_1': {'inferred_batches': 0, 'total_batches': 94, 'batch_size': 2000}}\n"
     ]
    },
    {
     "name": "stdout",
     "output_type": "stream",
     "text": [
      "Stage 1/2: |--------------------------------------------------| 0.0% Complete\n",
      "\n"
     ]
    },
    {
     "name": "stderr",
     "output_type": "stream",
     "text": [
      "2022-09-21 12:36:41,058 [INFO] keypoints_client.py 424: client calls service (get): https://keypoint-matching-backend.debater.res.ibm.com/kp_extraction\n",
      "2022-09-21 12:36:41,680 [INFO] keypoints_client.py 764: job_id 632ada52116742ef75496a4e is running, progress: {'total_stages': 2, 'stage_1': {'inferred_batches': 1, 'total_batches': 94, 'batch_size': 2000}}\n"
     ]
    },
    {
     "name": "stdout",
     "output_type": "stream",
     "text": [
      "Stage 1/2: |--------------------------------------------------| 1.1% Complete\n",
      "\n"
     ]
    },
    {
     "name": "stderr",
     "output_type": "stream",
     "text": [
      "2022-09-21 12:37:11,683 [INFO] keypoints_client.py 424: client calls service (get): https://keypoint-matching-backend.debater.res.ibm.com/kp_extraction\n",
      "2022-09-21 12:37:12,353 [INFO] keypoints_client.py 764: job_id 632ada52116742ef75496a4e is running, progress: {'total_stages': 2, 'stage_1': {'inferred_batches': 10, 'total_batches': 94, 'batch_size': 2000}}\n"
     ]
    },
    {
     "name": "stdout",
     "output_type": "stream",
     "text": [
      "Stage 1/2: |█████---------------------------------------------| 10.6% Complete\n",
      "\n"
     ]
    },
    {
     "name": "stderr",
     "output_type": "stream",
     "text": [
      "2022-09-21 12:37:42,360 [INFO] keypoints_client.py 424: client calls service (get): https://keypoint-matching-backend.debater.res.ibm.com/kp_extraction\n",
      "2022-09-21 12:37:43,263 [INFO] keypoints_client.py 764: job_id 632ada52116742ef75496a4e is running, progress: {'total_stages': 2, 'stage_1': {'inferred_batches': 20, 'total_batches': 94, 'batch_size': 2000}}\n"
     ]
    },
    {
     "name": "stdout",
     "output_type": "stream",
     "text": [
      "Stage 1/2: |██████████----------------------------------------| 21.3% Complete\n",
      "\n"
     ]
    },
    {
     "name": "stderr",
     "output_type": "stream",
     "text": [
      "2022-09-21 12:38:13,270 [INFO] keypoints_client.py 424: client calls service (get): https://keypoint-matching-backend.debater.res.ibm.com/kp_extraction\n",
      "2022-09-21 12:38:13,871 [INFO] keypoints_client.py 764: job_id 632ada52116742ef75496a4e is running, progress: {'total_stages': 2, 'stage_1': {'inferred_batches': 20, 'total_batches': 94, 'batch_size': 2000}}\n"
     ]
    },
    {
     "name": "stdout",
     "output_type": "stream",
     "text": [
      "Stage 1/2: |██████████----------------------------------------| 21.3% Complete\n",
      "\n"
     ]
    },
    {
     "name": "stderr",
     "output_type": "stream",
     "text": [
      "2022-09-21 12:38:43,878 [INFO] keypoints_client.py 424: client calls service (get): https://keypoint-matching-backend.debater.res.ibm.com/kp_extraction\n",
      "2022-09-21 12:38:44,601 [INFO] keypoints_client.py 764: job_id 632ada52116742ef75496a4e is running, progress: {'total_stages': 2, 'stage_1': {'inferred_batches': 20, 'total_batches': 94, 'batch_size': 2000}}\n"
     ]
    },
    {
     "name": "stdout",
     "output_type": "stream",
     "text": [
      "Stage 1/2: |██████████----------------------------------------| 21.3% Complete\n",
      "\n"
     ]
    },
    {
     "name": "stderr",
     "output_type": "stream",
     "text": [
      "2022-09-21 12:39:14,608 [INFO] keypoints_client.py 424: client calls service (get): https://keypoint-matching-backend.debater.res.ibm.com/kp_extraction\n",
      "2022-09-21 12:39:15,251 [INFO] keypoints_client.py 764: job_id 632ada52116742ef75496a4e is running, progress: {'total_stages': 2, 'stage_1': {'inferred_batches': 20, 'total_batches': 94, 'batch_size': 2000}}\n"
     ]
    },
    {
     "name": "stdout",
     "output_type": "stream",
     "text": [
      "Stage 1/2: |██████████----------------------------------------| 21.3% Complete\n",
      "\n"
     ]
    },
    {
     "name": "stderr",
     "output_type": "stream",
     "text": [
      "2022-09-21 12:39:45,254 [INFO] keypoints_client.py 424: client calls service (get): https://keypoint-matching-backend.debater.res.ibm.com/kp_extraction\n",
      "2022-09-21 12:39:46,019 [INFO] keypoints_client.py 764: job_id 632ada52116742ef75496a4e is running, progress: {'total_stages': 2, 'stage_1': {'inferred_batches': 20, 'total_batches': 94, 'batch_size': 2000}}\n"
     ]
    },
    {
     "name": "stdout",
     "output_type": "stream",
     "text": [
      "Stage 1/2: |██████████----------------------------------------| 21.3% Complete\n",
      "\n"
     ]
    },
    {
     "name": "stderr",
     "output_type": "stream",
     "text": [
      "2022-09-21 12:40:16,026 [INFO] keypoints_client.py 424: client calls service (get): https://keypoint-matching-backend.debater.res.ibm.com/kp_extraction\n",
      "2022-09-21 12:40:16,674 [INFO] keypoints_client.py 764: job_id 632ada52116742ef75496a4e is running, progress: {'total_stages': 2, 'stage_1': {'inferred_batches': 20, 'total_batches': 94, 'batch_size': 2000}}\n"
     ]
    },
    {
     "name": "stdout",
     "output_type": "stream",
     "text": [
      "Stage 1/2: |██████████----------------------------------------| 21.3% Complete\n",
      "\n"
     ]
    },
    {
     "name": "stderr",
     "output_type": "stream",
     "text": [
      "2022-09-21 12:40:46,680 [INFO] keypoints_client.py 424: client calls service (get): https://keypoint-matching-backend.debater.res.ibm.com/kp_extraction\n",
      "2022-09-21 12:40:47,290 [INFO] keypoints_client.py 764: job_id 632ada52116742ef75496a4e is running, progress: {'total_stages': 2, 'stage_1': {'inferred_batches': 23, 'total_batches': 94, 'batch_size': 2000}}\n"
     ]
    },
    {
     "name": "stdout",
     "output_type": "stream",
     "text": [
      "Stage 1/2: |████████████--------------------------------------| 24.5% Complete\n",
      "\n"
     ]
    },
    {
     "name": "stderr",
     "output_type": "stream",
     "text": [
      "2022-09-21 12:41:17,295 [INFO] keypoints_client.py 424: client calls service (get): https://keypoint-matching-backend.debater.res.ibm.com/kp_extraction\n",
      "2022-09-21 12:41:17,971 [INFO] keypoints_client.py 764: job_id 632ada52116742ef75496a4e is running, progress: {'total_stages': 2, 'stage_1': {'inferred_batches': 36, 'total_batches': 94, 'batch_size': 2000}}\n"
     ]
    },
    {
     "name": "stdout",
     "output_type": "stream",
     "text": [
      "Stage 1/2: |███████████████████-------------------------------| 38.3% Complete\n",
      "\n"
     ]
    },
    {
     "name": "stderr",
     "output_type": "stream",
     "text": [
      "2022-09-21 12:41:47,979 [INFO] keypoints_client.py 424: client calls service (get): https://keypoint-matching-backend.debater.res.ibm.com/kp_extraction\n",
      "2022-09-21 12:41:48,669 [INFO] keypoints_client.py 764: job_id 632ada52116742ef75496a4e is running, progress: {'total_stages': 2, 'stage_1': {'inferred_batches': 40, 'total_batches': 94, 'batch_size': 2000}}\n"
     ]
    },
    {
     "name": "stdout",
     "output_type": "stream",
     "text": [
      "Stage 1/2: |█████████████████████-----------------------------| 42.6% Complete\n",
      "\n"
     ]
    },
    {
     "name": "stderr",
     "output_type": "stream",
     "text": [
      "2022-09-21 12:42:18,676 [INFO] keypoints_client.py 424: client calls service (get): https://keypoint-matching-backend.debater.res.ibm.com/kp_extraction\n",
      "2022-09-21 12:42:19,312 [INFO] keypoints_client.py 764: job_id 632ada52116742ef75496a4e is running, progress: {'total_stages': 2, 'stage_1': {'inferred_batches': 40, 'total_batches': 94, 'batch_size': 2000}}\n"
     ]
    },
    {
     "name": "stdout",
     "output_type": "stream",
     "text": [
      "Stage 1/2: |█████████████████████-----------------------------| 42.6% Complete\n",
      "\n"
     ]
    },
    {
     "name": "stderr",
     "output_type": "stream",
     "text": [
      "2022-09-21 12:42:49,317 [INFO] keypoints_client.py 424: client calls service (get): https://keypoint-matching-backend.debater.res.ibm.com/kp_extraction\n",
      "2022-09-21 12:42:49,937 [INFO] keypoints_client.py 764: job_id 632ada52116742ef75496a4e is running, progress: {'total_stages': 2, 'stage_1': {'inferred_batches': 40, 'total_batches': 94, 'batch_size': 2000}}\n"
     ]
    },
    {
     "name": "stdout",
     "output_type": "stream",
     "text": [
      "Stage 1/2: |█████████████████████-----------------------------| 42.6% Complete\n",
      "\n"
     ]
    },
    {
     "name": "stderr",
     "output_type": "stream",
     "text": [
      "2022-09-21 12:43:19,955 [INFO] keypoints_client.py 424: client calls service (get): https://keypoint-matching-backend.debater.res.ibm.com/kp_extraction\n",
      "2022-09-21 12:43:20,581 [INFO] keypoints_client.py 764: job_id 632ada52116742ef75496a4e is running, progress: {'total_stages': 2, 'stage_1': {'inferred_batches': 40, 'total_batches': 94, 'batch_size': 2000}}\n"
     ]
    },
    {
     "name": "stdout",
     "output_type": "stream",
     "text": [
      "Stage 1/2: |█████████████████████-----------------------------| 42.6% Complete\n",
      "\n"
     ]
    },
    {
     "name": "stderr",
     "output_type": "stream",
     "text": [
      "2022-09-21 12:43:50,589 [INFO] keypoints_client.py 424: client calls service (get): https://keypoint-matching-backend.debater.res.ibm.com/kp_extraction\n",
      "2022-09-21 12:43:51,221 [INFO] keypoints_client.py 764: job_id 632ada52116742ef75496a4e is running, progress: {'total_stages': 2, 'stage_1': {'inferred_batches': 46, 'total_batches': 94, 'batch_size': 2000}}\n"
     ]
    },
    {
     "name": "stdout",
     "output_type": "stream",
     "text": [
      "Stage 1/2: |████████████████████████--------------------------| 48.9% Complete\n",
      "\n"
     ]
    },
    {
     "name": "stderr",
     "output_type": "stream",
     "text": [
      "2022-09-21 12:44:21,227 [INFO] keypoints_client.py 424: client calls service (get): https://keypoint-matching-backend.debater.res.ibm.com/kp_extraction\n",
      "2022-09-21 12:44:21,826 [INFO] keypoints_client.py 764: job_id 632ada52116742ef75496a4e is running, progress: {'total_stages': 2, 'stage_1': {'inferred_batches': 58, 'total_batches': 94, 'batch_size': 2000}}\n"
     ]
    },
    {
     "name": "stdout",
     "output_type": "stream",
     "text": [
      "Stage 1/2: |██████████████████████████████--------------------| 61.7% Complete\n",
      "\n"
     ]
    },
    {
     "name": "stderr",
     "output_type": "stream",
     "text": [
      "2022-09-21 12:44:51,830 [INFO] keypoints_client.py 424: client calls service (get): https://keypoint-matching-backend.debater.res.ibm.com/kp_extraction\n",
      "2022-09-21 12:44:52,466 [INFO] keypoints_client.py 764: job_id 632ada52116742ef75496a4e is running, progress: {'total_stages': 2, 'stage_1': {'inferred_batches': 60, 'total_batches': 94, 'batch_size': 2000}}\n"
     ]
    },
    {
     "name": "stdout",
     "output_type": "stream",
     "text": [
      "Stage 1/2: |███████████████████████████████-------------------| 63.8% Complete\n",
      "\n"
     ]
    },
    {
     "name": "stderr",
     "output_type": "stream",
     "text": [
      "2022-09-21 12:45:22,476 [INFO] keypoints_client.py 424: client calls service (get): https://keypoint-matching-backend.debater.res.ibm.com/kp_extraction\n",
      "2022-09-21 12:45:23,111 [INFO] keypoints_client.py 764: job_id 632ada52116742ef75496a4e is running, progress: {'total_stages': 2, 'stage_1': {'inferred_batches': 60, 'total_batches': 94, 'batch_size': 2000}}\n"
     ]
    },
    {
     "name": "stdout",
     "output_type": "stream",
     "text": [
      "Stage 1/2: |███████████████████████████████-------------------| 63.8% Complete\n",
      "\n"
     ]
    },
    {
     "name": "stderr",
     "output_type": "stream",
     "text": [
      "2022-09-21 12:45:53,118 [INFO] keypoints_client.py 424: client calls service (get): https://keypoint-matching-backend.debater.res.ibm.com/kp_extraction\n",
      "2022-09-21 12:45:53,728 [INFO] keypoints_client.py 764: job_id 632ada52116742ef75496a4e is running, progress: {'total_stages': 2, 'stage_1': {'inferred_batches': 73, 'total_batches': 94, 'batch_size': 2000}}\n"
     ]
    },
    {
     "name": "stdout",
     "output_type": "stream",
     "text": [
      "Stage 1/2: |██████████████████████████████████████------------| 77.7% Complete\n",
      "\n"
     ]
    },
    {
     "name": "stderr",
     "output_type": "stream",
     "text": [
      "2022-09-21 12:46:23,732 [INFO] keypoints_client.py 424: client calls service (get): https://keypoint-matching-backend.debater.res.ibm.com/kp_extraction\n",
      "2022-09-21 12:46:24,370 [INFO] keypoints_client.py 764: job_id 632ada52116742ef75496a4e is running, progress: {'total_stages': 2, 'stage_1': {'inferred_batches': 78, 'total_batches': 94, 'batch_size': 2000}}\n"
     ]
    },
    {
     "name": "stdout",
     "output_type": "stream",
     "text": [
      "Stage 1/2: |█████████████████████████████████████████---------| 83.0% Complete\n",
      "\n"
     ]
    },
    {
     "name": "stderr",
     "output_type": "stream",
     "text": [
      "2022-09-21 12:46:54,378 [INFO] keypoints_client.py 424: client calls service (get): https://keypoint-matching-backend.debater.res.ibm.com/kp_extraction\n",
      "2022-09-21 12:46:54,995 [INFO] keypoints_client.py 764: job_id 632ada52116742ef75496a4e is running, progress: {'total_stages': 2, 'stage_1': {'inferred_batches': 81, 'total_batches': 94, 'batch_size': 2000}}\n"
     ]
    },
    {
     "name": "stdout",
     "output_type": "stream",
     "text": [
      "Stage 1/2: |███████████████████████████████████████████-------| 86.2% Complete\n",
      "\n"
     ]
    },
    {
     "name": "stderr",
     "output_type": "stream",
     "text": [
      "2022-09-21 12:47:25,003 [INFO] keypoints_client.py 424: client calls service (get): https://keypoint-matching-backend.debater.res.ibm.com/kp_extraction\n",
      "2022-09-21 12:47:25,620 [INFO] keypoints_client.py 764: job_id 632ada52116742ef75496a4e is running, progress: {'total_stages': 2, 'stage_1': {'inferred_batches': 92, 'total_batches': 94, 'batch_size': 2000}}\n"
     ]
    },
    {
     "name": "stdout",
     "output_type": "stream",
     "text": [
      "Stage 1/2: |████████████████████████████████████████████████--| 97.9% Complete\n",
      "\n"
     ]
    },
    {
     "name": "stderr",
     "output_type": "stream",
     "text": [
      "2022-09-21 12:47:55,627 [INFO] keypoints_client.py 424: client calls service (get): https://keypoint-matching-backend.debater.res.ibm.com/kp_extraction\n",
      "2022-09-21 12:47:56,359 [INFO] keypoints_client.py 764: job_id 632ada52116742ef75496a4e is running, progress: {'total_stages': 2, 'stage_1': {'inferred_batches': 94, 'total_batches': 94, 'batch_size': 2000}, 'stage_2': {'inferred_batches': 0, 'total_batches': 8, 'batch_size': 2000}}\n"
     ]
    },
    {
     "name": "stdout",
     "output_type": "stream",
     "text": [
      "Stage 2/2: |--------------------------------------------------| 0.0% Complete\n",
      "\n"
     ]
    },
    {
     "name": "stderr",
     "output_type": "stream",
     "text": [
      "2022-09-21 12:48:26,363 [INFO] keypoints_client.py 424: client calls service (get): https://keypoint-matching-backend.debater.res.ibm.com/kp_extraction\n",
      "2022-09-21 12:48:27,087 [INFO] keypoints_client.py 764: job_id 632ada52116742ef75496a4e is running, progress: {'total_stages': 2, 'stage_1': {'inferred_batches': 94, 'total_batches': 94, 'batch_size': 2000}, 'stage_2': {'inferred_batches': 3, 'total_batches': 8, 'batch_size': 2000}}\n"
     ]
    },
    {
     "name": "stdout",
     "output_type": "stream",
     "text": [
      "Stage 2/2: |██████████████████--------------------------------| 37.5% Complete\n",
      "\n"
     ]
    },
    {
     "name": "stderr",
     "output_type": "stream",
     "text": [
      "2022-09-21 12:48:57,092 [INFO] keypoints_client.py 424: client calls service (get): https://keypoint-matching-backend.debater.res.ibm.com/kp_extraction\n",
      "2022-09-21 12:48:59,113 [INFO] keypoints_client.py 767: job_id 632ada52116742ef75496a4e is done, returning result\n"
     ]
    }
   ],
   "source": [
    "run_params['stances_to_run'] = ['neg', 'sug']\n",
    "run_params['stances_threshold'] = 0.5\n",
    "future = keypoints_client.start_kp_analysis_job(domain=domain, run_params=run_params, comments_ids=comments_ids)\n",
    "kpa_neg_result = future.get_result(high_verbosity=True, polling_timout_secs=30)"
   ]
  },
  {
   "cell_type": "markdown",
   "id": "8121d10b",
   "metadata": {},
   "source": [
    "Lets print the results:"
   ]
  },
  {
   "cell_type": "code",
   "execution_count": 21,
   "id": "d8015b3b",
   "metadata": {},
   "outputs": [
    {
     "name": "stdout",
     "output_type": "stream",
     "text": [
      "Random sample positives coverage: 71.28\n",
      "Random sample positives key points:\n",
      "541 - Address transportation problems NOW.\n",
      "\t- PLEASE FIX THE TRAFFIC PROBLEMS, TOLL ROADS ARE NOT THE ANSWER\n",
      "\t- PLEASE WORK ON TRAFFIC.\n",
      "294 - Work on making Austin affordable again.\n",
      "\t- The lack of affordable housing in Austin has pushed many of the original Austinites out\n",
      "\t  of the city.\n",
      "\t- PLEASE KEEP THE COST OF LIVING IN AUSTIN AFFORDABLE SO WE CAN STAY\n",
      "140 - Property taxes are outrageous.\n",
      "\t- PROPERTY TAX OUTRAGEOUS!\n",
      "\t- PROPERTY TAXES ARE TOO HIGH.\n",
      "138 - Spend our tax dollars wisely!!!\n",
      "\t- I can no longer afford to live in Austin due to the high property taxes-look for, find\n",
      "\t  and eliminate tax dollar waste!\n",
      "\t- Cost, waste,, us taxpayers a lot.\n",
      "129 - Better pedestrian and biking lifestyle options.\n",
      "\t- CONSIDER BETTER DEVELOPED BIKE LANES THROUGHOUT THE CITY.\n",
      "\t- PUBLIC MASS TRANSIT,HOV,BIKE LANES AND WALKABLE NEIGHBORHOODS.\n",
      "129 - SMARTER TRAFFIC MANAGEMENT.\n",
      "\t- I would like to gave seen the money I paid go towards improving our traffic\n",
      "\t  structure/management both in and around downtown Austin.\n",
      "\t- Look at the terrible traffic problem & stop building more apartments.\n",
      "124 - Enforce the traffic laws.\n",
      "\t- Fix the pot holes in the roads and make the police follow and enforce traffic laws.\n",
      "\t- ENFORCEMENT OF TRAFFIC LAWS TO KEEP TRAFFIC FLOWING.\n",
      "124 - electric rates are too high\n",
      "\t- The electric bill rates are getting too high and are not as affordable as they were in\n",
      "\t  the past.\n",
      "\t- Rates are to high\n",
      "113 - effective rail is desperately needed.\n",
      "\t- WE NEED A BETTER LIGHT RAIL OR GONDALAS\n",
      "\t- NEED BETTER RAIL SYSTEM.\n",
      "86 - We need AFFORDABLE HOUSING!!!\n",
      "\t- PLEASE PROVIDE MORE AFFORDABLE HOUSING.\n",
      "\t- More affordable housing and no more luxury condos!\n",
      "85 - more pedestrian safety\n",
      "\t- WE NEED BETTER SIDEWALKS AND LIGHTING.\n",
      "\t- MORE SIDEWALKS AND STREET LIGHTS.\n",
      "59 - Improve the auto circulation.\n",
      "\t- Get the bikes off the streets and improve traffic flow in and out of the city.\n",
      "\t- Traffic signals need to be synchronized to provide for better flow of traffic around the\n",
      "\t  city.\n",
      "56 - Effective, affordable ride-share networks are critical.\n",
      "\t- Develop public transportation network.\n",
      "\t- Better local transportation including ride share companies as reasonable options.\n",
      "55 - TO HAVE BETTER PLANNING FOR CITY GROWTH.\n",
      "\t- Plan out the growth for Austin as the city grows.\n",
      "\t- Need to plan for the growth and traffic this city is now experiencing much better.\n",
      "54 - make every effort to eradicate poverty\n",
      "\t- PROTECT EAST AUSTIN AND THE POOR\n",
      "\t- Affordable housing for middle and low income families not based off average income levels.\n",
      "38 - Focus on efficient solutions.\n",
      "\t- FOCUS ON EFFICIENT SOLUTIONS.\n",
      "\t- Review all departments for waste, duplication, inefficiency, etc so that the City will\n",
      "\t  be better stewards of our tax dollars.\n",
      "35 - The permitting process has got to improve.\n",
      "\t- Please fix building permit processes, it's crooked!\n",
      "\t- Have permits for new commercial build outs be processed faster.\n",
      "29 - Do something to increase diversity here.\n",
      "\t- Attract a most diverse population to Austin\n",
      "\t- Please keep housing affordable for artists, minorities, low income, young people, and\n",
      "\t  keep Austin diverse!\n",
      "29 - Stop the gentrification.\n",
      "\t- STOP THE GENTRIFICATION.\n",
      "\t- Small businesses, small homes, middle and low income families are being priced out and\n",
      "\t  even in the few years I've been here, I sometimes don't recognize Austin.\n",
      "28 - Make homelessness a top priority.\n",
      "\t- TAKE BETTER CARE OF THE HOMELESS!\n",
      "\t- THE CITY NEED TO MAKE AFFORDABLE HOUSING PRIORITY.\n"
     ]
    }
   ],
   "source": [
    "print_results(kpa_neg_result, n_sentences_per_kp=2, title='Random sample positives')"
   ]
  },
  {
   "cell_type": "markdown",
   "id": "6c1e4a64",
   "metadata": {},
   "source": [
    "Reaching a nice 70.7% coverage, most of the sentences are matched to the 20 automatically extracted key points.\n",
    "\n",
    "We can increase the stances_threshold when we want to run over less sentences with a stronger stance. This is useful when we have a large dataset with many less-relevant sentences and we want to filter them out.\n",
    "\n",
    "We can mark the stance in the results:"
   ]
  },
  {
   "cell_type": "code",
   "execution_count": 22,
   "id": "5b27b433",
   "metadata": {},
   "outputs": [],
   "source": [
    "kpa_pos_result = KpAnalysisUtils.set_stance_to_result(kpa_pos_result, 'pos')\n",
    "kpa_neg_result = KpAnalysisUtils.set_stance_to_result(kpa_neg_result, 'neg')"
   ]
  },
  {
   "cell_type": "markdown",
   "id": "28d9976f",
   "metadata": {},
   "source": [
    "And save the results (both pos/neg seperatly and merged) and create key points graphs' data files as we did before"
   ]
  },
  {
   "cell_type": "code",
   "execution_count": 23,
   "id": "9c03646d",
   "metadata": {},
   "outputs": [
    {
     "name": "stderr",
     "output_type": "stream",
     "text": [
      "2022-09-21 12:48:59,131 [INFO] keypoints_client.py 115: Writing dataframe to: austin_survey_2016_pro_kpa_results_kps_summary.csv\n",
      "2022-09-21 12:48:59,133 [INFO] keypoints_client.py 115: Writing dataframe to: austin_survey_2016_pro_kpa_results.csv\n",
      "2022-09-21 12:48:59,136 [INFO] keypoints_client.py 355: Creating key points graph data-file for results file: austin_survey_2016_pro_kpa_results.csv\n",
      "2022-09-21 12:48:59,136 [INFO] keypoints_client.py 330: reading file: austin_survey_2016_pro_kpa_results.csv\n",
      "2022-09-21 12:48:59,142 [INFO] keypoints_client.py 388: saving graph in file: austin_survey_2016_pro_kpa_results_graph_data.json\n",
      "2022-09-21 12:48:59,143 [INFO] keypoints_client.py 389: saving graph in file: austin_survey_2016_pro_kpa_results_graph_data.json\n",
      "2022-09-21 12:48:59,171 [INFO] keypoints_client.py 115: Writing dataframe to: austin_survey_2016_neg_kpa_results_kps_summary.csv\n",
      "2022-09-21 12:48:59,176 [INFO] keypoints_client.py 115: Writing dataframe to: austin_survey_2016_neg_kpa_results.csv\n",
      "2022-09-21 12:48:59,200 [INFO] keypoints_client.py 355: Creating key points graph data-file for results file: austin_survey_2016_neg_kpa_results.csv\n",
      "2022-09-21 12:48:59,200 [INFO] keypoints_client.py 330: reading file: austin_survey_2016_neg_kpa_results.csv\n",
      "2022-09-21 12:48:59,272 [INFO] keypoints_client.py 388: saving graph in file: austin_survey_2016_neg_kpa_results_graph_data.json\n",
      "2022-09-21 12:48:59,273 [INFO] keypoints_client.py 389: saving graph in file: austin_survey_2016_neg_kpa_results_graph_data.json\n",
      "2022-09-21 12:48:59,298 [INFO] keypoints_client.py 115: Writing dataframe to: austin_survey_2016_merged_kpa_results_kps_summary.csv\n",
      "2022-09-21 12:48:59,303 [INFO] keypoints_client.py 115: Writing dataframe to: austin_survey_2016_merged_kpa_results.csv\n",
      "2022-09-21 12:48:59,327 [INFO] keypoints_client.py 355: Creating key points graph data-file for results file: austin_survey_2016_merged_kpa_results.csv\n",
      "2022-09-21 12:48:59,328 [INFO] keypoints_client.py 330: reading file: austin_survey_2016_merged_kpa_results.csv\n",
      "2022-09-21 12:48:59,422 [INFO] keypoints_client.py 388: saving graph in file: austin_survey_2016_merged_kpa_results_graph_data.json\n",
      "2022-09-21 12:48:59,423 [INFO] keypoints_client.py 389: saving graph in file: austin_survey_2016_merged_kpa_results_graph_data.json\n"
     ]
    }
   ],
   "source": [
    "pos_result_file = 'austin_survey_2016_pro_kpa_results.csv'\n",
    "KpAnalysisUtils.write_result_to_csv(kpa_pos_result, pos_result_file)\n",
    "KpAnalysisUtils.create_graph_data_file_for_ui(pos_result_file)\n",
    "\n",
    "neg_result_file = 'austin_survey_2016_neg_kpa_results.csv'\n",
    "KpAnalysisUtils.write_result_to_csv(kpa_neg_result, neg_result_file)\n",
    "KpAnalysisUtils.create_graph_data_file_for_ui(neg_result_file)\n",
    "\n",
    "kpa_merged_result = KpAnalysisUtils.merge_two_results(kpa_pos_result, kpa_neg_result)\n",
    "merged_result_file = 'austin_survey_2016_merged_kpa_results.csv'\n",
    "KpAnalysisUtils.write_result_to_csv(kpa_merged_result, merged_result_file)\n",
    "KpAnalysisUtils.create_graph_data_file_for_ui(merged_result_file)"
   ]
  },
  {
   "cell_type": "markdown",
   "id": "67ff92aa",
   "metadata": {},
   "source": [
    "## 4. Run *Key Point Analysis* incrementally\n",
    "### 4.1 Run *Key Point Analysis* incrementally on new data (data from 2016 + 2017)\n",
    "A year passed, and we collect additional data (data from 2017). We can now upload the 2017 data to the same domain (austin_demo) and have both 2016 and 2017 data in one domain. "
   ]
  },
  {
   "cell_type": "code",
   "execution_count": 24,
   "id": "3a5f9111",
   "metadata": {},
   "outputs": [
    {
     "name": "stderr",
     "output_type": "stream",
     "text": [
      "2022-09-21 12:48:59,429 [INFO] keypoints_client.py 497: uploading 400 comments in batches\n",
      "2022-09-21 12:48:59,429 [INFO] keypoints_client.py 424: client calls service (post): https://keypoint-matching-backend.debater.res.ibm.com/comments\n",
      "2022-09-21 12:49:00,281 [INFO] keypoints_client.py 511: uploaded 400 comments, out of 400\n",
      "2022-09-21 12:49:00,284 [INFO] keypoints_client.py 424: client calls service (get): https://keypoint-matching-backend.debater.res.ibm.com/comments\n",
      "2022-09-21 12:49:00,927 [INFO] keypoints_client.py 523: domain: austin_demo, comments status: {'processed_comments': 400, 'processed_sentences': 682, 'pending_comments': 400}\n",
      "2022-09-21 12:49:10,941 [INFO] keypoints_client.py 424: client calls service (get): https://keypoint-matching-backend.debater.res.ibm.com/comments\n",
      "2022-09-21 12:49:11,548 [INFO] keypoints_client.py 523: domain: austin_demo, comments status: {'processed_comments': 800, 'processed_sentences': 1440, 'pending_comments': 0}\n"
     ]
    }
   ],
   "source": [
    "comments_2017 = [c for c in comments if c['year'] == '2017']\n",
    "comments_2017_sample = random.sample(comments_2017, sample_size)\n",
    "\n",
    "domain = 'austin_demo'\n",
    "comments_texts = [comment['text'] for comment in comments_2017_sample]\n",
    "comments_ids = [comment['id'] for comment in comments_2017_sample]\n",
    "keypoints_client.upload_comments(domain=domain, comments_ids=comments_ids, comments_texts=comments_texts)\n",
    "keypoints_client.wait_till_all_comments_are_processed(domain=domain)"
   ]
  },
  {
   "cell_type": "markdown",
   "id": "69cdd33f",
   "metadata": {},
   "source": [
    "We can now run a new analysis on all the data in the domain, and automatically extract new key points. We can assume that some will be identical to the key points extracted on the 2016 data, some will be similar and some key points will be new. \n",
    "\n",
    "A better option is to run a new analysis but provide the keypoints from the 2016 analysis and let key point analysis add new key points of 2017 data if there are such. Another major benafit for this approach is run-time. 2016 data was already analysed with these key points and since we have a cache in place, this approach significantly reduces the amount of computation. The 2016 key points can be provided via the: **run_param['keypoint_candidates'] = [...]** parameter, and pass a list of strings, or we can use: **run_param['keypoint_candidates_by_job_id'] = <job_id>** and provide the job_id of an analysis job. KPA will take the key points from the job's result automatically. We will use this parameter and provide the *kpa_analysis_2016_job_id* we saved in advance."
   ]
  },
  {
   "cell_type": "code",
   "execution_count": 25,
   "id": "f1b4a120",
   "metadata": {},
   "outputs": [
    {
     "name": "stderr",
     "output_type": "stream",
     "text": [
      "2022-09-21 12:49:11,566 [INFO] keypoints_client.py 424: client calls service (post): https://keypoint-matching-backend.debater.res.ibm.com/kp_extraction\n",
      "2022-09-21 12:49:12,299 [INFO] keypoints_client.py 579: started a kp analysis job - domain: austin_demo, run_params: {'clustering_threshold': 0.95, 'mapping_threshold': 0.95, 'keypoint_candidates_by_job_id': '632ad9bf116742ef75496a44'}, job_id: 632ade18116742ef75496a60\n",
      "2022-09-21 12:49:12,301 [INFO] keypoints_client.py 424: client calls service (get): https://keypoint-matching-backend.debater.res.ibm.com/kp_extraction\n",
      "2022-09-21 12:49:12,863 [INFO] keypoints_client.py 760: job_id 632ade18116742ef75496a60 is pending\n",
      "2022-09-21 12:49:42,866 [INFO] keypoints_client.py 424: client calls service (get): https://keypoint-matching-backend.debater.res.ibm.com/kp_extraction\n",
      "2022-09-21 12:49:43,529 [INFO] keypoints_client.py 764: job_id 632ade18116742ef75496a60 is running, progress: {'total_stages': 3, 'stage_0': {'inferred_batches': 0, 'total_batches': 1, 'batch_size': 2000}}\n",
      "2022-09-21 12:50:13,534 [INFO] keypoints_client.py 424: client calls service (get): https://keypoint-matching-backend.debater.res.ibm.com/kp_extraction\n",
      "2022-09-21 12:50:14,167 [INFO] keypoints_client.py 764: job_id 632ade18116742ef75496a60 is running, progress: {'total_stages': 3, 'stage_0': {'inferred_batches': 0, 'total_batches': 1, 'batch_size': 2000}}\n",
      "2022-09-21 12:50:44,173 [INFO] keypoints_client.py 424: client calls service (get): https://keypoint-matching-backend.debater.res.ibm.com/kp_extraction\n",
      "2022-09-21 12:50:44,765 [INFO] keypoints_client.py 764: job_id 632ade18116742ef75496a60 is running, progress: {'total_stages': 3, 'stage_0': {'inferred_batches': 1, 'total_batches': 1, 'batch_size': 2000}, 'stage_1': {'inferred_batches': 0, 'total_batches': 26, 'batch_size': 2000}}\n"
     ]
    },
    {
     "name": "stdout",
     "output_type": "stream",
     "text": [
      "Stage 1/3: |--------------------------------------------------| 0.0% Complete\n",
      "\n"
     ]
    },
    {
     "name": "stderr",
     "output_type": "stream",
     "text": [
      "2022-09-21 12:51:14,773 [INFO] keypoints_client.py 424: client calls service (get): https://keypoint-matching-backend.debater.res.ibm.com/kp_extraction\n",
      "2022-09-21 12:51:15,347 [INFO] keypoints_client.py 764: job_id 632ade18116742ef75496a60 is running, progress: {'total_stages': 3, 'stage_0': {'inferred_batches': 1, 'total_batches': 1, 'batch_size': 2000}, 'stage_1': {'inferred_batches': 0, 'total_batches': 26, 'batch_size': 2000}}\n"
     ]
    },
    {
     "name": "stdout",
     "output_type": "stream",
     "text": [
      "Stage 1/3: |--------------------------------------------------| 0.0% Complete\n",
      "\n"
     ]
    },
    {
     "name": "stderr",
     "output_type": "stream",
     "text": [
      "2022-09-21 12:51:45,352 [INFO] keypoints_client.py 424: client calls service (get): https://keypoint-matching-backend.debater.res.ibm.com/kp_extraction\n",
      "2022-09-21 12:51:45,983 [INFO] keypoints_client.py 764: job_id 632ade18116742ef75496a60 is running, progress: {'total_stages': 3, 'stage_0': {'inferred_batches': 1, 'total_batches': 1, 'batch_size': 2000}, 'stage_1': {'inferred_batches': 0, 'total_batches': 26, 'batch_size': 2000}}\n"
     ]
    },
    {
     "name": "stdout",
     "output_type": "stream",
     "text": [
      "Stage 1/3: |--------------------------------------------------| 0.0% Complete\n",
      "\n"
     ]
    },
    {
     "name": "stderr",
     "output_type": "stream",
     "text": [
      "2022-09-21 12:52:15,988 [INFO] keypoints_client.py 424: client calls service (get): https://keypoint-matching-backend.debater.res.ibm.com/kp_extraction\n",
      "2022-09-21 12:52:16,552 [INFO] keypoints_client.py 764: job_id 632ade18116742ef75496a60 is running, progress: {'total_stages': 3, 'stage_0': {'inferred_batches': 1, 'total_batches': 1, 'batch_size': 2000}, 'stage_1': {'inferred_batches': 0, 'total_batches': 26, 'batch_size': 2000}}\n"
     ]
    },
    {
     "name": "stdout",
     "output_type": "stream",
     "text": [
      "Stage 1/3: |--------------------------------------------------| 0.0% Complete\n",
      "\n"
     ]
    },
    {
     "name": "stderr",
     "output_type": "stream",
     "text": [
      "2022-09-21 12:52:46,563 [INFO] keypoints_client.py 424: client calls service (get): https://keypoint-matching-backend.debater.res.ibm.com/kp_extraction\n",
      "2022-09-21 12:52:47,226 [INFO] keypoints_client.py 764: job_id 632ade18116742ef75496a60 is running, progress: {'total_stages': 3, 'stage_0': {'inferred_batches': 1, 'total_batches': 1, 'batch_size': 2000}, 'stage_1': {'inferred_batches': 4, 'total_batches': 26, 'batch_size': 2000}}\n"
     ]
    },
    {
     "name": "stdout",
     "output_type": "stream",
     "text": [
      "Stage 1/3: |███████-------------------------------------------| 15.4% Complete\n",
      "\n"
     ]
    },
    {
     "name": "stderr",
     "output_type": "stream",
     "text": [
      "2022-09-21 12:53:17,236 [INFO] keypoints_client.py 424: client calls service (get): https://keypoint-matching-backend.debater.res.ibm.com/kp_extraction\n",
      "2022-09-21 12:53:17,849 [INFO] keypoints_client.py 764: job_id 632ade18116742ef75496a60 is running, progress: {'total_stages': 3, 'stage_0': {'inferred_batches': 1, 'total_batches': 1, 'batch_size': 2000}, 'stage_1': {'inferred_batches': 18, 'total_batches': 26, 'batch_size': 2000}}\n"
     ]
    },
    {
     "name": "stdout",
     "output_type": "stream",
     "text": [
      "Stage 1/3: |██████████████████████████████████----------------| 69.2% Complete\n",
      "\n"
     ]
    },
    {
     "name": "stderr",
     "output_type": "stream",
     "text": [
      "2022-09-21 12:53:47,861 [INFO] keypoints_client.py 424: client calls service (get): https://keypoint-matching-backend.debater.res.ibm.com/kp_extraction\n",
      "2022-09-21 12:53:48,473 [INFO] keypoints_client.py 764: job_id 632ade18116742ef75496a60 is running, progress: {'total_stages': 3, 'stage_0': {'inferred_batches': 1, 'total_batches': 1, 'batch_size': 2000}, 'stage_1': {'inferred_batches': 21, 'total_batches': 26, 'batch_size': 2000}}\n"
     ]
    },
    {
     "name": "stdout",
     "output_type": "stream",
     "text": [
      "Stage 1/3: |████████████████████████████████████████----------| 80.8% Complete\n",
      "\n"
     ]
    },
    {
     "name": "stderr",
     "output_type": "stream",
     "text": [
      "2022-09-21 12:54:18,482 [INFO] keypoints_client.py 424: client calls service (get): https://keypoint-matching-backend.debater.res.ibm.com/kp_extraction\n",
      "2022-09-21 12:54:20,238 [INFO] keypoints_client.py 767: job_id 632ade18116742ef75496a60 is done, returning result\n"
     ]
    }
   ],
   "source": [
    "run_params = {'clustering_threshold': 0.95, 'mapping_threshold': 0.95, \n",
    "              'keypoint_candidates_by_job_id': kpa_analysis_2016_job_id}\n",
    "future = keypoints_client.start_kp_analysis_job(domain=domain, run_params=run_params)\n",
    "kpa_result_2016_2017 = future.get_result(high_verbosity=True, polling_timout_secs=30)"
   ]
  },
  {
   "cell_type": "code",
   "execution_count": 26,
   "id": "b5a0af0c",
   "metadata": {},
   "outputs": [
    {
     "name": "stderr",
     "output_type": "stream",
     "text": [
      "2022-09-21 12:54:20,251 [INFO] keypoints_client.py 115: Writing dataframe to: austin_survey_2016_2017_kpa_results_kps_summary.csv\n",
      "2022-09-21 12:54:20,258 [INFO] keypoints_client.py 115: Writing dataframe to: austin_survey_2016_2017_kpa_results.csv\n"
     ]
    },
    {
     "name": "stdout",
     "output_type": "stream",
     "text": [
      "2016 - 2016 + 2017 comparison:\n",
      "+------------------------------------------------------+--------------+--------------+---------------------+---------------------+----------------+----------------+\n",
      "|                      key point                       | 2016_n_sents | 2016_percent | 2016 + 2017_n_sents | 2016 + 2017_percent | change_n_sents | change_percent |\n",
      "+------------------------------------------------------+--------------+--------------+---------------------+---------------------+----------------+----------------+\n",
      "|           Improvement on traffic problem.            |      96      |    14.70%    |         162         |        11.76%       |       66       |     -2.94%     |\n",
      "|          Improve affordable housing/living.          |      64      |    9.80%     |         123         |        8.93%        |       59       |     -0.87%     |\n",
      "|        Develop public transportation network.        |      52      |    7.96%     |          80         |        5.81%        |       28       |     -2.15%     |\n",
      "|            COST OF UTILITIES IS VERY HIGH            |      35      |    5.36%     |          51         |        3.70%        |       16       |     -1.66%     |\n",
      "|       TO HAVE BETTER PLANNING FOR CITY GROWTH.       |      15      |    2.30%     |          25         |        1.82%        |       10       |     -0.48%     |\n",
      "|    Streamline the residential permitting process.    |      11      |    1.68%     |          14         |        1.02%        |       3        |     -0.67%     |\n",
      "| DEVELOPMENT SHOULD NOT DISPLACE LOW INCOME FAMILIES. |      10      |    1.53%     |          13         |        0.94%        |       3        |     -0.59%     |\n",
      "|      PLEASE MAKE THIS CITY MORE BIKE FRIENDLY.       |      9       |    1.38%     |          21         |        1.53%        |       12       |     0.15%      |\n",
      "|               Stop the gentrification.               |      8       |    1.23%     |          12         |        0.87%        |       4        |     -0.35%     |\n",
      "|     Attract a most diverse population to Austin      |      6       |    0.92%     |          18         |        1.31%        |       12       |     0.39%      |\n",
      "|                Lower property taxes.                 |     ---      |     ---      |          57         |        4.14%        |      ---       |      ---       |\n",
      "|           We have a HUGE homeless problem.           |     ---      |     ---      |          35         |        2.54%        |      ---       |      ---       |\n",
      "|            Speed up highway construction.            |     ---      |     ---      |          25         |        1.82%        |      ---       |      ---       |\n",
      "|             OBEY NATIONAL & STATE LAWS.              |     ---      |     ---      |          17         |        1.23%        |      ---       |      ---       |\n",
      "|                 Restrict water use.                  |     ---      |     ---      |          13         |        0.94%        |      ---       |      ---       |\n",
      "|                Slow down development                 |     ---      |     ---      |          10         |        0.73%        |      ---       |      ---       |\n",
      "|              CUT BUILDING REGULATIONS.               |     ---      |     ---      |          10         |        0.73%        |      ---       |      ---       |\n",
      "|             Improve development services             |     ---      |     ---      |          9          |        0.65%        |      ---       |      ---       |\n",
      "|     Increase the quality of garbage collection!      |     ---      |     ---      |          8          |        0.58%        |      ---       |      ---       |\n",
      "|               More recycling programs                |     ---      |     ---      |          8          |        0.58%        |      ---       |      ---       |\n",
      "+------------------------------------------------------+--------------+--------------+---------------------+---------------------+----------------+----------------+\n"
     ]
    }
   ],
   "source": [
    "KpAnalysisUtils.write_result_to_csv(kpa_result_2016_2017, 'austin_survey_2016_2017_kpa_results.csv')\n",
    "from austin_utils import compare_results\n",
    "compare_results(kpa_result_2016, '2016', kpa_result_2016_2017, '2016 + 2017')"
   ]
  },
  {
   "cell_type": "markdown",
   "id": "b2922bee",
   "metadata": {},
   "source": [
    "We can also use the incremental approach when running on each stance seperatly. We will need to provide the job_id of the positive analysis of 2016 when running on the positive sentences of 2016 + 2017 and the job_id of negative analysis of 2016 when running on the negative sentences of 2016 + 2017, but for simplicity reasons, we didn't combine the features in this tutorial."
   ]
  },
  {
   "cell_type": "markdown",
   "id": "4a8412e2",
   "metadata": {},
   "source": [
    "### 4.2 Run *Key Point Analysis* incrementaly on new data (2017 independantly)\n",
    "Using the **comments_ids** parameter in **start_kp_analysis_job** method, we can run over a subset of the comments in the domain. Let's do that and run an analysis over 2017 comments independantly. We will provide the key points from 2016 since we want to able to compare between them:"
   ]
  },
  {
   "cell_type": "code",
   "execution_count": 27,
   "id": "d574a490",
   "metadata": {},
   "outputs": [
    {
     "name": "stderr",
     "output_type": "stream",
     "text": [
      "2022-09-21 12:54:20,276 [INFO] keypoints_client.py 424: client calls service (post): https://keypoint-matching-backend.debater.res.ibm.com/kp_extraction\n",
      "2022-09-21 12:54:21,163 [INFO] keypoints_client.py 579: started a kp analysis job - domain: austin_demo, run_params: {'clustering_threshold': 0.95, 'mapping_threshold': 0.95, 'keypoint_candidates_by_job_id': '632ad9bf116742ef75496a44'}, job_id: 632adf4d116742ef75496ab7\n",
      "2022-09-21 12:54:21,165 [INFO] keypoints_client.py 424: client calls service (get): https://keypoint-matching-backend.debater.res.ibm.com/kp_extraction\n",
      "2022-09-21 12:54:21,767 [INFO] keypoints_client.py 760: job_id 632adf4d116742ef75496ab7 is pending\n",
      "2022-09-21 12:54:51,771 [INFO] keypoints_client.py 424: client calls service (get): https://keypoint-matching-backend.debater.res.ibm.com/kp_extraction\n",
      "2022-09-21 12:54:53,319 [INFO] keypoints_client.py 767: job_id 632adf4d116742ef75496ab7 is done, returning result\n",
      "2022-09-21 12:54:53,327 [INFO] keypoints_client.py 115: Writing dataframe to: austin_survey_2017_kpa_results_kps_summary.csv\n",
      "2022-09-21 12:54:53,340 [INFO] keypoints_client.py 115: Writing dataframe to: austin_survey_2017_kpa_results.csv\n"
     ]
    },
    {
     "name": "stdout",
     "output_type": "stream",
     "text": [
      "2016 - 2017 comparison:\n",
      "+------------------------------------------------------+--------------+--------------+--------------+--------------+----------------+----------------+\n",
      "|                      key point                       | 2016_n_sents | 2016_percent | 2017_n_sents | 2017_percent | change_n_sents | change_percent |\n",
      "+------------------------------------------------------+--------------+--------------+--------------+--------------+----------------+----------------+\n",
      "|           Improvement on traffic problem.            |      96      |    14.70%    |      72      |    9.94%     |      -24       |     -4.76%     |\n",
      "|          Improve affordable housing/living.          |      64      |    9.80%     |      63      |    8.70%     |       -1       |     -1.10%     |\n",
      "|        Develop public transportation network.        |      52      |    7.96%     |      28      |    3.87%     |      -24       |     -4.10%     |\n",
      "|       TO HAVE BETTER PLANNING FOR CITY GROWTH.       |      15      |    2.30%     |      11      |    1.52%     |       -4       |     -0.78%     |\n",
      "|      PLEASE MAKE THIS CITY MORE BIKE FRIENDLY.       |      9       |    1.38%     |      14      |    1.93%     |       5        |     0.56%      |\n",
      "|     Attract a most diverse population to Austin      |      6       |    0.92%     |      12      |    1.66%     |       6        |     0.74%      |\n",
      "|            COST OF UTILITIES IS VERY HIGH            |      35      |    5.36%     |     ---      |     ---      |      ---       |      ---       |\n",
      "|    Streamline the residential permitting process.    |      11      |    1.68%     |     ---      |     ---      |      ---       |      ---       |\n",
      "| DEVELOPMENT SHOULD NOT DISPLACE LOW INCOME FAMILIES. |      10      |    1.53%     |     ---      |     ---      |      ---       |      ---       |\n",
      "|               Stop the gentrification.               |      8       |    1.23%     |     ---      |     ---      |      ---       |      ---       |\n",
      "|           PROPERTY TAXES ARE WAY TOO HIGH.           |     ---      |     ---      |      44      |    6.08%     |      ---       |      ---       |\n",
      "|           We have a HUGE homeless problem.           |     ---      |     ---      |      23      |    3.18%     |      ---       |      ---       |\n",
      "|            Speed up highway construction.            |     ---      |     ---      |      16      |    2.21%     |      ---       |      ---       |\n",
      "|             OBEY NATIONAL & STATE LAWS.              |     ---      |     ---      |      16      |    2.21%     |      ---       |      ---       |\n",
      "+------------------------------------------------------+--------------+--------------+--------------+--------------+----------------+----------------+\n"
     ]
    }
   ],
   "source": [
    "comments_ids = [comment['id'] for comment in comments_2017_sample]\n",
    "run_params = {'clustering_threshold': 0.95, 'mapping_threshold': 0.95, \n",
    "              'keypoint_candidates_by_job_id': kpa_analysis_2016_job_id}\n",
    "future = keypoints_client.start_kp_analysis_job(comments_ids=comments_ids, domain=domain, run_params=run_params)\n",
    "kpa_result_2017 = future.get_result(high_verbosity=True, polling_timout_secs=30)\n",
    "\n",
    "KpAnalysisUtils.write_result_to_csv(kpa_result_2017, 'austin_survey_2017_kpa_results.csv')\n",
    "compare_results(kpa_result_2016, '2016', kpa_result_2017, '2017')"
   ]
  },
  {
   "cell_type": "markdown",
   "id": "4aa5b2f6",
   "metadata": {},
   "source": [
    "Running over subsets of the data in the domain enable us to compare results between different them (subsets can be data from different GEOs, different organizations, different users (e.g. promoters/detractors) etc')."
   ]
  },
  {
   "cell_type": "markdown",
   "id": "9fd476d4",
   "metadata": {},
   "source": [
    "## 5. Cleanup\n",
    "If you finished the tutorial and no longer need the domains and the results, or want to run the tutorial again from scratch, delete the domains:"
   ]
  },
  {
   "cell_type": "code",
   "execution_count": 28,
   "id": "27faf5a8",
   "metadata": {},
   "outputs": [
    {
     "name": "stderr",
     "output_type": "stream",
     "text": [
      "2022-09-21 12:54:53,352 [INFO] keypoints_client.py 424: client calls service (delete): https://keypoint-matching-backend.debater.res.ibm.com/data\n",
      "2022-09-21 12:54:55,212 [INFO] keypoints_client.py 280: domain: austin_demo was deleted\n",
      "2022-09-21 12:54:55,214 [INFO] keypoints_client.py 424: client calls service (delete): https://keypoint-matching-backend.debater.res.ibm.com/data\n",
      "2022-09-21 12:54:57,168 [INFO] keypoints_client.py 280: domain: austin_demo_two_stances was deleted\n"
     ]
    }
   ],
   "source": [
    "delete_domains = False\n",
    "if delete_domains:\n",
    "    KpAnalysisUtils.delete_domain_ignore_doesnt_exist(client=keypoints_client, domain='austin_demo')\n",
    "    KpAnalysisUtils.delete_domain_ignore_doesnt_exist(client=keypoints_client, domain='austin_demo_two_stances')"
   ]
  },
  {
   "cell_type": "markdown",
   "id": "a8dbc94e",
   "metadata": {},
   "source": [
    "## 6. Conclusion\n",
    "In this tutorial, we showed how to use the *Key Point Analysis* service, and how it provides detailed insights over survey data right out of the box - significantly reducing the effort required by a data scientist to analyze the data. We also demonstrated key *key point analysis* features such as how we can modify the analysis parameters and increase coverage, how we can use the stance-model and create per-stance results, how to create *key points graph* and further improve the quality and the clarity of the results, and how to incrementally add new data "
   ]
  }
 ],
 "metadata": {
  "kernelspec": {
   "display_name": "kpa_env",
   "language": "python",
   "name": "kpa_env"
  },
  "language_info": {
   "codemirror_mode": {
    "name": "ipython",
    "version": 3
   },
   "file_extension": ".py",
   "mimetype": "text/x-python",
   "name": "python",
   "nbconvert_exporter": "python",
   "pygments_lexer": "ipython3",
   "version": "3.8.13"
  }
 },
 "nbformat": 4,
 "nbformat_minor": 5
}
