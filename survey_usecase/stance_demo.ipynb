{
 "cells": [
  {
   "cell_type": "code",
   "execution_count": null,
   "metadata": {},
   "outputs": [],
   "source": [
    "import csv\n",
    "import random\n",
    "\n",
    "\n",
    "with open('./dataset_austin_sentences.csv') as csv_file:\n",
    "    reader = csv.DictReader(csv_file)\n",
    "    sentences = list(reader)"
   ]
  },
  {
   "cell_type": "code",
   "execution_count": null,
   "metadata": {},
   "outputs": [],
   "source": [
    "sentences_2016 = [sentence for sentence in sentences if sentence['year'] == '2016']\n",
    "print('There are %d sentences in the 2016 survey' % len(sentences_2016))"
   ]
  },
  {
   "cell_type": "code",
   "execution_count": null,
   "metadata": {},
   "outputs": [],
   "source": [
    "from debater_python_api.api.debater_api import DebaterApi\n",
    "from debater_python_api.api.clients.keypoints_client import KpAnalysisUtils, KpaIllegalInputException\n",
    "from austin_utils import init_logger\n",
    "import os\n",
    "\n",
    "init_logger()\n",
    "api_key = os.environ['DEBATER_API_KEY']\n",
    "debater_api = DebaterApi(apikey=api_key)\n",
    "keypoints_client = debater_api.get_keypoints_client()\n",
    "domain = 'stance_demo'\n",
    "# keypoints_client.delete_domain_cannot_be_undone(domain)\n",
    "try:\n",
    "    domain_params = {'do_stance_analysis': True}\n",
    "    keypoints_client.create_domain(domain, domain_params)\n",
    "    print('domain was created')\n",
    "except KpaIllegalInputException as e:\n",
    "    print('domain already exist')"
   ]
  },
  {
   "cell_type": "code",
   "execution_count": null,
   "metadata": {},
   "outputs": [],
   "source": [
    "from austin_utils import print_top_and_bottom_k_sentences\n",
    "\n",
    "def get_top_quality_sentences(sentences, top_k, topic):    \n",
    "    arg_quality_client = debater_api.get_argument_quality_client()\n",
    "    sentences_topic = [{'sentence': sentence['text'], 'topic': topic} for sentence in sentences]\n",
    "    arg_quality_scores = arg_quality_client.run(sentences_topic)\n",
    "    sentences_and_scores = zip(sentences, arg_quality_scores)\n",
    "    sentences_and_scores_sorted = sorted(sentences_and_scores, key=lambda x: x[1], reverse=True)\n",
    "    sentences_sorted = [sentence for sentence, _ in sentences_and_scores_sorted]\n",
    "    print_top_and_bottom_k_sentences(sentences_sorted, 10)\n",
    "    return sentences_sorted[:top_k]\n",
    "\n",
    "sentences_2016_top_1000_aq = get_top_quality_sentences(sentences_2016, 1000, 'Austin is a great place to live')"
   ]
  },
  {
   "cell_type": "code",
   "execution_count": null,
   "metadata": {},
   "outputs": [],
   "source": [
    "def run_kpa(sentences_ids, run_params):\n",
    "    future = keypoints_client.start_kp_analysis_job(domain=domain, \n",
    "                                                    comments_ids=sentences_ids, \n",
    "                                                    run_params=run_params)\n",
    "\n",
    "    kpa_result = future.get_result(high_verbosity=True, \n",
    "                                   polling_timout_secs=5)\n",
    "    \n",
    "    return kpa_result"
   ]
  },
  {
   "cell_type": "code",
   "execution_count": null,
   "metadata": {},
   "outputs": [],
   "source": [
    "sentences_texts = [sentence['text'] for sentence in sentences_2016_top_1000_aq]\n",
    "sentences_ids = [sentence['id'] for sentence in sentences_2016_top_1000_aq]\n",
    "keypoints_client.upload_comments(domain=domain, \n",
    "                                 comments_ids=sentences_ids, \n",
    "                                 comments_texts=sentences_texts)\n",
    "\n",
    "keypoints_client.wait_till_all_comments_are_processed(domain=domain)"
   ]
  },
  {
   "cell_type": "code",
   "execution_count": null,
   "metadata": {},
   "outputs": [],
   "source": [
    "from austin_utils import print_results\n",
    "\n",
    "pos_result = run_kpa(sentences_ids, {'n_top_kps': 20, 'stances_to_run': ['pos'], 'stances_threshold': 0.5})\n",
    "print_results(pos_result, n_sentences_per_kp=2, title='Positive results')"
   ]
  },
  {
   "cell_type": "code",
   "execution_count": null,
   "metadata": {
    "scrolled": true
   },
   "outputs": [],
   "source": [
    "neg_result = run_kpa(sentences_ids, {'n_top_kps': 20, 'stances_to_run': ['neg', 'sug'], 'stances_threshold': 0.5})\n",
    "print_results(neg_result, n_sentences_per_kp=2, title='Negative results')"
   ]
  },
  {
   "cell_type": "code",
   "execution_count": null,
   "metadata": {},
   "outputs": [],
   "source": [
    "pos_result = KpAnalysisUtils.set_stance_to_result(pos_result, 'pos')\n",
    "neg_result = KpAnalysisUtils.set_stance_to_result(neg_result, 'neg')"
   ]
  },
  {
   "cell_type": "code",
   "execution_count": null,
   "metadata": {},
   "outputs": [],
   "source": [
    "merged_result = KpAnalysisUtils.merge_two_results(pos_result, neg_result)"
   ]
  },
  {
   "cell_type": "code",
   "execution_count": null,
   "metadata": {},
   "outputs": [],
   "source": [
    "print_results(merged_result, n_sentences_per_kp=2, title='Merged result')"
   ]
  }
 ],
 "metadata": {
  "kernelspec": {
   "display_name": "kpa_env",
   "language": "python",
   "name": "kpa_env"
  },
  "language_info": {
   "codemirror_mode": {
    "name": "ipython",
    "version": 3
   },
   "file_extension": ".py",
   "mimetype": "text/x-python",
   "name": "python",
   "nbconvert_exporter": "python",
   "pygments_lexer": "ipython3",
   "version": "3.7.10"
  }
 },
 "nbformat": 4,
 "nbformat_minor": 5
}
