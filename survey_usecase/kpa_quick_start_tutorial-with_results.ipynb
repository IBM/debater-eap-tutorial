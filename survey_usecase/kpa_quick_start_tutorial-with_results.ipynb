{
 "cells": [
  {
   "cell_type": "markdown",
   "id": "a7f1683b",
   "metadata": {},
   "source": [
    "# Using *Key Point Analysis* service for analyzing and finding insights in a survey data \n",
    "When you have a large collection of texts representing people’s opinions (such as product reviews, survey answers or  social media), it is difficult to understand the key issues that come up in the data. Going over thousands of comments is prohibitively expensive.  Existing automated approaches are often limited to identifying recurring phrases or concepts and the overall sentiment toward them, but do not provide detailed or actionable insights.\n",
    "\n",
    "In this tutorial you will gain hands-on experience in using *Key Point Analysis* (KPA) for analyzing and deriving insights from open-ended answers.  \n",
    "\n",
    "The data we will use is a community survey conducted in the city of Austin (https://data.world/cityofaustin/mf9f-kvkk). In this survey, the citizens of Austin where asked \"If there was ONE thing you could share with the Mayor regarding the City of Austin (any comment, suggestion, etc.), what would it be?\". "
   ]
  },
  {
   "cell_type": "markdown",
   "id": "2ab28f81",
   "metadata": {},
   "source": [
    "## 1. Run *Key Point Analysis*"
   ]
  },
  {
   "cell_type": "markdown",
   "id": "71725a3a",
   "metadata": {},
   "source": [
    "### 1.1 Read the data and run *key point analysis*  over it\n",
    "Let's read the data from *dataset_austin.csv* file, which holds the Austin survey dataset, and print the first 5 comments."
   ]
  },
  {
   "cell_type": "code",
   "execution_count": 1,
   "id": "68c6f083",
   "metadata": {},
   "outputs": [
    {
     "name": "stdout",
     "output_type": "stream",
     "text": [
      "There are 3187 comments in the dataset\n",
      "[{'id': '0', 'comment_text': \"Dissatisfied traffic and with traffic, timing of street lights.  EXTREMELY dissatisfied with cit govt. interfering in local businesses (Uber/Lyft, income property owners).  Also, extremely dissatisfied with all the free handouts to people who are perfectly capable of earning their own money.  I'm very dissatisfied with the liberal leaning local politicians.\"}, {'id': '1', 'comment_text': 'Maintenance of city facilities needs to be equitable across the city. We need to think long-term; Austin can\\'t sustain it\\'s current level of \"chic\" indefinitely. What are we going to do when the cool beautiful people move to a community with more shiny dime-store objects to lure them? Long after the current boom goes bust (and it always does) the rest of us real Austinites will still be here. It really is time to stop sacrificing the quality of life on the east side of town (or any of the  less-privileged parts of town) for the wants of those living in the wealthier areas. The differences from one neighborhood to the next are quite visible. Public transportation needs to be a primary issue, whether the numerous single-car drivers like it or not. In short, we need to find our way back to being both more humane and pragmatic.'}, {'id': '2', 'comment_text': 'NEED TO IMPROVE POLICE ACCOUNTABILITY AND CURB ENTRIFICATION'}, {'id': '3', 'comment_text': '(1) City of Austin taxes are way too high especially property tax!! (2) Now that it is required by law for EVERYONE to have health insurance, you mist eliminate the \"Travis County Health\" tax!!'}, {'id': '4', 'comment_text': \"(1) For a city where flash floods are endemic =, we're sure building over our ground at a scary rate. (2) ATD's solution to crowded streets seems to be make them more difficult for automotive traffic to use.\"}]\n"
     ]
    }
   ],
   "source": [
    "import csv\n",
    "import random\n",
    "\n",
    "\n",
    "with open('./dataset_austin.csv') as csv_file:\n",
    "    reader = csv.DictReader(csv_file)\n",
    "    reader = [dict(d) for d in reader]\n",
    "    comments = list(reader)\n",
    "\n",
    "print(f'There are {len(comments)} comments in the dataset')\n",
    "print(comments[:5])"
   ]
  },
  {
   "cell_type": "markdown",
   "id": "25b55e5e",
   "metadata": {},
   "source": [
    "Each comment is a dictionary with an unique_id 'id' and 'comment_text'. Let's randomly sample 1000 comments. The *Key Point Analysis* service is able to run over hundreds of thousands of sentences, however since the computation is heavy in resources (particularly GPUs) the trial version is limited to 1000 comments. You may request to increase this limit if needed."
   ]
  },
  {
   "cell_type": "code",
   "execution_count": 2,
   "id": "fdb6777e",
   "metadata": {},
   "outputs": [],
   "source": [
    "random.seed(0)\n",
    "random_sample_comments = random.sample(comments, 1000)"
   ]
  },
  {
   "cell_type": "markdown",
   "id": "916ebe73",
   "metadata": {},
   "source": [
    "*Key point analysis* is a novel and promising approach for summarization, with an important quantitative angle. This service summarizes a collection of comments on a given topic as a small set of key points. The salience of each key point is given by the number of its matching sentences in the given comments.\n",
    "\n",
    "Before running the *Key Point Analysis* service we first need to initialize our client. The clients print information using the logger and a suitable verbosity level should be set. The client object is configured with an API key. It should be  retrieved from the [Project Debater Early Access Program](https://early-access-program.debater.res.ibm.com/) site.  In the code bellow it is passed by the enviroment variable *DEBATER_API_KEY*.\n",
    "\n",
    "The *Key Point Analysis* service stores the data (and cached-results) in a *domain*. A user can create several domains, one for each dataset. Domains are only accessible to the user who created them.\n",
    "\n",
    "Full documentation of the *Key Point Analysis* service can be found [here](https://early-access-program.debater.res.ibm.com/docs/services/keypoints/keypoints_pydoc.html).\n"
   ]
  },
  {
   "cell_type": "code",
   "execution_count": 3,
   "id": "4582d7fe",
   "metadata": {},
   "outputs": [],
   "source": [
    "from debater_python_api.api.clients.keypoints_client import KpAnalysisClient, KpAnalysisUtils, KpAnalysisTaskFuture\n",
    "import os\n",
    "\n",
    "KpAnalysisUtils.init_logger()\n",
    "api_key = os.environ['DEBATER_API_KEY']\n",
    "host = 'https://keypoint-matching-backend.debater.res.ibm.com'\n",
    "keypoints_client = KpAnalysisClient(api_key, host)"
   ]
  },
  {
   "cell_type": "markdown",
   "id": "8ff4b8dc",
   "metadata": {},
   "source": [
    "In order to run *Key Point Analysis*, do the following steps:\n",
    "\n",
    "1. Create a domin using the **keypoints_client.create_domain(domain=domain, domain_params={})** method. Several params can be passed when creating a domain in the domain_params dictionary as described in the documentation. Leaving it empty gives us a good default behaviour. You can also use **KpAnalysisUtils.create_domain_ignore_exists(client=keypoints_client, domain=domain, domain_params={})** if you don't want an exception to be thrown if the domain already exists. Note that in such case the domain_params are not updated and are remained as they where before."
   ]
  },
  {
   "cell_type": "code",
   "execution_count": 4,
   "id": "f4956e78",
   "metadata": {},
   "outputs": [
    {
     "name": "stderr",
     "output_type": "stream",
     "text": [
      "2022-07-31 15:27:19,127 [INFO] keypoints_client.py 426: client calls service (post): https://keypoint-matching-backend.debater.res.ibm.com/domains\n",
      "2022-07-31 15:27:19,639 [ERROR] keypoints_client.py 440: There is a problem with the request (422): domain: austin_demo already exist\n",
      "2022-07-31 15:27:19,640 [INFO] keypoints_client.py 276: domain: austin_demo already exists, domain_params are NOT updated.\n"
     ]
    }
   ],
   "source": [
    "domain = 'austin_demo'\n",
    "KpAnalysisUtils.create_domain_ignore_exists(client=keypoints_client, domain=domain, domain_params={})"
   ]
  },
  {
   "cell_type": "markdown",
   "id": "d82c51cd",
   "metadata": {},
   "source": [
    "2. Upload the comments into the domain using the **keypoints_client.upload_comments(domain=domain, comments_ids=comments_ids, comments_texts=comments_texts)** method. This method receives the domain, a list of comment_ids and a list of comment_texts. When uploading comments into a domain, the *Key Point Analysis* service splits the comments into sentences and runs a minor cleansing on the sentences. If you have domain-specific knowladge and want to split the comments into sentences yourself, you can upload comments that are already splitted into sentences and set the *dont_split* parameter to True (in the domain_params when creating the domain) and *Key Point Analysis* will use the provided sentences as is. \n",
    "\n",
    "Note that:\n",
    "* Comments_ids must be unique\n",
    "* The number of comments_ids must match the number comments_texts\n",
    "* Comments_texts must not be longer than 1000 characters\n",
    "* Uploading the same comment several times (same domain + comment_id, comment_text is ignored) is not a problem and the comment is only uploaded once (if the comment_text is different, it is NOT updated)."
   ]
  },
  {
   "cell_type": "code",
   "execution_count": 5,
   "id": "4da5d650",
   "metadata": {
    "scrolled": false
   },
   "outputs": [
    {
     "name": "stderr",
     "output_type": "stream",
     "text": [
      "2022-07-31 15:27:19,648 [INFO] keypoints_client.py 499: uploading 989 comments in batches\n",
      "2022-07-31 15:27:19,649 [INFO] keypoints_client.py 426: client calls service (post): https://keypoint-matching-backend.debater.res.ibm.com/comments\n",
      "2022-07-31 15:27:20,687 [INFO] keypoints_client.py 513: uploaded 989 comments, out of 989\n"
     ]
    }
   ],
   "source": [
    "comments = [c for c in random_sample_comments if len(c['comment_text'])<=1000]\n",
    "comments_texts = [comment['comment_text'] for comment in comments]\n",
    "comments_ids = [comment['id'] for comment in comments]\n",
    "keypoints_client.upload_comments(domain=domain, comments_ids=comments_ids, comments_texts=comments_texts)"
   ]
  },
  {
   "cell_type": "markdown",
   "id": "183b1da7",
   "metadata": {},
   "source": [
    "3. Comments that are uploaded to the domain are being processed. This takes some times and runs in an async manner. We can't run an analysis before this phase finishes and we need to wait till all comments in the domain are processed using the **keypoints_client.wait_till_all_comments_are_processed(domain=domain)** method."
   ]
  },
  {
   "cell_type": "code",
   "execution_count": 6,
   "id": "220393ed",
   "metadata": {},
   "outputs": [
    {
     "name": "stderr",
     "output_type": "stream",
     "text": [
      "2022-07-31 15:27:20,692 [INFO] keypoints_client.py 426: client calls service (get): https://keypoint-matching-backend.debater.res.ibm.com/comments\n",
      "2022-07-31 15:27:21,250 [INFO] keypoints_client.py 525: domain: austin_demo, comments status: {'processed_comments': 989, 'processed_sentences': 1821, 'pending_comments': 989}\n",
      "2022-07-31 15:27:31,257 [INFO] keypoints_client.py 426: client calls service (get): https://keypoint-matching-backend.debater.res.ibm.com/comments\n",
      "2022-07-31 15:27:31,827 [INFO] keypoints_client.py 525: domain: austin_demo, comments status: {'processed_comments': 989, 'processed_sentences': 1821, 'pending_comments': 0}\n"
     ]
    }
   ],
   "source": [
    "keypoints_client.wait_till_all_comments_are_processed(domain=domain)"
   ]
  },
  {
   "cell_type": "markdown",
   "id": "da852b04",
   "metadata": {},
   "source": [
    "4. Start a *Key Point Analysis* job using the **future = keypoints_client.start_kp_analysis_job(domain=domain, run_params=run_params)** method. This method receives the domain and a *run_params*. The run_params is a dictionary with various parameters for customizing the job. Leaving it empty gives us a good default behaviour. The job runs in an async manner therefore the method returns a future object.\n",
    "\n",
    "Few additional options when running an analysis job:\n",
    "* The analysis is performed over all comments in the domain. If we need to run over a subset of the comments (split the data by different GEOs/users types/timeframes etc') we can pass a list of comments_ids to the comments_ids parameter and it will create an analysis using only the provided comments.\n",
    "* By default, key points are extracted automatically. When we want to provide key points and match all sentences to these key points we can do so by passing them to the keypoints parameter: **run_param['keypoints'] = [...]**\n",
    "* It is also possible to provide key points and let KPA add additional missing key points. To do so pass the key points to the keypoint_candidates parameter: **run_param['keypoint_candidates'] = [...]**"
   ]
  },
  {
   "cell_type": "code",
   "execution_count": 7,
   "id": "948bf751",
   "metadata": {},
   "outputs": [
    {
     "name": "stderr",
     "output_type": "stream",
     "text": [
      "2022-07-31 15:27:31,834 [INFO] keypoints_client.py 426: client calls service (post): https://keypoint-matching-backend.debater.res.ibm.com/kp_extraction\n",
      "2022-07-31 15:27:32,477 [INFO] keypoints_client.py 581: started a kp analysis job - domain: austin_demo, run_params: {'n_top_kps': 20}, job_id: 62e67534716f9a7436dcd640\n"
     ]
    }
   ],
   "source": [
    "run_params = {'n_top_kps': 20}  # limit number of key points to 20 for faster results\n",
    "future = keypoints_client.start_kp_analysis_job(domain=domain, run_params=run_params)"
   ]
  },
  {
   "cell_type": "markdown",
   "id": "1a1e4414",
   "metadata": {},
   "source": [
    "5. Use the returned future and wait till results are available using the **kpa_result = future.get_result()** method. The method waits for the job to finish and eventually returns the result. The result is a dictionary containing the key points (sorted descendingly according to number of matched sentences) and for each key point has a list of matched sentences (sorted descendingly according to their match score). An additional 'none' key point is added which holds all the sentences that don't match any key point."
   ]
  },
  {
   "cell_type": "code",
   "execution_count": 8,
   "id": "455eee99",
   "metadata": {},
   "outputs": [
    {
     "name": "stderr",
     "output_type": "stream",
     "text": [
      "2022-07-31 15:27:32,488 [INFO] keypoints_client.py 426: client calls service (get): https://keypoint-matching-backend.debater.res.ibm.com/kp_extraction\n",
      "2022-07-31 15:27:32,994 [INFO] keypoints_client.py 762: job_id 62e67534716f9a7436dcd640 is pending\n",
      "2022-07-31 15:28:03,000 [INFO] keypoints_client.py 426: client calls service (get): https://keypoint-matching-backend.debater.res.ibm.com/kp_extraction\n",
      "2022-07-31 15:28:04,545 [INFO] keypoints_client.py 769: job_id 62e67534716f9a7436dcd640 is done, returning result\n"
     ]
    }
   ],
   "source": [
    "kpa_result = future.get_result(high_verbosity=True, polling_timout_secs=30)"
   ]
  },
  {
   "cell_type": "markdown",
   "id": "222b3a24",
   "metadata": {},
   "source": [
    "Let's print the results:"
   ]
  },
  {
   "cell_type": "code",
   "execution_count": 9,
   "id": "b6af7396",
   "metadata": {},
   "outputs": [
    {
     "name": "stdout",
     "output_type": "stream",
     "text": [
      "Random sample coverage: 58.94\n",
      "Random sample key points:\n",
      "297 - traffic improvement needed\n",
      "\t- IMPROVE THE STREETS AND TRAFFIC LIGHT TIMING.\n",
      "\t- NEED BETTER TRAFFIC FLOW PLANNING.\n",
      "227 - Austin needs better public transportation\n",
      "\t- TRANSPORTATION POOLING ETC.\n",
      "\t- PLEASE CONSIDER MORE PUBLIC TRANSPORTATION.\n",
      "172 - Improve affordable housing/living.\n",
      "\t- IMPROVE THE COST OF LIVING IN AUSTIN.\n",
      "\t- BUILD MORE AFFORDABLY HOUSING\n",
      "110 - Lower home taxes.\n",
      "\t- lower taxes and price of homes, stop being a sanctuary city\n",
      "\t- Quit giving tax breaks to businesses so you can quit raising property taxes.\n",
      "69 - Cost of electricity is too high\n",
      "\t- Costs of energy are ridiculously high.\n",
      "\t- TRAFFIC AND COST OF ELECTRIC AND WATER.\n",
      "66 - Improvement of overall safety in the city.\n",
      "\t- TRAFFIC CONGESTION AND SAFETY.\n",
      "\t- I enjoy living in Austin and I hope the city continues being a safe city.\n",
      "60 - Keep enforcing local rules.\n",
      "\t- ENFORCE THE LAWS OF THIS CITY AND GET THE PANHANDLERS OFF OUR STREETS!\n",
      "\t- Or enforce the no camping/loitering ordinances.\n",
      "48 - NEED BETTER ROAD PLANNING.\n",
      "\t- need better growth planning mainly roads\n",
      "\t- City needs to plan for growth better, roads aren't big enough.\n",
      "34 - DEVELOPMENT SHOULD NOT DISPLACE LOW INCOME FAMILIES.\n",
      "\t- Please consider working towards more affordable quality housing for middle and lower\n",
      "\t  income families in the City of Austin.\n",
      "\t- Please quit pushing lower middle class households out of the city.\n",
      "27 - TAKE BETTER CARE OF THE HOMELESS!\n",
      "\t- Housing and help for the homeless\n",
      "\t- Please do something about the homeless situation.\n",
      "19 - Gentrification is out of control.\n",
      "\t- I think it is out of control.\n",
      "\t- In that time, we have seen prices skyrocket for homes in our area.\n",
      "18 - The permitting process has to be improved.\n",
      "\t- Streamline the permit process.\n",
      "\t- It takes far too long to receive a permit.\n",
      "17 - Achieve racial diversity.\n",
      "\t- I think some major focus should be placed on restoring the diversity in Austin.\n",
      "\t- It's sad to see the previous Hispanic and black community that once was disappear.\n",
      "17 - Please control growth\n",
      "\t- Need to enact city wide population growth control.\n",
      "\t- Need better management of growth.\n",
      "16 - Plan for more growth.\n",
      "\t- PLAN FOR FUTURE GROWTH\n",
      "\t- The only way to handle the growth is to go big and long-term with a major plan.\n",
      "13 - Focus on efficient solutions.\n",
      "\t- The City of Austin needs to STOP doing so much extra stuff and just focus on the basics\n",
      "\t  and streamlining processes to accomplish more with the same number of employees.\n",
      "\t- Stop worrying so much about water conservation and zero waste and provide lower cost,\n",
      "\t  adequate services.\n",
      "13 - Hire more police.\n",
      "\t- Need to hire more police.\n",
      "\t- more law enforcement personnel\n",
      "12 - More recycling programs\n",
      "\t- Love to see a more functional recycling program\n",
      "\t- BETTER STREET REPAIRS!\n",
      "8 - PROVIDE FREE MATERNITY SERVICES.\n",
      "\t- The City of Austin needs to return to providing basic services extremely well.\n",
      "\t- Focus on affordability and basic city services.\n",
      "6 - Invest in AISD schools.\n",
      "\t- PLEASE HELP THE LOCAL (AISD) SCHOOLS.\n",
      "\t- Need more of our tax dollars to go directly to our school system.\n"
     ]
    }
   ],
   "source": [
    "from austin_utils import print_results\n",
    "print_results(kpa_result, n_sentences_per_kp=2, title='Random sample')"
   ]
  },
  {
   "cell_type": "markdown",
   "id": "74421ee6",
   "metadata": {},
   "source": [
    "We can also save the results to file. This creates two files, one with the key points and all matched sentences and another summary file with only the key points and their saliance."
   ]
  },
  {
   "cell_type": "code",
   "execution_count": 10,
   "id": "5f5ed2e7",
   "metadata": {},
   "outputs": [
    {
     "name": "stderr",
     "output_type": "stream",
     "text": [
      "2022-07-31 15:28:04,578 [INFO] keypoints_client.py 115: Writing dataframe to: austin_survey_kpa_results_kps_summary.csv\n",
      "2022-07-31 15:28:04,608 [INFO] keypoints_client.py 115: Writing dataframe to: austin_survey_kpa_results.csv\n"
     ]
    }
   ],
   "source": [
    "KpAnalysisUtils.write_result_to_csv(kpa_result, 'austin_survey_kpa_results.csv')"
   ]
  },
  {
   "cell_type": "markdown",
   "id": "4b5a5ab0",
   "metadata": {},
   "source": [
    "It is always possible to cancel a pending/running job in the following way:\n",
    "* **keypoints_client.cancel_kp_extraction_job(\\<Job Id\\>)**\n",
    "\n",
    "Job Id can be found: \n",
    "1. It's printed when a job is started \n",
    "2. From the fututre object: **future.get_job_id()**\n",
    "3. From user report: **keypoints_client.get_full_report()** (see bellow)\n",
    "\n",
    "It is also possibe to stop all jobs in a domain, or even all jobs in all domains:\n",
    "* **keypoints_client.cancel_all_extraction_jobs_for_domain(domain)**\n",
    "* **keypoints_client.cancel_all_extraction_jobs_all_domains()**\n",
    "\n",
    "Please cancel long jobs if the results are no longer needed."
   ]
  },
  {
   "cell_type": "markdown",
   "id": "2f1adffd",
   "metadata": {},
   "source": [
    "### 1.3 Modify the run_params and increase coverage\n",
    "Each domain have a cache that stores all intemidiate results that are canculate during the analysis. Therefore modifing the run_params and running another analysis runs much faster and all intersecting inetmidiate results are retreived from cache. \n",
    "\n",
    "Let's run again, but now reduce the **clustering_threshold** and **mapping_threshold**. The **clustering_threshold** is used for the key points selection (choose higher values for more fine-grained key points, and lower for more distinct key points). The **mapping_threshold** is used when mapping all sentences to the final key points (a lower threshold leads to a higher coverage with the risk of a lower precision)."
   ]
  },
  {
   "cell_type": "code",
   "execution_count": 11,
   "id": "199d24fa",
   "metadata": {},
   "outputs": [
    {
     "name": "stderr",
     "output_type": "stream",
     "text": [
      "2022-07-31 15:28:04,647 [INFO] keypoints_client.py 426: client calls service (post): https://keypoint-matching-backend.debater.res.ibm.com/kp_extraction\n",
      "2022-07-31 15:28:05,262 [INFO] keypoints_client.py 581: started a kp analysis job - domain: austin_demo, run_params: {'n_top_kps': 20, 'clustering_threshold': 0.95, 'mapping_threshold': 0.95}, job_id: 62e67555716f9a7436dcd641\n",
      "2022-07-31 15:28:05,263 [INFO] keypoints_client.py 426: client calls service (get): https://keypoint-matching-backend.debater.res.ibm.com/kp_extraction\n",
      "2022-07-31 15:28:05,772 [INFO] keypoints_client.py 762: job_id 62e67555716f9a7436dcd641 is pending\n",
      "2022-07-31 15:28:35,777 [INFO] keypoints_client.py 426: client calls service (get): https://keypoint-matching-backend.debater.res.ibm.com/kp_extraction\n",
      "2022-07-31 15:28:37,267 [INFO] keypoints_client.py 769: job_id 62e67555716f9a7436dcd641 is done, returning result\n"
     ]
    }
   ],
   "source": [
    "run_params = {'n_top_kps': 20, 'clustering_threshold': 0.95, 'mapping_threshold': 0.95}  # limit number of key points to 20 for faster results\n",
    "future = keypoints_client.start_kp_analysis_job(domain=domain, run_params=run_params)\n",
    "kpa_result = future.get_result(high_verbosity=True, polling_timout_secs=30)"
   ]
  },
  {
   "cell_type": "code",
   "execution_count": 12,
   "id": "03300267",
   "metadata": {},
   "outputs": [
    {
     "name": "stdout",
     "output_type": "stream",
     "text": [
      "Random sample coverage: 66.58\n",
      "Random sample key points:\n",
      "314 - traffic improvement needed\n",
      "\t- IMPROVE THE STREETS AND TRAFFIC LIGHT TIMING.\n",
      "\t- NEED BETTER TRAFFIC FLOW PLANNING.\n",
      "267 - Austin needs better public transportation\n",
      "\t- TRANSPORTATION POOLING ETC.\n",
      "\t- PLEASE CONSIDER MORE PUBLIC TRANSPORTATION.\n",
      "187 - Improve affordable housing/living.\n",
      "\t- IMPROVE THE COST OF LIVING IN AUSTIN.\n",
      "\t- BUILD MORE AFFORDABLY HOUSING\n",
      "117 - Lower home taxes.\n",
      "\t- lower taxes and price of homes, stop being a sanctuary city\n",
      "\t- Quit giving tax breaks to businesses so you can quit raising property taxes.\n",
      "96 - Cost of electricity is too high\n",
      "\t- Costs of energy are ridiculously high.\n",
      "\t- TRAFFIC AND COST OF ELECTRIC AND WATER.\n",
      "95 - Improvement of overall safety in the city.\n",
      "\t- TRAFFIC CONGESTION AND SAFETY.\n",
      "\t- I enjoy living in Austin and I hope the city continues being a safe city.\n",
      "85 - Keep enforcing local rules.\n",
      "\t- ENFORCE THE LAWS OF THIS CITY AND GET THE PANHANDLERS OFF OUR STREETS!\n",
      "\t- Or enforce the no camping/loitering ordinances.\n",
      "70 - NEED BETTER ROAD PLANNING.\n",
      "\t- need better growth planning mainly roads\n",
      "\t- City needs to plan for growth better, roads aren't big enough.\n",
      "47 - DEVELOPMENT SHOULD NOT DISPLACE LOW INCOME FAMILIES.\n",
      "\t- Please consider working towards more affordable quality housing for middle and lower\n",
      "\t  income families in the City of Austin.\n",
      "\t- Please quit pushing lower middle class households out of the city.\n",
      "41 - TAKE BETTER CARE OF THE HOMELESS!\n",
      "\t- Housing and help for the homeless\n",
      "\t- Please do something about the homeless situation.\n",
      "31 - Focus on efficient solutions.\n",
      "\t- The City of Austin needs to STOP doing so much extra stuff and just focus on the basics\n",
      "\t  and streamlining processes to accomplish more with the same number of employees.\n",
      "\t- Stop worrying so much about water conservation and zero waste and provide lower cost,\n",
      "\t  adequate services.\n",
      "29 - Achieve racial diversity.\n",
      "\t- I think some major focus should be placed on restoring the diversity in Austin.\n",
      "\t- It's sad to see the previous Hispanic and black community that once was disappear.\n",
      "29 - Gentrification is out of control.\n",
      "\t- I think it is out of control.\n",
      "\t- In that time, we have seen prices skyrocket for homes in our area.\n",
      "24 - Stop encouraging growth.\n",
      "\t- Stop further growth!\n",
      "\t- Quit allowing uncontrolled growth without infrastructure to support it.\n",
      "24 - The permitting process has to be improved.\n",
      "\t- Streamline the permit process.\n",
      "\t- It takes far too long to receive a permit.\n",
      "21 - PLAN FOR FUTURE GROWTH\n",
      "\t- Plan for more growth.\n",
      "\t- The only way to handle the growth is to go big and long-term with a major plan.\n",
      "16 - Hire more police.\n",
      "\t- Need to hire more police.\n",
      "\t- more law enforcement personnel\n",
      "12 - More recycling programs\n",
      "\t- Love to see a more functional recycling program\n",
      "\t- BETTER STREET REPAIRS!\n",
      "12 - PROVIDE FREE MATERNITY SERVICES.\n",
      "\t- The City of Austin needs to return to providing basic services extremely well.\n",
      "\t- Focus on affordability and basic city services.\n",
      "9 - Invest in AISD schools.\n",
      "\t- PLEASE HELP THE LOCAL (AISD) SCHOOLS.\n",
      "\t- Need more of our tax dollars to go directly to our school system.\n"
     ]
    }
   ],
   "source": [
    "print_results(kpa_result, n_sentences_per_kp=2, title='Random sample')"
   ]
  },
  {
   "cell_type": "markdown",
   "id": "d61557e9",
   "metadata": {},
   "source": [
    "By reducing the thresholds, the coverage was increased from 59% to 66%."
   ]
  },
  {
   "cell_type": "markdown",
   "id": "66f6d46c",
   "metadata": {},
   "source": [
    "## 2. Mapping setences to multiple key points, and creating Key-Points-Graphs\n",
    "By default, each sentence is mapped to one key point at most (the key point with the highest match-score, above the **mapping_threshold**). We can run again and ask KPA to map each sentence to all key points with a match-score above the **mapping_threshold**, by adding the **sentence_to_multiple_kps** parameter."
   ]
  },
  {
   "cell_type": "code",
   "execution_count": 13,
   "id": "b677b860",
   "metadata": {},
   "outputs": [
    {
     "name": "stderr",
     "output_type": "stream",
     "text": [
      "2022-07-31 15:28:37,285 [INFO] keypoints_client.py 426: client calls service (post): https://keypoint-matching-backend.debater.res.ibm.com/kp_extraction\n",
      "2022-07-31 15:28:37,860 [INFO] keypoints_client.py 581: started a kp analysis job - domain: austin_demo, run_params: {'n_top_kps': 20, 'clustering_threshold': 0.95, 'mapping_threshold': 0.95, 'sentence_to_multiple_kps': True}, job_id: 62e67575716f9a7436dcd642\n",
      "2022-07-31 15:28:37,861 [INFO] keypoints_client.py 426: client calls service (get): https://keypoint-matching-backend.debater.res.ibm.com/kp_extraction\n",
      "2022-07-31 15:28:38,375 [INFO] keypoints_client.py 762: job_id 62e67575716f9a7436dcd642 is pending\n",
      "2022-07-31 15:29:08,380 [INFO] keypoints_client.py 426: client calls service (get): https://keypoint-matching-backend.debater.res.ibm.com/kp_extraction\n",
      "2022-07-31 15:29:08,931 [INFO] keypoints_client.py 766: job_id 62e67575716f9a7436dcd642 is running, progress: not updated yet\n",
      "2022-07-31 15:29:38,936 [INFO] keypoints_client.py 426: client calls service (get): https://keypoint-matching-backend.debater.res.ibm.com/kp_extraction\n",
      "2022-07-31 15:29:40,573 [INFO] keypoints_client.py 769: job_id 62e67575716f9a7436dcd642 is done, returning result\n"
     ]
    }
   ],
   "source": [
    "run_params = {'n_top_kps': 20, 'clustering_threshold': 0.95, 'mapping_threshold': 0.95, 'sentence_to_multiple_kps': True}\n",
    "future = keypoints_client.start_kp_analysis_job(domain=domain, run_params=run_params)\n",
    "kpa_result = future.get_result(high_verbosity=True, polling_timout_secs=30)"
   ]
  },
  {
   "cell_type": "code",
   "execution_count": 14,
   "id": "bb6a89b7",
   "metadata": {},
   "outputs": [
    {
     "name": "stdout",
     "output_type": "stream",
     "text": [
      "Random sample coverage: 65.34\n",
      "Random sample key points:\n",
      "346 - Address transportation problems NOW.\n",
      "\t- THE TRAFFIC ISSUE AND LACK OF LIGHT RAIL MUST BE ADDRESSED.\n",
      "\t- WORK ON TRAFFIC ISSUES\n",
      "225 - Work on making Austin affordable again.\n",
      "\t- Make Austin affordable\n",
      "\t- More affordable housing\n",
      "170 - Too much traffic!!\n",
      "\t- Please fix the traffic problems.\n",
      "\t- Please fix the traffic problems!\n",
      "128 - Property taxes are outrageous.\n",
      "\t- PROPERTY TAXES ARE WAY TOO HIGH.\n",
      "\t- UTILITY RATES & PROPERTY TAXES ARE OUTRAGEOUS\n",
      "102 - Spend our tax dollars wisely!!!\n",
      "\t- SPENDING OF TAX REVENUE.\n",
      "\t- STOP OVER DEVELOPMENT AND WASTING TAX PAYERS MONEY.\n",
      "97 - Enforce the traffic laws.\n",
      "\t- ENFORCEMENT OF TRAFFIC LAWS TO KEEP TRAFFIC FLOWING.\n",
      "\t- Enforce traffic infractions.\n",
      "95 - Improvement of overall safety in the city.\n",
      "\t- TRAFFIC CONGESTION AND SAFETY.\n",
      "\t- I enjoy living in Austin and I hope the city continues being a safe city.\n",
      "76 - Traffic and city planning is poorly done.\n",
      "\t- Fix traffic congestion - better planning needed.\n",
      "\t- need better growth planning mainly roads\n",
      "58 - Water costs too much.\n",
      "\t- FOCUS ON LOWERING THE COST OF WATER.\n",
      "\t- Water is too expensive and there is no recourse if it is wrong.\n",
      "47 - DEVELOPMENT SHOULD NOT DISPLACE LOW INCOME FAMILIES.\n",
      "\t- Please consider working towards more affordable quality housing for middle and lower\n",
      "\t  income families in the City of Austin.\n",
      "\t- Please quit pushing lower middle class households out of the city.\n",
      "41 - TAKE BETTER CARE OF THE HOMELESS!\n",
      "\t- Housing and help for the homeless\n",
      "\t- Please do something about the homeless situation.\n",
      "32 - RESIDENTIAL DEVELOPMENT PERMITTING TOO COMPLICATED AND EXPENSIVE.\n",
      "\t- Reduce the barriers/massive friction regarding permitting and zoning.\n",
      "\t- The permitting process has to be improved.\n",
      "31 - Focus on efficient solutions.\n",
      "\t- The City of Austin needs to STOP doing so much extra stuff and just focus on the basics\n",
      "\t  and streamlining processes to accomplish more with the same number of employees.\n",
      "\t- Stop worrying so much about water conservation and zero waste and provide lower cost,\n",
      "\t  adequate services.\n",
      "29 - Achieve racial diversity.\n",
      "\t- I think some major focus should be placed on restoring the diversity in Austin.\n",
      "\t- It's sad to see the previous Hispanic and black community that once was disappear.\n",
      "29 - Gentrification is out of control.\n",
      "\t- I think it is out of control.\n",
      "\t- In that time, we have seen prices skyrocket for homes in our area.\n",
      "26 - Please control growth\n",
      "\t- Need to enact city wide population growth control.\n",
      "\t- Need better management of growth.\n",
      "23 - BETTER RIDE SHARING OPTIONS.\n",
      "\t- I would like to see ride sharing come back to Austin (almost $50 taxi ride round trip to\n",
      "\t  downtown from 6 mile out is a bit much).\n",
      "\t- BETTER TRANSPORTATION OPTIONS, GET UBER/LUFT BACK\n",
      "22 - Plan for more growth.\n",
      "\t- PLAN FOR FUTURE GROWTH\n",
      "\t- The only way to handle the growth is to go big and long-term with a major plan.\n",
      "17 - Refocus on people issues.\n",
      "\t- DENSITY ISN'T THE ISSUE WITH PEOPLE IT IS HOW IT IS DESIGNED.\n",
      "\t- as we welcome more and more people into Austin, I think it's important to impart to them\n",
      "\t  that we care about our poor citizens, care about the homeless and celebrate diversity.\n",
      "16 - Hire more police.\n",
      "\t- Need to hire more police.\n",
      "\t- more law enforcement personnel\n"
     ]
    }
   ],
   "source": [
    "print_results(kpa_result, n_sentences_per_kp=2, title='Random sample')"
   ]
  },
  {
   "cell_type": "markdown",
   "id": "9b5d94bd",
   "metadata": {},
   "source": [
    "Now that sentences are mapped to multiple key points, it is possible to create a *key points graph* by first saving the results as before, then translating the results file into a graph-data json file, then load this json file in our demo graph visualization, available at: [key points graph demo](https://keypoint-matching-ui.ris2-debater-event.us-east.containers.appdomain.cloud/)"
   ]
  },
  {
   "cell_type": "code",
   "execution_count": 15,
   "id": "0b9c2614",
   "metadata": {},
   "outputs": [
    {
     "name": "stderr",
     "output_type": "stream",
     "text": [
      "2022-07-31 15:29:40,596 [INFO] keypoints_client.py 115: Writing dataframe to: austin_survey_kpa_results_kps_summary.csv\n",
      "2022-07-31 15:29:40,605 [INFO] keypoints_client.py 115: Writing dataframe to: austin_survey_kpa_results.csv\n",
      "2022-07-31 15:29:40,639 [INFO] keypoints_client.py 357: Creating key points graph data-file for results file: austin_survey_kpa_results.csv\n",
      "2022-07-31 15:29:40,639 [INFO] keypoints_client.py 332: reading file: austin_survey_kpa_results.csv\n",
      "2022-07-31 15:29:40,731 [INFO] keypoints_client.py 390: saving graph in file: austin_survey_kpa_results_graph_data.json\n",
      "2022-07-31 15:29:40,732 [INFO] keypoints_client.py 391: saving graph in file: austin_survey_kpa_results_graph_data.json\n"
     ]
    }
   ],
   "source": [
    "result_file = 'austin_survey_kpa_results.csv'\n",
    "KpAnalysisUtils.write_result_to_csv(kpa_result, result_file)\n",
    "KpAnalysisUtils.create_graph_data_file_for_ui(result_file)"
   ]
  },
  {
   "cell_type": "markdown",
   "id": "818fd69a",
   "metadata": {},
   "source": [
    "You can now go to: [key points graph demo](https://keypoint-matching-ui.ris2-debater-event.us-east.containers.appdomain.cloud/) and load the graph's data file **austin_survey_kpa_results_graph_data.json** to the ui."
   ]
  },
  {
   "cell_type": "markdown",
   "id": "73996498",
   "metadata": {},
   "source": [
    "## 3. Run key point analysis on each stance seperatly"
   ]
  },
  {
   "cell_type": "markdown",
   "id": "c190d180",
   "metadata": {},
   "source": [
    "In many use-cases (surveys, customer feedback, etc') the comments have positive and/or negative stance, and it is usful to create a KPA analysis on each stance seperatly. Most stance detection models don't perfome too well on survey data (also costumer feedbacks etc') since the comments tend to have many \"suggestions\" in them, and the suggestions tend to apear positive to the model while the user suggests to improve something that needs improvement.\n",
    "For that end we trained a stance-model that handles suggestions well and labels each sentence as 'Positive', 'Negative', 'Neutral' and 'Suggestion'. We usually treat Suggestions as negatives and run two separate analysis, first over 'Positive' sentences and second over 'Negative' and 'Suggestions' sentences.\n",
    "\n",
    "This has the following advantages:\n",
    "* Creates a separate positive/negative summary that shows clearly what works well and what needs to be improved.\n",
    "* Filters-out neutral sentences that usually don't contain valuable information.\n",
    "* Helps the matching model avoid stance mistakes (matching a positive sentence to a negative key point and vice-versa).\n",
    "\n",
    "Lets run again, over the Austin survey dataset, but this time create two seperate KPA analyses (positive and negative). We will first need to create a new domain but this time add the domain_param **do_stance_analysis**"
   ]
  },
  {
   "cell_type": "code",
   "execution_count": 16,
   "id": "dccc4fb0",
   "metadata": {},
   "outputs": [
    {
     "name": "stderr",
     "output_type": "stream",
     "text": [
      "2022-07-31 15:29:40,744 [INFO] keypoints_client.py 426: client calls service (post): https://keypoint-matching-backend.debater.res.ibm.com/domains\n",
      "2022-07-31 15:29:41,222 [ERROR] keypoints_client.py 440: There is a problem with the request (422): domain: austin_demo_two_stances already exist\n",
      "2022-07-31 15:29:41,223 [INFO] keypoints_client.py 276: domain: austin_demo_two_stances already exists, domain_params are NOT updated.\n"
     ]
    }
   ],
   "source": [
    "domain = 'austin_demo_two_stances'\n",
    "domain_params = {'do_stance_analysis': True}\n",
    "KpAnalysisUtils.create_domain_ignore_exists(client=keypoints_client, domain=domain, domain_params=domain_params)"
   ]
  },
  {
   "cell_type": "markdown",
   "id": "9612ccde",
   "metadata": {},
   "source": [
    "Let's upload the comments to the new domain and wait for them to be processed. This time the sentences' stance is also calculated."
   ]
  },
  {
   "cell_type": "code",
   "execution_count": 17,
   "id": "b8c91c78",
   "metadata": {},
   "outputs": [
    {
     "name": "stderr",
     "output_type": "stream",
     "text": [
      "2022-07-31 15:29:41,229 [INFO] keypoints_client.py 499: uploading 989 comments in batches\n",
      "2022-07-31 15:29:41,231 [INFO] keypoints_client.py 426: client calls service (post): https://keypoint-matching-backend.debater.res.ibm.com/comments\n",
      "2022-07-31 15:29:42,298 [INFO] keypoints_client.py 513: uploaded 989 comments, out of 989\n",
      "2022-07-31 15:29:42,299 [INFO] keypoints_client.py 426: client calls service (get): https://keypoint-matching-backend.debater.res.ibm.com/comments\n",
      "2022-07-31 15:29:42,877 [INFO] keypoints_client.py 525: domain: austin_demo_two_stances, comments status: {'processed_comments': 989, 'processed_sentences': 1821, 'pending_comments': 989}\n",
      "2022-07-31 15:29:52,880 [INFO] keypoints_client.py 426: client calls service (get): https://keypoint-matching-backend.debater.res.ibm.com/comments\n",
      "2022-07-31 15:29:53,433 [INFO] keypoints_client.py 525: domain: austin_demo_two_stances, comments status: {'processed_comments': 989, 'processed_sentences': 1821, 'pending_comments': 0}\n"
     ]
    }
   ],
   "source": [
    "keypoints_client.upload_comments(domain=domain, comments_ids=comments_ids, comments_texts=comments_texts)\n",
    "keypoints_client.wait_till_all_comments_are_processed(domain=domain)"
   ]
  },
  {
   "cell_type": "markdown",
   "id": "46bd699f",
   "metadata": {},
   "source": [
    "We can also download the processed sentences and save them into a csv if we want to examine the processed data."
   ]
  },
  {
   "cell_type": "code",
   "execution_count": 18,
   "id": "61f97380",
   "metadata": {},
   "outputs": [
    {
     "name": "stderr",
     "output_type": "stream",
     "text": [
      "2022-07-31 15:29:53,439 [INFO] keypoints_client.py 426: client calls service (get): https://keypoint-matching-backend.debater.res.ibm.com/data\n",
      "2022-07-31 15:29:55,066 [INFO] keypoints_client.py 712: returning 1821 sentences for domain austin_demo_two_stances\n"
     ]
    }
   ],
   "source": [
    "sentences = keypoints_client.get_sentences_for_domain(domain=domain)\n",
    "KpAnalysisUtils.write_sentences_to_csv(sentences, f'{domain}_sentences.csv')"
   ]
  },
  {
   "cell_type": "markdown",
   "id": "958336c2",
   "metadata": {},
   "source": [
    "And now, run two analyses, one over the positive sentences and one over the negative + suggestions."
   ]
  },
  {
   "cell_type": "code",
   "execution_count": 19,
   "id": "16ae98eb",
   "metadata": {},
   "outputs": [
    {
     "name": "stderr",
     "output_type": "stream",
     "text": [
      "2022-07-31 15:29:57,443 [INFO] keypoints_client.py 426: client calls service (post): https://keypoint-matching-backend.debater.res.ibm.com/kp_extraction\n",
      "2022-07-31 15:29:58,102 [INFO] keypoints_client.py 581: started a kp analysis job - domain: austin_demo_two_stances, run_params: {'n_top_kps': 20, 'clustering_threshold': 0.95, 'mapping_threshold': 0.95, 'sentence_to_multiple_kps': True, 'stances_to_run': ['pos'], 'stances_threshold': 0.5}, job_id: 62e675c6716f9a7436dcd644\n",
      "2022-07-31 15:29:58,103 [INFO] keypoints_client.py 426: client calls service (get): https://keypoint-matching-backend.debater.res.ibm.com/kp_extraction\n",
      "2022-07-31 15:29:58,606 [INFO] keypoints_client.py 762: job_id 62e675c6716f9a7436dcd644 is pending\n",
      "2022-07-31 15:30:28,609 [INFO] keypoints_client.py 426: client calls service (get): https://keypoint-matching-backend.debater.res.ibm.com/kp_extraction\n",
      "2022-07-31 15:30:29,557 [INFO] keypoints_client.py 769: job_id 62e675c6716f9a7436dcd644 is done, returning result\n"
     ]
    },
    {
     "name": "stdout",
     "output_type": "stream",
     "text": [
      "Random sample positives coverage: 10.11\n",
      "Random sample positives key points:\n",
      "4 - CONTINUE TO SUPPORT THE EXCELLENT LIBRARIES.\n",
      "\t- Keep standing up for the liberal beliefs that make Austin so great.\n",
      "\t- The Austin Public Library is top of the line!\n",
      "3 - KEEP FIGHTING FOR PROGRESSIVE IDEAS!\n",
      "\t- KEEP AUSTIN PROGRESSIVE!\n",
      "\t- Keep standing up for the liberal beliefs that make Austin so great.\n",
      "2 - Keep enforcing local rules.\n",
      "\t- Good job regulating Uber!\n"
     ]
    }
   ],
   "source": [
    "run_params['stances_to_run'] = ['pos']\n",
    "run_params['stances_threshold'] = 0.5\n",
    "future = keypoints_client.start_kp_analysis_job(domain=domain, run_params=run_params)\n",
    "kpa_pos_result = future.get_result(high_verbosity=True, polling_timout_secs=30)\n",
    "print_results(kpa_pos_result, n_sentences_per_kp=2, title='Random sample positives')"
   ]
  },
  {
   "cell_type": "markdown",
   "id": "6ba84e99",
   "metadata": {},
   "source": [
    "As in many surveys, most comments are negative/suggestions therefore the positive analysis is relativly limited. Let's see how the negative analysis goes"
   ]
  },
  {
   "cell_type": "code",
   "execution_count": 20,
   "id": "26c0cd61",
   "metadata": {},
   "outputs": [
    {
     "name": "stderr",
     "output_type": "stream",
     "text": [
      "2022-07-31 15:30:29,564 [INFO] keypoints_client.py 426: client calls service (post): https://keypoint-matching-backend.debater.res.ibm.com/kp_extraction\n",
      "2022-07-31 15:30:30,245 [INFO] keypoints_client.py 581: started a kp analysis job - domain: austin_demo_two_stances, run_params: {'n_top_kps': 20, 'clustering_threshold': 0.95, 'mapping_threshold': 0.95, 'sentence_to_multiple_kps': True, 'stances_to_run': ['neg', 'sug'], 'stances_threshold': 0.5}, job_id: 62e675e6716f9a7436dcd645\n",
      "2022-07-31 15:30:30,246 [INFO] keypoints_client.py 426: client calls service (get): https://keypoint-matching-backend.debater.res.ibm.com/kp_extraction\n",
      "2022-07-31 15:30:30,759 [INFO] keypoints_client.py 762: job_id 62e675e6716f9a7436dcd645 is pending\n",
      "2022-07-31 15:31:00,763 [INFO] keypoints_client.py 426: client calls service (get): https://keypoint-matching-backend.debater.res.ibm.com/kp_extraction\n",
      "2022-07-31 15:31:02,507 [INFO] keypoints_client.py 769: job_id 62e675e6716f9a7436dcd645 is done, returning result\n"
     ]
    },
    {
     "name": "stdout",
     "output_type": "stream",
     "text": [
      "Random sample positives coverage: 70.37\n",
      "Random sample positives key points:\n",
      "310 - Address transportation problems NOW.\n",
      "\t- THE TRAFFIC ISSUE AND LACK OF LIGHT RAIL MUST BE ADDRESSED.\n",
      "\t- WORK ON TRAFFIC ISSUES\n",
      "203 - Work on making Austin affordable again.\n",
      "\t- Make Austin affordable\n",
      "\t- More affordable housing\n",
      "154 - Too much traffic!!\n",
      "\t- Please fix the traffic problems.\n",
      "\t- Please fix the traffic problems!\n",
      "112 - Property taxes are outrageous.\n",
      "\t- PROPERTY TAXES ARE WAY TOO HIGH.\n",
      "\t- UTILITY RATES & PROPERTY TAXES ARE OUTRAGEOUS\n",
      "96 - Spend our tax dollars wisely!!!\n",
      "\t- STOP OVER DEVELOPMENT AND WASTING TAX PAYERS MONEY.\n",
      "\t- Please keep taxes down!\n",
      "82 - Enforce the traffic laws.\n",
      "\t- ENFORCEMENT OF TRAFFIC LAWS TO KEEP TRAFFIC FLOWING.\n",
      "\t- Enforce traffic infractions.\n",
      "73 - Improvement of overall safety in the city.\n",
      "\t- I work downtown and do not feel safe walking around because of the large and growing\n",
      "\t  homeless population.\n",
      "\t- Bicycle lanes have negatively impacted travel and safety in this city.\n",
      "72 - Traffic and city planning is poorly done.\n",
      "\t- Fix traffic congestion - better planning needed.\n",
      "\t- need better growth planning mainly roads\n",
      "59 - water cost are out of control.\n",
      "\t- water and wastewater rates are too expensive.\n",
      "\t- FOCUS ON LOWERING THE COST OF WATER.\n",
      "44 - DEVELOPMENT SHOULD NOT DISPLACE LOW INCOME FAMILIES.\n",
      "\t- Please consider working towards more affordable quality housing for middle and lower\n",
      "\t  income families in the City of Austin.\n",
      "\t- Please quit pushing lower middle class households out of the city.\n",
      "37 - TAKE BETTER CARE OF THE HOMELESS!\n",
      "\t- Housing and help for the homeless\n",
      "\t- Please do something about the homeless situation.\n",
      "30 - Focus on efficient solutions.\n",
      "\t- The City of Austin needs to STOP doing so much extra stuff and just focus on the basics\n",
      "\t  and streamlining processes to accomplish more with the same number of employees.\n",
      "\t- Stop worrying so much about water conservation and zero waste and provide lower cost,\n",
      "\t  adequate services.\n",
      "25 - Gentrification is out of control.\n",
      "\t- I think it is out of control.\n",
      "\t- The amount of rent charged in certain areas being gentrified is ridiculous, particularly\n",
      "\t  in East Austin.\n",
      "25 - Please control growth\n",
      "\t- Need to enact city wide population growth control.\n",
      "\t- Need better management of growth.\n",
      "24 - Achieve racial diversity.\n",
      "\t- I think some major focus should be placed on restoring the diversity in Austin.\n",
      "\t- It's sad to see the previous Hispanic and black community that once was disappear.\n",
      "24 - The permitting process has to be improved.\n",
      "\t- Streamline the permit process.\n",
      "\t- It takes far too long to receive a permit.\n",
      "20 - Plan for more growth.\n",
      "\t- PLAN FOR FUTURE GROWTH\n",
      "\t- The only way to handle the growth is to go big and long-term with a major plan.\n",
      "15 - Too much money spent on bike lanes.\n",
      "\t- ALSO, AUSTIN CATERS TO BICYCLES TOO MUCH.\n",
      "\t- There are already too many bike paths in this city and not enough paved surfaces for\n",
      "\t  vehicles.\n",
      "14 - Hire more police.\n",
      "\t- Need to hire more police.\n",
      "\t- more law enforcement personnel\n",
      "13 - Refocus on people issues.\n",
      "\t- as we welcome more and more people into Austin, I think it's important to impart to them\n",
      "\t  that we care about our poor citizens, care about the homeless and celebrate diversity.\n",
      "\t- People who own homes in this town have rights that shouldn't be diminished because\n",
      "\t  developers want to profit and build over what we used to know as Austin.\n"
     ]
    }
   ],
   "source": [
    "run_params['stances_to_run'] = ['neg', 'sug']\n",
    "run_params['stances_threshold'] = 0.5\n",
    "future = keypoints_client.start_kp_analysis_job(domain=domain, run_params=run_params)\n",
    "kpa_neg_result = future.get_result(high_verbosity=True, polling_timout_secs=30)\n",
    "print_results(kpa_neg_result, n_sentences_per_kp=2, title='Random sample positives')"
   ]
  },
  {
   "cell_type": "markdown",
   "id": "ce4383e7",
   "metadata": {},
   "source": [
    "Reaching a nice 70% coverage, most of the sentences are matched to the 20 automatically extracted key points.\n",
    "\n",
    "We can increase the **stances_threshold** when we want to run over less sentences with a stronger stance. This is useful when we have a large dataset with many less-relevant sentences and we want to filter them out.\n",
    "\n",
    "We can mark the stance in the results:"
   ]
  },
  {
   "cell_type": "code",
   "execution_count": 21,
   "id": "3255e204",
   "metadata": {},
   "outputs": [],
   "source": [
    "kpa_pos_result = KpAnalysisUtils.set_stance_to_result(kpa_pos_result, 'pos')\n",
    "kpa_neg_result = KpAnalysisUtils.set_stance_to_result(kpa_neg_result, 'neg')"
   ]
  },
  {
   "cell_type": "markdown",
   "id": "f8dd27f3",
   "metadata": {},
   "source": [
    "And save the results (both pos/neg seperatly and merged) and create key points graphs' data files as we did before"
   ]
  },
  {
   "cell_type": "code",
   "execution_count": 22,
   "id": "57e291c2",
   "metadata": {},
   "outputs": [
    {
     "name": "stderr",
     "output_type": "stream",
     "text": [
      "2022-07-31 15:31:02,526 [INFO] keypoints_client.py 115: Writing dataframe to: austin_survey_pos_kpa_results_kps_summary.csv\n",
      "2022-07-31 15:31:02,548 [INFO] keypoints_client.py 115: Writing dataframe to: austin_survey_pos_kpa_results.csv\n",
      "2022-07-31 15:31:02,553 [INFO] keypoints_client.py 357: Creating key points graph data-file for results file: austin_survey_pos_kpa_results.csv\n",
      "2022-07-31 15:31:02,553 [INFO] keypoints_client.py 332: reading file: austin_survey_pos_kpa_results.csv\n",
      "2022-07-31 15:31:02,569 [INFO] keypoints_client.py 390: saving graph in file: austin_survey_pos_kpa_results_graph_data.json\n",
      "2022-07-31 15:31:02,570 [INFO] keypoints_client.py 391: saving graph in file: austin_survey_pos_kpa_results_graph_data.json\n",
      "2022-07-31 15:31:02,647 [INFO] keypoints_client.py 115: Writing dataframe to: austin_survey_neg_kpa_results_kps_summary.csv\n",
      "2022-07-31 15:31:02,679 [INFO] keypoints_client.py 115: Writing dataframe to: austin_survey_neg_kpa_results.csv\n",
      "2022-07-31 15:31:02,757 [INFO] keypoints_client.py 357: Creating key points graph data-file for results file: austin_survey_neg_kpa_results.csv\n",
      "2022-07-31 15:31:02,757 [INFO] keypoints_client.py 332: reading file: austin_survey_neg_kpa_results.csv\n",
      "2022-07-31 15:31:02,902 [INFO] keypoints_client.py 390: saving graph in file: austin_survey_neg_kpa_results_graph_data.json\n",
      "2022-07-31 15:31:02,903 [INFO] keypoints_client.py 391: saving graph in file: austin_survey_neg_kpa_results_graph_data.json\n",
      "2022-07-31 15:31:02,949 [INFO] keypoints_client.py 115: Writing dataframe to: austin_survey_merged_kpa_results_kps_summary.csv\n",
      "2022-07-31 15:31:02,958 [INFO] keypoints_client.py 115: Writing dataframe to: austin_survey_merged_kpa_results.csv\n",
      "2022-07-31 15:31:02,999 [INFO] keypoints_client.py 357: Creating key points graph data-file for results file: austin_survey_merged_kpa_results.csv\n",
      "2022-07-31 15:31:03,000 [INFO] keypoints_client.py 332: reading file: austin_survey_merged_kpa_results.csv\n",
      "2022-07-31 15:31:03,106 [INFO] keypoints_client.py 390: saving graph in file: austin_survey_merged_kpa_results_graph_data.json\n",
      "2022-07-31 15:31:03,106 [INFO] keypoints_client.py 391: saving graph in file: austin_survey_merged_kpa_results_graph_data.json\n"
     ]
    }
   ],
   "source": [
    "pos_result_file = 'austin_survey_pos_kpa_results.csv'\n",
    "KpAnalysisUtils.write_result_to_csv(kpa_pos_result, pos_result_file)\n",
    "KpAnalysisUtils.create_graph_data_file_for_ui(pos_result_file)\n",
    "\n",
    "neg_result_file = 'austin_survey_neg_kpa_results.csv'\n",
    "KpAnalysisUtils.write_result_to_csv(kpa_neg_result, neg_result_file)\n",
    "KpAnalysisUtils.create_graph_data_file_for_ui(neg_result_file)\n",
    "\n",
    "kpa_merged_result = KpAnalysisUtils.merge_two_results(kpa_pos_result, kpa_neg_result)\n",
    "merged_result_file = 'austin_survey_merged_kpa_results.csv'\n",
    "KpAnalysisUtils.write_result_to_csv(kpa_merged_result, merged_result_file)\n",
    "KpAnalysisUtils.create_graph_data_file_for_ui(merged_result_file)"
   ]
  },
  {
   "cell_type": "markdown",
   "id": "4523a7d0",
   "metadata": {},
   "source": [
    "When we want to see what domains we have, maybe delete old ones that are not needed, see past and present analysis jobs, perhaps take their job_id and fetch their result \n",
    "(**KpAnalysisTaskFuture(keypoints_client, \\<job_id\\>).get_result()**), \n",
    "we can get a report with all the needed information"
   ]
  },
  {
   "cell_type": "code",
   "execution_count": null,
   "id": "212b4c29",
   "metadata": {},
   "outputs": [],
   "source": [
    "report = keypoints_client.get_full_report()\n",
    "KpAnalysisUtils.print_report(report)"
   ]
  },
  {
   "cell_type": "markdown",
   "id": "a8dbc94e",
   "metadata": {},
   "source": [
    "## 4. Conclusion\n",
    "In this tutorial, we showed how *Key Point Analysis* is used, and how it provides detailed insights over survey data right out of the box - significantly reducing the effort required by a data scientist to analyze the data. We also demonstrated key *key point analysis* features such as how we can modify the analysis parameters and increase coverage, how we can use the stance-model and create per-stance results and how to create *key points graph* and further improve the quality and the clarity of the results."
   ]
  }
 ],
 "metadata": {
  "kernelspec": {
   "display_name": "kpa_env",
   "language": "python",
   "name": "kpa_env"
  },
  "language_info": {
   "codemirror_mode": {
    "name": "ipython",
    "version": 3
   },
   "file_extension": ".py",
   "mimetype": "text/x-python",
   "name": "python",
   "nbconvert_exporter": "python",
   "pygments_lexer": "ipython3",
   "version": "3.7.10"
  }
 },
 "nbformat": 4,
 "nbformat_minor": 5
}
